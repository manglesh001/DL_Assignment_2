{
  "metadata": {
    "kernelspec": {
      "language": "python",
      "display_name": "Python 3",
      "name": "python3"
    },
    "language_info": {
      "name": "python",
      "version": "3.11.11",
      "mimetype": "text/x-python",
      "codemirror_mode": {
        "name": "ipython",
        "version": 3
      },
      "pygments_lexer": "ipython3",
      "nbconvert_exporter": "python",
      "file_extension": ".py"
    },
    "kaggle": {
      "accelerator": "none",
      "dataSources": [
        {
          "sourceId": 11401139,
          "sourceType": "datasetVersion",
          "datasetId": 7140857
        }
      ],
      "dockerImageVersionId": 31011,
      "isInternetEnabled": true,
      "language": "python",
      "sourceType": "notebook",
      "isGpuEnabled": false
    },
    "colab": {
      "name": "DLL_ass_2_PartA_Q2",
      "provenance": [],
      "include_colab_link": true
    }
  },
  "nbformat_minor": 0,
  "nbformat": 4,
  "cells": [
    {
      "cell_type": "markdown",
      "metadata": {
        "id": "view-in-github",
        "colab_type": "text"
      },
      "source": [
        "<a href=\"https://colab.research.google.com/github/manglesh001/DL_Assignment_2/blob/main/DLL_Ass_2_PartA_Q2.ipynb\" target=\"_parent\"><img src=\"https://colab.research.google.com/assets/colab-badge.svg\" alt=\"Open In Colab\"/></a>"
      ]
    },
    {
      "source": [
        "# IMPORTANT: SOME KAGGLE DATA SOURCES ARE PRIVATE\n",
        "# RUN THIS CELL IN ORDER TO IMPORT YOUR KAGGLE DATA SOURCES.\n",
        "import kagglehub\n",
        "kagglehub.login()\n"
      ],
      "metadata": {
        "id": "4K_mPkx9ocf6"
      },
      "cell_type": "code",
      "outputs": [],
      "execution_count": null
    },
    {
      "source": [
        "# IMPORTANT: RUN THIS CELL IN ORDER TO IMPORT YOUR KAGGLE DATA SOURCES,\n",
        "# THEN FEEL FREE TO DELETE THIS CELL.\n",
        "# NOTE: THIS NOTEBOOK ENVIRONMENT DIFFERS FROM KAGGLE'S PYTHON\n",
        "# ENVIRONMENT SO THERE MAY BE MISSING LIBRARIES USED BY YOUR\n",
        "# NOTEBOOK.\n",
        "\n",
        "kevinhandry_inaturalist_path = kagglehub.dataset_download('kevinhandry/inaturalist')\n",
        "\n",
        "print('Data source import complete.')\n"
      ],
      "metadata": {
        "id": "OZ3F5GZaocf7"
      },
      "cell_type": "code",
      "outputs": [],
      "execution_count": null
    },
    {
      "cell_type": "code",
      "source": [
        "import os\n",
        "import random\n",
        "import numpy as np\n",
        "import torch\n",
        "import torch.nn as nn\n",
        "import torch.optim as optim\n",
        "from torch.utils.data import DataLoader, Dataset, Subset, random_split\n",
        "import torchvision.transforms as transforms\n",
        "import torchvision.datasets as datasets\n",
        "from torchvision.datasets import ImageFolder\n",
        "from PIL import Image\n",
        "import wandb\n",
        "from sklearn.model_selection import train_test_split\n",
        "import matplotlib.pyplot as plt\n",
        "from tqdm import tqdm\n"
      ],
      "metadata": {
        "trusted": true,
        "execution": {
          "iopub.status.busy": "2025-04-17T08:37:37.25986Z",
          "iopub.execute_input": "2025-04-17T08:37:37.260037Z",
          "iopub.status.idle": "2025-04-17T08:37:43.520557Z",
          "shell.execute_reply.started": "2025-04-17T08:37:37.260022Z",
          "shell.execute_reply": "2025-04-17T08:37:43.519785Z"
        },
        "id": "DuV8fUZfocf9"
      },
      "outputs": [],
      "execution_count": null
    },
    {
      "cell_type": "code",
      "source": [
        "!pip install wandb"
      ],
      "metadata": {
        "trusted": true,
        "execution": {
          "iopub.status.busy": "2025-04-17T08:37:43.521296Z",
          "iopub.execute_input": "2025-04-17T08:37:43.521608Z",
          "iopub.status.idle": "2025-04-17T08:37:46.518667Z",
          "shell.execute_reply.started": "2025-04-17T08:37:43.521584Z",
          "shell.execute_reply": "2025-04-17T08:37:46.517942Z"
        },
        "id": "FJWcVEUmocf-",
        "outputId": "94106161-477e-4377-b55a-b788741d7992"
      },
      "outputs": [
        {
          "name": "stdout",
          "text": "Requirement already satisfied: wandb in /usr/local/lib/python3.11/dist-packages (0.19.6)\nRequirement already satisfied: click!=8.0.0,>=7.1 in /usr/local/lib/python3.11/dist-packages (from wandb) (8.1.8)\nRequirement already satisfied: docker-pycreds>=0.4.0 in /usr/local/lib/python3.11/dist-packages (from wandb) (0.4.0)\nRequirement already satisfied: gitpython!=3.1.29,>=1.0.0 in /usr/local/lib/python3.11/dist-packages (from wandb) (3.1.44)\nRequirement already satisfied: platformdirs in /usr/local/lib/python3.11/dist-packages (from wandb) (4.3.7)\nRequirement already satisfied: protobuf!=4.21.0,!=5.28.0,<6,>=3.19.0 in /usr/local/lib/python3.11/dist-packages (from wandb) (3.20.3)\nRequirement already satisfied: psutil>=5.0.0 in /usr/local/lib/python3.11/dist-packages (from wandb) (7.0.0)\nRequirement already satisfied: pydantic<3,>=2.6 in /usr/local/lib/python3.11/dist-packages (from wandb) (2.11.3)\nRequirement already satisfied: pyyaml in /usr/local/lib/python3.11/dist-packages (from wandb) (6.0.2)\nRequirement already satisfied: requests<3,>=2.0.0 in /usr/local/lib/python3.11/dist-packages (from wandb) (2.32.3)\nRequirement already satisfied: sentry-sdk>=2.0.0 in /usr/local/lib/python3.11/dist-packages (from wandb) (2.21.0)\nRequirement already satisfied: setproctitle in /usr/local/lib/python3.11/dist-packages (from wandb) (1.3.4)\nRequirement already satisfied: setuptools in /usr/local/lib/python3.11/dist-packages (from wandb) (75.1.0)\nRequirement already satisfied: typing-extensions<5,>=4.4 in /usr/local/lib/python3.11/dist-packages (from wandb) (4.13.1)\nRequirement already satisfied: six>=1.4.0 in /usr/local/lib/python3.11/dist-packages (from docker-pycreds>=0.4.0->wandb) (1.17.0)\nRequirement already satisfied: gitdb<5,>=4.0.1 in /usr/local/lib/python3.11/dist-packages (from gitpython!=3.1.29,>=1.0.0->wandb) (4.0.12)\nRequirement already satisfied: annotated-types>=0.6.0 in /usr/local/lib/python3.11/dist-packages (from pydantic<3,>=2.6->wandb) (0.7.0)\nRequirement already satisfied: pydantic-core==2.33.1 in /usr/local/lib/python3.11/dist-packages (from pydantic<3,>=2.6->wandb) (2.33.1)\nRequirement already satisfied: typing-inspection>=0.4.0 in /usr/local/lib/python3.11/dist-packages (from pydantic<3,>=2.6->wandb) (0.4.0)\nRequirement already satisfied: charset-normalizer<4,>=2 in /usr/local/lib/python3.11/dist-packages (from requests<3,>=2.0.0->wandb) (3.4.1)\nRequirement already satisfied: idna<4,>=2.5 in /usr/local/lib/python3.11/dist-packages (from requests<3,>=2.0.0->wandb) (3.10)\nRequirement already satisfied: urllib3<3,>=1.21.1 in /usr/local/lib/python3.11/dist-packages (from requests<3,>=2.0.0->wandb) (2.3.0)\nRequirement already satisfied: certifi>=2017.4.17 in /usr/local/lib/python3.11/dist-packages (from requests<3,>=2.0.0->wandb) (2025.1.31)\nRequirement already satisfied: smmap<6,>=3.0.1 in /usr/local/lib/python3.11/dist-packages (from gitdb<5,>=4.0.1->gitpython!=3.1.29,>=1.0.0->wandb) (5.0.2)\n",
          "output_type": "stream"
        }
      ],
      "execution_count": null
    },
    {
      "cell_type": "code",
      "source": [
        "!wandb login 6001619563748a57b4114b0bb090fd4129ba6122"
      ],
      "metadata": {
        "trusted": true,
        "execution": {
          "iopub.status.busy": "2025-04-17T08:40:08.631995Z",
          "iopub.status.idle": "2025-04-17T08:40:08.6323Z",
          "shell.execute_reply.started": "2025-04-17T08:40:08.632119Z",
          "shell.execute_reply": "2025-04-17T08:40:08.632134Z"
        },
        "id": "S4kghuRyocf_"
      },
      "outputs": [],
      "execution_count": null
    },
    {
      "cell_type": "code",
      "source": [
        "# Define the CNN model\n",
        "class CNN(nn.Module):\n",
        "    def __init__(self, num_classes=10, filter_counts=[32, 64, 128, 256, 512], filter_sizes=[(3, 3), (3, 3), (3, 3), (3, 3), (3, 3)],\n",
        "                 activation_func=nn.ReLU(), fc_neurons=512, use_batch_norm=True,dropout_rate=0.2):\n",
        "        super(CNNModel, self).__init__()\n",
        "        #RGB channels\n",
        "        in_channels = 3\n",
        "        # Store layers in List\n",
        "        self.features = nn.ModuleList()\n",
        "\n",
        "        # doing 5 conv-act-maxpool blocks\n",
        "        for i in range(5):\n",
        "            # Add  2D convolution layer\n",
        "            conv = nn.Conv2d(in_channels, filter_counts[i], kernel_size=filter_sizes[i], padding='same')\n",
        "            self.features.append(conv)\n",
        "\n",
        "            # Add batch normalization\n",
        "            if use_batch_norm:\n",
        "                self.features.append(nn.BatchNorm2d(filter_counts[i]))\n",
        "\n",
        "            # Add activation function\n",
        "            self.features.append(activation_func)\n",
        "\n",
        "            # Add max pooling layer\n",
        "            self.features.append(nn.MaxPool2d(kernel_size=2, stride=2))\n",
        "\n",
        "            # Update in_channels for the next layer\n",
        "            in_channels = filter_counts[i]\n",
        "\n",
        "        # Adaptive pooling to handle different input sizes\n",
        "        self.adaptive_pool = nn.AdaptiveAvgPool2d((1, 1))\n",
        "\n",
        "        # Fully connected layers\n",
        "        self.classifier = nn.Sequential(\n",
        "            nn.Linear(filter_counts[-1], fc_neurons),activation_func,\n",
        "            nn.Dropout(dropout_rate) if dropout_rate > 0 else nn.Identity(),\n",
        "            nn.Linear(fc_neurons, num_classes)\n",
        "        )\n",
        "\n",
        "    def forward(self, x):\n",
        "        # Pass input through feature layers\n",
        "        for layer in self.features:\n",
        "            x = layer(x)\n",
        "\n",
        "        # Global average pooling\n",
        "        x = self.adaptive_pool(x)\n",
        "\n",
        "        # Flatten the tensor\n",
        "        x = torch.flatten(x, 1)\n",
        "\n",
        "        # Pass through classifier\n",
        "        x = self.classifier(x)\n",
        "        return x"
      ],
      "metadata": {
        "trusted": true,
        "execution": {
          "iopub.status.busy": "2025-04-15T06:56:04.171817Z",
          "iopub.execute_input": "2025-04-15T06:56:04.17261Z",
          "iopub.status.idle": "2025-04-15T06:56:04.181111Z",
          "shell.execute_reply.started": "2025-04-15T06:56:04.172581Z",
          "shell.execute_reply": "2025-04-15T06:56:04.18036Z"
        },
        "id": "1jXS3w0DocgA"
      },
      "outputs": [],
      "execution_count": null
    },
    {
      "cell_type": "code",
      "source": [
        "#check GPU working?\n",
        "import torch\n",
        "torch.cuda.is_available(), torch.cuda.get_device_name(0) if torch.cuda.is_available() else \"No GPU\"\n"
      ],
      "metadata": {
        "trusted": true,
        "execution": {
          "iopub.status.busy": "2025-04-17T08:37:46.519738Z",
          "iopub.execute_input": "2025-04-17T08:37:46.520076Z",
          "iopub.status.idle": "2025-04-17T08:37:46.526504Z",
          "shell.execute_reply.started": "2025-04-17T08:37:46.520042Z",
          "shell.execute_reply": "2025-04-17T08:37:46.525818Z"
        },
        "id": "ejdVHKcbocgB",
        "outputId": "73e60567-19fe-4143-de3e-b46abcda0017"
      },
      "outputs": [
        {
          "execution_count": 5,
          "output_type": "execute_result",
          "data": {
            "text/plain": "(True, 'Tesla T4')"
          },
          "metadata": {}
        }
      ],
      "execution_count": null
    },
    {
      "cell_type": "code",
      "source": [
        "# Function to get activation function\n",
        "def get_activation(name):\n",
        "    if name == 'relu':\n",
        "        return nn.ReLU()\n",
        "    elif name == 'gelu':\n",
        "        return nn.GELU()\n",
        "    elif name == 'silu':\n",
        "        return nn.SiLU()\n",
        "    elif name == 'mish':\n",
        "        return nn.Mish()\n",
        "    else:\n",
        "        return nn.ReLU()  # Default"
      ],
      "metadata": {
        "trusted": true,
        "execution": {
          "iopub.status.busy": "2025-04-15T06:56:13.338836Z",
          "iopub.execute_input": "2025-04-15T06:56:13.339498Z",
          "iopub.status.idle": "2025-04-15T06:56:13.343366Z",
          "shell.execute_reply.started": "2025-04-15T06:56:13.339475Z",
          "shell.execute_reply": "2025-04-15T06:56:13.342614Z"
        },
        "id": "MINZETgxocgC"
      },
      "outputs": [],
      "execution_count": null
    },
    {
      "cell_type": "code",
      "source": [
        "\n",
        "# Data preparation functions\n",
        "# split train data into val =0.2 * train\n",
        "def get_dataset_and_loaders(data_dir, train_transform, val_transform, batch_size=64, val_split=0.2):\n",
        "    full_train_dataset = ImageFolder(os.path.join(data_dir, 'train'), transform=train_transform)\n",
        "\n",
        "    # Get class indices\n",
        "    classes = full_train_dataset.classes\n",
        "    class_to_idx = full_train_dataset.class_to_idx\n",
        "\n",
        "    # Create indices for stratified split\n",
        "    targets = np.array(full_train_dataset.targets)\n",
        "\n",
        "    # Split indices for each class to maintain class balance\n",
        "    train_indices, val_indices = [], []\n",
        "\n",
        "    for class_idx in range(len(classes)):\n",
        "        class_indices = np.where(targets == class_idx)[0]\n",
        "        # data split\n",
        "        n_val = int(len(class_indices) * val_split)\n",
        "\n",
        "        # Shuffle indices\n",
        "        np.random.shuffle(class_indices)\n",
        "\n",
        "        # Split into train and validation\n",
        "        val_indices.extend(class_indices[:n_val])\n",
        "        train_indices.extend(class_indices[n_val:])\n",
        "\n",
        "    # Create train and validation subsets\n",
        "    train_dataset = Subset(full_train_dataset, train_indices)\n",
        "    val_dataset = Subset(full_train_dataset, val_indices)\n",
        "\n",
        "    # For validation set, we want to use a different transform\n",
        "    val_dataset.dataset.transform = val_transform\n",
        "\n",
        "    # Create data loaders\n",
        "    train_loader = DataLoader(train_dataset, batch_size=batch_size, shuffle=True, num_workers=2)\n",
        "    val_loader = DataLoader(val_dataset, batch_size=batch_size, shuffle=False, num_workers=2)\n",
        "\n",
        "    return train_loader, val_loader, classes\n"
      ],
      "metadata": {
        "trusted": true,
        "execution": {
          "iopub.status.busy": "2025-04-15T06:56:08.963126Z",
          "iopub.execute_input": "2025-04-15T06:56:08.963581Z",
          "iopub.status.idle": "2025-04-15T06:56:08.970084Z",
          "shell.execute_reply.started": "2025-04-15T06:56:08.963559Z",
          "shell.execute_reply": "2025-04-15T06:56:08.969373Z"
        },
        "id": "z6mue7tyocgC"
      },
      "outputs": [],
      "execution_count": null
    },
    {
      "cell_type": "code",
      "source": [
        "\n",
        "\n",
        "\n",
        "# Training function\n",
        "def train_model(config=None):\n",
        "    # Initialize wandb\n",
        "    with wandb.init(config=config):\n",
        "        # Get the configuration\n",
        "        config = wandb.config\n",
        "\n",
        "        # Set device\n",
        "        device = torch.device(\"cuda\" if torch.cuda.is_available() else \"cpu\")\n",
        "        print(f\"Using device: {device}\")\n",
        "\n",
        "        # Set input size to smaller dimension to run cuda OOM\n",
        "        #changes image size 160*160\n",
        "        input_size = 160\n",
        "\n",
        "        # Set up data augmentation based on config\n",
        "        if config.data_aug:\n",
        "            train_transform = transforms.Compose([\n",
        "                transforms.Resize((input_size, input_size)),\n",
        "                transforms.RandomHorizontalFlip(),\n",
        "                transforms.RandomRotation(15),\n",
        "                transforms.ColorJitter(brightness=0.1, contrast=0.1, saturation=0.1, hue=0.1),\n",
        "                transforms.ToTensor(),\n",
        "                transforms.Normalize(mean=[0.485, 0.456, 0.406], std=[0.229, 0.224, 0.225])\n",
        "            ])\n",
        "        else:\n",
        "            train_transform = transforms.Compose([\n",
        "                transforms.Resize((input_size, input_size)),\n",
        "                transforms.ToTensor(),\n",
        "                transforms.Normalize(mean=[0.485, 0.456, 0.406], std=[0.229, 0.224, 0.225])\n",
        "            ])\n",
        "\n",
        "        val_transform = transforms.Compose([\n",
        "            transforms.Resize((input_size, input_size)),\n",
        "            transforms.ToTensor(),\n",
        "            transforms.Normalize(mean=[0.485, 0.456, 0.406], std=[0.229, 0.224, 0.225])\n",
        "        ])\n",
        "\n",
        "        # Get data loaders\n",
        "        train_loader, val_loader, classes = get_dataset_and_loaders(\n",
        "            '/kaggle/input/inaturalist/inaturalist_12K',\n",
        "            train_transform,\n",
        "            val_transform,\n",
        "            batch_size=config.train_batch_size\n",
        "        )\n",
        "\n",
        "        # Get activation function\n",
        "        activation = get_activation(config.activation)\n",
        "\n",
        "        # Create the model\n",
        "        model = CNN(\n",
        "            num_classes=len(classes),\n",
        "            filter_counts=config.filter_counts,\n",
        "            filter_sizes=config.shape_of_filters_conv,\n",
        "            activation_func=activation,\n",
        "            fc_neurons=config.fc_layer,\n",
        "            use_batch_norm=config.batch_norm_use,\n",
        "            dropout_rate=config.dropout\n",
        "        )\n",
        "\n",
        "        model.to(device)\n",
        "\n",
        "        # Define loss function and optimizer\n",
        "        criterion = nn.CrossEntropyLoss()\n",
        "        optimizer = optim.Adam(model.parameters(), lr=config.learning_rate)\n",
        "\n",
        "        # Learning rate scheduler\n",
        "        scheduler = optim.lr_scheduler.ReduceLROnPlateau(optimizer, mode='min', factor=0.1, patience=3, verbose=True)\n",
        "\n",
        "        # Track best validation accuracy\n",
        "        best_val_acc = 0.0\n",
        "\n",
        "        # Training loop\n",
        "        for epoch in range(config.epochs):\n",
        "            # Training phase\n",
        "            model.train()\n",
        "            running_loss = 0.0\n",
        "            correct = 0\n",
        "            total = 0\n",
        "\n",
        "            for inputs, labels in tqdm(train_loader, desc=f\"Epoch {epoch+1}/{config.epochs} [Train]\"):\n",
        "                inputs, labels = inputs.to(device), labels.to(device)\n",
        "\n",
        "                # Zero the parameter gradients\n",
        "                optimizer.zero_grad()\n",
        "\n",
        "                # Forward pass\n",
        "                outputs = model(inputs)\n",
        "                loss = criterion(outputs, labels)\n",
        "\n",
        "                # Backward pass and optimize\n",
        "                loss.backward()\n",
        "                optimizer.step()\n",
        "\n",
        "                # Statistics\n",
        "                running_loss += loss.item() * inputs.size(0)\n",
        "                _, predicted = outputs.max(1)\n",
        "                total += labels.size(0)\n",
        "                correct += predicted.eq(labels).sum().item()\n",
        "\n",
        "            train_loss = running_loss / len(train_loader.dataset)\n",
        "            train_acc = correct / total\n",
        "\n",
        "            # Validation phase\n",
        "            model.eval()\n",
        "            val_loss = 0.0\n",
        "            correct = 0\n",
        "            total = 0\n",
        "\n",
        "            with torch.no_grad():\n",
        "                for inputs, labels in tqdm(val_loader, desc=f\"Epoch {epoch+1}/{config.epochs} [Val]\"):\n",
        "                    inputs, labels = inputs.to(device), labels.to(device)\n",
        "\n",
        "                    # Forward pass\n",
        "                    outputs = model(inputs)\n",
        "                    loss = criterion(outputs, labels)\n",
        "\n",
        "                    # Statistics\n",
        "                    val_loss += loss.item() * inputs.size(0)\n",
        "                    _, predicted = outputs.max(1)\n",
        "                    total += labels.size(0)\n",
        "                    correct += predicted.eq(labels).sum().item()\n",
        "\n",
        "            val_loss = val_loss / len(val_loader.dataset)\n",
        "            val_acc = correct / total\n",
        "\n",
        "            # Log metrics\n",
        "            wandb.log({\n",
        "                \"epoch\": epoch + 1,\n",
        "                \"train_loss\": train_loss,\n",
        "                \"train_accuracy\": train_acc,\n",
        "                \"val_loss\": val_loss,\n",
        "                \"val_accuracy\": val_acc\n",
        "            })\n",
        "\n",
        "            print(f\"Epoch {epoch+1}/{config.epochs}, \" f\"Train Loss: {train_loss:.4f}, Train Acc: {train_acc:.4f}, \"\n",
        "                  f\"Val Loss: {val_loss:.4f}, Val Acc: {val_acc:.4f}\")\n"
      ],
      "metadata": {
        "trusted": true,
        "execution": {
          "iopub.status.busy": "2025-04-15T06:56:23.164232Z",
          "iopub.execute_input": "2025-04-15T06:56:23.16449Z",
          "iopub.status.idle": "2025-04-15T06:56:23.177463Z",
          "shell.execute_reply.started": "2025-04-15T06:56:23.16447Z",
          "shell.execute_reply": "2025-04-15T06:56:23.176768Z"
        },
        "id": "VAX2mNpvocgD"
      },
      "outputs": [],
      "execution_count": null
    },
    {
      "cell_type": "code",
      "source": [
        "# # Configure the sweep\n",
        "sweep_config = {\n",
        "    'method': 'random',\n",
        "\n",
        "    'parameters': {\n",
        "        'learning_rate': {\n",
        "            'values': [0.001, 0.0005, 0.0001,0.01]\n",
        "        },\n",
        "        'train_batch_size': {\n",
        "            'values': [64, 128]\n",
        "        },\n",
        "        'epochs': {\n",
        "            'values': [10,20]\n",
        "        },\n",
        "        'activation': {\n",
        "            'values': ['relu', 'gelu', 'silu', 'mish']\n",
        "        },\n",
        "        'filter_counts': {\n",
        "            'values': [\n",
        "                [16, 32, 64, 128, 256],\n",
        "                [32, 64, 128, 256, 512],\n",
        "                [32, 32, 32, 32, 32],\n",
        "                [64, 64, 64, 64, 64],\n",
        "                [128, 128,128, 128,128],\n",
        "                [128, 64, 32, 16, 8],\n",
        "                [8, 16, 32, 64, 128]\n",
        "            ]\n",
        "        },\n",
        "        'shape_of_filters_conv': {\n",
        "            'values': [\n",
        "                [(3, 3), (3, 3), (3, 3), (3, 3), (3, 3)],\n",
        "                [(5, 5), (5, 5), (5, 5), (5, 5), (5, 5)].\n",
        "                [(7, 7), (7, 7), (7, 7), (7, 7), (7, 7)].\n",
        "                [(7, 7), (5, 5), (3, 3), (3, 3), (3, 3)],\n",
        "                [(3, 3), (3, 3), (3, 3), (5, 5), (7, 7)],\n",
        "\n",
        "            ]\n",
        "        },\n",
        "        'fc_layer': {\n",
        "            'values': [128, 256, 512]\n",
        "        },\n",
        "        'batch_norm_use': {\n",
        "            'values': [True, False]\n",
        "        },\n",
        "        'dropout': {\n",
        "            'values': [0, 0.2, 0.3,0.5,0.8]\n",
        "        },\n",
        "        'data_aug': {\n",
        "            'values': [True, False]\n",
        "        }\n",
        "    }\n",
        "}\n",
        "\n",
        "# Initialize wandb\n",
        "wandb.login()\n",
        "\n",
        "# Create the sweep\n",
        "sweep_id = wandb.sweep(sweep_config, project='inaturalist-cnn')\n",
        "\n",
        "# Run the sweep\n",
        "wandb.agent(sweep_id, train_model, count=15)\n"
      ],
      "metadata": {
        "trusted": true,
        "execution": {
          "iopub.status.busy": "2025-04-15T07:17:57.299911Z",
          "iopub.execute_input": "2025-04-15T07:17:57.300727Z",
          "iopub.status.idle": "2025-04-15T09:17:13.774324Z",
          "shell.execute_reply.started": "2025-04-15T07:17:57.300698Z",
          "shell.execute_reply": "2025-04-15T09:17:13.773141Z"
        },
        "id": "VJZupaO7ocgF",
        "outputId": "d8027b34-8de8-4ceb-d122-ebb550be72c2"
      },
      "outputs": [
        {
          "name": "stdout",
          "text": "Create sweep with ID: piq7fn15\nSweep URL: https://wandb.ai/manglesh-patidar-cs24m025/inaturalist-cnn/sweeps/piq7fn15\n",
          "output_type": "stream"
        },
        {
          "name": "stderr",
          "text": "\u001b[34m\u001b[1mwandb\u001b[0m: Agent Starting Run: 0tm0ir67 with config:\n\u001b[34m\u001b[1mwandb\u001b[0m: \tactivation: relu\n\u001b[34m\u001b[1mwandb\u001b[0m: \tbatch_norm_use: False\n\u001b[34m\u001b[1mwandb\u001b[0m: \tdata_aug: False\n\u001b[34m\u001b[1mwandb\u001b[0m: \tdropout: 0.5\n\u001b[34m\u001b[1mwandb\u001b[0m: \tepochs: 10\n\u001b[34m\u001b[1mwandb\u001b[0m: \tfc_layer: 128\n\u001b[34m\u001b[1mwandb\u001b[0m: \tfilter_counts: [128, 64, 32, 16, 8]\n\u001b[34m\u001b[1mwandb\u001b[0m: \tlearning_rate: 0.0001\n\u001b[34m\u001b[1mwandb\u001b[0m: \tshape_of_filters_conv: [[3, 3], [3, 3], [3, 3], [3, 3], [3, 3]]\n\u001b[34m\u001b[1mwandb\u001b[0m: \ttrain_batch_size: 128\n",
          "output_type": "stream"
        },
        {
          "output_type": "display_data",
          "data": {
            "text/plain": "<IPython.core.display.HTML object>",
            "text/html": "Tracking run with wandb version 0.19.6"
          },
          "metadata": {}
        },
        {
          "output_type": "display_data",
          "data": {
            "text/plain": "<IPython.core.display.HTML object>",
            "text/html": "Run data is saved locally in <code>/kaggle/working/wandb/run-20250415_071803-0tm0ir67</code>"
          },
          "metadata": {}
        },
        {
          "output_type": "display_data",
          "data": {
            "text/plain": "<IPython.core.display.HTML object>",
            "text/html": "Syncing run <strong><a href='https://wandb.ai/manglesh-patidar-cs24m025/inaturalist-cnn/runs/0tm0ir67' target=\"_blank\">honest-sweep-1</a></strong> to <a href='https://wandb.ai/manglesh-patidar-cs24m025/inaturalist-cnn' target=\"_blank\">Weights & Biases</a> (<a href='https://wandb.me/developer-guide' target=\"_blank\">docs</a>)<br>Sweep page: <a href='https://wandb.ai/manglesh-patidar-cs24m025/inaturalist-cnn/sweeps/piq7fn15' target=\"_blank\">https://wandb.ai/manglesh-patidar-cs24m025/inaturalist-cnn/sweeps/piq7fn15</a>"
          },
          "metadata": {}
        },
        {
          "output_type": "display_data",
          "data": {
            "text/plain": "<IPython.core.display.HTML object>",
            "text/html": " View project at <a href='https://wandb.ai/manglesh-patidar-cs24m025/inaturalist-cnn' target=\"_blank\">https://wandb.ai/manglesh-patidar-cs24m025/inaturalist-cnn</a>"
          },
          "metadata": {}
        },
        {
          "output_type": "display_data",
          "data": {
            "text/plain": "<IPython.core.display.HTML object>",
            "text/html": " View sweep at <a href='https://wandb.ai/manglesh-patidar-cs24m025/inaturalist-cnn/sweeps/piq7fn15' target=\"_blank\">https://wandb.ai/manglesh-patidar-cs24m025/inaturalist-cnn/sweeps/piq7fn15</a>"
          },
          "metadata": {}
        },
        {
          "output_type": "display_data",
          "data": {
            "text/plain": "<IPython.core.display.HTML object>",
            "text/html": " View run at <a href='https://wandb.ai/manglesh-patidar-cs24m025/inaturalist-cnn/runs/0tm0ir67' target=\"_blank\">https://wandb.ai/manglesh-patidar-cs24m025/inaturalist-cnn/runs/0tm0ir67</a>"
          },
          "metadata": {}
        },
        {
          "name": "stdout",
          "text": "Using device: cuda\n",
          "output_type": "stream"
        },
        {
          "name": "stderr",
          "text": "Epoch 1/10 [Train]: 100%|██████████| 63/63 [00:44<00:00,  1.40it/s]\nEpoch 1/10 [Val]: 100%|██████████| 16/16 [00:11<00:00,  1.43it/s]\n",
          "output_type": "stream"
        },
        {
          "name": "stdout",
          "text": "Epoch 1/10, Train Loss: 2.3107, Train Acc: 0.1036, Val Loss: 2.3030, Val Acc: 0.1001\n",
          "output_type": "stream"
        },
        {
          "name": "stderr",
          "text": "Epoch 2/10 [Train]: 100%|██████████| 63/63 [00:46<00:00,  1.37it/s]\nEpoch 2/10 [Val]: 100%|██████████| 16/16 [00:12<00:00,  1.30it/s]\n",
          "output_type": "stream"
        },
        {
          "name": "stdout",
          "text": "Epoch 2/10, Train Loss: 2.3021, Train Acc: 0.1062, Val Loss: 2.2877, Val Acc: 0.1146\n",
          "output_type": "stream"
        },
        {
          "name": "stderr",
          "text": "Epoch 3/10 [Train]: 100%|██████████| 63/63 [00:46<00:00,  1.35it/s]\nEpoch 3/10 [Val]: 100%|██████████| 16/16 [00:10<00:00,  1.47it/s]\n",
          "output_type": "stream"
        },
        {
          "name": "stdout",
          "text": "Epoch 3/10, Train Loss: 2.2850, Train Acc: 0.1290, Val Loss: 2.2590, Val Acc: 0.1361\n",
          "output_type": "stream"
        },
        {
          "name": "stderr",
          "text": "Epoch 4/10 [Train]: 100%|██████████| 63/63 [00:43<00:00,  1.44it/s]\nEpoch 4/10 [Val]: 100%|██████████| 16/16 [00:10<00:00,  1.49it/s]\n",
          "output_type": "stream"
        },
        {
          "name": "stdout",
          "text": "Epoch 4/10, Train Loss: 2.2529, Train Acc: 0.1614, Val Loss: 2.2191, Val Acc: 0.1966\n",
          "output_type": "stream"
        },
        {
          "name": "stderr",
          "text": "Epoch 5/10 [Train]: 100%|██████████| 63/63 [00:44<00:00,  1.42it/s]\nEpoch 5/10 [Val]: 100%|██████████| 16/16 [00:10<00:00,  1.53it/s]\n",
          "output_type": "stream"
        },
        {
          "name": "stdout",
          "text": "Epoch 5/10, Train Loss: 2.2251, Train Acc: 0.1817, Val Loss: 2.1839, Val Acc: 0.2071\n",
          "output_type": "stream"
        },
        {
          "name": "stderr",
          "text": "Epoch 6/10 [Train]: 100%|██████████| 63/63 [00:45<00:00,  1.37it/s]\nEpoch 6/10 [Val]: 100%|██████████| 16/16 [00:11<00:00,  1.42it/s]\n",
          "output_type": "stream"
        },
        {
          "name": "stdout",
          "text": "Epoch 6/10, Train Loss: 2.2064, Train Acc: 0.1836, Val Loss: 2.1732, Val Acc: 0.2101\n",
          "output_type": "stream"
        },
        {
          "name": "stderr",
          "text": "Epoch 7/10 [Train]: 100%|██████████| 63/63 [00:43<00:00,  1.44it/s]\nEpoch 7/10 [Val]: 100%|██████████| 16/16 [00:10<00:00,  1.48it/s]\n",
          "output_type": "stream"
        },
        {
          "name": "stdout",
          "text": "Epoch 7/10, Train Loss: 2.1930, Train Acc: 0.1929, Val Loss: 2.1662, Val Acc: 0.2136\n",
          "output_type": "stream"
        },
        {
          "name": "stderr",
          "text": "Epoch 8/10 [Train]: 100%|██████████| 63/63 [00:44<00:00,  1.43it/s]\nEpoch 8/10 [Val]: 100%|██████████| 16/16 [00:10<00:00,  1.47it/s]\n",
          "output_type": "stream"
        },
        {
          "name": "stdout",
          "text": "Epoch 8/10, Train Loss: 2.1870, Train Acc: 0.2008, Val Loss: 2.1583, Val Acc: 0.2071\n",
          "output_type": "stream"
        },
        {
          "name": "stderr",
          "text": "Epoch 9/10 [Train]: 100%|██████████| 63/63 [00:47<00:00,  1.33it/s]\nEpoch 9/10 [Val]: 100%|██████████| 16/16 [00:10<00:00,  1.51it/s]\n",
          "output_type": "stream"
        },
        {
          "name": "stdout",
          "text": "Epoch 9/10, Train Loss: 2.1786, Train Acc: 0.1956, Val Loss: 2.1566, Val Acc: 0.2026\n",
          "output_type": "stream"
        },
        {
          "name": "stderr",
          "text": "Epoch 10/10 [Train]: 100%|██████████| 63/63 [00:44<00:00,  1.40it/s]\nEpoch 10/10 [Val]: 100%|██████████| 16/16 [00:10<00:00,  1.45it/s]",
          "output_type": "stream"
        },
        {
          "name": "stdout",
          "text": "Epoch 10/10, Train Loss: 2.1767, Train Acc: 0.1984, Val Loss: 2.1428, Val Acc: 0.2066\n",
          "output_type": "stream"
        },
        {
          "name": "stderr",
          "text": "\n",
          "output_type": "stream"
        },
        {
          "output_type": "display_data",
          "data": {
            "text/plain": "<IPython.core.display.HTML object>",
            "text/html": ""
          },
          "metadata": {}
        },
        {
          "output_type": "display_data",
          "data": {
            "text/plain": "<IPython.core.display.HTML object>",
            "text/html": "<br>    <style><br>        .wandb-row {<br>            display: flex;<br>            flex-direction: row;<br>            flex-wrap: wrap;<br>            justify-content: flex-start;<br>            width: 100%;<br>        }<br>        .wandb-col {<br>            display: flex;<br>            flex-direction: column;<br>            flex-basis: 100%;<br>            flex: 1;<br>            padding: 10px;<br>        }<br>    </style><br><div class=\"wandb-row\"><div class=\"wandb-col\"><h3>Run history:</h3><br/><table class=\"wandb\"><tr><td>epoch</td><td>▁▂▃▃▄▅▆▆▇█</td></tr><tr><td>train_accuracy</td><td>▁▁▃▅▇▇▇███</td></tr><tr><td>train_loss</td><td>██▇▅▄▃▂▂▁▁</td></tr><tr><td>val_accuracy</td><td>▁▂▃▇████▇█</td></tr><tr><td>val_loss</td><td>█▇▆▄▃▂▂▂▂▁</td></tr></table><br/></div><div class=\"wandb-col\"><h3>Run summary:</h3><br/><table class=\"wandb\"><tr><td>epoch</td><td>10</td></tr><tr><td>train_accuracy</td><td>0.19837</td></tr><tr><td>train_loss</td><td>2.17667</td></tr><tr><td>val_accuracy</td><td>0.2066</td></tr><tr><td>val_loss</td><td>2.14282</td></tr></table><br/></div></div>"
          },
          "metadata": {}
        },
        {
          "output_type": "display_data",
          "data": {
            "text/plain": "<IPython.core.display.HTML object>",
            "text/html": " View run <strong style=\"color:#cdcd00\">honest-sweep-1</strong> at: <a href='https://wandb.ai/manglesh-patidar-cs24m025/inaturalist-cnn/runs/0tm0ir67' target=\"_blank\">https://wandb.ai/manglesh-patidar-cs24m025/inaturalist-cnn/runs/0tm0ir67</a><br> View project at: <a href='https://wandb.ai/manglesh-patidar-cs24m025/inaturalist-cnn' target=\"_blank\">https://wandb.ai/manglesh-patidar-cs24m025/inaturalist-cnn</a><br>Synced 5 W&B file(s), 0 media file(s), 0 artifact file(s) and 0 other file(s)"
          },
          "metadata": {}
        },
        {
          "output_type": "display_data",
          "data": {
            "text/plain": "<IPython.core.display.HTML object>",
            "text/html": "Find logs at: <code>./wandb/run-20250415_071803-0tm0ir67/logs</code>"
          },
          "metadata": {}
        },
        {
          "name": "stderr",
          "text": "\u001b[34m\u001b[1mwandb\u001b[0m: Agent Starting Run: 8s2vde96 with config:\n\u001b[34m\u001b[1mwandb\u001b[0m: \tactivation: gelu\n\u001b[34m\u001b[1mwandb\u001b[0m: \tbatch_norm_use: True\n\u001b[34m\u001b[1mwandb\u001b[0m: \tdata_aug: False\n\u001b[34m\u001b[1mwandb\u001b[0m: \tdropout: 0.2\n\u001b[34m\u001b[1mwandb\u001b[0m: \tepochs: 10\n\u001b[34m\u001b[1mwandb\u001b[0m: \tfc_layer: 512\n\u001b[34m\u001b[1mwandb\u001b[0m: \tfilter_counts: [64, 32, 16, 8, 4]\n\u001b[34m\u001b[1mwandb\u001b[0m: \tlearning_rate: 0.001\n\u001b[34m\u001b[1mwandb\u001b[0m: \tshape_of_filters_conv: [[7, 7], [5, 5], [3, 3], [3, 3], [3, 3]]\n\u001b[34m\u001b[1mwandb\u001b[0m: \ttrain_batch_size: 64\n",
          "output_type": "stream"
        },
        {
          "output_type": "display_data",
          "data": {
            "text/plain": "<IPython.core.display.HTML object>",
            "text/html": "Tracking run with wandb version 0.19.6"
          },
          "metadata": {}
        },
        {
          "output_type": "display_data",
          "data": {
            "text/plain": "<IPython.core.display.HTML object>",
            "text/html": "Run data is saved locally in <code>/kaggle/working/wandb/run-20250415_072742-8s2vde96</code>"
          },
          "metadata": {}
        },
        {
          "output_type": "display_data",
          "data": {
            "text/plain": "<IPython.core.display.HTML object>",
            "text/html": "Syncing run <strong><a href='https://wandb.ai/manglesh-patidar-cs24m025/inaturalist-cnn/runs/8s2vde96' target=\"_blank\">earnest-sweep-2</a></strong> to <a href='https://wandb.ai/manglesh-patidar-cs24m025/inaturalist-cnn' target=\"_blank\">Weights & Biases</a> (<a href='https://wandb.me/developer-guide' target=\"_blank\">docs</a>)<br>Sweep page: <a href='https://wandb.ai/manglesh-patidar-cs24m025/inaturalist-cnn/sweeps/piq7fn15' target=\"_blank\">https://wandb.ai/manglesh-patidar-cs24m025/inaturalist-cnn/sweeps/piq7fn15</a>"
          },
          "metadata": {}
        },
        {
          "output_type": "display_data",
          "data": {
            "text/plain": "<IPython.core.display.HTML object>",
            "text/html": " View project at <a href='https://wandb.ai/manglesh-patidar-cs24m025/inaturalist-cnn' target=\"_blank\">https://wandb.ai/manglesh-patidar-cs24m025/inaturalist-cnn</a>"
          },
          "metadata": {}
        },
        {
          "output_type": "display_data",
          "data": {
            "text/plain": "<IPython.core.display.HTML object>",
            "text/html": " View sweep at <a href='https://wandb.ai/manglesh-patidar-cs24m025/inaturalist-cnn/sweeps/piq7fn15' target=\"_blank\">https://wandb.ai/manglesh-patidar-cs24m025/inaturalist-cnn/sweeps/piq7fn15</a>"
          },
          "metadata": {}
        },
        {
          "output_type": "display_data",
          "data": {
            "text/plain": "<IPython.core.display.HTML object>",
            "text/html": " View run at <a href='https://wandb.ai/manglesh-patidar-cs24m025/inaturalist-cnn/runs/8s2vde96' target=\"_blank\">https://wandb.ai/manglesh-patidar-cs24m025/inaturalist-cnn/runs/8s2vde96</a>"
          },
          "metadata": {}
        },
        {
          "name": "stdout",
          "text": "Using device: cuda\n",
          "output_type": "stream"
        },
        {
          "name": "stderr",
          "text": "Epoch 1/10 [Train]: 100%|██████████| 125/125 [00:49<00:00,  2.51it/s]\nEpoch 1/10 [Val]: 100%|██████████| 32/32 [00:13<00:00,  2.38it/s]\n",
          "output_type": "stream"
        },
        {
          "name": "stdout",
          "text": "Epoch 1/10, Train Loss: 2.1695, Train Acc: 0.1996, Val Loss: 2.1488, Val Acc: 0.2181\n",
          "output_type": "stream"
        },
        {
          "name": "stderr",
          "text": "Epoch 2/10 [Train]: 100%|██████████| 125/125 [00:52<00:00,  2.40it/s]\nEpoch 2/10 [Val]: 100%|██████████| 32/32 [00:10<00:00,  3.04it/s]\n",
          "output_type": "stream"
        },
        {
          "name": "stdout",
          "text": "Epoch 2/10, Train Loss: 2.0820, Train Acc: 0.2338, Val Loss: 2.0789, Val Acc: 0.2331\n",
          "output_type": "stream"
        },
        {
          "name": "stderr",
          "text": "Epoch 3/10 [Train]: 100%|██████████| 125/125 [00:51<00:00,  2.42it/s]\nEpoch 3/10 [Val]: 100%|██████████| 32/32 [00:12<00:00,  2.51it/s]\n",
          "output_type": "stream"
        },
        {
          "name": "stdout",
          "text": "Epoch 3/10, Train Loss: 2.0494, Train Acc: 0.2510, Val Loss: 2.1190, Val Acc: 0.2176\n",
          "output_type": "stream"
        },
        {
          "name": "stderr",
          "text": "Epoch 4/10 [Train]: 100%|██████████| 125/125 [00:48<00:00,  2.55it/s]\nEpoch 4/10 [Val]: 100%|██████████| 32/32 [00:12<00:00,  2.59it/s]\n",
          "output_type": "stream"
        },
        {
          "name": "stdout",
          "text": "Epoch 4/10, Train Loss: 2.0213, Train Acc: 0.2614, Val Loss: 2.0276, Val Acc: 0.2521\n",
          "output_type": "stream"
        },
        {
          "name": "stderr",
          "text": "Epoch 5/10 [Train]: 100%|██████████| 125/125 [00:53<00:00,  2.35it/s]\nEpoch 5/10 [Val]: 100%|██████████| 32/32 [00:10<00:00,  3.12it/s]\n",
          "output_type": "stream"
        },
        {
          "name": "stdout",
          "text": "Epoch 5/10, Train Loss: 1.9960, Train Acc: 0.2739, Val Loss: 2.0399, Val Acc: 0.2706\n",
          "output_type": "stream"
        },
        {
          "name": "stderr",
          "text": "Epoch 6/10 [Train]: 100%|██████████| 125/125 [00:45<00:00,  2.77it/s]\nEpoch 6/10 [Val]: 100%|██████████| 32/32 [00:10<00:00,  3.06it/s]\n",
          "output_type": "stream"
        },
        {
          "name": "stdout",
          "text": "Epoch 6/10, Train Loss: 1.9713, Train Acc: 0.2845, Val Loss: 2.0265, Val Acc: 0.2716\n",
          "output_type": "stream"
        },
        {
          "name": "stderr",
          "text": "Epoch 7/10 [Train]: 100%|██████████| 125/125 [00:45<00:00,  2.78it/s]\nEpoch 7/10 [Val]: 100%|██████████| 32/32 [00:10<00:00,  2.98it/s]\n",
          "output_type": "stream"
        },
        {
          "name": "stdout",
          "text": "Epoch 7/10, Train Loss: 1.9592, Train Acc: 0.2866, Val Loss: 1.9976, Val Acc: 0.2736\n",
          "output_type": "stream"
        },
        {
          "name": "stderr",
          "text": "Epoch 8/10 [Train]: 100%|██████████| 125/125 [00:44<00:00,  2.78it/s]\nEpoch 8/10 [Val]: 100%|██████████| 32/32 [00:10<00:00,  3.08it/s]\n",
          "output_type": "stream"
        },
        {
          "name": "stdout",
          "text": "Epoch 8/10, Train Loss: 1.9373, Train Acc: 0.3003, Val Loss: 1.9483, Val Acc: 0.2951\n",
          "output_type": "stream"
        },
        {
          "name": "stderr",
          "text": "Epoch 9/10 [Train]: 100%|██████████| 125/125 [00:45<00:00,  2.76it/s]\nEpoch 9/10 [Val]: 100%|██████████| 32/32 [00:10<00:00,  3.03it/s]\n",
          "output_type": "stream"
        },
        {
          "name": "stdout",
          "text": "Epoch 9/10, Train Loss: 1.9195, Train Acc: 0.3071, Val Loss: 2.0118, Val Acc: 0.2826\n",
          "output_type": "stream"
        },
        {
          "name": "stderr",
          "text": "Epoch 10/10 [Train]: 100%|██████████| 125/125 [00:44<00:00,  2.80it/s]\nEpoch 10/10 [Val]: 100%|██████████| 32/32 [00:10<00:00,  3.01it/s]",
          "output_type": "stream"
        },
        {
          "name": "stdout",
          "text": "Epoch 10/10, Train Loss: 1.9054, Train Acc: 0.3049, Val Loss: 1.9928, Val Acc: 0.2846\n",
          "output_type": "stream"
        },
        {
          "name": "stderr",
          "text": "\n",
          "output_type": "stream"
        },
        {
          "output_type": "display_data",
          "data": {
            "text/plain": "<IPython.core.display.HTML object>",
            "text/html": ""
          },
          "metadata": {}
        },
        {
          "output_type": "display_data",
          "data": {
            "text/plain": "<IPython.core.display.HTML object>",
            "text/html": "<br>    <style><br>        .wandb-row {<br>            display: flex;<br>            flex-direction: row;<br>            flex-wrap: wrap;<br>            justify-content: flex-start;<br>            width: 100%;<br>        }<br>        .wandb-col {<br>            display: flex;<br>            flex-direction: column;<br>            flex-basis: 100%;<br>            flex: 1;<br>            padding: 10px;<br>        }<br>    </style><br><div class=\"wandb-row\"><div class=\"wandb-col\"><h3>Run history:</h3><br/><table class=\"wandb\"><tr><td>epoch</td><td>▁▂▃▃▄▅▆▆▇█</td></tr><tr><td>train_accuracy</td><td>▁▃▄▅▆▇▇███</td></tr><tr><td>train_loss</td><td>█▆▅▄▃▃▂▂▁▁</td></tr><tr><td>val_accuracy</td><td>▁▂▁▄▆▆▆█▇▇</td></tr><tr><td>val_loss</td><td>█▆▇▄▄▄▃▁▃▃</td></tr></table><br/></div><div class=\"wandb-col\"><h3>Run summary:</h3><br/><table class=\"wandb\"><tr><td>epoch</td><td>10</td></tr><tr><td>train_accuracy</td><td>0.30488</td></tr><tr><td>train_loss</td><td>1.90541</td></tr><tr><td>val_accuracy</td><td>0.28464</td></tr><tr><td>val_loss</td><td>1.99284</td></tr></table><br/></div></div>"
          },
          "metadata": {}
        },
        {
          "output_type": "display_data",
          "data": {
            "text/plain": "<IPython.core.display.HTML object>",
            "text/html": " View run <strong style=\"color:#cdcd00\">earnest-sweep-2</strong> at: <a href='https://wandb.ai/manglesh-patidar-cs24m025/inaturalist-cnn/runs/8s2vde96' target=\"_blank\">https://wandb.ai/manglesh-patidar-cs24m025/inaturalist-cnn/runs/8s2vde96</a><br> View project at: <a href='https://wandb.ai/manglesh-patidar-cs24m025/inaturalist-cnn' target=\"_blank\">https://wandb.ai/manglesh-patidar-cs24m025/inaturalist-cnn</a><br>Synced 5 W&B file(s), 0 media file(s), 0 artifact file(s) and 0 other file(s)"
          },
          "metadata": {}
        },
        {
          "output_type": "display_data",
          "data": {
            "text/plain": "<IPython.core.display.HTML object>",
            "text/html": "Find logs at: <code>./wandb/run-20250415_072742-8s2vde96/logs</code>"
          },
          "metadata": {}
        },
        {
          "name": "stderr",
          "text": "\u001b[34m\u001b[1mwandb\u001b[0m: Agent Starting Run: 6tojlkpm with config:\n\u001b[34m\u001b[1mwandb\u001b[0m: \tactivation: gelu\n\u001b[34m\u001b[1mwandb\u001b[0m: \tbatch_norm_use: False\n\u001b[34m\u001b[1mwandb\u001b[0m: \tdata_aug: True\n\u001b[34m\u001b[1mwandb\u001b[0m: \tdropout: 0.2\n\u001b[34m\u001b[1mwandb\u001b[0m: \tepochs: 20\n\u001b[34m\u001b[1mwandb\u001b[0m: \tfc_layer: 256\n\u001b[34m\u001b[1mwandb\u001b[0m: \tfilter_counts: [32, 32, 32, 32, 32]\n\u001b[34m\u001b[1mwandb\u001b[0m: \tlearning_rate: 0.0001\n\u001b[34m\u001b[1mwandb\u001b[0m: \tshape_of_filters_conv: [[3, 3], [3, 3], [3, 3], [5, 5], [7, 7]]\n\u001b[34m\u001b[1mwandb\u001b[0m: \ttrain_batch_size: 128\n",
          "output_type": "stream"
        },
        {
          "output_type": "display_data",
          "data": {
            "text/plain": "<IPython.core.display.HTML object>",
            "text/html": "Tracking run with wandb version 0.19.6"
          },
          "metadata": {}
        },
        {
          "output_type": "display_data",
          "data": {
            "text/plain": "<IPython.core.display.HTML object>",
            "text/html": "Run data is saved locally in <code>/kaggle/working/wandb/run-20250415_073751-6tojlkpm</code>"
          },
          "metadata": {}
        },
        {
          "output_type": "display_data",
          "data": {
            "text/plain": "<IPython.core.display.HTML object>",
            "text/html": "Syncing run <strong><a href='https://wandb.ai/manglesh-patidar-cs24m025/inaturalist-cnn/runs/6tojlkpm' target=\"_blank\">floral-sweep-3</a></strong> to <a href='https://wandb.ai/manglesh-patidar-cs24m025/inaturalist-cnn' target=\"_blank\">Weights & Biases</a> (<a href='https://wandb.me/developer-guide' target=\"_blank\">docs</a>)<br>Sweep page: <a href='https://wandb.ai/manglesh-patidar-cs24m025/inaturalist-cnn/sweeps/piq7fn15' target=\"_blank\">https://wandb.ai/manglesh-patidar-cs24m025/inaturalist-cnn/sweeps/piq7fn15</a>"
          },
          "metadata": {}
        },
        {
          "output_type": "display_data",
          "data": {
            "text/plain": "<IPython.core.display.HTML object>",
            "text/html": " View project at <a href='https://wandb.ai/manglesh-patidar-cs24m025/inaturalist-cnn' target=\"_blank\">https://wandb.ai/manglesh-patidar-cs24m025/inaturalist-cnn</a>"
          },
          "metadata": {}
        },
        {
          "output_type": "display_data",
          "data": {
            "text/plain": "<IPython.core.display.HTML object>",
            "text/html": " View sweep at <a href='https://wandb.ai/manglesh-patidar-cs24m025/inaturalist-cnn/sweeps/piq7fn15' target=\"_blank\">https://wandb.ai/manglesh-patidar-cs24m025/inaturalist-cnn/sweeps/piq7fn15</a>"
          },
          "metadata": {}
        },
        {
          "output_type": "display_data",
          "data": {
            "text/plain": "<IPython.core.display.HTML object>",
            "text/html": " View run at <a href='https://wandb.ai/manglesh-patidar-cs24m025/inaturalist-cnn/runs/6tojlkpm' target=\"_blank\">https://wandb.ai/manglesh-patidar-cs24m025/inaturalist-cnn/runs/6tojlkpm</a>"
          },
          "metadata": {}
        },
        {
          "name": "stdout",
          "text": "Using device: cuda\n",
          "output_type": "stream"
        },
        {
          "name": "stderr",
          "text": "Epoch 1/20 [Train]: 100%|██████████| 63/63 [00:43<00:00,  1.46it/s]\nEpoch 1/20 [Val]: 100%|██████████| 16/16 [00:10<00:00,  1.55it/s]\n",
          "output_type": "stream"
        },
        {
          "name": "stdout",
          "text": "Epoch 1/20, Train Loss: 2.2979, Train Acc: 0.1124, Val Loss: 2.2773, Val Acc: 0.1341\n",
          "output_type": "stream"
        },
        {
          "name": "stderr",
          "text": "Epoch 2/20 [Train]: 100%|██████████| 63/63 [00:41<00:00,  1.52it/s]\nEpoch 2/20 [Val]: 100%|██████████| 16/16 [00:10<00:00,  1.46it/s]\n",
          "output_type": "stream"
        },
        {
          "name": "stdout",
          "text": "Epoch 2/20, Train Loss: 2.2582, Train Acc: 0.1506, Val Loss: 2.2119, Val Acc: 0.1836\n",
          "output_type": "stream"
        },
        {
          "name": "stderr",
          "text": "Epoch 3/20 [Train]: 100%|██████████| 63/63 [00:41<00:00,  1.53it/s]\nEpoch 3/20 [Val]: 100%|██████████| 16/16 [00:10<00:00,  1.55it/s]\n",
          "output_type": "stream"
        },
        {
          "name": "stdout",
          "text": "Epoch 3/20, Train Loss: 2.2028, Train Acc: 0.1883, Val Loss: 2.1611, Val Acc: 0.2071\n",
          "output_type": "stream"
        },
        {
          "name": "stderr",
          "text": "Epoch 4/20 [Train]: 100%|██████████| 63/63 [00:41<00:00,  1.50it/s]\nEpoch 4/20 [Val]: 100%|██████████| 16/16 [00:10<00:00,  1.52it/s]\n",
          "output_type": "stream"
        },
        {
          "name": "stdout",
          "text": "Epoch 4/20, Train Loss: 2.1707, Train Acc: 0.1965, Val Loss: 2.1399, Val Acc: 0.2051\n",
          "output_type": "stream"
        },
        {
          "name": "stderr",
          "text": "Epoch 5/20 [Train]: 100%|██████████| 63/63 [00:50<00:00,  1.25it/s]\nEpoch 5/20 [Val]: 100%|██████████| 16/16 [00:10<00:00,  1.53it/s]\n",
          "output_type": "stream"
        },
        {
          "name": "stdout",
          "text": "Epoch 5/20, Train Loss: 2.1527, Train Acc: 0.2077, Val Loss: 2.1286, Val Acc: 0.2126\n",
          "output_type": "stream"
        },
        {
          "name": "stderr",
          "text": "Epoch 6/20 [Train]: 100%|██████████| 63/63 [00:50<00:00,  1.24it/s]\nEpoch 6/20 [Val]: 100%|██████████| 16/16 [00:10<00:00,  1.55it/s]\n",
          "output_type": "stream"
        },
        {
          "name": "stdout",
          "text": "Epoch 6/20, Train Loss: 2.1366, Train Acc: 0.2184, Val Loss: 2.1197, Val Acc: 0.2256\n",
          "output_type": "stream"
        },
        {
          "name": "stderr",
          "text": "Epoch 7/20 [Train]: 100%|██████████| 63/63 [00:41<00:00,  1.52it/s]\nEpoch 7/20 [Val]: 100%|██████████| 16/16 [00:10<00:00,  1.50it/s]\n",
          "output_type": "stream"
        },
        {
          "name": "stdout",
          "text": "Epoch 7/20, Train Loss: 2.1242, Train Acc: 0.2220, Val Loss: 2.1110, Val Acc: 0.2341\n",
          "output_type": "stream"
        },
        {
          "name": "stderr",
          "text": "Epoch 8/20 [Train]: 100%|██████████| 63/63 [00:41<00:00,  1.51it/s]\nEpoch 8/20 [Val]: 100%|██████████| 16/16 [00:10<00:00,  1.56it/s]\n",
          "output_type": "stream"
        },
        {
          "name": "stdout",
          "text": "Epoch 8/20, Train Loss: 2.1128, Train Acc: 0.2289, Val Loss: 2.1104, Val Acc: 0.2326\n",
          "output_type": "stream"
        },
        {
          "name": "stderr",
          "text": "Epoch 9/20 [Train]: 100%|██████████| 63/63 [00:41<00:00,  1.52it/s]\nEpoch 9/20 [Val]: 100%|██████████| 16/16 [00:10<00:00,  1.50it/s]\n",
          "output_type": "stream"
        },
        {
          "name": "stdout",
          "text": "Epoch 9/20, Train Loss: 2.1026, Train Acc: 0.2385, Val Loss: 2.0912, Val Acc: 0.2411\n",
          "output_type": "stream"
        },
        {
          "name": "stderr",
          "text": "Epoch 10/20 [Train]: 100%|██████████| 63/63 [00:42<00:00,  1.50it/s]\nEpoch 10/20 [Val]: 100%|██████████| 16/16 [00:10<00:00,  1.55it/s]\n",
          "output_type": "stream"
        },
        {
          "name": "stdout",
          "text": "Epoch 10/20, Train Loss: 2.0895, Train Acc: 0.2434, Val Loss: 2.0888, Val Acc: 0.2366\n",
          "output_type": "stream"
        },
        {
          "name": "stderr",
          "text": "Epoch 11/20 [Train]: 100%|██████████| 63/63 [00:42<00:00,  1.49it/s]\nEpoch 11/20 [Val]: 100%|██████████| 16/16 [00:10<00:00,  1.54it/s]\n",
          "output_type": "stream"
        },
        {
          "name": "stdout",
          "text": "Epoch 11/20, Train Loss: 2.0800, Train Acc: 0.2490, Val Loss: 2.0798, Val Acc: 0.2531\n",
          "output_type": "stream"
        },
        {
          "name": "stderr",
          "text": "Epoch 12/20 [Train]: 100%|██████████| 63/63 [00:41<00:00,  1.51it/s]\nEpoch 12/20 [Val]: 100%|██████████| 16/16 [00:10<00:00,  1.47it/s]\n",
          "output_type": "stream"
        },
        {
          "name": "stdout",
          "text": "Epoch 12/20, Train Loss: 2.0748, Train Acc: 0.2442, Val Loss: 2.0710, Val Acc: 0.2546\n",
          "output_type": "stream"
        },
        {
          "name": "stderr",
          "text": "Epoch 13/20 [Train]: 100%|██████████| 63/63 [00:40<00:00,  1.55it/s]\nEpoch 13/20 [Val]: 100%|██████████| 16/16 [00:10<00:00,  1.48it/s]\n",
          "output_type": "stream"
        },
        {
          "name": "stdout",
          "text": "Epoch 13/20, Train Loss: 2.0650, Train Acc: 0.2465, Val Loss: 2.0636, Val Acc: 0.2621\n",
          "output_type": "stream"
        },
        {
          "name": "stderr",
          "text": "Epoch 14/20 [Train]: 100%|██████████| 63/63 [00:41<00:00,  1.51it/s]\nEpoch 14/20 [Val]: 100%|██████████| 16/16 [00:10<00:00,  1.52it/s]\n",
          "output_type": "stream"
        },
        {
          "name": "stdout",
          "text": "Epoch 14/20, Train Loss: 2.0594, Train Acc: 0.2524, Val Loss: 2.0641, Val Acc: 0.2581\n",
          "output_type": "stream"
        },
        {
          "name": "stderr",
          "text": "Epoch 15/20 [Train]: 100%|██████████| 63/63 [00:42<00:00,  1.49it/s]\nEpoch 15/20 [Val]: 100%|██████████| 16/16 [00:12<00:00,  1.27it/s]\n",
          "output_type": "stream"
        },
        {
          "name": "stdout",
          "text": "Epoch 15/20, Train Loss: 2.0518, Train Acc: 0.2536, Val Loss: 2.0609, Val Acc: 0.2561\n",
          "output_type": "stream"
        },
        {
          "name": "stderr",
          "text": "Epoch 16/20 [Train]: 100%|██████████| 63/63 [00:42<00:00,  1.50it/s]\nEpoch 16/20 [Val]: 100%|██████████| 16/16 [00:10<00:00,  1.55it/s]\n",
          "output_type": "stream"
        },
        {
          "name": "stdout",
          "text": "Epoch 16/20, Train Loss: 2.0469, Train Acc: 0.2540, Val Loss: 2.0492, Val Acc: 0.2661\n",
          "output_type": "stream"
        },
        {
          "name": "stderr",
          "text": "Epoch 17/20 [Train]: 100%|██████████| 63/63 [00:41<00:00,  1.51it/s]\nEpoch 17/20 [Val]: 100%|██████████| 16/16 [00:10<00:00,  1.57it/s]\n",
          "output_type": "stream"
        },
        {
          "name": "stdout",
          "text": "Epoch 17/20, Train Loss: 2.0402, Train Acc: 0.2609, Val Loss: 2.0466, Val Acc: 0.2621\n",
          "output_type": "stream"
        },
        {
          "name": "stderr",
          "text": "Epoch 18/20 [Train]: 100%|██████████| 63/63 [00:47<00:00,  1.33it/s]\nEpoch 18/20 [Val]: 100%|██████████| 16/16 [00:14<00:00,  1.11it/s]\n",
          "output_type": "stream"
        },
        {
          "name": "stdout",
          "text": "Epoch 18/20, Train Loss: 2.0357, Train Acc: 0.2595, Val Loss: 2.0548, Val Acc: 0.2591\n",
          "output_type": "stream"
        },
        {
          "name": "stderr",
          "text": "Epoch 19/20 [Train]: 100%|██████████| 63/63 [00:55<00:00,  1.14it/s]\nEpoch 19/20 [Val]: 100%|██████████| 16/16 [00:10<00:00,  1.59it/s]\n",
          "output_type": "stream"
        },
        {
          "name": "stdout",
          "text": "Epoch 19/20, Train Loss: 2.0304, Train Acc: 0.2660, Val Loss: 2.0422, Val Acc: 0.2656\n",
          "output_type": "stream"
        },
        {
          "name": "stderr",
          "text": "Epoch 20/20 [Train]: 100%|██████████| 63/63 [00:42<00:00,  1.48it/s]\nEpoch 20/20 [Val]: 100%|██████████| 16/16 [00:10<00:00,  1.46it/s]",
          "output_type": "stream"
        },
        {
          "name": "stdout",
          "text": "Epoch 20/20, Train Loss: 2.0291, Train Acc: 0.2681, Val Loss: 2.0440, Val Acc: 0.2646\n",
          "output_type": "stream"
        },
        {
          "name": "stderr",
          "text": "\n",
          "output_type": "stream"
        },
        {
          "output_type": "display_data",
          "data": {
            "text/plain": "<IPython.core.display.HTML object>",
            "text/html": ""
          },
          "metadata": {}
        },
        {
          "output_type": "display_data",
          "data": {
            "text/plain": "<IPython.core.display.HTML object>",
            "text/html": "<br>    <style><br>        .wandb-row {<br>            display: flex;<br>            flex-direction: row;<br>            flex-wrap: wrap;<br>            justify-content: flex-start;<br>            width: 100%;<br>        }<br>        .wandb-col {<br>            display: flex;<br>            flex-direction: column;<br>            flex-basis: 100%;<br>            flex: 1;<br>            padding: 10px;<br>        }<br>    </style><br><div class=\"wandb-row\"><div class=\"wandb-col\"><h3>Run history:</h3><br/><table class=\"wandb\"><tr><td>epoch</td><td>▁▁▂▂▂▃▃▄▄▄▅▅▅▆▆▇▇▇██</td></tr><tr><td>train_accuracy</td><td>▁▃▄▅▅▆▆▆▇▇▇▇▇▇▇▇████</td></tr><tr><td>train_loss</td><td>█▇▆▅▄▄▃▃▃▃▂▂▂▂▂▁▁▁▁▁</td></tr><tr><td>val_accuracy</td><td>▁▄▅▅▅▆▆▆▇▆▇▇██▇█████</td></tr><tr><td>val_loss</td><td>█▆▅▄▄▃▃▃▂▂▂▂▂▂▂▁▁▁▁▁</td></tr></table><br/></div><div class=\"wandb-col\"><h3>Run summary:</h3><br/><table class=\"wandb\"><tr><td>epoch</td><td>20</td></tr><tr><td>train_accuracy</td><td>0.26813</td></tr><tr><td>train_loss</td><td>2.0291</td></tr><tr><td>val_accuracy</td><td>0.26463</td></tr><tr><td>val_loss</td><td>2.04398</td></tr></table><br/></div></div>"
          },
          "metadata": {}
        },
        {
          "output_type": "display_data",
          "data": {
            "text/plain": "<IPython.core.display.HTML object>",
            "text/html": " View run <strong style=\"color:#cdcd00\">floral-sweep-3</strong> at: <a href='https://wandb.ai/manglesh-patidar-cs24m025/inaturalist-cnn/runs/6tojlkpm' target=\"_blank\">https://wandb.ai/manglesh-patidar-cs24m025/inaturalist-cnn/runs/6tojlkpm</a><br> View project at: <a href='https://wandb.ai/manglesh-patidar-cs24m025/inaturalist-cnn' target=\"_blank\">https://wandb.ai/manglesh-patidar-cs24m025/inaturalist-cnn</a><br>Synced 5 W&B file(s), 0 media file(s), 0 artifact file(s) and 0 other file(s)"
          },
          "metadata": {}
        },
        {
          "output_type": "display_data",
          "data": {
            "text/plain": "<IPython.core.display.HTML object>",
            "text/html": "Find logs at: <code>./wandb/run-20250415_073751-6tojlkpm/logs</code>"
          },
          "metadata": {}
        },
        {
          "name": "stderr",
          "text": "\u001b[34m\u001b[1mwandb\u001b[0m: Agent Starting Run: tdq7pwyq with config:\n\u001b[34m\u001b[1mwandb\u001b[0m: \tactivation: mish\n\u001b[34m\u001b[1mwandb\u001b[0m: \tbatch_norm_use: False\n\u001b[34m\u001b[1mwandb\u001b[0m: \tdata_aug: True\n\u001b[34m\u001b[1mwandb\u001b[0m: \tdropout: 0\n\u001b[34m\u001b[1mwandb\u001b[0m: \tepochs: 10\n\u001b[34m\u001b[1mwandb\u001b[0m: \tfc_layer: 128\n\u001b[34m\u001b[1mwandb\u001b[0m: \tfilter_counts: [8, 16, 32, 64, 128]\n\u001b[34m\u001b[1mwandb\u001b[0m: \tlearning_rate: 0.0001\n\u001b[34m\u001b[1mwandb\u001b[0m: \tshape_of_filters_conv: [[3, 3], [3, 3], [3, 3], [5, 5], [7, 7]]\n\u001b[34m\u001b[1mwandb\u001b[0m: \ttrain_batch_size: 128\n",
          "output_type": "stream"
        },
        {
          "output_type": "display_data",
          "data": {
            "text/plain": "<IPython.core.display.HTML object>",
            "text/html": "Tracking run with wandb version 0.19.6"
          },
          "metadata": {}
        },
        {
          "output_type": "display_data",
          "data": {
            "text/plain": "<IPython.core.display.HTML object>",
            "text/html": "Run data is saved locally in <code>/kaggle/working/wandb/run-20250415_075619-tdq7pwyq</code>"
          },
          "metadata": {}
        },
        {
          "output_type": "display_data",
          "data": {
            "text/plain": "<IPython.core.display.HTML object>",
            "text/html": "Syncing run <strong><a href='https://wandb.ai/manglesh-patidar-cs24m025/inaturalist-cnn/runs/tdq7pwyq' target=\"_blank\">wandering-sweep-4</a></strong> to <a href='https://wandb.ai/manglesh-patidar-cs24m025/inaturalist-cnn' target=\"_blank\">Weights & Biases</a> (<a href='https://wandb.me/developer-guide' target=\"_blank\">docs</a>)<br>Sweep page: <a href='https://wandb.ai/manglesh-patidar-cs24m025/inaturalist-cnn/sweeps/piq7fn15' target=\"_blank\">https://wandb.ai/manglesh-patidar-cs24m025/inaturalist-cnn/sweeps/piq7fn15</a>"
          },
          "metadata": {}
        },
        {
          "output_type": "display_data",
          "data": {
            "text/plain": "<IPython.core.display.HTML object>",
            "text/html": " View project at <a href='https://wandb.ai/manglesh-patidar-cs24m025/inaturalist-cnn' target=\"_blank\">https://wandb.ai/manglesh-patidar-cs24m025/inaturalist-cnn</a>"
          },
          "metadata": {}
        },
        {
          "output_type": "display_data",
          "data": {
            "text/plain": "<IPython.core.display.HTML object>",
            "text/html": " View sweep at <a href='https://wandb.ai/manglesh-patidar-cs24m025/inaturalist-cnn/sweeps/piq7fn15' target=\"_blank\">https://wandb.ai/manglesh-patidar-cs24m025/inaturalist-cnn/sweeps/piq7fn15</a>"
          },
          "metadata": {}
        },
        {
          "output_type": "display_data",
          "data": {
            "text/plain": "<IPython.core.display.HTML object>",
            "text/html": " View run at <a href='https://wandb.ai/manglesh-patidar-cs24m025/inaturalist-cnn/runs/tdq7pwyq' target=\"_blank\">https://wandb.ai/manglesh-patidar-cs24m025/inaturalist-cnn/runs/tdq7pwyq</a>"
          },
          "metadata": {}
        },
        {
          "name": "stdout",
          "text": "Using device: cuda\n",
          "output_type": "stream"
        },
        {
          "name": "stderr",
          "text": "Epoch 1/10 [Train]: 100%|██████████| 63/63 [00:41<00:00,  1.51it/s]\nEpoch 1/10 [Val]: 100%|██████████| 16/16 [00:10<00:00,  1.56it/s]\n",
          "output_type": "stream"
        },
        {
          "name": "stdout",
          "text": "Epoch 1/10, Train Loss: 2.2915, Train Acc: 0.1266, Val Loss: 2.2673, Val Acc: 0.1536\n",
          "output_type": "stream"
        },
        {
          "name": "stderr",
          "text": "Epoch 2/10 [Train]: 100%|██████████| 63/63 [00:41<00:00,  1.51it/s]\nEpoch 2/10 [Val]: 100%|██████████| 16/16 [00:10<00:00,  1.50it/s]\n",
          "output_type": "stream"
        },
        {
          "name": "stdout",
          "text": "Epoch 2/10, Train Loss: 2.2473, Train Acc: 0.1644, Val Loss: 2.2240, Val Acc: 0.1691\n",
          "output_type": "stream"
        },
        {
          "name": "stderr",
          "text": "Epoch 3/10 [Train]: 100%|██████████| 63/63 [00:41<00:00,  1.52it/s]\nEpoch 3/10 [Val]: 100%|██████████| 16/16 [00:10<00:00,  1.56it/s]\n",
          "output_type": "stream"
        },
        {
          "name": "stdout",
          "text": "Epoch 3/10, Train Loss: 2.1941, Train Acc: 0.1898, Val Loss: 2.1727, Val Acc: 0.1906\n",
          "output_type": "stream"
        },
        {
          "name": "stderr",
          "text": "Epoch 4/10 [Train]: 100%|██████████| 63/63 [00:41<00:00,  1.51it/s]\nEpoch 4/10 [Val]: 100%|██████████| 16/16 [00:10<00:00,  1.51it/s]\n",
          "output_type": "stream"
        },
        {
          "name": "stdout",
          "text": "Epoch 4/10, Train Loss: 2.1472, Train Acc: 0.2089, Val Loss: 2.1430, Val Acc: 0.2091\n",
          "output_type": "stream"
        },
        {
          "name": "stderr",
          "text": "Epoch 5/10 [Train]: 100%|██████████| 63/63 [00:44<00:00,  1.42it/s]\nEpoch 5/10 [Val]: 100%|██████████| 16/16 [00:11<00:00,  1.44it/s]\n",
          "output_type": "stream"
        },
        {
          "name": "stdout",
          "text": "Epoch 5/10, Train Loss: 2.1254, Train Acc: 0.2194, Val Loss: 2.1347, Val Acc: 0.2026\n",
          "output_type": "stream"
        },
        {
          "name": "stderr",
          "text": "Epoch 6/10 [Train]: 100%|██████████| 63/63 [00:47<00:00,  1.32it/s]\nEpoch 6/10 [Val]: 100%|██████████| 16/16 [00:12<00:00,  1.31it/s]\n",
          "output_type": "stream"
        },
        {
          "name": "stdout",
          "text": "Epoch 6/10, Train Loss: 2.1051, Train Acc: 0.2328, Val Loss: 2.1134, Val Acc: 0.2186\n",
          "output_type": "stream"
        },
        {
          "name": "stderr",
          "text": "Epoch 7/10 [Train]: 100%|██████████| 63/63 [00:47<00:00,  1.33it/s]\nEpoch 7/10 [Val]: 100%|██████████| 16/16 [00:11<00:00,  1.35it/s]\n",
          "output_type": "stream"
        },
        {
          "name": "stdout",
          "text": "Epoch 7/10, Train Loss: 2.0920, Train Acc: 0.2399, Val Loss: 2.1059, Val Acc: 0.2261\n",
          "output_type": "stream"
        },
        {
          "name": "stderr",
          "text": "Epoch 8/10 [Train]: 100%|██████████| 63/63 [00:45<00:00,  1.40it/s]\nEpoch 8/10 [Val]: 100%|██████████| 16/16 [00:12<00:00,  1.26it/s]\n",
          "output_type": "stream"
        },
        {
          "name": "stdout",
          "text": "Epoch 8/10, Train Loss: 2.0828, Train Acc: 0.2479, Val Loss: 2.0953, Val Acc: 0.2376\n",
          "output_type": "stream"
        },
        {
          "name": "stderr",
          "text": "Epoch 9/10 [Train]: 100%|██████████| 63/63 [00:54<00:00,  1.15it/s]\nEpoch 9/10 [Val]: 100%|██████████| 16/16 [00:10<00:00,  1.57it/s]\n",
          "output_type": "stream"
        },
        {
          "name": "stdout",
          "text": "Epoch 9/10, Train Loss: 2.0712, Train Acc: 0.2511, Val Loss: 2.0968, Val Acc: 0.2341\n",
          "output_type": "stream"
        },
        {
          "name": "stderr",
          "text": "Epoch 10/10 [Train]: 100%|██████████| 63/63 [00:48<00:00,  1.29it/s]\nEpoch 10/10 [Val]: 100%|██████████| 16/16 [00:12<00:00,  1.28it/s]",
          "output_type": "stream"
        },
        {
          "name": "stdout",
          "text": "Epoch 10/10, Train Loss: 2.0635, Train Acc: 0.2562, Val Loss: 2.0849, Val Acc: 0.2541\n",
          "output_type": "stream"
        },
        {
          "name": "stderr",
          "text": "\n",
          "output_type": "stream"
        },
        {
          "output_type": "display_data",
          "data": {
            "text/plain": "<IPython.core.display.HTML object>",
            "text/html": ""
          },
          "metadata": {}
        },
        {
          "output_type": "display_data",
          "data": {
            "text/plain": "<IPython.core.display.HTML object>",
            "text/html": "<br>    <style><br>        .wandb-row {<br>            display: flex;<br>            flex-direction: row;<br>            flex-wrap: wrap;<br>            justify-content: flex-start;<br>            width: 100%;<br>        }<br>        .wandb-col {<br>            display: flex;<br>            flex-direction: column;<br>            flex-basis: 100%;<br>            flex: 1;<br>            padding: 10px;<br>        }<br>    </style><br><div class=\"wandb-row\"><div class=\"wandb-col\"><h3>Run history:</h3><br/><table class=\"wandb\"><tr><td>epoch</td><td>▁▂▃▃▄▅▆▆▇█</td></tr><tr><td>train_accuracy</td><td>▁▃▄▅▆▇▇███</td></tr><tr><td>train_loss</td><td>█▇▅▄▃▂▂▂▁▁</td></tr><tr><td>val_accuracy</td><td>▁▂▄▅▄▆▆▇▇█</td></tr><tr><td>val_loss</td><td>█▆▄▃▃▂▂▁▁▁</td></tr></table><br/></div><div class=\"wandb-col\"><h3>Run summary:</h3><br/><table class=\"wandb\"><tr><td>epoch</td><td>10</td></tr><tr><td>train_accuracy</td><td>0.25625</td></tr><tr><td>train_loss</td><td>2.06348</td></tr><tr><td>val_accuracy</td><td>0.25413</td></tr><tr><td>val_loss</td><td>2.08488</td></tr></table><br/></div></div>"
          },
          "metadata": {}
        },
        {
          "output_type": "display_data",
          "data": {
            "text/plain": "<IPython.core.display.HTML object>",
            "text/html": " View run <strong style=\"color:#cdcd00\">wandering-sweep-4</strong> at: <a href='https://wandb.ai/manglesh-patidar-cs24m025/inaturalist-cnn/runs/tdq7pwyq' target=\"_blank\">https://wandb.ai/manglesh-patidar-cs24m025/inaturalist-cnn/runs/tdq7pwyq</a><br> View project at: <a href='https://wandb.ai/manglesh-patidar-cs24m025/inaturalist-cnn' target=\"_blank\">https://wandb.ai/manglesh-patidar-cs24m025/inaturalist-cnn</a><br>Synced 5 W&B file(s), 0 media file(s), 0 artifact file(s) and 0 other file(s)"
          },
          "metadata": {}
        },
        {
          "output_type": "display_data",
          "data": {
            "text/plain": "<IPython.core.display.HTML object>",
            "text/html": "Find logs at: <code>./wandb/run-20250415_075619-tdq7pwyq/logs</code>"
          },
          "metadata": {}
        },
        {
          "name": "stderr",
          "text": "\u001b[34m\u001b[1mwandb\u001b[0m: Agent Starting Run: zqqak4ch with config:\n\u001b[34m\u001b[1mwandb\u001b[0m: \tactivation: mish\n\u001b[34m\u001b[1mwandb\u001b[0m: \tbatch_norm_use: True\n\u001b[34m\u001b[1mwandb\u001b[0m: \tdata_aug: True\n\u001b[34m\u001b[1mwandb\u001b[0m: \tdropout: 0.3\n\u001b[34m\u001b[1mwandb\u001b[0m: \tepochs: 10\n\u001b[34m\u001b[1mwandb\u001b[0m: \tfc_layer: 512\n\u001b[34m\u001b[1mwandb\u001b[0m: \tfilter_counts: [32, 32, 32, 32, 32]\n\u001b[34m\u001b[1mwandb\u001b[0m: \tlearning_rate: 0.001\n\u001b[34m\u001b[1mwandb\u001b[0m: \tshape_of_filters_conv: [[7, 7], [5, 5], [3, 3], [3, 3], [3, 3]]\n\u001b[34m\u001b[1mwandb\u001b[0m: \ttrain_batch_size: 128\n",
          "output_type": "stream"
        },
        {
          "output_type": "display_data",
          "data": {
            "text/plain": "<IPython.core.display.HTML object>",
            "text/html": "Tracking run with wandb version 0.19.6"
          },
          "metadata": {}
        },
        {
          "output_type": "display_data",
          "data": {
            "text/plain": "<IPython.core.display.HTML object>",
            "text/html": "Run data is saved locally in <code>/kaggle/working/wandb/run-20250415_080603-zqqak4ch</code>"
          },
          "metadata": {}
        },
        {
          "output_type": "display_data",
          "data": {
            "text/plain": "<IPython.core.display.HTML object>",
            "text/html": "Syncing run <strong><a href='https://wandb.ai/manglesh-patidar-cs24m025/inaturalist-cnn/runs/zqqak4ch' target=\"_blank\">comic-sweep-5</a></strong> to <a href='https://wandb.ai/manglesh-patidar-cs24m025/inaturalist-cnn' target=\"_blank\">Weights & Biases</a> (<a href='https://wandb.me/developer-guide' target=\"_blank\">docs</a>)<br>Sweep page: <a href='https://wandb.ai/manglesh-patidar-cs24m025/inaturalist-cnn/sweeps/piq7fn15' target=\"_blank\">https://wandb.ai/manglesh-patidar-cs24m025/inaturalist-cnn/sweeps/piq7fn15</a>"
          },
          "metadata": {}
        },
        {
          "output_type": "display_data",
          "data": {
            "text/plain": "<IPython.core.display.HTML object>",
            "text/html": " View project at <a href='https://wandb.ai/manglesh-patidar-cs24m025/inaturalist-cnn' target=\"_blank\">https://wandb.ai/manglesh-patidar-cs24m025/inaturalist-cnn</a>"
          },
          "metadata": {}
        },
        {
          "output_type": "display_data",
          "data": {
            "text/plain": "<IPython.core.display.HTML object>",
            "text/html": " View sweep at <a href='https://wandb.ai/manglesh-patidar-cs24m025/inaturalist-cnn/sweeps/piq7fn15' target=\"_blank\">https://wandb.ai/manglesh-patidar-cs24m025/inaturalist-cnn/sweeps/piq7fn15</a>"
          },
          "metadata": {}
        },
        {
          "output_type": "display_data",
          "data": {
            "text/plain": "<IPython.core.display.HTML object>",
            "text/html": " View run at <a href='https://wandb.ai/manglesh-patidar-cs24m025/inaturalist-cnn/runs/zqqak4ch' target=\"_blank\">https://wandb.ai/manglesh-patidar-cs24m025/inaturalist-cnn/runs/zqqak4ch</a>"
          },
          "metadata": {}
        },
        {
          "name": "stdout",
          "text": "Using device: cuda\n",
          "output_type": "stream"
        },
        {
          "name": "stderr",
          "text": "Epoch 1/10 [Train]: 100%|██████████| 63/63 [00:46<00:00,  1.36it/s]\nEpoch 1/10 [Val]: 100%|██████████| 16/16 [00:11<00:00,  1.38it/s]\n",
          "output_type": "stream"
        },
        {
          "name": "stdout",
          "text": "Epoch 1/10, Train Loss: 2.1294, Train Acc: 0.2209, Val Loss: 2.1064, Val Acc: 0.2301\n",
          "output_type": "stream"
        },
        {
          "name": "stderr",
          "text": "Epoch 2/10 [Train]: 100%|██████████| 63/63 [00:52<00:00,  1.19it/s]\nEpoch 2/10 [Val]: 100%|██████████| 16/16 [00:12<00:00,  1.28it/s]\n",
          "output_type": "stream"
        },
        {
          "name": "stdout",
          "text": "Epoch 2/10, Train Loss: 2.0463, Train Acc: 0.2621, Val Loss: 2.0181, Val Acc: 0.2686\n",
          "output_type": "stream"
        },
        {
          "name": "stderr",
          "text": "Epoch 3/10 [Train]: 100%|██████████| 63/63 [00:54<00:00,  1.16it/s]\nEpoch 3/10 [Val]: 100%|██████████| 16/16 [00:17<00:00,  1.11s/it]\n",
          "output_type": "stream"
        },
        {
          "name": "stdout",
          "text": "Epoch 3/10, Train Loss: 2.0108, Train Acc: 0.2762, Val Loss: 2.0589, Val Acc: 0.2496\n",
          "output_type": "stream"
        },
        {
          "name": "stderr",
          "text": "Epoch 4/10 [Train]: 100%|██████████| 63/63 [00:57<00:00,  1.09it/s]\nEpoch 4/10 [Val]: 100%|██████████| 16/16 [00:10<00:00,  1.50it/s]\n",
          "output_type": "stream"
        },
        {
          "name": "stdout",
          "text": "Epoch 4/10, Train Loss: 1.9813, Train Acc: 0.2883, Val Loss: 2.0122, Val Acc: 0.2686\n",
          "output_type": "stream"
        },
        {
          "name": "stderr",
          "text": "Epoch 5/10 [Train]: 100%|██████████| 63/63 [00:43<00:00,  1.43it/s]\nEpoch 5/10 [Val]: 100%|██████████| 16/16 [00:11<00:00,  1.43it/s]\n",
          "output_type": "stream"
        },
        {
          "name": "stdout",
          "text": "Epoch 5/10, Train Loss: 1.9372, Train Acc: 0.3126, Val Loss: 2.0079, Val Acc: 0.2871\n",
          "output_type": "stream"
        },
        {
          "name": "stderr",
          "text": "Epoch 6/10 [Train]: 100%|██████████| 63/63 [00:44<00:00,  1.41it/s]\nEpoch 6/10 [Val]: 100%|██████████| 16/16 [00:14<00:00,  1.10it/s]\n",
          "output_type": "stream"
        },
        {
          "name": "stdout",
          "text": "Epoch 6/10, Train Loss: 1.9108, Train Acc: 0.3245, Val Loss: 1.9957, Val Acc: 0.2836\n",
          "output_type": "stream"
        },
        {
          "name": "stderr",
          "text": "Epoch 7/10 [Train]: 100%|██████████| 63/63 [01:05<00:00,  1.03s/it]\nEpoch 7/10 [Val]: 100%|██████████| 16/16 [00:17<00:00,  1.07s/it]\n",
          "output_type": "stream"
        },
        {
          "name": "stdout",
          "text": "Epoch 7/10, Train Loss: 1.8883, Train Acc: 0.3347, Val Loss: 1.9340, Val Acc: 0.3162\n",
          "output_type": "stream"
        },
        {
          "name": "stderr",
          "text": "Epoch 8/10 [Train]: 100%|██████████| 63/63 [00:53<00:00,  1.18it/s]\nEpoch 8/10 [Val]: 100%|██████████| 16/16 [00:10<00:00,  1.47it/s]\n",
          "output_type": "stream"
        },
        {
          "name": "stdout",
          "text": "Epoch 8/10, Train Loss: 1.8694, Train Acc: 0.3350, Val Loss: 1.9104, Val Acc: 0.3117\n",
          "output_type": "stream"
        },
        {
          "name": "stderr",
          "text": "Epoch 9/10 [Train]: 100%|██████████| 63/63 [00:48<00:00,  1.30it/s]\nEpoch 9/10 [Val]: 100%|██████████| 16/16 [00:12<00:00,  1.28it/s]\n",
          "output_type": "stream"
        },
        {
          "name": "stdout",
          "text": "Epoch 9/10, Train Loss: 1.8371, Train Acc: 0.3511, Val Loss: 2.0215, Val Acc: 0.2926\n",
          "output_type": "stream"
        },
        {
          "name": "stderr",
          "text": "Epoch 10/10 [Train]: 100%|██████████| 63/63 [00:47<00:00,  1.32it/s]\nEpoch 10/10 [Val]: 100%|██████████| 16/16 [00:11<00:00,  1.43it/s]",
          "output_type": "stream"
        },
        {
          "name": "stdout",
          "text": "Epoch 10/10, Train Loss: 1.8387, Train Acc: 0.3535, Val Loss: 1.9151, Val Acc: 0.3062\n",
          "output_type": "stream"
        },
        {
          "name": "stderr",
          "text": "\n",
          "output_type": "stream"
        },
        {
          "output_type": "display_data",
          "data": {
            "text/plain": "<IPython.core.display.HTML object>",
            "text/html": ""
          },
          "metadata": {}
        },
        {
          "output_type": "display_data",
          "data": {
            "text/plain": "<IPython.core.display.HTML object>",
            "text/html": "<br>    <style><br>        .wandb-row {<br>            display: flex;<br>            flex-direction: row;<br>            flex-wrap: wrap;<br>            justify-content: flex-start;<br>            width: 100%;<br>        }<br>        .wandb-col {<br>            display: flex;<br>            flex-direction: column;<br>            flex-basis: 100%;<br>            flex: 1;<br>            padding: 10px;<br>        }<br>    </style><br><div class=\"wandb-row\"><div class=\"wandb-col\"><h3>Run history:</h3><br/><table class=\"wandb\"><tr><td>epoch</td><td>▁▂▃▃▄▅▆▆▇█</td></tr><tr><td>train_accuracy</td><td>▁▃▄▅▆▆▇▇██</td></tr><tr><td>train_loss</td><td>█▆▅▄▃▃▂▂▁▁</td></tr><tr><td>val_accuracy</td><td>▁▄▃▄▆▅██▆▇</td></tr><tr><td>val_loss</td><td>█▅▆▅▄▄▂▁▅▁</td></tr></table><br/></div><div class=\"wandb-col\"><h3>Run summary:</h3><br/><table class=\"wandb\"><tr><td>epoch</td><td>10</td></tr><tr><td>train_accuracy</td><td>0.3535</td></tr><tr><td>train_loss</td><td>1.83874</td></tr><tr><td>val_accuracy</td><td>0.30615</td></tr><tr><td>val_loss</td><td>1.91509</td></tr></table><br/></div></div>"
          },
          "metadata": {}
        },
        {
          "output_type": "display_data",
          "data": {
            "text/plain": "<IPython.core.display.HTML object>",
            "text/html": " View run <strong style=\"color:#cdcd00\">comic-sweep-5</strong> at: <a href='https://wandb.ai/manglesh-patidar-cs24m025/inaturalist-cnn/runs/zqqak4ch' target=\"_blank\">https://wandb.ai/manglesh-patidar-cs24m025/inaturalist-cnn/runs/zqqak4ch</a><br> View project at: <a href='https://wandb.ai/manglesh-patidar-cs24m025/inaturalist-cnn' target=\"_blank\">https://wandb.ai/manglesh-patidar-cs24m025/inaturalist-cnn</a><br>Synced 5 W&B file(s), 0 media file(s), 0 artifact file(s) and 0 other file(s)"
          },
          "metadata": {}
        },
        {
          "output_type": "display_data",
          "data": {
            "text/plain": "<IPython.core.display.HTML object>",
            "text/html": "Find logs at: <code>./wandb/run-20250415_080603-zqqak4ch/logs</code>"
          },
          "metadata": {}
        },
        {
          "name": "stderr",
          "text": "\u001b[34m\u001b[1mwandb\u001b[0m: Agent Starting Run: 3oz6xba3 with config:\n\u001b[34m\u001b[1mwandb\u001b[0m: \tactivation: mish\n\u001b[34m\u001b[1mwandb\u001b[0m: \tbatch_norm_use: False\n\u001b[34m\u001b[1mwandb\u001b[0m: \tdata_aug: True\n\u001b[34m\u001b[1mwandb\u001b[0m: \tdropout: 0.5\n\u001b[34m\u001b[1mwandb\u001b[0m: \tepochs: 20\n\u001b[34m\u001b[1mwandb\u001b[0m: \tfc_layer: 256\n\u001b[34m\u001b[1mwandb\u001b[0m: \tfilter_counts: [64, 32, 16, 8, 4]\n\u001b[34m\u001b[1mwandb\u001b[0m: \tlearning_rate: 0.001\n\u001b[34m\u001b[1mwandb\u001b[0m: \tshape_of_filters_conv: [[7, 7], [5, 5], [3, 3], [3, 3], [3, 3]]\n\u001b[34m\u001b[1mwandb\u001b[0m: \ttrain_batch_size: 128\n",
          "output_type": "stream"
        },
        {
          "output_type": "display_data",
          "data": {
            "text/plain": "<IPython.core.display.HTML object>",
            "text/html": "Tracking run with wandb version 0.19.6"
          },
          "metadata": {}
        },
        {
          "output_type": "display_data",
          "data": {
            "text/plain": "<IPython.core.display.HTML object>",
            "text/html": "Run data is saved locally in <code>/kaggle/working/wandb/run-20250415_081703-3oz6xba3</code>"
          },
          "metadata": {}
        },
        {
          "output_type": "display_data",
          "data": {
            "text/plain": "<IPython.core.display.HTML object>",
            "text/html": "Syncing run <strong><a href='https://wandb.ai/manglesh-patidar-cs24m025/inaturalist-cnn/runs/3oz6xba3' target=\"_blank\">vital-sweep-6</a></strong> to <a href='https://wandb.ai/manglesh-patidar-cs24m025/inaturalist-cnn' target=\"_blank\">Weights & Biases</a> (<a href='https://wandb.me/developer-guide' target=\"_blank\">docs</a>)<br>Sweep page: <a href='https://wandb.ai/manglesh-patidar-cs24m025/inaturalist-cnn/sweeps/piq7fn15' target=\"_blank\">https://wandb.ai/manglesh-patidar-cs24m025/inaturalist-cnn/sweeps/piq7fn15</a>"
          },
          "metadata": {}
        },
        {
          "output_type": "display_data",
          "data": {
            "text/plain": "<IPython.core.display.HTML object>",
            "text/html": " View project at <a href='https://wandb.ai/manglesh-patidar-cs24m025/inaturalist-cnn' target=\"_blank\">https://wandb.ai/manglesh-patidar-cs24m025/inaturalist-cnn</a>"
          },
          "metadata": {}
        },
        {
          "output_type": "display_data",
          "data": {
            "text/plain": "<IPython.core.display.HTML object>",
            "text/html": " View sweep at <a href='https://wandb.ai/manglesh-patidar-cs24m025/inaturalist-cnn/sweeps/piq7fn15' target=\"_blank\">https://wandb.ai/manglesh-patidar-cs24m025/inaturalist-cnn/sweeps/piq7fn15</a>"
          },
          "metadata": {}
        },
        {
          "output_type": "display_data",
          "data": {
            "text/plain": "<IPython.core.display.HTML object>",
            "text/html": " View run at <a href='https://wandb.ai/manglesh-patidar-cs24m025/inaturalist-cnn/runs/3oz6xba3' target=\"_blank\">https://wandb.ai/manglesh-patidar-cs24m025/inaturalist-cnn/runs/3oz6xba3</a>"
          },
          "metadata": {}
        },
        {
          "name": "stdout",
          "text": "Using device: cuda\n",
          "output_type": "stream"
        },
        {
          "name": "stderr",
          "text": "Epoch 1/20 [Train]: 100%|██████████| 63/63 [00:49<00:00,  1.28it/s]\nEpoch 1/20 [Val]: 100%|██████████| 16/16 [00:10<00:00,  1.51it/s]\n",
          "output_type": "stream"
        },
        {
          "name": "stdout",
          "text": "Epoch 1/20, Train Loss: 2.2901, Train Acc: 0.1247, Val Loss: 2.2522, Val Acc: 0.1576\n",
          "output_type": "stream"
        },
        {
          "name": "stderr",
          "text": "Epoch 2/20 [Train]: 100%|██████████| 63/63 [00:46<00:00,  1.36it/s]\nEpoch 2/20 [Val]: 100%|██████████| 16/16 [00:10<00:00,  1.51it/s]\n",
          "output_type": "stream"
        },
        {
          "name": "stdout",
          "text": "Epoch 2/20, Train Loss: 2.2170, Train Acc: 0.1814, Val Loss: 2.1798, Val Acc: 0.1966\n",
          "output_type": "stream"
        },
        {
          "name": "stderr",
          "text": "Epoch 3/20 [Train]: 100%|██████████| 63/63 [00:47<00:00,  1.32it/s]\nEpoch 3/20 [Val]: 100%|██████████| 16/16 [00:10<00:00,  1.51it/s]\n",
          "output_type": "stream"
        },
        {
          "name": "stdout",
          "text": "Epoch 3/20, Train Loss: 2.1690, Train Acc: 0.1998, Val Loss: 2.1461, Val Acc: 0.2191\n",
          "output_type": "stream"
        },
        {
          "name": "stderr",
          "text": "Epoch 4/20 [Train]: 100%|██████████| 63/63 [00:45<00:00,  1.38it/s]\nEpoch 4/20 [Val]: 100%|██████████| 16/16 [00:10<00:00,  1.50it/s]\n",
          "output_type": "stream"
        },
        {
          "name": "stdout",
          "text": "Epoch 4/20, Train Loss: 2.1429, Train Acc: 0.2092, Val Loss: 2.1078, Val Acc: 0.2186\n",
          "output_type": "stream"
        },
        {
          "name": "stderr",
          "text": "Epoch 5/20 [Train]: 100%|██████████| 63/63 [00:44<00:00,  1.41it/s]\nEpoch 5/20 [Val]: 100%|██████████| 16/16 [00:10<00:00,  1.46it/s]\n",
          "output_type": "stream"
        },
        {
          "name": "stdout",
          "text": "Epoch 5/20, Train Loss: 2.1189, Train Acc: 0.2220, Val Loss: 2.0930, Val Acc: 0.2421\n",
          "output_type": "stream"
        },
        {
          "name": "stderr",
          "text": "Epoch 6/20 [Train]: 100%|██████████| 63/63 [00:44<00:00,  1.43it/s]\nEpoch 6/20 [Val]: 100%|██████████| 16/16 [00:11<00:00,  1.44it/s]\n",
          "output_type": "stream"
        },
        {
          "name": "stdout",
          "text": "Epoch 6/20, Train Loss: 2.1059, Train Acc: 0.2253, Val Loss: 2.0848, Val Acc: 0.2366\n",
          "output_type": "stream"
        },
        {
          "name": "stderr",
          "text": "Epoch 7/20 [Train]: 100%|██████████| 63/63 [00:45<00:00,  1.40it/s]\nEpoch 7/20 [Val]: 100%|██████████| 16/16 [00:10<00:00,  1.50it/s]\n",
          "output_type": "stream"
        },
        {
          "name": "stdout",
          "text": "Epoch 7/20, Train Loss: 2.0890, Train Acc: 0.2345, Val Loss: 2.0995, Val Acc: 0.2271\n",
          "output_type": "stream"
        },
        {
          "name": "stderr",
          "text": "Epoch 8/20 [Train]: 100%|██████████| 63/63 [00:43<00:00,  1.45it/s]\nEpoch 8/20 [Val]: 100%|██████████| 16/16 [00:11<00:00,  1.42it/s]\n",
          "output_type": "stream"
        },
        {
          "name": "stdout",
          "text": "Epoch 8/20, Train Loss: 2.0719, Train Acc: 0.2356, Val Loss: 2.0696, Val Acc: 0.2346\n",
          "output_type": "stream"
        },
        {
          "name": "stderr",
          "text": "Epoch 9/20 [Train]: 100%|██████████| 63/63 [00:43<00:00,  1.45it/s]\nEpoch 9/20 [Val]: 100%|██████████| 16/16 [00:10<00:00,  1.47it/s]\n",
          "output_type": "stream"
        },
        {
          "name": "stdout",
          "text": "Epoch 9/20, Train Loss: 2.0673, Train Acc: 0.2462, Val Loss: 2.0647, Val Acc: 0.2556\n",
          "output_type": "stream"
        },
        {
          "name": "stderr",
          "text": "Epoch 10/20 [Train]: 100%|██████████| 63/63 [00:47<00:00,  1.34it/s]\nEpoch 10/20 [Val]: 100%|██████████| 16/16 [00:10<00:00,  1.49it/s]\n",
          "output_type": "stream"
        },
        {
          "name": "stdout",
          "text": "Epoch 10/20, Train Loss: 2.0587, Train Acc: 0.2495, Val Loss: 2.0523, Val Acc: 0.2631\n",
          "output_type": "stream"
        },
        {
          "name": "stderr",
          "text": "Epoch 11/20 [Train]: 100%|██████████| 63/63 [00:44<00:00,  1.42it/s]\nEpoch 11/20 [Val]: 100%|██████████| 16/16 [00:14<00:00,  1.08it/s]\n",
          "output_type": "stream"
        },
        {
          "name": "stdout",
          "text": "Epoch 11/20, Train Loss: 2.0566, Train Acc: 0.2509, Val Loss: 2.0763, Val Acc: 0.2521\n",
          "output_type": "stream"
        },
        {
          "name": "stderr",
          "text": "Epoch 12/20 [Train]: 100%|██████████| 63/63 [00:47<00:00,  1.32it/s]\nEpoch 12/20 [Val]: 100%|██████████| 16/16 [00:10<00:00,  1.51it/s]\n",
          "output_type": "stream"
        },
        {
          "name": "stdout",
          "text": "Epoch 12/20, Train Loss: 2.0430, Train Acc: 0.2524, Val Loss: 2.0440, Val Acc: 0.2746\n",
          "output_type": "stream"
        },
        {
          "name": "stderr",
          "text": "Epoch 13/20 [Train]: 100%|██████████| 63/63 [00:44<00:00,  1.41it/s]\nEpoch 13/20 [Val]: 100%|██████████| 16/16 [00:11<00:00,  1.42it/s]\n",
          "output_type": "stream"
        },
        {
          "name": "stdout",
          "text": "Epoch 13/20, Train Loss: 2.0241, Train Acc: 0.2630, Val Loss: 2.0439, Val Acc: 0.2696\n",
          "output_type": "stream"
        },
        {
          "name": "stderr",
          "text": "Epoch 14/20 [Train]: 100%|██████████| 63/63 [00:45<00:00,  1.37it/s]\nEpoch 14/20 [Val]: 100%|██████████| 16/16 [00:11<00:00,  1.38it/s]\n",
          "output_type": "stream"
        },
        {
          "name": "stdout",
          "text": "Epoch 14/20, Train Loss: 2.0063, Train Acc: 0.2685, Val Loss: 2.0034, Val Acc: 0.2796\n",
          "output_type": "stream"
        },
        {
          "name": "stderr",
          "text": "Epoch 15/20 [Train]: 100%|██████████| 63/63 [00:46<00:00,  1.35it/s]\nEpoch 15/20 [Val]: 100%|██████████| 16/16 [00:11<00:00,  1.38it/s]\n",
          "output_type": "stream"
        },
        {
          "name": "stdout",
          "text": "Epoch 15/20, Train Loss: 1.9892, Train Acc: 0.2809, Val Loss: 1.9997, Val Acc: 0.2846\n",
          "output_type": "stream"
        },
        {
          "name": "stderr",
          "text": "Epoch 16/20 [Train]: 100%|██████████| 63/63 [00:44<00:00,  1.42it/s]\nEpoch 16/20 [Val]: 100%|██████████| 16/16 [00:10<00:00,  1.49it/s]\n",
          "output_type": "stream"
        },
        {
          "name": "stdout",
          "text": "Epoch 16/20, Train Loss: 1.9806, Train Acc: 0.2883, Val Loss: 2.0045, Val Acc: 0.2906\n",
          "output_type": "stream"
        },
        {
          "name": "stderr",
          "text": "Epoch 17/20 [Train]: 100%|██████████| 63/63 [00:44<00:00,  1.40it/s]\nEpoch 17/20 [Val]: 100%|██████████| 16/16 [00:10<00:00,  1.52it/s]\n",
          "output_type": "stream"
        },
        {
          "name": "stdout",
          "text": "Epoch 17/20, Train Loss: 1.9701, Train Acc: 0.2890, Val Loss: 1.9752, Val Acc: 0.2936\n",
          "output_type": "stream"
        },
        {
          "name": "stderr",
          "text": "Epoch 18/20 [Train]: 100%|██████████| 63/63 [00:45<00:00,  1.37it/s]\nEpoch 18/20 [Val]: 100%|██████████| 16/16 [00:13<00:00,  1.22it/s]\n",
          "output_type": "stream"
        },
        {
          "name": "stdout",
          "text": "Epoch 18/20, Train Loss: 1.9481, Train Acc: 0.2998, Val Loss: 1.9826, Val Acc: 0.2946\n",
          "output_type": "stream"
        },
        {
          "name": "stderr",
          "text": "Epoch 19/20 [Train]: 100%|██████████| 63/63 [00:50<00:00,  1.24it/s]\nEpoch 19/20 [Val]: 100%|██████████| 16/16 [00:11<00:00,  1.45it/s]\n",
          "output_type": "stream"
        },
        {
          "name": "stdout",
          "text": "Epoch 19/20, Train Loss: 1.9424, Train Acc: 0.3025, Val Loss: 1.9794, Val Acc: 0.2921\n",
          "output_type": "stream"
        },
        {
          "name": "stderr",
          "text": "Epoch 20/20 [Train]: 100%|██████████| 63/63 [00:45<00:00,  1.38it/s]\nEpoch 20/20 [Val]: 100%|██████████| 16/16 [00:10<00:00,  1.48it/s]",
          "output_type": "stream"
        },
        {
          "name": "stdout",
          "text": "Epoch 20/20, Train Loss: 1.9247, Train Acc: 0.3055, Val Loss: 1.9966, Val Acc: 0.2851\n",
          "output_type": "stream"
        },
        {
          "name": "stderr",
          "text": "\n",
          "output_type": "stream"
        },
        {
          "output_type": "display_data",
          "data": {
            "text/plain": "<IPython.core.display.HTML object>",
            "text/html": ""
          },
          "metadata": {}
        },
        {
          "output_type": "display_data",
          "data": {
            "text/plain": "<IPython.core.display.HTML object>",
            "text/html": "<br>    <style><br>        .wandb-row {<br>            display: flex;<br>            flex-direction: row;<br>            flex-wrap: wrap;<br>            justify-content: flex-start;<br>            width: 100%;<br>        }<br>        .wandb-col {<br>            display: flex;<br>            flex-direction: column;<br>            flex-basis: 100%;<br>            flex: 1;<br>            padding: 10px;<br>        }<br>    </style><br><div class=\"wandb-row\"><div class=\"wandb-col\"><h3>Run history:</h3><br/><table class=\"wandb\"><tr><td>epoch</td><td>▁▁▂▂▂▃▃▄▄▄▅▅▅▆▆▇▇▇██</td></tr><tr><td>train_accuracy</td><td>▁▃▄▄▅▅▅▅▆▆▆▆▆▇▇▇▇███</td></tr><tr><td>train_loss</td><td>█▇▆▅▅▄▄▄▄▄▄▃▃▃▂▂▂▁▁▁</td></tr><tr><td>val_accuracy</td><td>▁▃▄▄▅▅▅▅▆▆▆▇▇▇▇█████</td></tr><tr><td>val_loss</td><td>█▆▅▄▄▄▄▃▃▃▄▃▃▂▂▂▁▁▁▂</td></tr></table><br/></div><div class=\"wandb-col\"><h3>Run summary:</h3><br/><table class=\"wandb\"><tr><td>epoch</td><td>20</td></tr><tr><td>train_accuracy</td><td>0.3055</td></tr><tr><td>train_loss</td><td>1.9247</td></tr><tr><td>val_accuracy</td><td>0.28514</td></tr><tr><td>val_loss</td><td>1.99663</td></tr></table><br/></div></div>"
          },
          "metadata": {}
        },
        {
          "output_type": "display_data",
          "data": {
            "text/plain": "<IPython.core.display.HTML object>",
            "text/html": " View run <strong style=\"color:#cdcd00\">vital-sweep-6</strong> at: <a href='https://wandb.ai/manglesh-patidar-cs24m025/inaturalist-cnn/runs/3oz6xba3' target=\"_blank\">https://wandb.ai/manglesh-patidar-cs24m025/inaturalist-cnn/runs/3oz6xba3</a><br> View project at: <a href='https://wandb.ai/manglesh-patidar-cs24m025/inaturalist-cnn' target=\"_blank\">https://wandb.ai/manglesh-patidar-cs24m025/inaturalist-cnn</a><br>Synced 5 W&B file(s), 0 media file(s), 0 artifact file(s) and 0 other file(s)"
          },
          "metadata": {}
        },
        {
          "output_type": "display_data",
          "data": {
            "text/plain": "<IPython.core.display.HTML object>",
            "text/html": "Find logs at: <code>./wandb/run-20250415_081703-3oz6xba3/logs</code>"
          },
          "metadata": {}
        },
        {
          "name": "stderr",
          "text": "\u001b[34m\u001b[1mwandb\u001b[0m: Agent Starting Run: vx7mrf0s with config:\n\u001b[34m\u001b[1mwandb\u001b[0m: \tactivation: silu\n\u001b[34m\u001b[1mwandb\u001b[0m: \tbatch_norm_use: True\n\u001b[34m\u001b[1mwandb\u001b[0m: \tdata_aug: False\n\u001b[34m\u001b[1mwandb\u001b[0m: \tdropout: 0\n\u001b[34m\u001b[1mwandb\u001b[0m: \tepochs: 10\n\u001b[34m\u001b[1mwandb\u001b[0m: \tfc_layer: 512\n\u001b[34m\u001b[1mwandb\u001b[0m: \tfilter_counts: [32, 64, 128, 256, 512]\n\u001b[34m\u001b[1mwandb\u001b[0m: \tlearning_rate: 0.0005\n\u001b[34m\u001b[1mwandb\u001b[0m: \tshape_of_filters_conv: [[7, 7], [5, 5], [3, 3], [3, 3], [3, 3]]\n\u001b[34m\u001b[1mwandb\u001b[0m: \ttrain_batch_size: 64\n",
          "output_type": "stream"
        },
        {
          "output_type": "display_data",
          "data": {
            "text/plain": "<IPython.core.display.HTML object>",
            "text/html": "Tracking run with wandb version 0.19.6"
          },
          "metadata": {}
        },
        {
          "output_type": "display_data",
          "data": {
            "text/plain": "<IPython.core.display.HTML object>",
            "text/html": "Run data is saved locally in <code>/kaggle/working/wandb/run-20250415_083622-vx7mrf0s</code>"
          },
          "metadata": {}
        },
        {
          "output_type": "display_data",
          "data": {
            "text/plain": "<IPython.core.display.HTML object>",
            "text/html": "Syncing run <strong><a href='https://wandb.ai/manglesh-patidar-cs24m025/inaturalist-cnn/runs/vx7mrf0s' target=\"_blank\">jumping-sweep-7</a></strong> to <a href='https://wandb.ai/manglesh-patidar-cs24m025/inaturalist-cnn' target=\"_blank\">Weights & Biases</a> (<a href='https://wandb.me/developer-guide' target=\"_blank\">docs</a>)<br>Sweep page: <a href='https://wandb.ai/manglesh-patidar-cs24m025/inaturalist-cnn/sweeps/piq7fn15' target=\"_blank\">https://wandb.ai/manglesh-patidar-cs24m025/inaturalist-cnn/sweeps/piq7fn15</a>"
          },
          "metadata": {}
        },
        {
          "output_type": "display_data",
          "data": {
            "text/plain": "<IPython.core.display.HTML object>",
            "text/html": " View project at <a href='https://wandb.ai/manglesh-patidar-cs24m025/inaturalist-cnn' target=\"_blank\">https://wandb.ai/manglesh-patidar-cs24m025/inaturalist-cnn</a>"
          },
          "metadata": {}
        },
        {
          "output_type": "display_data",
          "data": {
            "text/plain": "<IPython.core.display.HTML object>",
            "text/html": " View sweep at <a href='https://wandb.ai/manglesh-patidar-cs24m025/inaturalist-cnn/sweeps/piq7fn15' target=\"_blank\">https://wandb.ai/manglesh-patidar-cs24m025/inaturalist-cnn/sweeps/piq7fn15</a>"
          },
          "metadata": {}
        },
        {
          "output_type": "display_data",
          "data": {
            "text/plain": "<IPython.core.display.HTML object>",
            "text/html": " View run at <a href='https://wandb.ai/manglesh-patidar-cs24m025/inaturalist-cnn/runs/vx7mrf0s' target=\"_blank\">https://wandb.ai/manglesh-patidar-cs24m025/inaturalist-cnn/runs/vx7mrf0s</a>"
          },
          "metadata": {}
        },
        {
          "name": "stdout",
          "text": "Using device: cuda\n",
          "output_type": "stream"
        },
        {
          "name": "stderr",
          "text": "Epoch 1/10 [Train]: 100%|██████████| 125/125 [00:44<00:00,  2.82it/s]\nEpoch 1/10 [Val]: 100%|██████████| 32/32 [00:10<00:00,  2.92it/s]\n",
          "output_type": "stream"
        },
        {
          "name": "stdout",
          "text": "Epoch 1/10, Train Loss: 2.1172, Train Acc: 0.2316, Val Loss: 2.0936, Val Acc: 0.2436\n",
          "output_type": "stream"
        },
        {
          "name": "stderr",
          "text": "Epoch 2/10 [Train]: 100%|██████████| 125/125 [00:44<00:00,  2.82it/s]\nEpoch 2/10 [Val]: 100%|██████████| 32/32 [00:10<00:00,  3.00it/s]\n",
          "output_type": "stream"
        },
        {
          "name": "stdout",
          "text": "Epoch 2/10, Train Loss: 2.0250, Train Acc: 0.2700, Val Loss: 2.0498, Val Acc: 0.2711\n",
          "output_type": "stream"
        },
        {
          "name": "stderr",
          "text": "Epoch 3/10 [Train]: 100%|██████████| 125/125 [00:44<00:00,  2.82it/s]\nEpoch 3/10 [Val]: 100%|██████████| 32/32 [00:10<00:00,  3.04it/s]\n",
          "output_type": "stream"
        },
        {
          "name": "stdout",
          "text": "Epoch 3/10, Train Loss: 1.9786, Train Acc: 0.2908, Val Loss: 2.0210, Val Acc: 0.2796\n",
          "output_type": "stream"
        },
        {
          "name": "stderr",
          "text": "Epoch 4/10 [Train]: 100%|██████████| 125/125 [00:44<00:00,  2.78it/s]\nEpoch 4/10 [Val]: 100%|██████████| 32/32 [00:10<00:00,  3.04it/s]\n",
          "output_type": "stream"
        },
        {
          "name": "stdout",
          "text": "Epoch 4/10, Train Loss: 1.9378, Train Acc: 0.3103, Val Loss: 1.9665, Val Acc: 0.2981\n",
          "output_type": "stream"
        },
        {
          "name": "stderr",
          "text": "Epoch 5/10 [Train]: 100%|██████████| 125/125 [00:44<00:00,  2.81it/s]\nEpoch 5/10 [Val]: 100%|██████████| 32/32 [00:11<00:00,  2.89it/s]\n",
          "output_type": "stream"
        },
        {
          "name": "stdout",
          "text": "Epoch 5/10, Train Loss: 1.9032, Train Acc: 0.3187, Val Loss: 2.1227, Val Acc: 0.2776\n",
          "output_type": "stream"
        },
        {
          "name": "stderr",
          "text": "Epoch 6/10 [Train]: 100%|██████████| 125/125 [00:44<00:00,  2.80it/s]\nEpoch 6/10 [Val]: 100%|██████████| 32/32 [00:11<00:00,  2.69it/s]\n",
          "output_type": "stream"
        },
        {
          "name": "stdout",
          "text": "Epoch 6/10, Train Loss: 1.8758, Train Acc: 0.3272, Val Loss: 1.9747, Val Acc: 0.3072\n",
          "output_type": "stream"
        },
        {
          "name": "stderr",
          "text": "Epoch 7/10 [Train]: 100%|██████████| 125/125 [00:46<00:00,  2.71it/s]\nEpoch 7/10 [Val]: 100%|██████████| 32/32 [00:11<00:00,  2.69it/s]\n",
          "output_type": "stream"
        },
        {
          "name": "stdout",
          "text": "Epoch 7/10, Train Loss: 1.8449, Train Acc: 0.3404, Val Loss: 1.9086, Val Acc: 0.3242\n",
          "output_type": "stream"
        },
        {
          "name": "stderr",
          "text": "Epoch 8/10 [Train]: 100%|██████████| 125/125 [00:51<00:00,  2.41it/s]\nEpoch 8/10 [Val]: 100%|██████████| 32/32 [00:12<00:00,  2.50it/s]\n",
          "output_type": "stream"
        },
        {
          "name": "stdout",
          "text": "Epoch 8/10, Train Loss: 1.8204, Train Acc: 0.3465, Val Loss: 2.0684, Val Acc: 0.2786\n",
          "output_type": "stream"
        },
        {
          "name": "stderr",
          "text": "Epoch 9/10 [Train]: 100%|██████████| 125/125 [00:54<00:00,  2.31it/s]\nEpoch 9/10 [Val]: 100%|██████████| 32/32 [00:11<00:00,  2.78it/s]\n",
          "output_type": "stream"
        },
        {
          "name": "stdout",
          "text": "Epoch 9/10, Train Loss: 1.7781, Train Acc: 0.3713, Val Loss: 2.0696, Val Acc: 0.2871\n",
          "output_type": "stream"
        },
        {
          "name": "stderr",
          "text": "Epoch 10/10 [Train]: 100%|██████████| 125/125 [00:50<00:00,  2.46it/s]\nEpoch 10/10 [Val]: 100%|██████████| 32/32 [00:10<00:00,  2.94it/s]",
          "output_type": "stream"
        },
        {
          "name": "stdout",
          "text": "Epoch 10/10, Train Loss: 1.7580, Train Acc: 0.3772, Val Loss: 1.9634, Val Acc: 0.3092\n",
          "output_type": "stream"
        },
        {
          "name": "stderr",
          "text": "\n",
          "output_type": "stream"
        },
        {
          "output_type": "display_data",
          "data": {
            "text/plain": "<IPython.core.display.HTML object>",
            "text/html": ""
          },
          "metadata": {}
        },
        {
          "output_type": "display_data",
          "data": {
            "text/plain": "<IPython.core.display.HTML object>",
            "text/html": "<br>    <style><br>        .wandb-row {<br>            display: flex;<br>            flex-direction: row;<br>            flex-wrap: wrap;<br>            justify-content: flex-start;<br>            width: 100%;<br>        }<br>        .wandb-col {<br>            display: flex;<br>            flex-direction: column;<br>            flex-basis: 100%;<br>            flex: 1;<br>            padding: 10px;<br>        }<br>    </style><br><div class=\"wandb-row\"><div class=\"wandb-col\"><h3>Run history:</h3><br/><table class=\"wandb\"><tr><td>epoch</td><td>▁▂▃▃▄▅▆▆▇█</td></tr><tr><td>train_accuracy</td><td>▁▃▄▅▅▆▆▇██</td></tr><tr><td>train_loss</td><td>█▆▅▅▄▃▃▂▁▁</td></tr><tr><td>val_accuracy</td><td>▁▃▄▆▄▇█▄▅▇</td></tr><tr><td>val_loss</td><td>▇▆▅▃█▃▁▆▆▃</td></tr></table><br/></div><div class=\"wandb-col\"><h3>Run summary:</h3><br/><table class=\"wandb\"><tr><td>epoch</td><td>10</td></tr><tr><td>train_accuracy</td><td>0.37725</td></tr><tr><td>train_loss</td><td>1.75804</td></tr><tr><td>val_accuracy</td><td>0.30915</td></tr><tr><td>val_loss</td><td>1.96337</td></tr></table><br/></div></div>"
          },
          "metadata": {}
        },
        {
          "output_type": "display_data",
          "data": {
            "text/plain": "<IPython.core.display.HTML object>",
            "text/html": " View run <strong style=\"color:#cdcd00\">jumping-sweep-7</strong> at: <a href='https://wandb.ai/manglesh-patidar-cs24m025/inaturalist-cnn/runs/vx7mrf0s' target=\"_blank\">https://wandb.ai/manglesh-patidar-cs24m025/inaturalist-cnn/runs/vx7mrf0s</a><br> View project at: <a href='https://wandb.ai/manglesh-patidar-cs24m025/inaturalist-cnn' target=\"_blank\">https://wandb.ai/manglesh-patidar-cs24m025/inaturalist-cnn</a><br>Synced 5 W&B file(s), 0 media file(s), 0 artifact file(s) and 0 other file(s)"
          },
          "metadata": {}
        },
        {
          "output_type": "display_data",
          "data": {
            "text/plain": "<IPython.core.display.HTML object>",
            "text/html": "Find logs at: <code>./wandb/run-20250415_083622-vx7mrf0s/logs</code>"
          },
          "metadata": {}
        },
        {
          "name": "stderr",
          "text": "\u001b[34m\u001b[1mwandb\u001b[0m: Agent Starting Run: 4tna9ad4 with config:\n\u001b[34m\u001b[1mwandb\u001b[0m: \tactivation: relu\n\u001b[34m\u001b[1mwandb\u001b[0m: \tbatch_norm_use: True\n\u001b[34m\u001b[1mwandb\u001b[0m: \tdata_aug: False\n\u001b[34m\u001b[1mwandb\u001b[0m: \tdropout: 0\n\u001b[34m\u001b[1mwandb\u001b[0m: \tepochs: 20\n\u001b[34m\u001b[1mwandb\u001b[0m: \tfc_layer: 128\n\u001b[34m\u001b[1mwandb\u001b[0m: \tfilter_counts: [16, 32, 64, 128, 256]\n\u001b[34m\u001b[1mwandb\u001b[0m: \tlearning_rate: 0.0005\n\u001b[34m\u001b[1mwandb\u001b[0m: \tshape_of_filters_conv: [[3, 3], [3, 3], [3, 3], [5, 5], [7, 7]]\n\u001b[34m\u001b[1mwandb\u001b[0m: \ttrain_batch_size: 64\n",
          "output_type": "stream"
        },
        {
          "output_type": "display_data",
          "data": {
            "text/plain": "<IPython.core.display.HTML object>",
            "text/html": "Tracking run with wandb version 0.19.6"
          },
          "metadata": {}
        },
        {
          "output_type": "display_data",
          "data": {
            "text/plain": "<IPython.core.display.HTML object>",
            "text/html": "Run data is saved locally in <code>/kaggle/working/wandb/run-20250415_084622-4tna9ad4</code>"
          },
          "metadata": {}
        },
        {
          "output_type": "display_data",
          "data": {
            "text/plain": "<IPython.core.display.HTML object>",
            "text/html": "Syncing run <strong><a href='https://wandb.ai/manglesh-patidar-cs24m025/inaturalist-cnn/runs/4tna9ad4' target=\"_blank\">deep-sweep-8</a></strong> to <a href='https://wandb.ai/manglesh-patidar-cs24m025/inaturalist-cnn' target=\"_blank\">Weights & Biases</a> (<a href='https://wandb.me/developer-guide' target=\"_blank\">docs</a>)<br>Sweep page: <a href='https://wandb.ai/manglesh-patidar-cs24m025/inaturalist-cnn/sweeps/piq7fn15' target=\"_blank\">https://wandb.ai/manglesh-patidar-cs24m025/inaturalist-cnn/sweeps/piq7fn15</a>"
          },
          "metadata": {}
        },
        {
          "output_type": "display_data",
          "data": {
            "text/plain": "<IPython.core.display.HTML object>",
            "text/html": " View project at <a href='https://wandb.ai/manglesh-patidar-cs24m025/inaturalist-cnn' target=\"_blank\">https://wandb.ai/manglesh-patidar-cs24m025/inaturalist-cnn</a>"
          },
          "metadata": {}
        },
        {
          "output_type": "display_data",
          "data": {
            "text/plain": "<IPython.core.display.HTML object>",
            "text/html": " View sweep at <a href='https://wandb.ai/manglesh-patidar-cs24m025/inaturalist-cnn/sweeps/piq7fn15' target=\"_blank\">https://wandb.ai/manglesh-patidar-cs24m025/inaturalist-cnn/sweeps/piq7fn15</a>"
          },
          "metadata": {}
        },
        {
          "output_type": "display_data",
          "data": {
            "text/plain": "<IPython.core.display.HTML object>",
            "text/html": " View run at <a href='https://wandb.ai/manglesh-patidar-cs24m025/inaturalist-cnn/runs/4tna9ad4' target=\"_blank\">https://wandb.ai/manglesh-patidar-cs24m025/inaturalist-cnn/runs/4tna9ad4</a>"
          },
          "metadata": {}
        },
        {
          "name": "stdout",
          "text": "Using device: cuda\n",
          "output_type": "stream"
        },
        {
          "name": "stderr",
          "text": "Epoch 1/20 [Train]: 100%|██████████| 125/125 [00:46<00:00,  2.70it/s]\nEpoch 1/20 [Val]: 100%|██████████| 32/32 [00:11<00:00,  2.83it/s]\n",
          "output_type": "stream"
        },
        {
          "name": "stdout",
          "text": "Epoch 1/20, Train Loss: 2.1021, Train Acc: 0.2484, Val Loss: 2.0894, Val Acc: 0.2356\n",
          "output_type": "stream"
        },
        {
          "name": "stderr",
          "text": "Epoch 2/20 [Train]: 100%|██████████| 125/125 [00:43<00:00,  2.86it/s]\nEpoch 2/20 [Val]: 100%|██████████| 32/32 [00:13<00:00,  2.30it/s]\n",
          "output_type": "stream"
        },
        {
          "name": "stdout",
          "text": "Epoch 2/20, Train Loss: 1.9662, Train Acc: 0.3016, Val Loss: 1.9732, Val Acc: 0.2806\n",
          "output_type": "stream"
        },
        {
          "name": "stderr",
          "text": "Epoch 3/20 [Train]: 100%|██████████| 125/125 [00:42<00:00,  2.96it/s]\nEpoch 3/20 [Val]: 100%|██████████| 32/32 [00:10<00:00,  3.01it/s]\n",
          "output_type": "stream"
        },
        {
          "name": "stdout",
          "text": "Epoch 3/20, Train Loss: 1.8910, Train Acc: 0.3360, Val Loss: 2.1271, Val Acc: 0.2726\n",
          "output_type": "stream"
        },
        {
          "name": "stderr",
          "text": "Epoch 4/20 [Train]: 100%|██████████| 125/125 [00:52<00:00,  2.39it/s]\nEpoch 4/20 [Val]: 100%|██████████| 32/32 [00:10<00:00,  3.12it/s]\n",
          "output_type": "stream"
        },
        {
          "name": "stdout",
          "text": "Epoch 4/20, Train Loss: 1.8210, Train Acc: 0.3580, Val Loss: 1.9533, Val Acc: 0.3152\n",
          "output_type": "stream"
        },
        {
          "name": "stderr",
          "text": "Epoch 5/20 [Train]: 100%|██████████| 125/125 [00:43<00:00,  2.90it/s]\nEpoch 5/20 [Val]: 100%|██████████| 32/32 [00:11<00:00,  2.67it/s]\n",
          "output_type": "stream"
        },
        {
          "name": "stdout",
          "text": "Epoch 5/20, Train Loss: 1.7667, Train Acc: 0.3782, Val Loss: 1.9535, Val Acc: 0.3097\n",
          "output_type": "stream"
        },
        {
          "name": "stderr",
          "text": "Epoch 6/20 [Train]: 100%|██████████| 125/125 [00:44<00:00,  2.80it/s]\nEpoch 6/20 [Val]: 100%|██████████| 32/32 [00:10<00:00,  3.03it/s]\n",
          "output_type": "stream"
        },
        {
          "name": "stdout",
          "text": "Epoch 6/20, Train Loss: 1.7195, Train Acc: 0.4006, Val Loss: 1.8281, Val Acc: 0.3447\n",
          "output_type": "stream"
        },
        {
          "name": "stderr",
          "text": "Epoch 7/20 [Train]: 100%|██████████| 125/125 [00:45<00:00,  2.77it/s]\nEpoch 7/20 [Val]: 100%|██████████| 32/32 [00:10<00:00,  3.15it/s]\n",
          "output_type": "stream"
        },
        {
          "name": "stdout",
          "text": "Epoch 7/20, Train Loss: 1.6747, Train Acc: 0.4123, Val Loss: 1.7932, Val Acc: 0.3577\n",
          "output_type": "stream"
        },
        {
          "name": "stderr",
          "text": "Epoch 8/20 [Train]: 100%|██████████| 125/125 [00:43<00:00,  2.86it/s]\nEpoch 8/20 [Val]: 100%|██████████| 32/32 [00:12<00:00,  2.66it/s]\n",
          "output_type": "stream"
        },
        {
          "name": "stdout",
          "text": "Epoch 8/20, Train Loss: 1.6369, Train Acc: 0.4266, Val Loss: 1.7572, Val Acc: 0.3777\n",
          "output_type": "stream"
        },
        {
          "name": "stderr",
          "text": "Epoch 9/20 [Train]: 100%|██████████| 125/125 [00:48<00:00,  2.56it/s]\nEpoch 9/20 [Val]: 100%|██████████| 32/32 [00:10<00:00,  3.00it/s]\n",
          "output_type": "stream"
        },
        {
          "name": "stdout",
          "text": "Epoch 9/20, Train Loss: 1.5945, Train Acc: 0.4469, Val Loss: 1.8260, Val Acc: 0.3602\n",
          "output_type": "stream"
        },
        {
          "name": "stderr",
          "text": "Epoch 10/20 [Train]: 100%|██████████| 125/125 [00:51<00:00,  2.44it/s]\nEpoch 10/20 [Val]: 100%|██████████| 32/32 [00:10<00:00,  3.10it/s]\n",
          "output_type": "stream"
        },
        {
          "name": "stdout",
          "text": "Epoch 10/20, Train Loss: 1.5524, Train Acc: 0.4585, Val Loss: 1.8791, Val Acc: 0.3582\n",
          "output_type": "stream"
        },
        {
          "name": "stderr",
          "text": "Epoch 11/20 [Train]: 100%|██████████| 125/125 [00:41<00:00,  3.04it/s]\nEpoch 11/20 [Val]: 100%|██████████| 32/32 [00:10<00:00,  3.01it/s]\n",
          "output_type": "stream"
        },
        {
          "name": "stdout",
          "text": "Epoch 11/20, Train Loss: 1.5093, Train Acc: 0.4699, Val Loss: 2.0279, Val Acc: 0.3027\n",
          "output_type": "stream"
        },
        {
          "name": "stderr",
          "text": "Epoch 12/20 [Train]: 100%|██████████| 125/125 [00:41<00:00,  3.00it/s]\nEpoch 12/20 [Val]: 100%|██████████| 32/32 [00:10<00:00,  3.15it/s]\n",
          "output_type": "stream"
        },
        {
          "name": "stdout",
          "text": "Epoch 12/20, Train Loss: 1.4642, Train Acc: 0.4901, Val Loss: 1.8219, Val Acc: 0.3737\n",
          "output_type": "stream"
        },
        {
          "name": "stderr",
          "text": "Epoch 13/20 [Train]: 100%|██████████| 125/125 [00:47<00:00,  2.62it/s]\nEpoch 13/20 [Val]: 100%|██████████| 32/32 [00:16<00:00,  1.89it/s]\n",
          "output_type": "stream"
        },
        {
          "name": "stdout",
          "text": "Epoch 13/20, Train Loss: 1.4330, Train Acc: 0.4983, Val Loss: 1.7604, Val Acc: 0.3867\n",
          "output_type": "stream"
        },
        {
          "name": "stderr",
          "text": "Epoch 14/20 [Train]: 100%|██████████| 125/125 [00:53<00:00,  2.35it/s]\nEpoch 14/20 [Val]: 100%|██████████| 32/32 [00:10<00:00,  3.01it/s]\n",
          "output_type": "stream"
        },
        {
          "name": "stdout",
          "text": "Epoch 14/20, Train Loss: 1.3546, Train Acc: 0.5280, Val Loss: 1.7681, Val Acc: 0.3772\n",
          "output_type": "stream"
        },
        {
          "name": "stderr",
          "text": "Epoch 15/20 [Train]: 100%|██████████| 125/125 [00:44<00:00,  2.79it/s]\nEpoch 15/20 [Val]: 100%|██████████| 32/32 [00:12<00:00,  2.52it/s]\n",
          "output_type": "stream"
        },
        {
          "name": "stdout",
          "text": "Epoch 15/20, Train Loss: 1.3187, Train Acc: 0.5405, Val Loss: 1.8758, Val Acc: 0.3717\n",
          "output_type": "stream"
        },
        {
          "name": "stderr",
          "text": "Epoch 16/20 [Train]: 100%|██████████| 125/125 [00:50<00:00,  2.49it/s]\nEpoch 16/20 [Val]: 100%|██████████| 32/32 [00:10<00:00,  3.07it/s]\n",
          "output_type": "stream"
        },
        {
          "name": "stdout",
          "text": "Epoch 16/20, Train Loss: 1.2768, Train Acc: 0.5514, Val Loss: 1.7961, Val Acc: 0.3867\n",
          "output_type": "stream"
        },
        {
          "name": "stderr",
          "text": "Epoch 17/20 [Train]: 100%|██████████| 125/125 [00:41<00:00,  2.98it/s]\nEpoch 17/20 [Val]: 100%|██████████| 32/32 [00:10<00:00,  2.99it/s]\n",
          "output_type": "stream"
        },
        {
          "name": "stdout",
          "text": "Epoch 17/20, Train Loss: 1.1959, Train Acc: 0.5815, Val Loss: 2.0317, Val Acc: 0.3577\n",
          "output_type": "stream"
        },
        {
          "name": "stderr",
          "text": "Epoch 18/20 [Train]: 100%|██████████| 125/125 [00:42<00:00,  2.97it/s]\nEpoch 18/20 [Val]: 100%|██████████| 32/32 [00:10<00:00,  3.08it/s]\n",
          "output_type": "stream"
        },
        {
          "name": "stdout",
          "text": "Epoch 18/20, Train Loss: 1.1441, Train Acc: 0.5989, Val Loss: 2.0629, Val Acc: 0.3617\n",
          "output_type": "stream"
        },
        {
          "name": "stderr",
          "text": "Epoch 19/20 [Train]: 100%|██████████| 125/125 [00:42<00:00,  2.95it/s]\nEpoch 19/20 [Val]: 100%|██████████| 32/32 [00:10<00:00,  3.01it/s]\n",
          "output_type": "stream"
        },
        {
          "name": "stdout",
          "text": "Epoch 19/20, Train Loss: 1.0757, Train Acc: 0.6304, Val Loss: 2.1975, Val Acc: 0.3787\n",
          "output_type": "stream"
        },
        {
          "name": "stderr",
          "text": "Epoch 20/20 [Train]: 100%|██████████| 125/125 [00:42<00:00,  2.97it/s]\nEpoch 20/20 [Val]: 100%|██████████| 32/32 [00:10<00:00,  2.91it/s]",
          "output_type": "stream"
        },
        {
          "name": "stdout",
          "text": "Epoch 20/20, Train Loss: 0.9951, Train Acc: 0.6606, Val Loss: 1.8318, Val Acc: 0.4037\n",
          "output_type": "stream"
        },
        {
          "name": "stderr",
          "text": "\n",
          "output_type": "stream"
        },
        {
          "output_type": "display_data",
          "data": {
            "text/plain": "<IPython.core.display.HTML object>",
            "text/html": ""
          },
          "metadata": {}
        },
        {
          "output_type": "display_data",
          "data": {
            "text/plain": "<IPython.core.display.HTML object>",
            "text/html": "<br>    <style><br>        .wandb-row {<br>            display: flex;<br>            flex-direction: row;<br>            flex-wrap: wrap;<br>            justify-content: flex-start;<br>            width: 100%;<br>        }<br>        .wandb-col {<br>            display: flex;<br>            flex-direction: column;<br>            flex-basis: 100%;<br>            flex: 1;<br>            padding: 10px;<br>        }<br>    </style><br><div class=\"wandb-row\"><div class=\"wandb-col\"><h3>Run history:</h3><br/><table class=\"wandb\"><tr><td>epoch</td><td>▁▁▂▂▂▃▃▄▄▄▅▅▅▆▆▇▇▇██</td></tr><tr><td>train_accuracy</td><td>▁▂▂▃▃▄▄▄▄▅▅▅▅▆▆▆▇▇▇█</td></tr><tr><td>train_loss</td><td>█▇▇▆▆▆▅▅▅▅▄▄▄▃▃▃▂▂▂▁</td></tr><tr><td>val_accuracy</td><td>▁▃▃▄▄▆▆▇▆▆▄▇▇▇▇▇▆▆▇█</td></tr><tr><td>val_loss</td><td>▆▄▇▄▄▂▂▁▂▃▅▂▁▁▃▂▅▆█▂</td></tr></table><br/></div><div class=\"wandb-col\"><h3>Run summary:</h3><br/><table class=\"wandb\"><tr><td>epoch</td><td>20</td></tr><tr><td>train_accuracy</td><td>0.66063</td></tr><tr><td>train_loss</td><td>0.99507</td></tr><tr><td>val_accuracy</td><td>0.4037</td></tr><tr><td>val_loss</td><td>1.83177</td></tr></table><br/></div></div>"
          },
          "metadata": {}
        },
        {
          "output_type": "display_data",
          "data": {
            "text/plain": "<IPython.core.display.HTML object>",
            "text/html": " View run <strong style=\"color:#cdcd00\">deep-sweep-8</strong> at: <a href='https://wandb.ai/manglesh-patidar-cs24m025/inaturalist-cnn/runs/4tna9ad4' target=\"_blank\">https://wandb.ai/manglesh-patidar-cs24m025/inaturalist-cnn/runs/4tna9ad4</a><br> View project at: <a href='https://wandb.ai/manglesh-patidar-cs24m025/inaturalist-cnn' target=\"_blank\">https://wandb.ai/manglesh-patidar-cs24m025/inaturalist-cnn</a><br>Synced 5 W&B file(s), 0 media file(s), 0 artifact file(s) and 0 other file(s)"
          },
          "metadata": {}
        },
        {
          "output_type": "display_data",
          "data": {
            "text/plain": "<IPython.core.display.HTML object>",
            "text/html": "Find logs at: <code>./wandb/run-20250415_084622-4tna9ad4/logs</code>"
          },
          "metadata": {}
        },
        {
          "name": "stderr",
          "text": "\u001b[34m\u001b[1mwandb\u001b[0m: Agent Starting Run: 8yvs9luz with config:\n\u001b[34m\u001b[1mwandb\u001b[0m: \tactivation: gelu\n\u001b[34m\u001b[1mwandb\u001b[0m: \tbatch_norm_use: True\n\u001b[34m\u001b[1mwandb\u001b[0m: \tdata_aug: True\n\u001b[34m\u001b[1mwandb\u001b[0m: \tdropout: 0\n\u001b[34m\u001b[1mwandb\u001b[0m: \tepochs: 10\n\u001b[34m\u001b[1mwandb\u001b[0m: \tfc_layer: 256\n\u001b[34m\u001b[1mwandb\u001b[0m: \tfilter_counts: [128, 64, 32, 16, 8]\n\u001b[34m\u001b[1mwandb\u001b[0m: \tlearning_rate: 0.001\n\u001b[34m\u001b[1mwandb\u001b[0m: \tshape_of_filters_conv: [[3, 3], [3, 3], [3, 3], [3, 3], [3, 3]]\n\u001b[34m\u001b[1mwandb\u001b[0m: \ttrain_batch_size: 64\n",
          "output_type": "stream"
        },
        {
          "output_type": "display_data",
          "data": {
            "text/plain": "<IPython.core.display.HTML object>",
            "text/html": "Tracking run with wandb version 0.19.6"
          },
          "metadata": {}
        },
        {
          "output_type": "display_data",
          "data": {
            "text/plain": "<IPython.core.display.HTML object>",
            "text/html": "Run data is saved locally in <code>/kaggle/working/wandb/run-20250415_090530-8yvs9luz</code>"
          },
          "metadata": {}
        },
        {
          "output_type": "display_data",
          "data": {
            "text/plain": "<IPython.core.display.HTML object>",
            "text/html": "Syncing run <strong><a href='https://wandb.ai/manglesh-patidar-cs24m025/inaturalist-cnn/runs/8yvs9luz' target=\"_blank\">copper-sweep-9</a></strong> to <a href='https://wandb.ai/manglesh-patidar-cs24m025/inaturalist-cnn' target=\"_blank\">Weights & Biases</a> (<a href='https://wandb.me/developer-guide' target=\"_blank\">docs</a>)<br>Sweep page: <a href='https://wandb.ai/manglesh-patidar-cs24m025/inaturalist-cnn/sweeps/piq7fn15' target=\"_blank\">https://wandb.ai/manglesh-patidar-cs24m025/inaturalist-cnn/sweeps/piq7fn15</a>"
          },
          "metadata": {}
        },
        {
          "output_type": "display_data",
          "data": {
            "text/plain": "<IPython.core.display.HTML object>",
            "text/html": " View project at <a href='https://wandb.ai/manglesh-patidar-cs24m025/inaturalist-cnn' target=\"_blank\">https://wandb.ai/manglesh-patidar-cs24m025/inaturalist-cnn</a>"
          },
          "metadata": {}
        },
        {
          "output_type": "display_data",
          "data": {
            "text/plain": "<IPython.core.display.HTML object>",
            "text/html": " View sweep at <a href='https://wandb.ai/manglesh-patidar-cs24m025/inaturalist-cnn/sweeps/piq7fn15' target=\"_blank\">https://wandb.ai/manglesh-patidar-cs24m025/inaturalist-cnn/sweeps/piq7fn15</a>"
          },
          "metadata": {}
        },
        {
          "output_type": "display_data",
          "data": {
            "text/plain": "<IPython.core.display.HTML object>",
            "text/html": " View run at <a href='https://wandb.ai/manglesh-patidar-cs24m025/inaturalist-cnn/runs/8yvs9luz' target=\"_blank\">https://wandb.ai/manglesh-patidar-cs24m025/inaturalist-cnn/runs/8yvs9luz</a>"
          },
          "metadata": {}
        },
        {
          "name": "stdout",
          "text": "Using device: cuda\n",
          "output_type": "stream"
        },
        {
          "name": "stderr",
          "text": "Epoch 1/10 [Train]: 100%|██████████| 125/125 [00:46<00:00,  2.70it/s]\nEpoch 1/10 [Val]: 100%|██████████| 32/32 [00:11<00:00,  2.89it/s]\n",
          "output_type": "stream"
        },
        {
          "name": "stdout",
          "text": "Epoch 1/10, Train Loss: 2.1517, Train Acc: 0.2072, Val Loss: 2.1002, Val Acc: 0.2361\n",
          "output_type": "stream"
        },
        {
          "name": "stderr",
          "text": "Epoch 2/10 [Train]: 100%|██████████| 125/125 [00:48<00:00,  2.59it/s]\nEpoch 2/10 [Val]: 100%|██████████| 32/32 [00:16<00:00,  1.92it/s]\n",
          "output_type": "stream"
        },
        {
          "name": "stdout",
          "text": "Epoch 2/10, Train Loss: 2.0355, Train Acc: 0.2664, Val Loss: 2.0587, Val Acc: 0.2491\n",
          "output_type": "stream"
        },
        {
          "name": "stderr",
          "text": "Epoch 3/10 [Train]: 100%|██████████| 125/125 [00:54<00:00,  2.29it/s]\nEpoch 3/10 [Val]: 100%|██████████| 32/32 [00:12<00:00,  2.49it/s]\n",
          "output_type": "stream"
        },
        {
          "name": "stdout",
          "text": "Epoch 3/10, Train Loss: 1.9961, Train Acc: 0.2816, Val Loss: 1.9983, Val Acc: 0.2726\n",
          "output_type": "stream"
        },
        {
          "name": "stderr",
          "text": "Epoch 4/10 [Train]: 100%|██████████| 125/125 [00:46<00:00,  2.70it/s]\nEpoch 4/10 [Val]: 100%|██████████| 32/32 [00:10<00:00,  2.98it/s]\n",
          "output_type": "stream"
        },
        {
          "name": "stdout",
          "text": "Epoch 4/10, Train Loss: 1.9585, Train Acc: 0.2985, Val Loss: 1.9462, Val Acc: 0.3112\n",
          "output_type": "stream"
        },
        {
          "name": "stderr",
          "text": "Epoch 5/10 [Train]: 100%|██████████| 125/125 [00:48<00:00,  2.59it/s]\nEpoch 5/10 [Val]: 100%|██████████| 32/32 [00:11<00:00,  2.89it/s]\n",
          "output_type": "stream"
        },
        {
          "name": "stdout",
          "text": "Epoch 5/10, Train Loss: 1.9252, Train Acc: 0.3079, Val Loss: 1.9081, Val Acc: 0.3112\n",
          "output_type": "stream"
        },
        {
          "name": "stderr",
          "text": "Epoch 6/10 [Train]: 100%|██████████| 125/125 [00:46<00:00,  2.69it/s]\nEpoch 6/10 [Val]: 100%|██████████| 32/32 [00:11<00:00,  2.91it/s]\n",
          "output_type": "stream"
        },
        {
          "name": "stdout",
          "text": "Epoch 6/10, Train Loss: 1.8929, Train Acc: 0.3190, Val Loss: 1.8961, Val Acc: 0.3367\n",
          "output_type": "stream"
        },
        {
          "name": "stderr",
          "text": "Epoch 7/10 [Train]: 100%|██████████| 125/125 [00:46<00:00,  2.70it/s]\nEpoch 7/10 [Val]: 100%|██████████| 32/32 [00:10<00:00,  3.03it/s]\n",
          "output_type": "stream"
        },
        {
          "name": "stdout",
          "text": "Epoch 7/10, Train Loss: 1.8544, Train Acc: 0.3345, Val Loss: 1.9296, Val Acc: 0.3112\n",
          "output_type": "stream"
        },
        {
          "name": "stderr",
          "text": "Epoch 8/10 [Train]: 100%|██████████| 125/125 [00:46<00:00,  2.70it/s]\nEpoch 8/10 [Val]: 100%|██████████| 32/32 [00:10<00:00,  3.01it/s]\n",
          "output_type": "stream"
        },
        {
          "name": "stdout",
          "text": "Epoch 8/10, Train Loss: 1.8387, Train Acc: 0.3481, Val Loss: 1.8508, Val Acc: 0.3422\n",
          "output_type": "stream"
        },
        {
          "name": "stderr",
          "text": "Epoch 9/10 [Train]: 100%|██████████| 125/125 [00:45<00:00,  2.72it/s]\nEpoch 9/10 [Val]: 100%|██████████| 32/32 [00:10<00:00,  3.01it/s]\n",
          "output_type": "stream"
        },
        {
          "name": "stdout",
          "text": "Epoch 9/10, Train Loss: 1.8075, Train Acc: 0.3546, Val Loss: 1.8628, Val Acc: 0.3397\n",
          "output_type": "stream"
        },
        {
          "name": "stderr",
          "text": "Epoch 10/10 [Train]: 100%|██████████| 125/125 [00:46<00:00,  2.71it/s]\nEpoch 10/10 [Val]: 100%|██████████| 32/32 [00:11<00:00,  2.90it/s]",
          "output_type": "stream"
        },
        {
          "name": "stdout",
          "text": "Epoch 10/10, Train Loss: 1.7900, Train Acc: 0.3598, Val Loss: 1.9182, Val Acc: 0.3347\n",
          "output_type": "stream"
        },
        {
          "name": "stderr",
          "text": "\n",
          "output_type": "stream"
        },
        {
          "output_type": "display_data",
          "data": {
            "text/plain": "<IPython.core.display.HTML object>",
            "text/html": ""
          },
          "metadata": {}
        },
        {
          "output_type": "display_data",
          "data": {
            "text/plain": "<IPython.core.display.HTML object>",
            "text/html": "<br>    <style><br>        .wandb-row {<br>            display: flex;<br>            flex-direction: row;<br>            flex-wrap: wrap;<br>            justify-content: flex-start;<br>            width: 100%;<br>        }<br>        .wandb-col {<br>            display: flex;<br>            flex-direction: column;<br>            flex-basis: 100%;<br>            flex: 1;<br>            padding: 10px;<br>        }<br>    </style><br><div class=\"wandb-row\"><div class=\"wandb-col\"><h3>Run history:</h3><br/><table class=\"wandb\"><tr><td>epoch</td><td>▁▂▃▃▄▅▆▆▇█</td></tr><tr><td>train_accuracy</td><td>▁▄▄▅▆▆▇▇██</td></tr><tr><td>train_loss</td><td>█▆▅▄▄▃▂▂▁▁</td></tr><tr><td>val_accuracy</td><td>▁▂▃▆▆█▆███</td></tr><tr><td>val_loss</td><td>█▇▅▄▃▂▃▁▁▃</td></tr></table><br/></div><div class=\"wandb-col\"><h3>Run summary:</h3><br/><table class=\"wandb\"><tr><td>epoch</td><td>10</td></tr><tr><td>train_accuracy</td><td>0.35975</td></tr><tr><td>train_loss</td><td>1.79004</td></tr><tr><td>val_accuracy</td><td>0.33467</td></tr><tr><td>val_loss</td><td>1.91817</td></tr></table><br/></div></div>"
          },
          "metadata": {}
        },
        {
          "output_type": "display_data",
          "data": {
            "text/plain": "<IPython.core.display.HTML object>",
            "text/html": " View run <strong style=\"color:#cdcd00\">copper-sweep-9</strong> at: <a href='https://wandb.ai/manglesh-patidar-cs24m025/inaturalist-cnn/runs/8yvs9luz' target=\"_blank\">https://wandb.ai/manglesh-patidar-cs24m025/inaturalist-cnn/runs/8yvs9luz</a><br> View project at: <a href='https://wandb.ai/manglesh-patidar-cs24m025/inaturalist-cnn' target=\"_blank\">https://wandb.ai/manglesh-patidar-cs24m025/inaturalist-cnn</a><br>Synced 5 W&B file(s), 0 media file(s), 0 artifact file(s) and 0 other file(s)"
          },
          "metadata": {}
        },
        {
          "output_type": "display_data",
          "data": {
            "text/plain": "<IPython.core.display.HTML object>",
            "text/html": "Find logs at: <code>./wandb/run-20250415_090530-8yvs9luz/logs</code>"
          },
          "metadata": {}
        },
        {
          "name": "stderr",
          "text": "\u001b[34m\u001b[1mwandb\u001b[0m: Agent Starting Run: l2w5swhm with config:\n\u001b[34m\u001b[1mwandb\u001b[0m: \tactivation: silu\n\u001b[34m\u001b[1mwandb\u001b[0m: \tbatch_norm_use: True\n\u001b[34m\u001b[1mwandb\u001b[0m: \tdata_aug: True\n\u001b[34m\u001b[1mwandb\u001b[0m: \tdropout: 0.3\n\u001b[34m\u001b[1mwandb\u001b[0m: \tepochs: 20\n\u001b[34m\u001b[1mwandb\u001b[0m: \tfc_layer: 256\n\u001b[34m\u001b[1mwandb\u001b[0m: \tfilter_counts: [8, 16, 32, 64, 128]\n\u001b[34m\u001b[1mwandb\u001b[0m: \tlearning_rate: 0.0001\n\u001b[34m\u001b[1mwandb\u001b[0m: \tshape_of_filters_conv: [[3, 3], [3, 3], [3, 3], [3, 3], [3, 3]]\n\u001b[34m\u001b[1mwandb\u001b[0m: \ttrain_batch_size: 128\n",
          "output_type": "stream"
        },
        {
          "output_type": "display_data",
          "data": {
            "text/plain": "<IPython.core.display.HTML object>",
            "text/html": "Tracking run with wandb version 0.19.6"
          },
          "metadata": {}
        },
        {
          "output_type": "display_data",
          "data": {
            "text/plain": "<IPython.core.display.HTML object>",
            "text/html": "Run data is saved locally in <code>/kaggle/working/wandb/run-20250415_091539-l2w5swhm</code>"
          },
          "metadata": {}
        },
        {
          "output_type": "display_data",
          "data": {
            "text/plain": "<IPython.core.display.HTML object>",
            "text/html": "Syncing run <strong><a href='https://wandb.ai/manglesh-patidar-cs24m025/inaturalist-cnn/runs/l2w5swhm' target=\"_blank\">pretty-sweep-10</a></strong> to <a href='https://wandb.ai/manglesh-patidar-cs24m025/inaturalist-cnn' target=\"_blank\">Weights & Biases</a> (<a href='https://wandb.me/developer-guide' target=\"_blank\">docs</a>)<br>Sweep page: <a href='https://wandb.ai/manglesh-patidar-cs24m025/inaturalist-cnn/sweeps/piq7fn15' target=\"_blank\">https://wandb.ai/manglesh-patidar-cs24m025/inaturalist-cnn/sweeps/piq7fn15</a>"
          },
          "metadata": {}
        },
        {
          "output_type": "display_data",
          "data": {
            "text/plain": "<IPython.core.display.HTML object>",
            "text/html": " View project at <a href='https://wandb.ai/manglesh-patidar-cs24m025/inaturalist-cnn' target=\"_blank\">https://wandb.ai/manglesh-patidar-cs24m025/inaturalist-cnn</a>"
          },
          "metadata": {}
        },
        {
          "output_type": "display_data",
          "data": {
            "text/plain": "<IPython.core.display.HTML object>",
            "text/html": " View sweep at <a href='https://wandb.ai/manglesh-patidar-cs24m025/inaturalist-cnn/sweeps/piq7fn15' target=\"_blank\">https://wandb.ai/manglesh-patidar-cs24m025/inaturalist-cnn/sweeps/piq7fn15</a>"
          },
          "metadata": {}
        },
        {
          "output_type": "display_data",
          "data": {
            "text/plain": "<IPython.core.display.HTML object>",
            "text/html": " View run at <a href='https://wandb.ai/manglesh-patidar-cs24m025/inaturalist-cnn/runs/l2w5swhm' target=\"_blank\">https://wandb.ai/manglesh-patidar-cs24m025/inaturalist-cnn/runs/l2w5swhm</a>"
          },
          "metadata": {}
        },
        {
          "name": "stdout",
          "text": "Using device: cuda\n",
          "output_type": "stream"
        },
        {
          "name": "stderr",
          "text": "Epoch 1/20 [Train]: 100%|██████████| 63/63 [00:42<00:00,  1.48it/s]\nEpoch 1/20 [Val]: 100%|██████████| 16/16 [00:10<00:00,  1.50it/s]\n",
          "output_type": "stream"
        },
        {
          "name": "stdout",
          "text": "Epoch 1/20, Train Loss: 2.2237, Train Acc: 0.1966, Val Loss: 2.1493, Val Acc: 0.2286\n",
          "output_type": "stream"
        },
        {
          "name": "stderr",
          "text": "Epoch 2/20 [Train]:  78%|███████▊  | 49/63 [00:33<00:10,  1.40it/s]\u001b[34m\u001b[1mwandb\u001b[0m: Ctrl + C detected. Stopping sweep.\nEpoch 2/20 [Train]:  79%|███████▉  | 50/63 [00:39<00:10,  1.28it/s]\nTraceback (most recent call last):\n  File \"/usr/local/lib/python3.11/dist-packages/torch/utils/data/dataloader.py\", line 1243, in _try_get_data\n    data = self._data_queue.get(timeout=timeout)\n           ^^^^^^^^^^^^^^^^^^^^^^^^^^^^^^^^^^^^^\n  File \"/usr/lib/python3.11/multiprocessing/queues.py\", line 114, in get\n    raise Empty\n_queue.Empty\n\nThe above exception was the direct cause of the following exception:\n\nTraceback (most recent call last):\n  File \"/tmp/ipykernel_31/1492669151.py\", line 80, in train_model\n    for inputs, labels in tqdm(train_loader, desc=f\"Epoch {epoch+1}/{config.epochs} [Train]\"):\n  File \"/usr/local/lib/python3.11/dist-packages/tqdm/std.py\", line 1181, in __iter__\n    for obj in iterable:\n  File \"/usr/local/lib/python3.11/dist-packages/torch/utils/data/dataloader.py\", line 701, in __next__\n    data = self._next_data()\n           ^^^^^^^^^^^^^^^^^\n  File \"/usr/local/lib/python3.11/dist-packages/torch/utils/data/dataloader.py\", line 1448, in _next_data\n    idx, data = self._get_data()\n                ^^^^^^^^^^^^^^^^\n  File \"/usr/local/lib/python3.11/dist-packages/torch/utils/data/dataloader.py\", line 1412, in _get_data\n    success, data = self._try_get_data()\n                    ^^^^^^^^^^^^^^^^^^^^\n  File \"/usr/local/lib/python3.11/dist-packages/torch/utils/data/dataloader.py\", line 1256, in _try_get_data\n    raise RuntimeError(\nRuntimeError: DataLoader worker (pid(s) 4408, 4412) exited unexpectedly\n",
          "output_type": "stream"
        },
        {
          "output_type": "display_data",
          "data": {
            "text/plain": "<IPython.core.display.HTML object>",
            "text/html": ""
          },
          "metadata": {}
        },
        {
          "output_type": "display_data",
          "data": {
            "text/plain": "<IPython.core.display.HTML object>",
            "text/html": "<br>    <style><br>        .wandb-row {<br>            display: flex;<br>            flex-direction: row;<br>            flex-wrap: wrap;<br>            justify-content: flex-start;<br>            width: 100%;<br>        }<br>        .wandb-col {<br>            display: flex;<br>            flex-direction: column;<br>            flex-basis: 100%;<br>            flex: 1;<br>            padding: 10px;<br>        }<br>    </style><br><div class=\"wandb-row\"><div class=\"wandb-col\"><h3>Run history:</h3><br/><table class=\"wandb\"><tr><td>epoch</td><td>▁</td></tr><tr><td>train_accuracy</td><td>▁</td></tr><tr><td>train_loss</td><td>▁</td></tr><tr><td>val_accuracy</td><td>▁</td></tr><tr><td>val_loss</td><td>▁</td></tr></table><br/></div><div class=\"wandb-col\"><h3>Run summary:</h3><br/><table class=\"wandb\"><tr><td>epoch</td><td>1</td></tr><tr><td>train_accuracy</td><td>0.19662</td></tr><tr><td>train_loss</td><td>2.22374</td></tr><tr><td>val_accuracy</td><td>0.22861</td></tr><tr><td>val_loss</td><td>2.14927</td></tr></table><br/></div></div>"
          },
          "metadata": {}
        },
        {
          "output_type": "display_data",
          "data": {
            "text/plain": "<IPython.core.display.HTML object>",
            "text/html": " View run <strong style=\"color:#cdcd00\">pretty-sweep-10</strong> at: <a href='https://wandb.ai/manglesh-patidar-cs24m025/inaturalist-cnn/runs/l2w5swhm' target=\"_blank\">https://wandb.ai/manglesh-patidar-cs24m025/inaturalist-cnn/runs/l2w5swhm</a><br> View project at: <a href='https://wandb.ai/manglesh-patidar-cs24m025/inaturalist-cnn' target=\"_blank\">https://wandb.ai/manglesh-patidar-cs24m025/inaturalist-cnn</a><br>Synced 5 W&B file(s), 0 media file(s), 0 artifact file(s) and 0 other file(s)"
          },
          "metadata": {}
        },
        {
          "output_type": "display_data",
          "data": {
            "text/plain": "<IPython.core.display.HTML object>",
            "text/html": "Find logs at: <code>./wandb/run-20250415_091539-l2w5swhm/logs</code>"
          },
          "metadata": {}
        }
      ],
      "execution_count": null
    },
    {
      "cell_type": "code",
      "source": [
        "\n",
        "# Configure the sweep\n",
        "#hyperparameter\n",
        "sweep_config = {\n",
        "    'method': 'bayes',\n",
        "\n",
        "    'parameters': {\n",
        "        'learning_rate': {\n",
        "            'values': [0.001, 0.0005, 0.0001,0.01]\n",
        "        },\n",
        "        'train_batch_size': {\n",
        "            'values': [64, 128]\n",
        "        },\n",
        "        'epochs': {\n",
        "            'values': [10,20]\n",
        "        },\n",
        "        'activation': {\n",
        "            'values': ['relu', 'gelu', 'silu', 'mish']\n",
        "        },\n",
        "        'filter_counts': {\n",
        "            'values': [\n",
        "                [16, 32, 64, 128, 256],\n",
        "                [32, 64, 128, 256, 512],\n",
        "                [32, 32, 32, 32, 32],\n",
        "                [64, 64, 64, 64, 64],\n",
        "                [128, 128,128, 128,128],\n",
        "                [128, 64, 32, 16, 8],\n",
        "                [8, 16, 32, 64, 128]\n",
        "            ]\n",
        "        },\n",
        "        'shape_of_filters_conv': {\n",
        "            'values': [\n",
        "                [(3, 3), (3, 3), (3, 3), (3, 3), (3, 3)],\n",
        "                [(5, 5), (5, 5), (5, 5), (5, 5), (5, 5)].\n",
        "                [(7, 7), (7, 7), (7, 7), (7, 7), (7, 7)].\n",
        "                [(7, 7), (5, 5), (3, 3), (3, 3), (3, 3)],\n",
        "                [(3, 3), (3, 3), (3, 3), (5, 5), (7, 7)],\n",
        "\n",
        "            ]\n",
        "        },\n",
        "        'fc_layer': {\n",
        "            'values': [128, 256, 512]\n",
        "        },\n",
        "        'batch_norm_use': {\n",
        "            'values': [True, False]\n",
        "        },\n",
        "        'dropout': {\n",
        "            'values': [0, 0.2, 0.3,0.5,0.8]\n",
        "        },\n",
        "        'data_aug': {\n",
        "            'values': [True, False]\n",
        "        }\n",
        "    }\n",
        "}\n",
        "\n",
        "# Initialize wandb\n",
        "wandb.login()\n",
        "\n",
        "# Create the sweep\n",
        "sweep_id = wandb.sweep(sweep_config, project='inaturalist-cnn')\n",
        "\n",
        "# Run the sweep\n",
        "wandb.agent(sweep_id, train_model, count=15)"
      ],
      "metadata": {
        "trusted": true,
        "execution": {
          "iopub.status.busy": "2025-04-15T09:18:40.423405Z",
          "iopub.execute_input": "2025-04-15T09:18:40.424374Z",
          "iopub.status.idle": "2025-04-15T13:57:07.828457Z",
          "shell.execute_reply.started": "2025-04-15T09:18:40.424349Z",
          "shell.execute_reply": "2025-04-15T13:57:07.827642Z"
        },
        "id": "8FrvDxHpocgG",
        "outputId": "7b6a13b3-f0a2-415f-e583-a11831db37a5"
      },
      "outputs": [
        {
          "name": "stdout",
          "text": "Create sweep with ID: vad5l02n\nSweep URL: https://wandb.ai/manglesh-patidar-cs24m025/inaturalist-cnn/sweeps/vad5l02n\n",
          "output_type": "stream"
        },
        {
          "name": "stderr",
          "text": "\u001b[34m\u001b[1mwandb\u001b[0m: Agent Starting Run: wmve8i7v with config:\n\u001b[34m\u001b[1mwandb\u001b[0m: \tactivation: mish\n\u001b[34m\u001b[1mwandb\u001b[0m: \tbatch_norm_use: True\n\u001b[34m\u001b[1mwandb\u001b[0m: \tdata_aug: True\n\u001b[34m\u001b[1mwandb\u001b[0m: \tdropout: 0.5\n\u001b[34m\u001b[1mwandb\u001b[0m: \tepochs: 20\n\u001b[34m\u001b[1mwandb\u001b[0m: \tfc_layer: 256\n\u001b[34m\u001b[1mwandb\u001b[0m: \tfilter_counts: [32, 32, 32, 32, 32]\n\u001b[34m\u001b[1mwandb\u001b[0m: \tlearning_rate: 0.0005\n\u001b[34m\u001b[1mwandb\u001b[0m: \tshape_of_filters_conv: [[7, 7], [5, 5], [3, 3], [3, 3], [3, 3]]\n\u001b[34m\u001b[1mwandb\u001b[0m: \ttrain_batch_size: 64\n",
          "output_type": "stream"
        },
        {
          "output_type": "display_data",
          "data": {
            "text/plain": "<IPython.core.display.HTML object>",
            "text/html": "Tracking run with wandb version 0.19.6"
          },
          "metadata": {}
        },
        {
          "output_type": "display_data",
          "data": {
            "text/plain": "<IPython.core.display.HTML object>",
            "text/html": "Run data is saved locally in <code>/kaggle/working/wandb/run-20250415_091846-wmve8i7v</code>"
          },
          "metadata": {}
        },
        {
          "output_type": "display_data",
          "data": {
            "text/plain": "<IPython.core.display.HTML object>",
            "text/html": "Syncing run <strong><a href='https://wandb.ai/manglesh-patidar-cs24m025/inaturalist-cnn/runs/wmve8i7v' target=\"_blank\">major-sweep-1</a></strong> to <a href='https://wandb.ai/manglesh-patidar-cs24m025/inaturalist-cnn' target=\"_blank\">Weights & Biases</a> (<a href='https://wandb.me/developer-guide' target=\"_blank\">docs</a>)<br>Sweep page: <a href='https://wandb.ai/manglesh-patidar-cs24m025/inaturalist-cnn/sweeps/vad5l02n' target=\"_blank\">https://wandb.ai/manglesh-patidar-cs24m025/inaturalist-cnn/sweeps/vad5l02n</a>"
          },
          "metadata": {}
        },
        {
          "output_type": "display_data",
          "data": {
            "text/plain": "<IPython.core.display.HTML object>",
            "text/html": " View project at <a href='https://wandb.ai/manglesh-patidar-cs24m025/inaturalist-cnn' target=\"_blank\">https://wandb.ai/manglesh-patidar-cs24m025/inaturalist-cnn</a>"
          },
          "metadata": {}
        },
        {
          "output_type": "display_data",
          "data": {
            "text/plain": "<IPython.core.display.HTML object>",
            "text/html": " View sweep at <a href='https://wandb.ai/manglesh-patidar-cs24m025/inaturalist-cnn/sweeps/vad5l02n' target=\"_blank\">https://wandb.ai/manglesh-patidar-cs24m025/inaturalist-cnn/sweeps/vad5l02n</a>"
          },
          "metadata": {}
        },
        {
          "output_type": "display_data",
          "data": {
            "text/plain": "<IPython.core.display.HTML object>",
            "text/html": " View run at <a href='https://wandb.ai/manglesh-patidar-cs24m025/inaturalist-cnn/runs/wmve8i7v' target=\"_blank\">https://wandb.ai/manglesh-patidar-cs24m025/inaturalist-cnn/runs/wmve8i7v</a>"
          },
          "metadata": {}
        },
        {
          "name": "stdout",
          "text": "Using device: cuda\n",
          "output_type": "stream"
        },
        {
          "name": "stderr",
          "text": "Epoch 1/20 [Train]: 100%|██████████| 125/125 [00:44<00:00,  2.80it/s]\nEpoch 1/20 [Val]: 100%|██████████| 32/32 [00:11<00:00,  2.89it/s]\n",
          "output_type": "stream"
        },
        {
          "name": "stdout",
          "text": "Epoch 1/20, Train Loss: 2.1753, Train Acc: 0.2036, Val Loss: 2.1083, Val Acc: 0.2426\n",
          "output_type": "stream"
        },
        {
          "name": "stderr",
          "text": "Epoch 2/20 [Train]: 100%|██████████| 125/125 [00:45<00:00,  2.77it/s]\nEpoch 2/20 [Val]: 100%|██████████| 32/32 [00:11<00:00,  2.79it/s]\n",
          "output_type": "stream"
        },
        {
          "name": "stdout",
          "text": "Epoch 2/20, Train Loss: 2.0791, Train Acc: 0.2494, Val Loss: 2.0970, Val Acc: 0.2461\n",
          "output_type": "stream"
        },
        {
          "name": "stderr",
          "text": "Epoch 3/20 [Train]: 100%|██████████| 125/125 [00:43<00:00,  2.87it/s]\nEpoch 3/20 [Val]: 100%|██████████| 32/32 [00:10<00:00,  2.95it/s]\n",
          "output_type": "stream"
        },
        {
          "name": "stdout",
          "text": "Epoch 3/20, Train Loss: 2.0429, Train Acc: 0.2667, Val Loss: 2.0857, Val Acc: 0.2541\n",
          "output_type": "stream"
        },
        {
          "name": "stderr",
          "text": "Epoch 4/20 [Train]: 100%|██████████| 125/125 [00:49<00:00,  2.53it/s]\nEpoch 4/20 [Val]: 100%|██████████| 32/32 [00:11<00:00,  2.76it/s]\n",
          "output_type": "stream"
        },
        {
          "name": "stdout",
          "text": "Epoch 4/20, Train Loss: 2.0051, Train Acc: 0.2868, Val Loss: 1.9972, Val Acc: 0.2716\n",
          "output_type": "stream"
        },
        {
          "name": "stderr",
          "text": "Epoch 5/20 [Train]: 100%|██████████| 125/125 [00:43<00:00,  2.85it/s]\nEpoch 5/20 [Val]: 100%|██████████| 32/32 [00:12<00:00,  2.50it/s]\n",
          "output_type": "stream"
        },
        {
          "name": "stdout",
          "text": "Epoch 5/20, Train Loss: 1.9704, Train Acc: 0.2920, Val Loss: 2.0259, Val Acc: 0.2691\n",
          "output_type": "stream"
        },
        {
          "name": "stderr",
          "text": "Epoch 6/20 [Train]: 100%|██████████| 125/125 [00:58<00:00,  2.14it/s]\nEpoch 6/20 [Val]: 100%|██████████| 32/32 [00:15<00:00,  2.05it/s]\n",
          "output_type": "stream"
        },
        {
          "name": "stdout",
          "text": "Epoch 6/20, Train Loss: 1.9365, Train Acc: 0.3098, Val Loss: 2.0152, Val Acc: 0.2781\n",
          "output_type": "stream"
        },
        {
          "name": "stderr",
          "text": "Epoch 7/20 [Train]: 100%|██████████| 125/125 [00:58<00:00,  2.13it/s]\nEpoch 7/20 [Val]: 100%|██████████| 32/32 [00:14<00:00,  2.22it/s]\n",
          "output_type": "stream"
        },
        {
          "name": "stdout",
          "text": "Epoch 7/20, Train Loss: 1.9129, Train Acc: 0.3181, Val Loss: 2.0114, Val Acc: 0.2786\n",
          "output_type": "stream"
        },
        {
          "name": "stderr",
          "text": "Epoch 8/20 [Train]: 100%|██████████| 125/125 [00:59<00:00,  2.11it/s]\nEpoch 8/20 [Val]: 100%|██████████| 32/32 [00:11<00:00,  2.91it/s]\n",
          "output_type": "stream"
        },
        {
          "name": "stdout",
          "text": "Epoch 8/20, Train Loss: 1.8868, Train Acc: 0.3284, Val Loss: 1.9391, Val Acc: 0.3077\n",
          "output_type": "stream"
        },
        {
          "name": "stderr",
          "text": "Epoch 9/20 [Train]: 100%|██████████| 125/125 [00:44<00:00,  2.82it/s]\nEpoch 9/20 [Val]: 100%|██████████| 32/32 [00:10<00:00,  2.98it/s]\n",
          "output_type": "stream"
        },
        {
          "name": "stdout",
          "text": "Epoch 9/20, Train Loss: 1.8539, Train Acc: 0.3402, Val Loss: 2.0294, Val Acc: 0.2886\n",
          "output_type": "stream"
        },
        {
          "name": "stderr",
          "text": "Epoch 10/20 [Train]: 100%|██████████| 125/125 [00:48<00:00,  2.60it/s]\nEpoch 10/20 [Val]: 100%|██████████| 32/32 [00:10<00:00,  2.99it/s]\n",
          "output_type": "stream"
        },
        {
          "name": "stdout",
          "text": "Epoch 10/20, Train Loss: 1.8527, Train Acc: 0.3434, Val Loss: 1.9580, Val Acc: 0.2966\n",
          "output_type": "stream"
        },
        {
          "name": "stderr",
          "text": "Epoch 11/20 [Train]: 100%|██████████| 125/125 [00:42<00:00,  2.91it/s]\nEpoch 11/20 [Val]: 100%|██████████| 32/32 [00:10<00:00,  3.13it/s]\n",
          "output_type": "stream"
        },
        {
          "name": "stdout",
          "text": "Epoch 11/20, Train Loss: 1.8125, Train Acc: 0.3574, Val Loss: 1.9750, Val Acc: 0.3117\n",
          "output_type": "stream"
        },
        {
          "name": "stderr",
          "text": "Epoch 12/20 [Train]: 100%|██████████| 125/125 [00:43<00:00,  2.86it/s]\nEpoch 12/20 [Val]: 100%|██████████| 32/32 [00:10<00:00,  3.07it/s]\n",
          "output_type": "stream"
        },
        {
          "name": "stdout",
          "text": "Epoch 12/20, Train Loss: 1.8026, Train Acc: 0.3614, Val Loss: 1.8361, Val Acc: 0.3527\n",
          "output_type": "stream"
        },
        {
          "name": "stderr",
          "text": "Epoch 13/20 [Train]: 100%|██████████| 125/125 [00:42<00:00,  2.95it/s]\nEpoch 13/20 [Val]: 100%|██████████| 32/32 [00:10<00:00,  3.06it/s]\n",
          "output_type": "stream"
        },
        {
          "name": "stdout",
          "text": "Epoch 13/20, Train Loss: 1.7828, Train Acc: 0.3770, Val Loss: 1.8791, Val Acc: 0.3182\n",
          "output_type": "stream"
        },
        {
          "name": "stderr",
          "text": "Epoch 14/20 [Train]: 100%|██████████| 125/125 [00:44<00:00,  2.83it/s]\nEpoch 14/20 [Val]: 100%|██████████| 32/32 [00:10<00:00,  3.01it/s]\n",
          "output_type": "stream"
        },
        {
          "name": "stdout",
          "text": "Epoch 14/20, Train Loss: 1.7604, Train Acc: 0.3739, Val Loss: 2.0670, Val Acc: 0.2946\n",
          "output_type": "stream"
        },
        {
          "name": "stderr",
          "text": "Epoch 15/20 [Train]: 100%|██████████| 125/125 [00:42<00:00,  2.91it/s]\nEpoch 15/20 [Val]: 100%|██████████| 32/32 [00:10<00:00,  3.04it/s]\n",
          "output_type": "stream"
        },
        {
          "name": "stdout",
          "text": "Epoch 15/20, Train Loss: 1.7426, Train Acc: 0.3832, Val Loss: 1.8300, Val Acc: 0.3507\n",
          "output_type": "stream"
        },
        {
          "name": "stderr",
          "text": "Epoch 16/20 [Train]: 100%|██████████| 125/125 [00:42<00:00,  2.94it/s]\nEpoch 16/20 [Val]: 100%|██████████| 32/32 [00:10<00:00,  2.98it/s]\n",
          "output_type": "stream"
        },
        {
          "name": "stdout",
          "text": "Epoch 16/20, Train Loss: 1.7289, Train Acc: 0.3894, Val Loss: 1.8676, Val Acc: 0.3497\n",
          "output_type": "stream"
        },
        {
          "name": "stderr",
          "text": "Epoch 17/20 [Train]: 100%|██████████| 125/125 [00:42<00:00,  2.92it/s]\nEpoch 17/20 [Val]: 100%|██████████| 32/32 [00:10<00:00,  3.05it/s]\n",
          "output_type": "stream"
        },
        {
          "name": "stdout",
          "text": "Epoch 17/20, Train Loss: 1.6974, Train Acc: 0.4064, Val Loss: 1.8025, Val Acc: 0.3632\n",
          "output_type": "stream"
        },
        {
          "name": "stderr",
          "text": "Epoch 18/20 [Train]: 100%|██████████| 125/125 [00:42<00:00,  2.92it/s]\nEpoch 18/20 [Val]: 100%|██████████| 32/32 [00:10<00:00,  3.14it/s]\n",
          "output_type": "stream"
        },
        {
          "name": "stdout",
          "text": "Epoch 18/20, Train Loss: 1.6871, Train Acc: 0.4024, Val Loss: 1.8123, Val Acc: 0.3677\n",
          "output_type": "stream"
        },
        {
          "name": "stderr",
          "text": "Epoch 19/20 [Train]: 100%|██████████| 125/125 [00:45<00:00,  2.76it/s]\nEpoch 19/20 [Val]: 100%|██████████| 32/32 [00:10<00:00,  3.16it/s]\n",
          "output_type": "stream"
        },
        {
          "name": "stdout",
          "text": "Epoch 19/20, Train Loss: 1.6845, Train Acc: 0.4084, Val Loss: 1.8482, Val Acc: 0.3572\n",
          "output_type": "stream"
        },
        {
          "name": "stderr",
          "text": "Epoch 20/20 [Train]: 100%|██████████| 125/125 [00:43<00:00,  2.84it/s]\nEpoch 20/20 [Val]: 100%|██████████| 32/32 [00:10<00:00,  2.99it/s]",
          "output_type": "stream"
        },
        {
          "name": "stdout",
          "text": "Epoch 20/20, Train Loss: 1.6636, Train Acc: 0.4178, Val Loss: 1.8068, Val Acc: 0.3702\n",
          "output_type": "stream"
        },
        {
          "name": "stderr",
          "text": "\n",
          "output_type": "stream"
        },
        {
          "output_type": "display_data",
          "data": {
            "text/plain": "<IPython.core.display.HTML object>",
            "text/html": ""
          },
          "metadata": {}
        },
        {
          "output_type": "display_data",
          "data": {
            "text/plain": "<IPython.core.display.HTML object>",
            "text/html": "<br>    <style><br>        .wandb-row {<br>            display: flex;<br>            flex-direction: row;<br>            flex-wrap: wrap;<br>            justify-content: flex-start;<br>            width: 100%;<br>        }<br>        .wandb-col {<br>            display: flex;<br>            flex-direction: column;<br>            flex-basis: 100%;<br>            flex: 1;<br>            padding: 10px;<br>        }<br>    </style><br><div class=\"wandb-row\"><div class=\"wandb-col\"><h3>Run history:</h3><br/><table class=\"wandb\"><tr><td>epoch</td><td>▁▁▂▂▂▃▃▄▄▄▅▅▅▆▆▇▇▇██</td></tr><tr><td>train_accuracy</td><td>▁▂▃▄▄▄▅▅▅▆▆▆▇▇▇▇█▇██</td></tr><tr><td>train_loss</td><td>█▇▆▆▅▅▄▄▄▄▃▃▃▂▂▂▁▁▁▁</td></tr><tr><td>val_accuracy</td><td>▁▁▂▃▂▃▃▅▄▄▅▇▅▄▇▇██▇█</td></tr><tr><td>val_loss</td><td>██▇▅▆▆▆▄▆▅▅▂▃▇▂▂▁▁▂▁</td></tr></table><br/></div><div class=\"wandb-col\"><h3>Run summary:</h3><br/><table class=\"wandb\"><tr><td>epoch</td><td>20</td></tr><tr><td>train_accuracy</td><td>0.41775</td></tr><tr><td>train_loss</td><td>1.66359</td></tr><tr><td>val_accuracy</td><td>0.37019</td></tr><tr><td>val_loss</td><td>1.80677</td></tr></table><br/></div></div>"
          },
          "metadata": {}
        },
        {
          "output_type": "display_data",
          "data": {
            "text/plain": "<IPython.core.display.HTML object>",
            "text/html": " View run <strong style=\"color:#cdcd00\">major-sweep-1</strong> at: <a href='https://wandb.ai/manglesh-patidar-cs24m025/inaturalist-cnn/runs/wmve8i7v' target=\"_blank\">https://wandb.ai/manglesh-patidar-cs24m025/inaturalist-cnn/runs/wmve8i7v</a><br> View project at: <a href='https://wandb.ai/manglesh-patidar-cs24m025/inaturalist-cnn' target=\"_blank\">https://wandb.ai/manglesh-patidar-cs24m025/inaturalist-cnn</a><br>Synced 5 W&B file(s), 0 media file(s), 0 artifact file(s) and 0 other file(s)"
          },
          "metadata": {}
        },
        {
          "output_type": "display_data",
          "data": {
            "text/plain": "<IPython.core.display.HTML object>",
            "text/html": "Find logs at: <code>./wandb/run-20250415_091846-wmve8i7v/logs</code>"
          },
          "metadata": {}
        },
        {
          "name": "stderr",
          "text": "\u001b[34m\u001b[1mwandb\u001b[0m: Agent Starting Run: v0hbi062 with config:\n\u001b[34m\u001b[1mwandb\u001b[0m: \tactivation: gelu\n\u001b[34m\u001b[1mwandb\u001b[0m: \tbatch_norm_use: False\n\u001b[34m\u001b[1mwandb\u001b[0m: \tdata_aug: True\n\u001b[34m\u001b[1mwandb\u001b[0m: \tdropout: 0.3\n\u001b[34m\u001b[1mwandb\u001b[0m: \tepochs: 15\n\u001b[34m\u001b[1mwandb\u001b[0m: \tfc_layer: 256\n\u001b[34m\u001b[1mwandb\u001b[0m: \tfilter_counts: [16, 32, 64, 128, 256]\n\u001b[34m\u001b[1mwandb\u001b[0m: \tlearning_rate: 0.0005\n\u001b[34m\u001b[1mwandb\u001b[0m: \tshape_of_filters_conv: [[3, 3], [3, 3], [3, 3], [3, 3], [3, 3]]\n\u001b[34m\u001b[1mwandb\u001b[0m: \ttrain_batch_size: 128\n",
          "output_type": "stream"
        },
        {
          "output_type": "display_data",
          "data": {
            "text/plain": "<IPython.core.display.HTML object>",
            "text/html": "Tracking run with wandb version 0.19.6"
          },
          "metadata": {}
        },
        {
          "output_type": "display_data",
          "data": {
            "text/plain": "<IPython.core.display.HTML object>",
            "text/html": "Run data is saved locally in <code>/kaggle/working/wandb/run-20250415_093818-v0hbi062</code>"
          },
          "metadata": {}
        },
        {
          "output_type": "display_data",
          "data": {
            "text/plain": "<IPython.core.display.HTML object>",
            "text/html": "Syncing run <strong><a href='https://wandb.ai/manglesh-patidar-cs24m025/inaturalist-cnn/runs/v0hbi062' target=\"_blank\">vague-sweep-2</a></strong> to <a href='https://wandb.ai/manglesh-patidar-cs24m025/inaturalist-cnn' target=\"_blank\">Weights & Biases</a> (<a href='https://wandb.me/developer-guide' target=\"_blank\">docs</a>)<br>Sweep page: <a href='https://wandb.ai/manglesh-patidar-cs24m025/inaturalist-cnn/sweeps/vad5l02n' target=\"_blank\">https://wandb.ai/manglesh-patidar-cs24m025/inaturalist-cnn/sweeps/vad5l02n</a>"
          },
          "metadata": {}
        },
        {
          "output_type": "display_data",
          "data": {
            "text/plain": "<IPython.core.display.HTML object>",
            "text/html": " View project at <a href='https://wandb.ai/manglesh-patidar-cs24m025/inaturalist-cnn' target=\"_blank\">https://wandb.ai/manglesh-patidar-cs24m025/inaturalist-cnn</a>"
          },
          "metadata": {}
        },
        {
          "output_type": "display_data",
          "data": {
            "text/plain": "<IPython.core.display.HTML object>",
            "text/html": " View sweep at <a href='https://wandb.ai/manglesh-patidar-cs24m025/inaturalist-cnn/sweeps/vad5l02n' target=\"_blank\">https://wandb.ai/manglesh-patidar-cs24m025/inaturalist-cnn/sweeps/vad5l02n</a>"
          },
          "metadata": {}
        },
        {
          "output_type": "display_data",
          "data": {
            "text/plain": "<IPython.core.display.HTML object>",
            "text/html": " View run at <a href='https://wandb.ai/manglesh-patidar-cs24m025/inaturalist-cnn/runs/v0hbi062' target=\"_blank\">https://wandb.ai/manglesh-patidar-cs24m025/inaturalist-cnn/runs/v0hbi062</a>"
          },
          "metadata": {}
        },
        {
          "name": "stdout",
          "text": "Using device: cuda\n",
          "output_type": "stream"
        },
        {
          "name": "stderr",
          "text": "Epoch 1/15 [Train]: 100%|██████████| 63/63 [00:54<00:00,  1.16it/s]\nEpoch 1/15 [Val]: 100%|██████████| 16/16 [00:12<00:00,  1.24it/s]\n",
          "output_type": "stream"
        },
        {
          "name": "stdout",
          "text": "Epoch 1/15, Train Loss: 2.2563, Train Acc: 0.1545, Val Loss: 2.1711, Val Acc: 0.2021\n",
          "output_type": "stream"
        },
        {
          "name": "stderr",
          "text": "Epoch 2/15 [Train]: 100%|██████████| 63/63 [00:47<00:00,  1.33it/s]\nEpoch 2/15 [Val]: 100%|██████████| 16/16 [00:10<00:00,  1.55it/s]\n",
          "output_type": "stream"
        },
        {
          "name": "stdout",
          "text": "Epoch 2/15, Train Loss: 2.1611, Train Acc: 0.1994, Val Loss: 2.1351, Val Acc: 0.2131\n",
          "output_type": "stream"
        },
        {
          "name": "stderr",
          "text": "Epoch 3/15 [Train]: 100%|██████████| 63/63 [00:48<00:00,  1.30it/s]\nEpoch 3/15 [Val]: 100%|██████████| 16/16 [00:14<00:00,  1.12it/s]\n",
          "output_type": "stream"
        },
        {
          "name": "stdout",
          "text": "Epoch 3/15, Train Loss: 2.1287, Train Acc: 0.2162, Val Loss: 2.1088, Val Acc: 0.2171\n",
          "output_type": "stream"
        },
        {
          "name": "stderr",
          "text": "Epoch 4/15 [Train]: 100%|██████████| 63/63 [00:41<00:00,  1.51it/s]\nEpoch 4/15 [Val]: 100%|██████████| 16/16 [00:10<00:00,  1.49it/s]\n",
          "output_type": "stream"
        },
        {
          "name": "stdout",
          "text": "Epoch 4/15, Train Loss: 2.0963, Train Acc: 0.2325, Val Loss: 2.0805, Val Acc: 0.2411\n",
          "output_type": "stream"
        },
        {
          "name": "stderr",
          "text": "Epoch 5/15 [Train]: 100%|██████████| 63/63 [00:44<00:00,  1.40it/s]\nEpoch 5/15 [Val]: 100%|██████████| 16/16 [00:12<00:00,  1.28it/s]\n",
          "output_type": "stream"
        },
        {
          "name": "stdout",
          "text": "Epoch 5/15, Train Loss: 2.0764, Train Acc: 0.2460, Val Loss: 2.0607, Val Acc: 0.2641\n",
          "output_type": "stream"
        },
        {
          "name": "stderr",
          "text": "Epoch 6/15 [Train]: 100%|██████████| 63/63 [00:42<00:00,  1.48it/s]\nEpoch 6/15 [Val]: 100%|██████████| 16/16 [00:10<00:00,  1.47it/s]\n",
          "output_type": "stream"
        },
        {
          "name": "stdout",
          "text": "Epoch 6/15, Train Loss: 2.0411, Train Acc: 0.2617, Val Loss: 2.0731, Val Acc: 0.2581\n",
          "output_type": "stream"
        },
        {
          "name": "stderr",
          "text": "Epoch 7/15 [Train]: 100%|██████████| 63/63 [00:43<00:00,  1.45it/s]\nEpoch 7/15 [Val]: 100%|██████████| 16/16 [00:10<00:00,  1.47it/s]\n",
          "output_type": "stream"
        },
        {
          "name": "stdout",
          "text": "Epoch 7/15, Train Loss: 2.0268, Train Acc: 0.2702, Val Loss: 2.0110, Val Acc: 0.2906\n",
          "output_type": "stream"
        },
        {
          "name": "stderr",
          "text": "Epoch 8/15 [Train]: 100%|██████████| 63/63 [00:47<00:00,  1.33it/s]\nEpoch 8/15 [Val]: 100%|██████████| 16/16 [00:11<00:00,  1.34it/s]\n",
          "output_type": "stream"
        },
        {
          "name": "stdout",
          "text": "Epoch 8/15, Train Loss: 1.9919, Train Acc: 0.2845, Val Loss: 2.0085, Val Acc: 0.2776\n",
          "output_type": "stream"
        },
        {
          "name": "stderr",
          "text": "Epoch 9/15 [Train]: 100%|██████████| 63/63 [00:48<00:00,  1.29it/s]\nEpoch 9/15 [Val]: 100%|██████████| 16/16 [00:12<00:00,  1.30it/s]\n",
          "output_type": "stream"
        },
        {
          "name": "stdout",
          "text": "Epoch 9/15, Train Loss: 1.9837, Train Acc: 0.2850, Val Loss: 1.9877, Val Acc: 0.2901\n",
          "output_type": "stream"
        },
        {
          "name": "stderr",
          "text": "Epoch 10/15 [Train]: 100%|██████████| 63/63 [00:47<00:00,  1.34it/s]\nEpoch 10/15 [Val]: 100%|██████████| 16/16 [00:12<00:00,  1.28it/s]\n",
          "output_type": "stream"
        },
        {
          "name": "stdout",
          "text": "Epoch 10/15, Train Loss: 1.9532, Train Acc: 0.2988, Val Loss: 1.9813, Val Acc: 0.2926\n",
          "output_type": "stream"
        },
        {
          "name": "stderr",
          "text": "Epoch 11/15 [Train]: 100%|██████████| 63/63 [00:44<00:00,  1.40it/s]\nEpoch 11/15 [Val]: 100%|██████████| 16/16 [00:10<00:00,  1.56it/s]\n",
          "output_type": "stream"
        },
        {
          "name": "stdout",
          "text": "Epoch 11/15, Train Loss: 1.9392, Train Acc: 0.3058, Val Loss: 1.9467, Val Acc: 0.3207\n",
          "output_type": "stream"
        },
        {
          "name": "stderr",
          "text": "Epoch 12/15 [Train]: 100%|██████████| 63/63 [00:41<00:00,  1.50it/s]\nEpoch 12/15 [Val]: 100%|██████████| 16/16 [00:10<00:00,  1.56it/s]\n",
          "output_type": "stream"
        },
        {
          "name": "stdout",
          "text": "Epoch 12/15, Train Loss: 1.9198, Train Acc: 0.3105, Val Loss: 1.9539, Val Acc: 0.3192\n",
          "output_type": "stream"
        },
        {
          "name": "stderr",
          "text": "Epoch 13/15 [Train]: 100%|██████████| 63/63 [00:41<00:00,  1.50it/s]\nEpoch 13/15 [Val]: 100%|██████████| 16/16 [00:10<00:00,  1.53it/s]\n",
          "output_type": "stream"
        },
        {
          "name": "stdout",
          "text": "Epoch 13/15, Train Loss: 1.8881, Train Acc: 0.3199, Val Loss: 1.9181, Val Acc: 0.3207\n",
          "output_type": "stream"
        },
        {
          "name": "stderr",
          "text": "Epoch 14/15 [Train]: 100%|██████████| 63/63 [00:41<00:00,  1.53it/s]\nEpoch 14/15 [Val]: 100%|██████████| 16/16 [00:10<00:00,  1.51it/s]\n",
          "output_type": "stream"
        },
        {
          "name": "stdout",
          "text": "Epoch 14/15, Train Loss: 1.8648, Train Acc: 0.3302, Val Loss: 1.9176, Val Acc: 0.3332\n",
          "output_type": "stream"
        },
        {
          "name": "stderr",
          "text": "Epoch 15/15 [Train]: 100%|██████████| 63/63 [01:00<00:00,  1.04it/s]\nEpoch 15/15 [Val]: 100%|██████████| 16/16 [00:13<00:00,  1.15it/s]",
          "output_type": "stream"
        },
        {
          "name": "stdout",
          "text": "Epoch 15/15, Train Loss: 1.8556, Train Acc: 0.3352, Val Loss: 1.9065, Val Acc: 0.3297\n",
          "output_type": "stream"
        },
        {
          "name": "stderr",
          "text": "\n",
          "output_type": "stream"
        },
        {
          "output_type": "display_data",
          "data": {
            "text/plain": "<IPython.core.display.HTML object>",
            "text/html": ""
          },
          "metadata": {}
        },
        {
          "output_type": "display_data",
          "data": {
            "text/plain": "<IPython.core.display.HTML object>",
            "text/html": "<br>    <style><br>        .wandb-row {<br>            display: flex;<br>            flex-direction: row;<br>            flex-wrap: wrap;<br>            justify-content: flex-start;<br>            width: 100%;<br>        }<br>        .wandb-col {<br>            display: flex;<br>            flex-direction: column;<br>            flex-basis: 100%;<br>            flex: 1;<br>            padding: 10px;<br>        }<br>    </style><br><div class=\"wandb-row\"><div class=\"wandb-col\"><h3>Run history:</h3><br/><table class=\"wandb\"><tr><td>epoch</td><td>▁▁▂▃▃▃▄▅▅▅▆▇▇▇█</td></tr><tr><td>train_accuracy</td><td>▁▃▃▄▅▅▅▆▆▇▇▇▇██</td></tr><tr><td>train_loss</td><td>█▆▆▅▅▄▄▃▃▃▂▂▂▁▁</td></tr><tr><td>val_accuracy</td><td>▁▂▂▃▄▄▆▅▆▆▇▇▇██</td></tr><tr><td>val_loss</td><td>█▇▆▆▅▅▄▄▃▃▂▂▁▁▁</td></tr></table><br/></div><div class=\"wandb-col\"><h3>Run summary:</h3><br/><table class=\"wandb\"><tr><td>epoch</td><td>15</td></tr><tr><td>train_accuracy</td><td>0.33525</td></tr><tr><td>train_loss</td><td>1.85563</td></tr><tr><td>val_accuracy</td><td>0.32966</td></tr><tr><td>val_loss</td><td>1.90654</td></tr></table><br/></div></div>"
          },
          "metadata": {}
        },
        {
          "output_type": "display_data",
          "data": {
            "text/plain": "<IPython.core.display.HTML object>",
            "text/html": " View run <strong style=\"color:#cdcd00\">vague-sweep-2</strong> at: <a href='https://wandb.ai/manglesh-patidar-cs24m025/inaturalist-cnn/runs/v0hbi062' target=\"_blank\">https://wandb.ai/manglesh-patidar-cs24m025/inaturalist-cnn/runs/v0hbi062</a><br> View project at: <a href='https://wandb.ai/manglesh-patidar-cs24m025/inaturalist-cnn' target=\"_blank\">https://wandb.ai/manglesh-patidar-cs24m025/inaturalist-cnn</a><br>Synced 5 W&B file(s), 0 media file(s), 0 artifact file(s) and 0 other file(s)"
          },
          "metadata": {}
        },
        {
          "output_type": "display_data",
          "data": {
            "text/plain": "<IPython.core.display.HTML object>",
            "text/html": "Find logs at: <code>./wandb/run-20250415_093818-v0hbi062/logs</code>"
          },
          "metadata": {}
        },
        {
          "name": "stderr",
          "text": "\u001b[34m\u001b[1mwandb\u001b[0m: Agent Starting Run: spfr85ha with config:\n\u001b[34m\u001b[1mwandb\u001b[0m: \tactivation: gelu\n\u001b[34m\u001b[1mwandb\u001b[0m: \tbatch_norm_use: False\n\u001b[34m\u001b[1mwandb\u001b[0m: \tdata_aug: False\n\u001b[34m\u001b[1mwandb\u001b[0m: \tdropout: 0.8\n\u001b[34m\u001b[1mwandb\u001b[0m: \tepochs: 20\n\u001b[34m\u001b[1mwandb\u001b[0m: \tfc_layer: 512\n\u001b[34m\u001b[1mwandb\u001b[0m: \tfilter_counts: [32, 32, 32, 32, 32]\n\u001b[34m\u001b[1mwandb\u001b[0m: \tlearning_rate: 0.0001\n\u001b[34m\u001b[1mwandb\u001b[0m: \tshape_of_filters_conv: [[3, 3], [3, 3], [3, 3], [5, 5], [7, 7]]\n\u001b[34m\u001b[1mwandb\u001b[0m: \ttrain_batch_size: 128\n",
          "output_type": "stream"
        },
        {
          "output_type": "display_data",
          "data": {
            "text/plain": "<IPython.core.display.HTML object>",
            "text/html": "Tracking run with wandb version 0.19.6"
          },
          "metadata": {}
        },
        {
          "output_type": "display_data",
          "data": {
            "text/plain": "<IPython.core.display.HTML object>",
            "text/html": "Run data is saved locally in <code>/kaggle/working/wandb/run-20250415_095308-spfr85ha</code>"
          },
          "metadata": {}
        },
        {
          "output_type": "display_data",
          "data": {
            "text/plain": "<IPython.core.display.HTML object>",
            "text/html": "Syncing run <strong><a href='https://wandb.ai/manglesh-patidar-cs24m025/inaturalist-cnn/runs/spfr85ha' target=\"_blank\">expert-sweep-3</a></strong> to <a href='https://wandb.ai/manglesh-patidar-cs24m025/inaturalist-cnn' target=\"_blank\">Weights & Biases</a> (<a href='https://wandb.me/developer-guide' target=\"_blank\">docs</a>)<br>Sweep page: <a href='https://wandb.ai/manglesh-patidar-cs24m025/inaturalist-cnn/sweeps/vad5l02n' target=\"_blank\">https://wandb.ai/manglesh-patidar-cs24m025/inaturalist-cnn/sweeps/vad5l02n</a>"
          },
          "metadata": {}
        },
        {
          "output_type": "display_data",
          "data": {
            "text/plain": "<IPython.core.display.HTML object>",
            "text/html": " View project at <a href='https://wandb.ai/manglesh-patidar-cs24m025/inaturalist-cnn' target=\"_blank\">https://wandb.ai/manglesh-patidar-cs24m025/inaturalist-cnn</a>"
          },
          "metadata": {}
        },
        {
          "output_type": "display_data",
          "data": {
            "text/plain": "<IPython.core.display.HTML object>",
            "text/html": " View sweep at <a href='https://wandb.ai/manglesh-patidar-cs24m025/inaturalist-cnn/sweeps/vad5l02n' target=\"_blank\">https://wandb.ai/manglesh-patidar-cs24m025/inaturalist-cnn/sweeps/vad5l02n</a>"
          },
          "metadata": {}
        },
        {
          "output_type": "display_data",
          "data": {
            "text/plain": "<IPython.core.display.HTML object>",
            "text/html": " View run at <a href='https://wandb.ai/manglesh-patidar-cs24m025/inaturalist-cnn/runs/spfr85ha' target=\"_blank\">https://wandb.ai/manglesh-patidar-cs24m025/inaturalist-cnn/runs/spfr85ha</a>"
          },
          "metadata": {}
        },
        {
          "name": "stdout",
          "text": "Using device: cuda\n",
          "output_type": "stream"
        },
        {
          "name": "stderr",
          "text": "Epoch 1/20 [Train]: 100%|██████████| 63/63 [00:50<00:00,  1.24it/s]\nEpoch 1/20 [Val]: 100%|██████████| 16/16 [00:11<00:00,  1.45it/s]\n",
          "output_type": "stream"
        },
        {
          "name": "stdout",
          "text": "Epoch 1/20, Train Loss: 2.3039, Train Acc: 0.0988, Val Loss: 2.2931, Val Acc: 0.1196\n",
          "output_type": "stream"
        },
        {
          "name": "stderr",
          "text": "Epoch 2/20 [Train]: 100%|██████████| 63/63 [00:45<00:00,  1.39it/s]\nEpoch 2/20 [Val]: 100%|██████████| 16/16 [00:11<00:00,  1.37it/s]\n",
          "output_type": "stream"
        },
        {
          "name": "stdout",
          "text": "Epoch 2/20, Train Loss: 2.2869, Train Acc: 0.1196, Val Loss: 2.2563, Val Acc: 0.1651\n",
          "output_type": "stream"
        },
        {
          "name": "stderr",
          "text": "Epoch 3/20 [Train]: 100%|██████████| 63/63 [00:47<00:00,  1.33it/s]\nEpoch 3/20 [Val]: 100%|██████████| 16/16 [00:11<00:00,  1.41it/s]\n",
          "output_type": "stream"
        },
        {
          "name": "stdout",
          "text": "Epoch 3/20, Train Loss: 2.2566, Train Acc: 0.1509, Val Loss: 2.2371, Val Acc: 0.1601\n",
          "output_type": "stream"
        },
        {
          "name": "stderr",
          "text": "Epoch 4/20 [Train]: 100%|██████████| 63/63 [00:44<00:00,  1.41it/s]\nEpoch 4/20 [Val]: 100%|██████████| 16/16 [00:11<00:00,  1.39it/s]\n",
          "output_type": "stream"
        },
        {
          "name": "stdout",
          "text": "Epoch 4/20, Train Loss: 2.2373, Train Acc: 0.1710, Val Loss: 2.2174, Val Acc: 0.1716\n",
          "output_type": "stream"
        },
        {
          "name": "stderr",
          "text": "Epoch 5/20 [Train]: 100%|██████████| 63/63 [00:47<00:00,  1.32it/s]\nEpoch 5/20 [Val]: 100%|██████████| 16/16 [00:11<00:00,  1.44it/s]\n",
          "output_type": "stream"
        },
        {
          "name": "stdout",
          "text": "Epoch 5/20, Train Loss: 2.2177, Train Acc: 0.1822, Val Loss: 2.1972, Val Acc: 0.1791\n",
          "output_type": "stream"
        },
        {
          "name": "stderr",
          "text": "Epoch 6/20 [Train]: 100%|██████████| 63/63 [00:45<00:00,  1.38it/s]\nEpoch 6/20 [Val]: 100%|██████████| 16/16 [00:10<00:00,  1.56it/s]\n",
          "output_type": "stream"
        },
        {
          "name": "stdout",
          "text": "Epoch 6/20, Train Loss: 2.2048, Train Acc: 0.1929, Val Loss: 2.1860, Val Acc: 0.1946\n",
          "output_type": "stream"
        },
        {
          "name": "stderr",
          "text": "Epoch 7/20 [Train]: 100%|██████████| 63/63 [00:42<00:00,  1.48it/s]\nEpoch 7/20 [Val]: 100%|██████████| 16/16 [00:10<00:00,  1.50it/s]\n",
          "output_type": "stream"
        },
        {
          "name": "stdout",
          "text": "Epoch 7/20, Train Loss: 2.1867, Train Acc: 0.1986, Val Loss: 2.1657, Val Acc: 0.2131\n",
          "output_type": "stream"
        },
        {
          "name": "stderr",
          "text": "Epoch 8/20 [Train]: 100%|██████████| 63/63 [00:45<00:00,  1.37it/s]\nEpoch 8/20 [Val]: 100%|██████████| 16/16 [00:13<00:00,  1.18it/s]\n",
          "output_type": "stream"
        },
        {
          "name": "stdout",
          "text": "Epoch 8/20, Train Loss: 2.1699, Train Acc: 0.2035, Val Loss: 2.1471, Val Acc: 0.2181\n",
          "output_type": "stream"
        },
        {
          "name": "stderr",
          "text": "Epoch 9/20 [Train]: 100%|██████████| 63/63 [00:43<00:00,  1.45it/s]\nEpoch 9/20 [Val]: 100%|██████████| 16/16 [00:10<00:00,  1.55it/s]\n",
          "output_type": "stream"
        },
        {
          "name": "stdout",
          "text": "Epoch 9/20, Train Loss: 2.1519, Train Acc: 0.2129, Val Loss: 2.1422, Val Acc: 0.2096\n",
          "output_type": "stream"
        },
        {
          "name": "stderr",
          "text": "Epoch 10/20 [Train]: 100%|██████████| 63/63 [00:42<00:00,  1.48it/s]\nEpoch 10/20 [Val]: 100%|██████████| 16/16 [00:10<00:00,  1.53it/s]\n",
          "output_type": "stream"
        },
        {
          "name": "stdout",
          "text": "Epoch 10/20, Train Loss: 2.1349, Train Acc: 0.2200, Val Loss: 2.1225, Val Acc: 0.2221\n",
          "output_type": "stream"
        },
        {
          "name": "stderr",
          "text": "Epoch 11/20 [Train]: 100%|██████████| 63/63 [00:41<00:00,  1.52it/s]\nEpoch 11/20 [Val]: 100%|██████████| 16/16 [00:15<00:00,  1.04it/s]\n",
          "output_type": "stream"
        },
        {
          "name": "stdout",
          "text": "Epoch 11/20, Train Loss: 2.1255, Train Acc: 0.2260, Val Loss: 2.1096, Val Acc: 0.2131\n",
          "output_type": "stream"
        },
        {
          "name": "stderr",
          "text": "Epoch 12/20 [Train]: 100%|██████████| 63/63 [00:49<00:00,  1.28it/s]\nEpoch 12/20 [Val]: 100%|██████████| 16/16 [00:10<00:00,  1.49it/s]\n",
          "output_type": "stream"
        },
        {
          "name": "stdout",
          "text": "Epoch 12/20, Train Loss: 2.1155, Train Acc: 0.2261, Val Loss: 2.1102, Val Acc: 0.2216\n",
          "output_type": "stream"
        },
        {
          "name": "stderr",
          "text": "Epoch 13/20 [Train]: 100%|██████████| 63/63 [00:40<00:00,  1.54it/s]\nEpoch 13/20 [Val]: 100%|██████████| 16/16 [00:10<00:00,  1.51it/s]\n",
          "output_type": "stream"
        },
        {
          "name": "stdout",
          "text": "Epoch 13/20, Train Loss: 2.1079, Train Acc: 0.2315, Val Loss: 2.1053, Val Acc: 0.2346\n",
          "output_type": "stream"
        },
        {
          "name": "stderr",
          "text": "Epoch 14/20 [Train]: 100%|██████████| 63/63 [00:42<00:00,  1.49it/s]\nEpoch 14/20 [Val]: 100%|██████████| 16/16 [00:10<00:00,  1.48it/s]\n",
          "output_type": "stream"
        },
        {
          "name": "stdout",
          "text": "Epoch 14/20, Train Loss: 2.1009, Train Acc: 0.2328, Val Loss: 2.0936, Val Acc: 0.2276\n",
          "output_type": "stream"
        },
        {
          "name": "stderr",
          "text": "Epoch 15/20 [Train]: 100%|██████████| 63/63 [00:41<00:00,  1.52it/s]\nEpoch 15/20 [Val]: 100%|██████████| 16/16 [00:10<00:00,  1.48it/s]\n",
          "output_type": "stream"
        },
        {
          "name": "stdout",
          "text": "Epoch 15/20, Train Loss: 2.0872, Train Acc: 0.2356, Val Loss: 2.0829, Val Acc: 0.2356\n",
          "output_type": "stream"
        },
        {
          "name": "stderr",
          "text": "Epoch 16/20 [Train]: 100%|██████████| 63/63 [00:42<00:00,  1.49it/s]\nEpoch 16/20 [Val]: 100%|██████████| 16/16 [00:10<00:00,  1.57it/s]\n",
          "output_type": "stream"
        },
        {
          "name": "stdout",
          "text": "Epoch 16/20, Train Loss: 2.0798, Train Acc: 0.2450, Val Loss: 2.0881, Val Acc: 0.2376\n",
          "output_type": "stream"
        },
        {
          "name": "stderr",
          "text": "Epoch 17/20 [Train]: 100%|██████████| 63/63 [00:44<00:00,  1.41it/s]\nEpoch 17/20 [Val]: 100%|██████████| 16/16 [00:12<00:00,  1.24it/s]\n",
          "output_type": "stream"
        },
        {
          "name": "stdout",
          "text": "Epoch 17/20, Train Loss: 2.0787, Train Acc: 0.2410, Val Loss: 2.0745, Val Acc: 0.2456\n",
          "output_type": "stream"
        },
        {
          "name": "stderr",
          "text": "Epoch 18/20 [Train]: 100%|██████████| 63/63 [00:42<00:00,  1.48it/s]\nEpoch 18/20 [Val]: 100%|██████████| 16/16 [00:10<00:00,  1.48it/s]\n",
          "output_type": "stream"
        },
        {
          "name": "stdout",
          "text": "Epoch 18/20, Train Loss: 2.0752, Train Acc: 0.2466, Val Loss: 2.0789, Val Acc: 0.2441\n",
          "output_type": "stream"
        },
        {
          "name": "stderr",
          "text": "Epoch 19/20 [Train]: 100%|██████████| 63/63 [00:43<00:00,  1.45it/s]\nEpoch 19/20 [Val]: 100%|██████████| 16/16 [00:11<00:00,  1.38it/s]\n",
          "output_type": "stream"
        },
        {
          "name": "stdout",
          "text": "Epoch 19/20, Train Loss: 2.0717, Train Acc: 0.2507, Val Loss: 2.0669, Val Acc: 0.2496\n",
          "output_type": "stream"
        },
        {
          "name": "stderr",
          "text": "Epoch 20/20 [Train]: 100%|██████████| 63/63 [00:45<00:00,  1.39it/s]\nEpoch 20/20 [Val]: 100%|██████████| 16/16 [00:11<00:00,  1.40it/s]",
          "output_type": "stream"
        },
        {
          "name": "stdout",
          "text": "Epoch 20/20, Train Loss: 2.0616, Train Acc: 0.2519, Val Loss: 2.0672, Val Acc: 0.2451\n",
          "output_type": "stream"
        },
        {
          "name": "stderr",
          "text": "\n",
          "output_type": "stream"
        },
        {
          "output_type": "display_data",
          "data": {
            "text/plain": "<IPython.core.display.HTML object>",
            "text/html": ""
          },
          "metadata": {}
        },
        {
          "output_type": "display_data",
          "data": {
            "text/plain": "<IPython.core.display.HTML object>",
            "text/html": "<br>    <style><br>        .wandb-row {<br>            display: flex;<br>            flex-direction: row;<br>            flex-wrap: wrap;<br>            justify-content: flex-start;<br>            width: 100%;<br>        }<br>        .wandb-col {<br>            display: flex;<br>            flex-direction: column;<br>            flex-basis: 100%;<br>            flex: 1;<br>            padding: 10px;<br>        }<br>    </style><br><div class=\"wandb-row\"><div class=\"wandb-col\"><h3>Run history:</h3><br/><table class=\"wandb\"><tr><td>epoch</td><td>▁▁▂▂▂▃▃▄▄▄▅▅▅▆▆▇▇▇██</td></tr><tr><td>train_accuracy</td><td>▁▂▃▄▅▅▆▆▆▇▇▇▇▇▇█████</td></tr><tr><td>train_loss</td><td>██▇▆▆▅▅▄▄▃▃▃▂▂▂▂▁▁▁▁</td></tr><tr><td>val_accuracy</td><td>▁▃▃▄▄▅▆▆▆▇▆▆▇▇▇▇████</td></tr><tr><td>val_loss</td><td>█▇▆▆▅▅▄▃▃▃▂▂▂▂▁▂▁▁▁▁</td></tr></table><br/></div><div class=\"wandb-col\"><h3>Run summary:</h3><br/><table class=\"wandb\"><tr><td>epoch</td><td>20</td></tr><tr><td>train_accuracy</td><td>0.25188</td></tr><tr><td>train_loss</td><td>2.06162</td></tr><tr><td>val_accuracy</td><td>0.24512</td></tr><tr><td>val_loss</td><td>2.06723</td></tr></table><br/></div></div>"
          },
          "metadata": {}
        },
        {
          "output_type": "display_data",
          "data": {
            "text/plain": "<IPython.core.display.HTML object>",
            "text/html": " View run <strong style=\"color:#cdcd00\">expert-sweep-3</strong> at: <a href='https://wandb.ai/manglesh-patidar-cs24m025/inaturalist-cnn/runs/spfr85ha' target=\"_blank\">https://wandb.ai/manglesh-patidar-cs24m025/inaturalist-cnn/runs/spfr85ha</a><br> View project at: <a href='https://wandb.ai/manglesh-patidar-cs24m025/inaturalist-cnn' target=\"_blank\">https://wandb.ai/manglesh-patidar-cs24m025/inaturalist-cnn</a><br>Synced 5 W&B file(s), 0 media file(s), 0 artifact file(s) and 0 other file(s)"
          },
          "metadata": {}
        },
        {
          "output_type": "display_data",
          "data": {
            "text/plain": "<IPython.core.display.HTML object>",
            "text/html": "Find logs at: <code>./wandb/run-20250415_095308-spfr85ha/logs</code>"
          },
          "metadata": {}
        },
        {
          "name": "stderr",
          "text": "\u001b[34m\u001b[1mwandb\u001b[0m: Sweep Agent: Waiting for job.\n\u001b[34m\u001b[1mwandb\u001b[0m: Job received.\n\u001b[34m\u001b[1mwandb\u001b[0m: Agent Starting Run: i8b519qm with config:\n\u001b[34m\u001b[1mwandb\u001b[0m: \tactivation: gelu\n\u001b[34m\u001b[1mwandb\u001b[0m: \tbatch_norm_use: True\n\u001b[34m\u001b[1mwandb\u001b[0m: \tdata_aug: False\n\u001b[34m\u001b[1mwandb\u001b[0m: \tdropout: 0.5\n\u001b[34m\u001b[1mwandb\u001b[0m: \tepochs: 20\n\u001b[34m\u001b[1mwandb\u001b[0m: \tfc_layer: 256\n\u001b[34m\u001b[1mwandb\u001b[0m: \tfilter_counts: [32, 64, 128, 256, 512]\n\u001b[34m\u001b[1mwandb\u001b[0m: \tlearning_rate: 0.0005\n\u001b[34m\u001b[1mwandb\u001b[0m: \tshape_of_filters_conv: [[3, 3], [3, 3], [3, 3], [5, 5], [7, 7]]\n\u001b[34m\u001b[1mwandb\u001b[0m: \ttrain_batch_size: 128\n",
          "output_type": "stream"
        },
        {
          "output_type": "display_data",
          "data": {
            "text/plain": "<IPython.core.display.HTML object>",
            "text/html": "Tracking run with wandb version 0.19.6"
          },
          "metadata": {}
        },
        {
          "output_type": "display_data",
          "data": {
            "text/plain": "<IPython.core.display.HTML object>",
            "text/html": "Run data is saved locally in <code>/kaggle/working/wandb/run-20250415_101209-i8b519qm</code>"
          },
          "metadata": {}
        },
        {
          "output_type": "display_data",
          "data": {
            "text/plain": "<IPython.core.display.HTML object>",
            "text/html": "Syncing run <strong><a href='https://wandb.ai/manglesh-patidar-cs24m025/inaturalist-cnn/runs/i8b519qm' target=\"_blank\">eager-sweep-4</a></strong> to <a href='https://wandb.ai/manglesh-patidar-cs24m025/inaturalist-cnn' target=\"_blank\">Weights & Biases</a> (<a href='https://wandb.me/developer-guide' target=\"_blank\">docs</a>)<br>Sweep page: <a href='https://wandb.ai/manglesh-patidar-cs24m025/inaturalist-cnn/sweeps/vad5l02n' target=\"_blank\">https://wandb.ai/manglesh-patidar-cs24m025/inaturalist-cnn/sweeps/vad5l02n</a>"
          },
          "metadata": {}
        },
        {
          "output_type": "display_data",
          "data": {
            "text/plain": "<IPython.core.display.HTML object>",
            "text/html": " View project at <a href='https://wandb.ai/manglesh-patidar-cs24m025/inaturalist-cnn' target=\"_blank\">https://wandb.ai/manglesh-patidar-cs24m025/inaturalist-cnn</a>"
          },
          "metadata": {}
        },
        {
          "output_type": "display_data",
          "data": {
            "text/plain": "<IPython.core.display.HTML object>",
            "text/html": " View sweep at <a href='https://wandb.ai/manglesh-patidar-cs24m025/inaturalist-cnn/sweeps/vad5l02n' target=\"_blank\">https://wandb.ai/manglesh-patidar-cs24m025/inaturalist-cnn/sweeps/vad5l02n</a>"
          },
          "metadata": {}
        },
        {
          "output_type": "display_data",
          "data": {
            "text/plain": "<IPython.core.display.HTML object>",
            "text/html": " View run at <a href='https://wandb.ai/manglesh-patidar-cs24m025/inaturalist-cnn/runs/i8b519qm' target=\"_blank\">https://wandb.ai/manglesh-patidar-cs24m025/inaturalist-cnn/runs/i8b519qm</a>"
          },
          "metadata": {}
        },
        {
          "name": "stdout",
          "text": "Using device: cuda\n",
          "output_type": "stream"
        },
        {
          "name": "stderr",
          "text": "Epoch 1/20 [Train]: 100%|██████████| 63/63 [00:47<00:00,  1.32it/s]\nEpoch 1/20 [Val]: 100%|██████████| 16/16 [00:11<00:00,  1.41it/s]\n",
          "output_type": "stream"
        },
        {
          "name": "stdout",
          "text": "Epoch 1/20, Train Loss: 2.1140, Train Acc: 0.2360, Val Loss: 2.0887, Val Acc: 0.2586\n",
          "output_type": "stream"
        },
        {
          "name": "stderr",
          "text": "Epoch 2/20 [Train]: 100%|██████████| 63/63 [00:43<00:00,  1.44it/s]\nEpoch 2/20 [Val]: 100%|██████████| 16/16 [00:10<00:00,  1.49it/s]\n",
          "output_type": "stream"
        },
        {
          "name": "stdout",
          "text": "Epoch 2/20, Train Loss: 2.0048, Train Acc: 0.2809, Val Loss: 1.9740, Val Acc: 0.2966\n",
          "output_type": "stream"
        },
        {
          "name": "stderr",
          "text": "Epoch 3/20 [Train]: 100%|██████████| 63/63 [00:43<00:00,  1.44it/s]\nEpoch 3/20 [Val]: 100%|██████████| 16/16 [00:10<00:00,  1.54it/s]\n",
          "output_type": "stream"
        },
        {
          "name": "stdout",
          "text": "Epoch 3/20, Train Loss: 1.9447, Train Acc: 0.3028, Val Loss: 1.9581, Val Acc: 0.3132\n",
          "output_type": "stream"
        },
        {
          "name": "stderr",
          "text": "Epoch 4/20 [Train]: 100%|██████████| 63/63 [00:43<00:00,  1.45it/s]\nEpoch 4/20 [Val]: 100%|██████████| 16/16 [00:10<00:00,  1.56it/s]\n",
          "output_type": "stream"
        },
        {
          "name": "stdout",
          "text": "Epoch 4/20, Train Loss: 1.8891, Train Acc: 0.3305, Val Loss: 1.8767, Val Acc: 0.3357\n",
          "output_type": "stream"
        },
        {
          "name": "stderr",
          "text": "Epoch 5/20 [Train]: 100%|██████████| 63/63 [00:43<00:00,  1.43it/s]\nEpoch 5/20 [Val]: 100%|██████████| 16/16 [00:11<00:00,  1.43it/s]\n",
          "output_type": "stream"
        },
        {
          "name": "stdout",
          "text": "Epoch 5/20, Train Loss: 1.8253, Train Acc: 0.3559, Val Loss: 1.9819, Val Acc: 0.3202\n",
          "output_type": "stream"
        },
        {
          "name": "stderr",
          "text": "Epoch 6/20 [Train]: 100%|██████████| 63/63 [00:42<00:00,  1.47it/s]\nEpoch 6/20 [Val]: 100%|██████████| 16/16 [00:11<00:00,  1.45it/s]\n",
          "output_type": "stream"
        },
        {
          "name": "stdout",
          "text": "Epoch 6/20, Train Loss: 1.7665, Train Acc: 0.3801, Val Loss: 2.0457, Val Acc: 0.3177\n",
          "output_type": "stream"
        },
        {
          "name": "stderr",
          "text": "Epoch 7/20 [Train]: 100%|██████████| 63/63 [00:44<00:00,  1.40it/s]\nEpoch 7/20 [Val]: 100%|██████████| 16/16 [00:10<00:00,  1.51it/s]\n",
          "output_type": "stream"
        },
        {
          "name": "stdout",
          "text": "Epoch 7/20, Train Loss: 1.7396, Train Acc: 0.3865, Val Loss: 1.8538, Val Acc: 0.3507\n",
          "output_type": "stream"
        },
        {
          "name": "stderr",
          "text": "Epoch 8/20 [Train]: 100%|██████████| 63/63 [00:48<00:00,  1.31it/s]\nEpoch 8/20 [Val]: 100%|██████████| 16/16 [00:10<00:00,  1.53it/s]\n",
          "output_type": "stream"
        },
        {
          "name": "stdout",
          "text": "Epoch 8/20, Train Loss: 1.6886, Train Acc: 0.4060, Val Loss: 1.8163, Val Acc: 0.3727\n",
          "output_type": "stream"
        },
        {
          "name": "stderr",
          "text": "Epoch 9/20 [Train]: 100%|██████████| 63/63 [00:43<00:00,  1.46it/s]\nEpoch 9/20 [Val]: 100%|██████████| 16/16 [00:10<00:00,  1.47it/s]\n",
          "output_type": "stream"
        },
        {
          "name": "stdout",
          "text": "Epoch 9/20, Train Loss: 1.6491, Train Acc: 0.4185, Val Loss: 1.7582, Val Acc: 0.3812\n",
          "output_type": "stream"
        },
        {
          "name": "stderr",
          "text": "Epoch 10/20 [Train]: 100%|██████████| 63/63 [00:43<00:00,  1.46it/s]\nEpoch 10/20 [Val]: 100%|██████████| 16/16 [00:11<00:00,  1.43it/s]\n",
          "output_type": "stream"
        },
        {
          "name": "stdout",
          "text": "Epoch 10/20, Train Loss: 1.6143, Train Acc: 0.4291, Val Loss: 1.7918, Val Acc: 0.3867\n",
          "output_type": "stream"
        },
        {
          "name": "stderr",
          "text": "Epoch 11/20 [Train]: 100%|██████████| 63/63 [00:43<00:00,  1.44it/s]\nEpoch 11/20 [Val]: 100%|██████████| 16/16 [00:10<00:00,  1.54it/s]\n",
          "output_type": "stream"
        },
        {
          "name": "stdout",
          "text": "Epoch 11/20, Train Loss: 1.5590, Train Acc: 0.4516, Val Loss: 1.6953, Val Acc: 0.4047\n",
          "output_type": "stream"
        },
        {
          "name": "stderr",
          "text": "Epoch 12/20 [Train]: 100%|██████████| 63/63 [00:44<00:00,  1.42it/s]\nEpoch 12/20 [Val]: 100%|██████████| 16/16 [00:10<00:00,  1.53it/s]\n",
          "output_type": "stream"
        },
        {
          "name": "stdout",
          "text": "Epoch 12/20, Train Loss: 1.5156, Train Acc: 0.4744, Val Loss: 1.7767, Val Acc: 0.3737\n",
          "output_type": "stream"
        },
        {
          "name": "stderr",
          "text": "Epoch 13/20 [Train]: 100%|██████████| 63/63 [00:43<00:00,  1.45it/s]\nEpoch 13/20 [Val]: 100%|██████████| 16/16 [00:10<00:00,  1.50it/s]\n",
          "output_type": "stream"
        },
        {
          "name": "stdout",
          "text": "Epoch 13/20, Train Loss: 1.4893, Train Acc: 0.4789, Val Loss: 1.6570, Val Acc: 0.4327\n",
          "output_type": "stream"
        },
        {
          "name": "stderr",
          "text": "Epoch 14/20 [Train]: 100%|██████████| 63/63 [00:43<00:00,  1.44it/s]\nEpoch 14/20 [Val]: 100%|██████████| 16/16 [00:10<00:00,  1.51it/s]\n",
          "output_type": "stream"
        },
        {
          "name": "stdout",
          "text": "Epoch 14/20, Train Loss: 1.4322, Train Acc: 0.4969, Val Loss: 1.7233, Val Acc: 0.4112\n",
          "output_type": "stream"
        },
        {
          "name": "stderr",
          "text": "Epoch 15/20 [Train]: 100%|██████████| 63/63 [00:45<00:00,  1.39it/s]\nEpoch 15/20 [Val]: 100%|██████████| 16/16 [00:10<00:00,  1.52it/s]\n",
          "output_type": "stream"
        },
        {
          "name": "stdout",
          "text": "Epoch 15/20, Train Loss: 1.3969, Train Acc: 0.5091, Val Loss: 1.7047, Val Acc: 0.4192\n",
          "output_type": "stream"
        },
        {
          "name": "stderr",
          "text": "Epoch 16/20 [Train]: 100%|██████████| 63/63 [00:58<00:00,  1.08it/s]\nEpoch 16/20 [Val]: 100%|██████████| 16/16 [00:17<00:00,  1.12s/it]\n",
          "output_type": "stream"
        },
        {
          "name": "stdout",
          "text": "Epoch 16/20, Train Loss: 1.3430, Train Acc: 0.5320, Val Loss: 1.6618, Val Acc: 0.4447\n",
          "output_type": "stream"
        },
        {
          "name": "stderr",
          "text": "Epoch 17/20 [Train]: 100%|██████████| 63/63 [01:06<00:00,  1.05s/it]\nEpoch 17/20 [Val]: 100%|██████████| 16/16 [00:16<00:00,  1.05s/it]\n",
          "output_type": "stream"
        },
        {
          "name": "stdout",
          "text": "Epoch 17/20, Train Loss: 1.2873, Train Acc: 0.5465, Val Loss: 2.0131, Val Acc: 0.3712\n",
          "output_type": "stream"
        },
        {
          "name": "stderr",
          "text": "Epoch 18/20 [Train]: 100%|██████████| 63/63 [00:59<00:00,  1.06it/s]\nEpoch 18/20 [Val]: 100%|██████████| 16/16 [00:10<00:00,  1.53it/s]\n",
          "output_type": "stream"
        },
        {
          "name": "stdout",
          "text": "Epoch 18/20, Train Loss: 1.2523, Train Acc: 0.5586, Val Loss: 1.8237, Val Acc: 0.4132\n",
          "output_type": "stream"
        },
        {
          "name": "stderr",
          "text": "Epoch 19/20 [Train]: 100%|██████████| 63/63 [00:43<00:00,  1.45it/s]\nEpoch 19/20 [Val]: 100%|██████████| 16/16 [00:10<00:00,  1.52it/s]\n",
          "output_type": "stream"
        },
        {
          "name": "stdout",
          "text": "Epoch 19/20, Train Loss: 1.1738, Train Acc: 0.5870, Val Loss: 2.0708, Val Acc: 0.3947\n",
          "output_type": "stream"
        },
        {
          "name": "stderr",
          "text": "Epoch 20/20 [Train]: 100%|██████████| 63/63 [00:44<00:00,  1.43it/s]\nEpoch 20/20 [Val]: 100%|██████████| 16/16 [00:11<00:00,  1.38it/s]",
          "output_type": "stream"
        },
        {
          "name": "stdout",
          "text": "Epoch 20/20, Train Loss: 1.1289, Train Acc: 0.6030, Val Loss: 1.7484, Val Acc: 0.4362\n",
          "output_type": "stream"
        },
        {
          "name": "stderr",
          "text": "\n",
          "output_type": "stream"
        },
        {
          "output_type": "display_data",
          "data": {
            "text/plain": "<IPython.core.display.HTML object>",
            "text/html": ""
          },
          "metadata": {}
        },
        {
          "output_type": "display_data",
          "data": {
            "text/plain": "<IPython.core.display.HTML object>",
            "text/html": "<br>    <style><br>        .wandb-row {<br>            display: flex;<br>            flex-direction: row;<br>            flex-wrap: wrap;<br>            justify-content: flex-start;<br>            width: 100%;<br>        }<br>        .wandb-col {<br>            display: flex;<br>            flex-direction: column;<br>            flex-basis: 100%;<br>            flex: 1;<br>            padding: 10px;<br>        }<br>    </style><br><div class=\"wandb-row\"><div class=\"wandb-col\"><h3>Run history:</h3><br/><table class=\"wandb\"><tr><td>epoch</td><td>▁▁▂▂▂▃▃▄▄▄▅▅▅▆▆▇▇▇██</td></tr><tr><td>train_accuracy</td><td>▁▂▂▃▃▄▄▄▄▅▅▆▆▆▆▇▇▇██</td></tr><tr><td>train_loss</td><td>█▇▇▆▆▆▅▅▅▄▄▄▄▃▃▃▂▂▁▁</td></tr><tr><td>val_accuracy</td><td>▁▂▃▄▃▃▄▅▆▆▆▅█▇▇█▅▇▆█</td></tr><tr><td>val_loss</td><td>█▆▆▅▆▇▄▄▃▃▂▃▁▂▂▁▇▄█▂</td></tr></table><br/></div><div class=\"wandb-col\"><h3>Run summary:</h3><br/><table class=\"wandb\"><tr><td>epoch</td><td>20</td></tr><tr><td>train_accuracy</td><td>0.603</td></tr><tr><td>train_loss</td><td>1.1289</td></tr><tr><td>val_accuracy</td><td>0.43622</td></tr><tr><td>val_loss</td><td>1.74837</td></tr></table><br/></div></div>"
          },
          "metadata": {}
        },
        {
          "output_type": "display_data",
          "data": {
            "text/plain": "<IPython.core.display.HTML object>",
            "text/html": " View run <strong style=\"color:#cdcd00\">eager-sweep-4</strong> at: <a href='https://wandb.ai/manglesh-patidar-cs24m025/inaturalist-cnn/runs/i8b519qm' target=\"_blank\">https://wandb.ai/manglesh-patidar-cs24m025/inaturalist-cnn/runs/i8b519qm</a><br> View project at: <a href='https://wandb.ai/manglesh-patidar-cs24m025/inaturalist-cnn' target=\"_blank\">https://wandb.ai/manglesh-patidar-cs24m025/inaturalist-cnn</a><br>Synced 5 W&B file(s), 0 media file(s), 0 artifact file(s) and 0 other file(s)"
          },
          "metadata": {}
        },
        {
          "output_type": "display_data",
          "data": {
            "text/plain": "<IPython.core.display.HTML object>",
            "text/html": "Find logs at: <code>./wandb/run-20250415_101209-i8b519qm/logs</code>"
          },
          "metadata": {}
        },
        {
          "name": "stderr",
          "text": "\u001b[34m\u001b[1mwandb\u001b[0m: Agent Starting Run: 2q0el3j2 with config:\n\u001b[34m\u001b[1mwandb\u001b[0m: \tactivation: silu\n\u001b[34m\u001b[1mwandb\u001b[0m: \tbatch_norm_use: False\n\u001b[34m\u001b[1mwandb\u001b[0m: \tdata_aug: True\n\u001b[34m\u001b[1mwandb\u001b[0m: \tdropout: 0.8\n\u001b[34m\u001b[1mwandb\u001b[0m: \tepochs: 20\n\u001b[34m\u001b[1mwandb\u001b[0m: \tfc_layer: 512\n\u001b[34m\u001b[1mwandb\u001b[0m: \tfilter_counts: [16, 32, 64, 128, 256]\n\u001b[34m\u001b[1mwandb\u001b[0m: \tlearning_rate: 0.0001\n\u001b[34m\u001b[1mwandb\u001b[0m: \tshape_of_filters_conv: [[3, 3], [3, 3], [3, 3], [3, 3], [3, 3]]\n\u001b[34m\u001b[1mwandb\u001b[0m: \ttrain_batch_size: 64\n",
          "output_type": "stream"
        },
        {
          "output_type": "display_data",
          "data": {
            "text/plain": "<IPython.core.display.HTML object>",
            "text/html": "Tracking run with wandb version 0.19.6"
          },
          "metadata": {}
        },
        {
          "output_type": "display_data",
          "data": {
            "text/plain": "<IPython.core.display.HTML object>",
            "text/html": "Run data is saved locally in <code>/kaggle/working/wandb/run-20250415_103151-2q0el3j2</code>"
          },
          "metadata": {}
        },
        {
          "output_type": "display_data",
          "data": {
            "text/plain": "<IPython.core.display.HTML object>",
            "text/html": "Syncing run <strong><a href='https://wandb.ai/manglesh-patidar-cs24m025/inaturalist-cnn/runs/2q0el3j2' target=\"_blank\">kind-sweep-5</a></strong> to <a href='https://wandb.ai/manglesh-patidar-cs24m025/inaturalist-cnn' target=\"_blank\">Weights & Biases</a> (<a href='https://wandb.me/developer-guide' target=\"_blank\">docs</a>)<br>Sweep page: <a href='https://wandb.ai/manglesh-patidar-cs24m025/inaturalist-cnn/sweeps/vad5l02n' target=\"_blank\">https://wandb.ai/manglesh-patidar-cs24m025/inaturalist-cnn/sweeps/vad5l02n</a>"
          },
          "metadata": {}
        },
        {
          "output_type": "display_data",
          "data": {
            "text/plain": "<IPython.core.display.HTML object>",
            "text/html": " View project at <a href='https://wandb.ai/manglesh-patidar-cs24m025/inaturalist-cnn' target=\"_blank\">https://wandb.ai/manglesh-patidar-cs24m025/inaturalist-cnn</a>"
          },
          "metadata": {}
        },
        {
          "output_type": "display_data",
          "data": {
            "text/plain": "<IPython.core.display.HTML object>",
            "text/html": " View sweep at <a href='https://wandb.ai/manglesh-patidar-cs24m025/inaturalist-cnn/sweeps/vad5l02n' target=\"_blank\">https://wandb.ai/manglesh-patidar-cs24m025/inaturalist-cnn/sweeps/vad5l02n</a>"
          },
          "metadata": {}
        },
        {
          "output_type": "display_data",
          "data": {
            "text/plain": "<IPython.core.display.HTML object>",
            "text/html": " View run at <a href='https://wandb.ai/manglesh-patidar-cs24m025/inaturalist-cnn/runs/2q0el3j2' target=\"_blank\">https://wandb.ai/manglesh-patidar-cs24m025/inaturalist-cnn/runs/2q0el3j2</a>"
          },
          "metadata": {}
        },
        {
          "name": "stdout",
          "text": "Using device: cuda\n",
          "output_type": "stream"
        },
        {
          "name": "stderr",
          "text": "Epoch 1/20 [Train]: 100%|██████████| 125/125 [00:41<00:00,  3.01it/s]\nEpoch 1/20 [Val]: 100%|██████████| 32/32 [00:10<00:00,  3.07it/s]\n",
          "output_type": "stream"
        },
        {
          "name": "stdout",
          "text": "Epoch 1/20, Train Loss: 2.2874, Train Acc: 0.1275, Val Loss: 2.2563, Val Acc: 0.1526\n",
          "output_type": "stream"
        },
        {
          "name": "stderr",
          "text": "Epoch 2/20 [Train]: 100%|██████████| 125/125 [00:41<00:00,  3.04it/s]\nEpoch 2/20 [Val]: 100%|██████████| 32/32 [00:10<00:00,  2.98it/s]\n",
          "output_type": "stream"
        },
        {
          "name": "stdout",
          "text": "Epoch 2/20, Train Loss: 2.2481, Train Acc: 0.1625, Val Loss: 2.2016, Val Acc: 0.1841\n",
          "output_type": "stream"
        },
        {
          "name": "stderr",
          "text": "Epoch 3/20 [Train]: 100%|██████████| 125/125 [00:40<00:00,  3.06it/s]\nEpoch 3/20 [Val]: 100%|██████████| 32/32 [00:10<00:00,  3.09it/s]\n",
          "output_type": "stream"
        },
        {
          "name": "stdout",
          "text": "Epoch 3/20, Train Loss: 2.2007, Train Acc: 0.1862, Val Loss: 2.1679, Val Acc: 0.2006\n",
          "output_type": "stream"
        },
        {
          "name": "stderr",
          "text": "Epoch 4/20 [Train]: 100%|██████████| 125/125 [00:41<00:00,  3.02it/s]\nEpoch 4/20 [Val]: 100%|██████████| 32/32 [00:10<00:00,  3.12it/s]\n",
          "output_type": "stream"
        },
        {
          "name": "stdout",
          "text": "Epoch 4/20, Train Loss: 2.1782, Train Acc: 0.1943, Val Loss: 2.1528, Val Acc: 0.2136\n",
          "output_type": "stream"
        },
        {
          "name": "stderr",
          "text": "Epoch 5/20 [Train]: 100%|██████████| 125/125 [00:42<00:00,  2.93it/s]\nEpoch 5/20 [Val]: 100%|██████████| 32/32 [00:13<00:00,  2.32it/s]\n",
          "output_type": "stream"
        },
        {
          "name": "stdout",
          "text": "Epoch 5/20, Train Loss: 2.1676, Train Acc: 0.1990, Val Loss: 2.1355, Val Acc: 0.2091\n",
          "output_type": "stream"
        },
        {
          "name": "stderr",
          "text": "Epoch 6/20 [Train]: 100%|██████████| 125/125 [00:56<00:00,  2.22it/s]\nEpoch 6/20 [Val]: 100%|██████████| 32/32 [00:11<00:00,  2.90it/s]\n",
          "output_type": "stream"
        },
        {
          "name": "stdout",
          "text": "Epoch 6/20, Train Loss: 2.1579, Train Acc: 0.2050, Val Loss: 2.1236, Val Acc: 0.2171\n",
          "output_type": "stream"
        },
        {
          "name": "stderr",
          "text": "Epoch 7/20 [Train]: 100%|██████████| 125/125 [00:43<00:00,  2.87it/s]\nEpoch 7/20 [Val]: 100%|██████████| 32/32 [00:10<00:00,  3.13it/s]\n",
          "output_type": "stream"
        },
        {
          "name": "stdout",
          "text": "Epoch 7/20, Train Loss: 2.1459, Train Acc: 0.2080, Val Loss: 2.1085, Val Acc: 0.2226\n",
          "output_type": "stream"
        },
        {
          "name": "stderr",
          "text": "Epoch 8/20 [Train]: 100%|██████████| 125/125 [00:41<00:00,  3.01it/s]\nEpoch 8/20 [Val]: 100%|██████████| 32/32 [00:10<00:00,  3.18it/s]\n",
          "output_type": "stream"
        },
        {
          "name": "stdout",
          "text": "Epoch 8/20, Train Loss: 2.1350, Train Acc: 0.2145, Val Loss: 2.0926, Val Acc: 0.2256\n",
          "output_type": "stream"
        },
        {
          "name": "stderr",
          "text": "Epoch 9/20 [Train]: 100%|██████████| 125/125 [00:41<00:00,  3.01it/s]\nEpoch 9/20 [Val]: 100%|██████████| 32/32 [00:10<00:00,  2.99it/s]\n",
          "output_type": "stream"
        },
        {
          "name": "stdout",
          "text": "Epoch 9/20, Train Loss: 2.1197, Train Acc: 0.2253, Val Loss: 2.0818, Val Acc: 0.2381\n",
          "output_type": "stream"
        },
        {
          "name": "stderr",
          "text": "Epoch 10/20 [Train]: 100%|██████████| 125/125 [00:42<00:00,  2.97it/s]\nEpoch 10/20 [Val]: 100%|██████████| 32/32 [00:10<00:00,  2.93it/s]\n",
          "output_type": "stream"
        },
        {
          "name": "stdout",
          "text": "Epoch 10/20, Train Loss: 2.1057, Train Acc: 0.2293, Val Loss: 2.0735, Val Acc: 0.2411\n",
          "output_type": "stream"
        },
        {
          "name": "stderr",
          "text": "Epoch 11/20 [Train]: 100%|██████████| 125/125 [00:47<00:00,  2.62it/s]\nEpoch 11/20 [Val]: 100%|██████████| 32/32 [00:11<00:00,  2.80it/s]\n",
          "output_type": "stream"
        },
        {
          "name": "stdout",
          "text": "Epoch 11/20, Train Loss: 2.0995, Train Acc: 0.2376, Val Loss: 2.0659, Val Acc: 0.2491\n",
          "output_type": "stream"
        },
        {
          "name": "stderr",
          "text": "Epoch 12/20 [Train]: 100%|██████████| 125/125 [00:50<00:00,  2.48it/s]\nEpoch 12/20 [Val]: 100%|██████████| 32/32 [00:10<00:00,  3.17it/s]\n",
          "output_type": "stream"
        },
        {
          "name": "stdout",
          "text": "Epoch 12/20, Train Loss: 2.0975, Train Acc: 0.2387, Val Loss: 2.0609, Val Acc: 0.2526\n",
          "output_type": "stream"
        },
        {
          "name": "stderr",
          "text": "Epoch 13/20 [Train]: 100%|██████████| 125/125 [00:51<00:00,  2.44it/s]\nEpoch 13/20 [Val]: 100%|██████████| 32/32 [00:11<00:00,  2.74it/s]\n",
          "output_type": "stream"
        },
        {
          "name": "stdout",
          "text": "Epoch 13/20, Train Loss: 2.0840, Train Acc: 0.2394, Val Loss: 2.0512, Val Acc: 0.2591\n",
          "output_type": "stream"
        },
        {
          "name": "stderr",
          "text": "Epoch 14/20 [Train]: 100%|██████████| 125/125 [00:51<00:00,  2.44it/s]\nEpoch 14/20 [Val]: 100%|██████████| 32/32 [00:12<00:00,  2.48it/s]\n",
          "output_type": "stream"
        },
        {
          "name": "stdout",
          "text": "Epoch 14/20, Train Loss: 2.0821, Train Acc: 0.2437, Val Loss: 2.0438, Val Acc: 0.2611\n",
          "output_type": "stream"
        },
        {
          "name": "stderr",
          "text": "Epoch 15/20 [Train]: 100%|██████████| 125/125 [00:47<00:00,  2.65it/s]\nEpoch 15/20 [Val]: 100%|██████████| 32/32 [00:10<00:00,  3.12it/s]\n",
          "output_type": "stream"
        },
        {
          "name": "stdout",
          "text": "Epoch 15/20, Train Loss: 2.0784, Train Acc: 0.2445, Val Loss: 2.0369, Val Acc: 0.2656\n",
          "output_type": "stream"
        },
        {
          "name": "stderr",
          "text": "Epoch 16/20 [Train]: 100%|██████████| 125/125 [00:41<00:00,  3.03it/s]\nEpoch 16/20 [Val]: 100%|██████████| 32/32 [00:10<00:00,  3.10it/s]\n",
          "output_type": "stream"
        },
        {
          "name": "stdout",
          "text": "Epoch 16/20, Train Loss: 2.0705, Train Acc: 0.2419, Val Loss: 2.0313, Val Acc: 0.2621\n",
          "output_type": "stream"
        },
        {
          "name": "stderr",
          "text": "Epoch 17/20 [Train]: 100%|██████████| 125/125 [00:42<00:00,  2.95it/s]\nEpoch 17/20 [Val]: 100%|██████████| 32/32 [00:11<00:00,  2.84it/s]\n",
          "output_type": "stream"
        },
        {
          "name": "stdout",
          "text": "Epoch 17/20, Train Loss: 2.0646, Train Acc: 0.2551, Val Loss: 2.0284, Val Acc: 0.2721\n",
          "output_type": "stream"
        },
        {
          "name": "stderr",
          "text": "Epoch 18/20 [Train]: 100%|██████████| 125/125 [00:41<00:00,  3.00it/s]\nEpoch 18/20 [Val]: 100%|██████████| 32/32 [00:10<00:00,  3.11it/s]\n",
          "output_type": "stream"
        },
        {
          "name": "stdout",
          "text": "Epoch 18/20, Train Loss: 2.0626, Train Acc: 0.2527, Val Loss: 2.0235, Val Acc: 0.2756\n",
          "output_type": "stream"
        },
        {
          "name": "stderr",
          "text": "Epoch 19/20 [Train]: 100%|██████████| 125/125 [00:40<00:00,  3.08it/s]\nEpoch 19/20 [Val]: 100%|██████████| 32/32 [00:15<00:00,  2.11it/s]\n",
          "output_type": "stream"
        },
        {
          "name": "stdout",
          "text": "Epoch 19/20, Train Loss: 2.0516, Train Acc: 0.2566, Val Loss: 2.0100, Val Acc: 0.2851\n",
          "output_type": "stream"
        },
        {
          "name": "stderr",
          "text": "Epoch 20/20 [Train]: 100%|██████████| 125/125 [00:48<00:00,  2.55it/s]\nEpoch 20/20 [Val]: 100%|██████████| 32/32 [00:10<00:00,  3.00it/s]",
          "output_type": "stream"
        },
        {
          "name": "stdout",
          "text": "Epoch 20/20, Train Loss: 2.0442, Train Acc: 0.2596, Val Loss: 2.0062, Val Acc: 0.2821\n",
          "output_type": "stream"
        },
        {
          "name": "stderr",
          "text": "\n",
          "output_type": "stream"
        },
        {
          "output_type": "display_data",
          "data": {
            "text/plain": "<IPython.core.display.HTML object>",
            "text/html": ""
          },
          "metadata": {}
        },
        {
          "output_type": "display_data",
          "data": {
            "text/plain": "<IPython.core.display.HTML object>",
            "text/html": "<br>    <style><br>        .wandb-row {<br>            display: flex;<br>            flex-direction: row;<br>            flex-wrap: wrap;<br>            justify-content: flex-start;<br>            width: 100%;<br>        }<br>        .wandb-col {<br>            display: flex;<br>            flex-direction: column;<br>            flex-basis: 100%;<br>            flex: 1;<br>            padding: 10px;<br>        }<br>    </style><br><div class=\"wandb-row\"><div class=\"wandb-col\"><h3>Run history:</h3><br/><table class=\"wandb\"><tr><td>epoch</td><td>▁▁▂▂▂▃▃▄▄▄▅▅▅▆▆▇▇▇██</td></tr><tr><td>train_accuracy</td><td>▁▃▄▅▅▅▅▆▆▆▇▇▇▇▇▇████</td></tr><tr><td>train_loss</td><td>█▇▆▅▅▄▄▄▃▃▃▃▂▂▂▂▂▂▁▁</td></tr><tr><td>val_accuracy</td><td>▁▃▄▄▄▄▅▅▆▆▆▆▇▇▇▇▇▇██</td></tr><tr><td>val_loss</td><td>█▆▆▅▅▄▄▃▃▃▃▃▂▂▂▂▂▁▁▁</td></tr></table><br/></div><div class=\"wandb-col\"><h3>Run summary:</h3><br/><table class=\"wandb\"><tr><td>epoch</td><td>20</td></tr><tr><td>train_accuracy</td><td>0.25962</td></tr><tr><td>train_loss</td><td>2.04424</td></tr><tr><td>val_accuracy</td><td>0.28214</td></tr><tr><td>val_loss</td><td>2.00621</td></tr></table><br/></div></div>"
          },
          "metadata": {}
        },
        {
          "output_type": "display_data",
          "data": {
            "text/plain": "<IPython.core.display.HTML object>",
            "text/html": " View run <strong style=\"color:#cdcd00\">kind-sweep-5</strong> at: <a href='https://wandb.ai/manglesh-patidar-cs24m025/inaturalist-cnn/runs/2q0el3j2' target=\"_blank\">https://wandb.ai/manglesh-patidar-cs24m025/inaturalist-cnn/runs/2q0el3j2</a><br> View project at: <a href='https://wandb.ai/manglesh-patidar-cs24m025/inaturalist-cnn' target=\"_blank\">https://wandb.ai/manglesh-patidar-cs24m025/inaturalist-cnn</a><br>Synced 5 W&B file(s), 0 media file(s), 0 artifact file(s) and 0 other file(s)"
          },
          "metadata": {}
        },
        {
          "output_type": "display_data",
          "data": {
            "text/plain": "<IPython.core.display.HTML object>",
            "text/html": "Find logs at: <code>./wandb/run-20250415_103151-2q0el3j2/logs</code>"
          },
          "metadata": {}
        },
        {
          "name": "stderr",
          "text": "\u001b[34m\u001b[1mwandb\u001b[0m: Agent Starting Run: co8we390 with config:\n\u001b[34m\u001b[1mwandb\u001b[0m: \tactivation: gelu\n\u001b[34m\u001b[1mwandb\u001b[0m: \tbatch_norm_use: False\n\u001b[34m\u001b[1mwandb\u001b[0m: \tdata_aug: False\n\u001b[34m\u001b[1mwandb\u001b[0m: \tdropout: 0.8\n\u001b[34m\u001b[1mwandb\u001b[0m: \tepochs: 15\n\u001b[34m\u001b[1mwandb\u001b[0m: \tfc_layer: 512\n\u001b[34m\u001b[1mwandb\u001b[0m: \tfilter_counts: [32, 32, 32, 32, 32]\n\u001b[34m\u001b[1mwandb\u001b[0m: \tlearning_rate: 0.0005\n\u001b[34m\u001b[1mwandb\u001b[0m: \tshape_of_filters_conv: [[3, 3], [3, 3], [3, 3], [5, 5], [7, 7]]\n\u001b[34m\u001b[1mwandb\u001b[0m: \ttrain_batch_size: 32\n",
          "output_type": "stream"
        },
        {
          "output_type": "display_data",
          "data": {
            "text/plain": "<IPython.core.display.HTML object>",
            "text/html": "Tracking run with wandb version 0.19.6"
          },
          "metadata": {}
        },
        {
          "output_type": "display_data",
          "data": {
            "text/plain": "<IPython.core.display.HTML object>",
            "text/html": "Run data is saved locally in <code>/kaggle/working/wandb/run-20250415_105047-co8we390</code>"
          },
          "metadata": {}
        },
        {
          "output_type": "display_data",
          "data": {
            "text/plain": "<IPython.core.display.HTML object>",
            "text/html": "Syncing run <strong><a href='https://wandb.ai/manglesh-patidar-cs24m025/inaturalist-cnn/runs/co8we390' target=\"_blank\">stellar-sweep-6</a></strong> to <a href='https://wandb.ai/manglesh-patidar-cs24m025/inaturalist-cnn' target=\"_blank\">Weights & Biases</a> (<a href='https://wandb.me/developer-guide' target=\"_blank\">docs</a>)<br>Sweep page: <a href='https://wandb.ai/manglesh-patidar-cs24m025/inaturalist-cnn/sweeps/vad5l02n' target=\"_blank\">https://wandb.ai/manglesh-patidar-cs24m025/inaturalist-cnn/sweeps/vad5l02n</a>"
          },
          "metadata": {}
        },
        {
          "output_type": "display_data",
          "data": {
            "text/plain": "<IPython.core.display.HTML object>",
            "text/html": " View project at <a href='https://wandb.ai/manglesh-patidar-cs24m025/inaturalist-cnn' target=\"_blank\">https://wandb.ai/manglesh-patidar-cs24m025/inaturalist-cnn</a>"
          },
          "metadata": {}
        },
        {
          "output_type": "display_data",
          "data": {
            "text/plain": "<IPython.core.display.HTML object>",
            "text/html": " View sweep at <a href='https://wandb.ai/manglesh-patidar-cs24m025/inaturalist-cnn/sweeps/vad5l02n' target=\"_blank\">https://wandb.ai/manglesh-patidar-cs24m025/inaturalist-cnn/sweeps/vad5l02n</a>"
          },
          "metadata": {}
        },
        {
          "output_type": "display_data",
          "data": {
            "text/plain": "<IPython.core.display.HTML object>",
            "text/html": " View run at <a href='https://wandb.ai/manglesh-patidar-cs24m025/inaturalist-cnn/runs/co8we390' target=\"_blank\">https://wandb.ai/manglesh-patidar-cs24m025/inaturalist-cnn/runs/co8we390</a>"
          },
          "metadata": {}
        },
        {
          "name": "stdout",
          "text": "Using device: cuda\n",
          "output_type": "stream"
        },
        {
          "name": "stderr",
          "text": "Epoch 1/15 [Train]: 100%|██████████| 250/250 [00:41<00:00,  6.05it/s]\nEpoch 1/15 [Val]: 100%|██████████| 63/63 [00:13<00:00,  4.74it/s]\n",
          "output_type": "stream"
        },
        {
          "name": "stdout",
          "text": "Epoch 1/15, Train Loss: 2.2643, Train Acc: 0.1450, Val Loss: 2.2027, Val Acc: 0.1806\n",
          "output_type": "stream"
        },
        {
          "name": "stderr",
          "text": "Epoch 2/15 [Train]: 100%|██████████| 250/250 [00:46<00:00,  5.40it/s]\nEpoch 2/15 [Val]: 100%|██████████| 63/63 [00:12<00:00,  5.06it/s]\n",
          "output_type": "stream"
        },
        {
          "name": "stdout",
          "text": "Epoch 2/15, Train Loss: 2.1684, Train Acc: 0.1954, Val Loss: 2.1217, Val Acc: 0.2211\n",
          "output_type": "stream"
        },
        {
          "name": "stderr",
          "text": "Epoch 3/15 [Train]: 100%|██████████| 250/250 [00:41<00:00,  5.98it/s]\nEpoch 3/15 [Val]: 100%|██████████| 63/63 [00:10<00:00,  6.26it/s]\n",
          "output_type": "stream"
        },
        {
          "name": "stdout",
          "text": "Epoch 3/15, Train Loss: 2.1286, Train Acc: 0.2186, Val Loss: 2.0881, Val Acc: 0.2406\n",
          "output_type": "stream"
        },
        {
          "name": "stderr",
          "text": "Epoch 4/15 [Train]: 100%|██████████| 250/250 [00:41<00:00,  6.02it/s]\nEpoch 4/15 [Val]: 100%|██████████| 63/63 [00:10<00:00,  6.29it/s]\n",
          "output_type": "stream"
        },
        {
          "name": "stdout",
          "text": "Epoch 4/15, Train Loss: 2.0972, Train Acc: 0.2320, Val Loss: 2.0624, Val Acc: 0.2466\n",
          "output_type": "stream"
        },
        {
          "name": "stderr",
          "text": "Epoch 5/15 [Train]: 100%|██████████| 250/250 [00:41<00:00,  6.04it/s]\nEpoch 5/15 [Val]: 100%|██████████| 63/63 [00:10<00:00,  5.97it/s]\n",
          "output_type": "stream"
        },
        {
          "name": "stdout",
          "text": "Epoch 5/15, Train Loss: 2.0644, Train Acc: 0.2524, Val Loss: 2.0095, Val Acc: 0.2861\n",
          "output_type": "stream"
        },
        {
          "name": "stderr",
          "text": "Epoch 6/15 [Train]: 100%|██████████| 250/250 [00:41<00:00,  6.02it/s]\nEpoch 6/15 [Val]: 100%|██████████| 63/63 [00:10<00:00,  6.25it/s]\n",
          "output_type": "stream"
        },
        {
          "name": "stdout",
          "text": "Epoch 6/15, Train Loss: 2.0314, Train Acc: 0.2724, Val Loss: 2.0033, Val Acc: 0.2916\n",
          "output_type": "stream"
        },
        {
          "name": "stderr",
          "text": "Epoch 7/15 [Train]: 100%|██████████| 250/250 [00:41<00:00,  5.99it/s]\nEpoch 7/15 [Val]: 100%|██████████| 63/63 [00:10<00:00,  6.23it/s]\n",
          "output_type": "stream"
        },
        {
          "name": "stdout",
          "text": "Epoch 7/15, Train Loss: 2.0001, Train Acc: 0.2807, Val Loss: 1.9946, Val Acc: 0.2841\n",
          "output_type": "stream"
        },
        {
          "name": "stderr",
          "text": "Epoch 8/15 [Train]: 100%|██████████| 250/250 [00:41<00:00,  5.99it/s]\nEpoch 8/15 [Val]: 100%|██████████| 63/63 [00:10<00:00,  6.24it/s]\n",
          "output_type": "stream"
        },
        {
          "name": "stdout",
          "text": "Epoch 8/15, Train Loss: 1.9718, Train Acc: 0.2966, Val Loss: 1.9223, Val Acc: 0.3142\n",
          "output_type": "stream"
        },
        {
          "name": "stderr",
          "text": "Epoch 9/15 [Train]: 100%|██████████| 250/250 [00:41<00:00,  5.96it/s]\nEpoch 9/15 [Val]: 100%|██████████| 63/63 [00:11<00:00,  5.47it/s]\n",
          "output_type": "stream"
        },
        {
          "name": "stdout",
          "text": "Epoch 9/15, Train Loss: 1.9299, Train Acc: 0.3155, Val Loss: 1.9222, Val Acc: 0.3097\n",
          "output_type": "stream"
        },
        {
          "name": "stderr",
          "text": "Epoch 10/15 [Train]: 100%|██████████| 250/250 [00:44<00:00,  5.63it/s]\nEpoch 10/15 [Val]: 100%|██████████| 63/63 [00:10<00:00,  6.20it/s]\n",
          "output_type": "stream"
        },
        {
          "name": "stdout",
          "text": "Epoch 10/15, Train Loss: 1.8983, Train Acc: 0.3317, Val Loss: 1.8847, Val Acc: 0.3327\n",
          "output_type": "stream"
        },
        {
          "name": "stderr",
          "text": "Epoch 11/15 [Train]: 100%|██████████| 250/250 [00:54<00:00,  4.61it/s]\nEpoch 11/15 [Val]: 100%|██████████| 63/63 [00:14<00:00,  4.23it/s]\n",
          "output_type": "stream"
        },
        {
          "name": "stdout",
          "text": "Epoch 11/15, Train Loss: 1.8631, Train Acc: 0.3426, Val Loss: 1.8636, Val Acc: 0.3307\n",
          "output_type": "stream"
        },
        {
          "name": "stderr",
          "text": "Epoch 12/15 [Train]: 100%|██████████| 250/250 [00:56<00:00,  4.39it/s]\nEpoch 12/15 [Val]: 100%|██████████| 63/63 [00:17<00:00,  3.60it/s]\n",
          "output_type": "stream"
        },
        {
          "name": "stdout",
          "text": "Epoch 12/15, Train Loss: 1.8170, Train Acc: 0.3573, Val Loss: 1.8326, Val Acc: 0.3382\n",
          "output_type": "stream"
        },
        {
          "name": "stderr",
          "text": "Epoch 13/15 [Train]: 100%|██████████| 250/250 [01:16<00:00,  3.29it/s]\nEpoch 13/15 [Val]: 100%|██████████| 63/63 [00:19<00:00,  3.31it/s]\n",
          "output_type": "stream"
        },
        {
          "name": "stdout",
          "text": "Epoch 13/15, Train Loss: 1.7821, Train Acc: 0.3716, Val Loss: 1.8561, Val Acc: 0.3302\n",
          "output_type": "stream"
        },
        {
          "name": "stderr",
          "text": "Epoch 14/15 [Train]: 100%|██████████| 250/250 [01:12<00:00,  3.45it/s]\nEpoch 14/15 [Val]: 100%|██████████| 63/63 [00:15<00:00,  4.04it/s]\n",
          "output_type": "stream"
        },
        {
          "name": "stdout",
          "text": "Epoch 14/15, Train Loss: 1.7548, Train Acc: 0.3797, Val Loss: 1.8174, Val Acc: 0.3522\n",
          "output_type": "stream"
        },
        {
          "name": "stderr",
          "text": "Epoch 15/15 [Train]: 100%|██████████| 250/250 [00:58<00:00,  4.26it/s]\nEpoch 15/15 [Val]: 100%|██████████| 63/63 [00:14<00:00,  4.42it/s]",
          "output_type": "stream"
        },
        {
          "name": "stdout",
          "text": "Epoch 15/15, Train Loss: 1.7214, Train Acc: 0.3977, Val Loss: 1.8096, Val Acc: 0.3572\n",
          "output_type": "stream"
        },
        {
          "name": "stderr",
          "text": "\n",
          "output_type": "stream"
        },
        {
          "output_type": "display_data",
          "data": {
            "text/plain": "<IPython.core.display.HTML object>",
            "text/html": ""
          },
          "metadata": {}
        },
        {
          "output_type": "display_data",
          "data": {
            "text/plain": "<IPython.core.display.HTML object>",
            "text/html": "<br>    <style><br>        .wandb-row {<br>            display: flex;<br>            flex-direction: row;<br>            flex-wrap: wrap;<br>            justify-content: flex-start;<br>            width: 100%;<br>        }<br>        .wandb-col {<br>            display: flex;<br>            flex-direction: column;<br>            flex-basis: 100%;<br>            flex: 1;<br>            padding: 10px;<br>        }<br>    </style><br><div class=\"wandb-row\"><div class=\"wandb-col\"><h3>Run history:</h3><br/><table class=\"wandb\"><tr><td>epoch</td><td>▁▁▂▃▃▃▄▅▅▅▆▇▇▇█</td></tr><tr><td>train_accuracy</td><td>▁▂▃▃▄▅▅▅▆▆▆▇▇██</td></tr><tr><td>train_loss</td><td>█▇▆▆▅▅▅▄▄▃▃▂▂▁▁</td></tr><tr><td>val_accuracy</td><td>▁▃▃▄▅▅▅▆▆▇▇▇▇██</td></tr><tr><td>val_loss</td><td>█▇▆▆▅▄▄▃▃▂▂▁▂▁▁</td></tr></table><br/></div><div class=\"wandb-col\"><h3>Run summary:</h3><br/><table class=\"wandb\"><tr><td>epoch</td><td>15</td></tr><tr><td>train_accuracy</td><td>0.39775</td></tr><tr><td>train_loss</td><td>1.72137</td></tr><tr><td>val_accuracy</td><td>0.35718</td></tr><tr><td>val_loss</td><td>1.80964</td></tr></table><br/></div></div>"
          },
          "metadata": {}
        },
        {
          "output_type": "display_data",
          "data": {
            "text/plain": "<IPython.core.display.HTML object>",
            "text/html": " View run <strong style=\"color:#cdcd00\">stellar-sweep-6</strong> at: <a href='https://wandb.ai/manglesh-patidar-cs24m025/inaturalist-cnn/runs/co8we390' target=\"_blank\">https://wandb.ai/manglesh-patidar-cs24m025/inaturalist-cnn/runs/co8we390</a><br> View project at: <a href='https://wandb.ai/manglesh-patidar-cs24m025/inaturalist-cnn' target=\"_blank\">https://wandb.ai/manglesh-patidar-cs24m025/inaturalist-cnn</a><br>Synced 5 W&B file(s), 0 media file(s), 0 artifact file(s) and 0 other file(s)"
          },
          "metadata": {}
        },
        {
          "output_type": "display_data",
          "data": {
            "text/plain": "<IPython.core.display.HTML object>",
            "text/html": "Find logs at: <code>./wandb/run-20250415_105047-co8we390/logs</code>"
          },
          "metadata": {}
        },
        {
          "name": "stderr",
          "text": "\u001b[34m\u001b[1mwandb\u001b[0m: Agent Starting Run: 82umui72 with config:\n\u001b[34m\u001b[1mwandb\u001b[0m: \tactivation: gelu\n\u001b[34m\u001b[1mwandb\u001b[0m: \tbatch_norm_use: False\n\u001b[34m\u001b[1mwandb\u001b[0m: \tdata_aug: False\n\u001b[34m\u001b[1mwandb\u001b[0m: \tdropout: 0.3\n\u001b[34m\u001b[1mwandb\u001b[0m: \tepochs: 20\n\u001b[34m\u001b[1mwandb\u001b[0m: \tfc_layer: 512\n\u001b[34m\u001b[1mwandb\u001b[0m: \tfilter_counts: [16, 32, 64, 128, 256]\n\u001b[34m\u001b[1mwandb\u001b[0m: \tlearning_rate: 0.0005\n\u001b[34m\u001b[1mwandb\u001b[0m: \tshape_of_filters_conv: [[3, 3], [3, 3], [3, 3], [3, 3], [3, 3]]\n\u001b[34m\u001b[1mwandb\u001b[0m: \ttrain_batch_size: 128\n",
          "output_type": "stream"
        },
        {
          "output_type": "display_data",
          "data": {
            "text/plain": "<IPython.core.display.HTML object>",
            "text/html": "Tracking run with wandb version 0.19.6"
          },
          "metadata": {}
        },
        {
          "output_type": "display_data",
          "data": {
            "text/plain": "<IPython.core.display.HTML object>",
            "text/html": "Run data is saved locally in <code>/kaggle/working/wandb/run-20250415_110637-82umui72</code>"
          },
          "metadata": {}
        },
        {
          "output_type": "display_data",
          "data": {
            "text/plain": "<IPython.core.display.HTML object>",
            "text/html": "Syncing run <strong><a href='https://wandb.ai/manglesh-patidar-cs24m025/inaturalist-cnn/runs/82umui72' target=\"_blank\">apricot-sweep-7</a></strong> to <a href='https://wandb.ai/manglesh-patidar-cs24m025/inaturalist-cnn' target=\"_blank\">Weights & Biases</a> (<a href='https://wandb.me/developer-guide' target=\"_blank\">docs</a>)<br>Sweep page: <a href='https://wandb.ai/manglesh-patidar-cs24m025/inaturalist-cnn/sweeps/vad5l02n' target=\"_blank\">https://wandb.ai/manglesh-patidar-cs24m025/inaturalist-cnn/sweeps/vad5l02n</a>"
          },
          "metadata": {}
        },
        {
          "output_type": "display_data",
          "data": {
            "text/plain": "<IPython.core.display.HTML object>",
            "text/html": " View project at <a href='https://wandb.ai/manglesh-patidar-cs24m025/inaturalist-cnn' target=\"_blank\">https://wandb.ai/manglesh-patidar-cs24m025/inaturalist-cnn</a>"
          },
          "metadata": {}
        },
        {
          "output_type": "display_data",
          "data": {
            "text/plain": "<IPython.core.display.HTML object>",
            "text/html": " View sweep at <a href='https://wandb.ai/manglesh-patidar-cs24m025/inaturalist-cnn/sweeps/vad5l02n' target=\"_blank\">https://wandb.ai/manglesh-patidar-cs24m025/inaturalist-cnn/sweeps/vad5l02n</a>"
          },
          "metadata": {}
        },
        {
          "output_type": "display_data",
          "data": {
            "text/plain": "<IPython.core.display.HTML object>",
            "text/html": " View run at <a href='https://wandb.ai/manglesh-patidar-cs24m025/inaturalist-cnn/runs/82umui72' target=\"_blank\">https://wandb.ai/manglesh-patidar-cs24m025/inaturalist-cnn/runs/82umui72</a>"
          },
          "metadata": {}
        },
        {
          "name": "stdout",
          "text": "Using device: cuda\n",
          "output_type": "stream"
        },
        {
          "name": "stderr",
          "text": "Epoch 1/20 [Train]: 100%|██████████| 63/63 [00:52<00:00,  1.19it/s]\nEpoch 1/20 [Val]: 100%|██████████| 16/16 [00:12<00:00,  1.23it/s]\n",
          "output_type": "stream"
        },
        {
          "name": "stdout",
          "text": "Epoch 1/20, Train Loss: 2.2644, Train Acc: 0.1431, Val Loss: 2.2156, Val Acc: 0.1806\n",
          "output_type": "stream"
        },
        {
          "name": "stderr",
          "text": "Epoch 2/20 [Train]: 100%|██████████| 63/63 [00:47<00:00,  1.31it/s]\nEpoch 2/20 [Val]: 100%|██████████| 16/16 [00:10<00:00,  1.50it/s]\n",
          "output_type": "stream"
        },
        {
          "name": "stdout",
          "text": "Epoch 2/20, Train Loss: 2.1643, Train Acc: 0.2037, Val Loss: 2.1507, Val Acc: 0.2041\n",
          "output_type": "stream"
        },
        {
          "name": "stderr",
          "text": "Epoch 3/20 [Train]: 100%|██████████| 63/63 [00:45<00:00,  1.40it/s]\nEpoch 3/20 [Val]: 100%|██████████| 16/16 [00:10<00:00,  1.54it/s]\n",
          "output_type": "stream"
        },
        {
          "name": "stdout",
          "text": "Epoch 3/20, Train Loss: 2.1252, Train Acc: 0.2204, Val Loss: 2.1367, Val Acc: 0.1996\n",
          "output_type": "stream"
        },
        {
          "name": "stderr",
          "text": "Epoch 4/20 [Train]: 100%|██████████| 63/63 [00:40<00:00,  1.54it/s]\nEpoch 4/20 [Val]: 100%|██████████| 16/16 [00:10<00:00,  1.50it/s]\n",
          "output_type": "stream"
        },
        {
          "name": "stdout",
          "text": "Epoch 4/20, Train Loss: 2.0858, Train Acc: 0.2384, Val Loss: 2.0892, Val Acc: 0.2381\n",
          "output_type": "stream"
        },
        {
          "name": "stderr",
          "text": "Epoch 5/20 [Train]: 100%|██████████| 63/63 [00:41<00:00,  1.52it/s]\nEpoch 5/20 [Val]: 100%|██████████| 16/16 [00:10<00:00,  1.56it/s]\n",
          "output_type": "stream"
        },
        {
          "name": "stdout",
          "text": "Epoch 5/20, Train Loss: 2.0474, Train Acc: 0.2630, Val Loss: 2.0708, Val Acc: 0.2426\n",
          "output_type": "stream"
        },
        {
          "name": "stderr",
          "text": "Epoch 6/20 [Train]: 100%|██████████| 63/63 [00:41<00:00,  1.53it/s]\nEpoch 6/20 [Val]: 100%|██████████| 16/16 [00:10<00:00,  1.49it/s]\n",
          "output_type": "stream"
        },
        {
          "name": "stdout",
          "text": "Epoch 6/20, Train Loss: 2.0238, Train Acc: 0.2770, Val Loss: 2.0504, Val Acc: 0.2601\n",
          "output_type": "stream"
        },
        {
          "name": "stderr",
          "text": "Epoch 7/20 [Train]: 100%|██████████| 63/63 [00:41<00:00,  1.53it/s]\nEpoch 7/20 [Val]: 100%|██████████| 16/16 [00:10<00:00,  1.51it/s]\n",
          "output_type": "stream"
        },
        {
          "name": "stdout",
          "text": "Epoch 7/20, Train Loss: 1.9988, Train Acc: 0.2859, Val Loss: 2.0326, Val Acc: 0.2716\n",
          "output_type": "stream"
        },
        {
          "name": "stderr",
          "text": "Epoch 8/20 [Train]: 100%|██████████| 63/63 [00:42<00:00,  1.50it/s]\nEpoch 8/20 [Val]: 100%|██████████| 16/16 [00:10<00:00,  1.60it/s]\n",
          "output_type": "stream"
        },
        {
          "name": "stdout",
          "text": "Epoch 8/20, Train Loss: 1.9842, Train Acc: 0.2991, Val Loss: 2.0255, Val Acc: 0.2721\n",
          "output_type": "stream"
        },
        {
          "name": "stderr",
          "text": "Epoch 9/20 [Train]: 100%|██████████| 63/63 [00:40<00:00,  1.54it/s]\nEpoch 9/20 [Val]: 100%|██████████| 16/16 [00:10<00:00,  1.50it/s]\n",
          "output_type": "stream"
        },
        {
          "name": "stdout",
          "text": "Epoch 9/20, Train Loss: 1.9678, Train Acc: 0.3024, Val Loss: 2.0167, Val Acc: 0.2706\n",
          "output_type": "stream"
        },
        {
          "name": "stderr",
          "text": "Epoch 10/20 [Train]: 100%|██████████| 63/63 [00:40<00:00,  1.56it/s]\nEpoch 10/20 [Val]: 100%|██████████| 16/16 [00:10<00:00,  1.55it/s]\n",
          "output_type": "stream"
        },
        {
          "name": "stdout",
          "text": "Epoch 10/20, Train Loss: 1.9443, Train Acc: 0.3126, Val Loss: 1.9933, Val Acc: 0.2861\n",
          "output_type": "stream"
        },
        {
          "name": "stderr",
          "text": "Epoch 11/20 [Train]: 100%|██████████| 63/63 [00:41<00:00,  1.54it/s]\nEpoch 11/20 [Val]: 100%|██████████| 16/16 [00:10<00:00,  1.52it/s]\n",
          "output_type": "stream"
        },
        {
          "name": "stdout",
          "text": "Epoch 11/20, Train Loss: 1.9219, Train Acc: 0.3194, Val Loss: 1.9647, Val Acc: 0.2966\n",
          "output_type": "stream"
        },
        {
          "name": "stderr",
          "text": "Epoch 12/20 [Train]: 100%|██████████| 63/63 [00:41<00:00,  1.53it/s]\nEpoch 12/20 [Val]: 100%|██████████| 16/16 [00:10<00:00,  1.51it/s]\n",
          "output_type": "stream"
        },
        {
          "name": "stdout",
          "text": "Epoch 12/20, Train Loss: 1.9109, Train Acc: 0.3229, Val Loss: 1.9610, Val Acc: 0.2966\n",
          "output_type": "stream"
        },
        {
          "name": "stderr",
          "text": "Epoch 13/20 [Train]: 100%|██████████| 63/63 [00:41<00:00,  1.53it/s]\nEpoch 13/20 [Val]: 100%|██████████| 16/16 [00:10<00:00,  1.59it/s]\n",
          "output_type": "stream"
        },
        {
          "name": "stdout",
          "text": "Epoch 13/20, Train Loss: 1.8885, Train Acc: 0.3331, Val Loss: 1.9843, Val Acc: 0.2866\n",
          "output_type": "stream"
        },
        {
          "name": "stderr",
          "text": "Epoch 14/20 [Train]: 100%|██████████| 63/63 [00:41<00:00,  1.53it/s]\nEpoch 14/20 [Val]: 100%|██████████| 16/16 [00:10<00:00,  1.49it/s]\n",
          "output_type": "stream"
        },
        {
          "name": "stdout",
          "text": "Epoch 14/20, Train Loss: 1.8617, Train Acc: 0.3432, Val Loss: 1.9461, Val Acc: 0.2851\n",
          "output_type": "stream"
        },
        {
          "name": "stderr",
          "text": "Epoch 15/20 [Train]: 100%|██████████| 63/63 [00:41<00:00,  1.53it/s]\nEpoch 15/20 [Val]: 100%|██████████| 16/16 [00:10<00:00,  1.59it/s]\n",
          "output_type": "stream"
        },
        {
          "name": "stdout",
          "text": "Epoch 15/20, Train Loss: 1.8457, Train Acc: 0.3474, Val Loss: 1.9307, Val Acc: 0.2976\n",
          "output_type": "stream"
        },
        {
          "name": "stderr",
          "text": "Epoch 16/20 [Train]: 100%|██████████| 63/63 [00:44<00:00,  1.42it/s]\nEpoch 16/20 [Val]: 100%|██████████| 16/16 [00:10<00:00,  1.56it/s]\n",
          "output_type": "stream"
        },
        {
          "name": "stdout",
          "text": "Epoch 16/20, Train Loss: 1.8291, Train Acc: 0.3503, Val Loss: 1.9064, Val Acc: 0.3107\n",
          "output_type": "stream"
        },
        {
          "name": "stderr",
          "text": "Epoch 17/20 [Train]: 100%|██████████| 63/63 [00:45<00:00,  1.39it/s]\nEpoch 17/20 [Val]: 100%|██████████| 16/16 [00:10<00:00,  1.52it/s]\n",
          "output_type": "stream"
        },
        {
          "name": "stdout",
          "text": "Epoch 17/20, Train Loss: 1.8027, Train Acc: 0.3638, Val Loss: 1.8918, Val Acc: 0.3257\n",
          "output_type": "stream"
        },
        {
          "name": "stderr",
          "text": "Epoch 18/20 [Train]: 100%|██████████| 63/63 [00:42<00:00,  1.47it/s]\nEpoch 18/20 [Val]: 100%|██████████| 16/16 [00:10<00:00,  1.58it/s]\n",
          "output_type": "stream"
        },
        {
          "name": "stdout",
          "text": "Epoch 18/20, Train Loss: 1.7854, Train Acc: 0.3703, Val Loss: 1.9017, Val Acc: 0.3082\n",
          "output_type": "stream"
        },
        {
          "name": "stderr",
          "text": "Epoch 19/20 [Train]: 100%|██████████| 63/63 [00:41<00:00,  1.53it/s]\nEpoch 19/20 [Val]: 100%|██████████| 16/16 [00:10<00:00,  1.55it/s]\n",
          "output_type": "stream"
        },
        {
          "name": "stdout",
          "text": "Epoch 19/20, Train Loss: 1.7694, Train Acc: 0.3706, Val Loss: 1.8803, Val Acc: 0.3272\n",
          "output_type": "stream"
        },
        {
          "name": "stderr",
          "text": "Epoch 20/20 [Train]: 100%|██████████| 63/63 [00:41<00:00,  1.54it/s]\nEpoch 20/20 [Val]: 100%|██████████| 16/16 [00:10<00:00,  1.50it/s]",
          "output_type": "stream"
        },
        {
          "name": "stdout",
          "text": "Epoch 20/20, Train Loss: 1.7584, Train Acc: 0.3812, Val Loss: 1.8730, Val Acc: 0.3312\n",
          "output_type": "stream"
        },
        {
          "name": "stderr",
          "text": "\n",
          "output_type": "stream"
        },
        {
          "output_type": "display_data",
          "data": {
            "text/plain": "<IPython.core.display.HTML object>",
            "text/html": ""
          },
          "metadata": {}
        },
        {
          "output_type": "display_data",
          "data": {
            "text/plain": "<IPython.core.display.HTML object>",
            "text/html": "<br>    <style><br>        .wandb-row {<br>            display: flex;<br>            flex-direction: row;<br>            flex-wrap: wrap;<br>            justify-content: flex-start;<br>            width: 100%;<br>        }<br>        .wandb-col {<br>            display: flex;<br>            flex-direction: column;<br>            flex-basis: 100%;<br>            flex: 1;<br>            padding: 10px;<br>        }<br>    </style><br><div class=\"wandb-row\"><div class=\"wandb-col\"><h3>Run history:</h3><br/><table class=\"wandb\"><tr><td>epoch</td><td>▁▁▂▂▂▃▃▄▄▄▅▅▅▆▆▇▇▇██</td></tr><tr><td>train_accuracy</td><td>▁▃▃▄▅▅▅▆▆▆▆▆▇▇▇▇▇███</td></tr><tr><td>train_loss</td><td>█▇▆▆▅▅▄▄▄▄▃▃▃▂▂▂▂▁▁▁</td></tr><tr><td>val_accuracy</td><td>▁▂▂▄▄▅▅▅▅▆▆▆▆▆▆▇█▇██</td></tr><tr><td>val_loss</td><td>█▇▆▅▅▅▄▄▄▃▃▃▃▂▂▂▁▂▁▁</td></tr></table><br/></div><div class=\"wandb-col\"><h3>Run summary:</h3><br/><table class=\"wandb\"><tr><td>epoch</td><td>20</td></tr><tr><td>train_accuracy</td><td>0.38125</td></tr><tr><td>train_loss</td><td>1.75842</td></tr><tr><td>val_accuracy</td><td>0.33117</td></tr><tr><td>val_loss</td><td>1.87302</td></tr></table><br/></div></div>"
          },
          "metadata": {}
        },
        {
          "output_type": "display_data",
          "data": {
            "text/plain": "<IPython.core.display.HTML object>",
            "text/html": " View run <strong style=\"color:#cdcd00\">apricot-sweep-7</strong> at: <a href='https://wandb.ai/manglesh-patidar-cs24m025/inaturalist-cnn/runs/82umui72' target=\"_blank\">https://wandb.ai/manglesh-patidar-cs24m025/inaturalist-cnn/runs/82umui72</a><br> View project at: <a href='https://wandb.ai/manglesh-patidar-cs24m025/inaturalist-cnn' target=\"_blank\">https://wandb.ai/manglesh-patidar-cs24m025/inaturalist-cnn</a><br>Synced 5 W&B file(s), 0 media file(s), 0 artifact file(s) and 0 other file(s)"
          },
          "metadata": {}
        },
        {
          "output_type": "display_data",
          "data": {
            "text/plain": "<IPython.core.display.HTML object>",
            "text/html": "Find logs at: <code>./wandb/run-20250415_110637-82umui72/logs</code>"
          },
          "metadata": {}
        },
        {
          "name": "stderr",
          "text": "\u001b[34m\u001b[1mwandb\u001b[0m: Agent Starting Run: dp46mckc with config:\n\u001b[34m\u001b[1mwandb\u001b[0m: \tactivation: silu\n\u001b[34m\u001b[1mwandb\u001b[0m: \tbatch_norm_use: True\n\u001b[34m\u001b[1mwandb\u001b[0m: \tdata_aug: False\n\u001b[34m\u001b[1mwandb\u001b[0m: \tdropout: 0.5\n\u001b[34m\u001b[1mwandb\u001b[0m: \tepochs: 20\n\u001b[34m\u001b[1mwandb\u001b[0m: \tfc_layer: 256\n\u001b[34m\u001b[1mwandb\u001b[0m: \tfilter_counts: [16, 32, 64, 128, 256]\n\u001b[34m\u001b[1mwandb\u001b[0m: \tlearning_rate: 0.001\n\u001b[34m\u001b[1mwandb\u001b[0m: \tshape_of_filters_conv: [[3, 3], [3, 3], [3, 3], [5, 5], [7, 7]]\n\u001b[34m\u001b[1mwandb\u001b[0m: \ttrain_batch_size: 128\n",
          "output_type": "stream"
        },
        {
          "output_type": "display_data",
          "data": {
            "text/plain": "<IPython.core.display.HTML object>",
            "text/html": "Tracking run with wandb version 0.19.6"
          },
          "metadata": {}
        },
        {
          "output_type": "display_data",
          "data": {
            "text/plain": "<IPython.core.display.HTML object>",
            "text/html": "Run data is saved locally in <code>/kaggle/working/wandb/run-20250415_112439-dp46mckc</code>"
          },
          "metadata": {}
        },
        {
          "output_type": "display_data",
          "data": {
            "text/plain": "<IPython.core.display.HTML object>",
            "text/html": "Syncing run <strong><a href='https://wandb.ai/manglesh-patidar-cs24m025/inaturalist-cnn/runs/dp46mckc' target=\"_blank\">lunar-sweep-8</a></strong> to <a href='https://wandb.ai/manglesh-patidar-cs24m025/inaturalist-cnn' target=\"_blank\">Weights & Biases</a> (<a href='https://wandb.me/developer-guide' target=\"_blank\">docs</a>)<br>Sweep page: <a href='https://wandb.ai/manglesh-patidar-cs24m025/inaturalist-cnn/sweeps/vad5l02n' target=\"_blank\">https://wandb.ai/manglesh-patidar-cs24m025/inaturalist-cnn/sweeps/vad5l02n</a>"
          },
          "metadata": {}
        },
        {
          "output_type": "display_data",
          "data": {
            "text/plain": "<IPython.core.display.HTML object>",
            "text/html": " View project at <a href='https://wandb.ai/manglesh-patidar-cs24m025/inaturalist-cnn' target=\"_blank\">https://wandb.ai/manglesh-patidar-cs24m025/inaturalist-cnn</a>"
          },
          "metadata": {}
        },
        {
          "output_type": "display_data",
          "data": {
            "text/plain": "<IPython.core.display.HTML object>",
            "text/html": " View sweep at <a href='https://wandb.ai/manglesh-patidar-cs24m025/inaturalist-cnn/sweeps/vad5l02n' target=\"_blank\">https://wandb.ai/manglesh-patidar-cs24m025/inaturalist-cnn/sweeps/vad5l02n</a>"
          },
          "metadata": {}
        },
        {
          "output_type": "display_data",
          "data": {
            "text/plain": "<IPython.core.display.HTML object>",
            "text/html": " View run at <a href='https://wandb.ai/manglesh-patidar-cs24m025/inaturalist-cnn/runs/dp46mckc' target=\"_blank\">https://wandb.ai/manglesh-patidar-cs24m025/inaturalist-cnn/runs/dp46mckc</a>"
          },
          "metadata": {}
        },
        {
          "name": "stdout",
          "text": "Using device: cuda\n",
          "output_type": "stream"
        },
        {
          "name": "stderr",
          "text": "Epoch 1/20 [Train]: 100%|██████████| 63/63 [00:41<00:00,  1.51it/s]\nEpoch 1/20 [Val]: 100%|██████████| 16/16 [00:10<00:00,  1.53it/s]\n",
          "output_type": "stream"
        },
        {
          "name": "stdout",
          "text": "Epoch 1/20, Train Loss: 2.1277, Train Acc: 0.2279, Val Loss: 2.0343, Val Acc: 0.2801\n",
          "output_type": "stream"
        },
        {
          "name": "stderr",
          "text": "Epoch 2/20 [Train]: 100%|██████████| 63/63 [00:41<00:00,  1.51it/s]\nEpoch 2/20 [Val]: 100%|██████████| 16/16 [00:10<00:00,  1.53it/s]\n",
          "output_type": "stream"
        },
        {
          "name": "stdout",
          "text": "Epoch 2/20, Train Loss: 2.0234, Train Acc: 0.2684, Val Loss: 2.0412, Val Acc: 0.2676\n",
          "output_type": "stream"
        },
        {
          "name": "stderr",
          "text": "Epoch 3/20 [Train]: 100%|██████████| 63/63 [00:41<00:00,  1.52it/s]\nEpoch 3/20 [Val]: 100%|██████████| 16/16 [00:10<00:00,  1.55it/s]\n",
          "output_type": "stream"
        },
        {
          "name": "stdout",
          "text": "Epoch 3/20, Train Loss: 1.9639, Train Acc: 0.2914, Val Loss: 1.9425, Val Acc: 0.3042\n",
          "output_type": "stream"
        },
        {
          "name": "stderr",
          "text": "Epoch 4/20 [Train]: 100%|██████████| 63/63 [00:42<00:00,  1.49it/s]\nEpoch 4/20 [Val]: 100%|██████████| 16/16 [00:11<00:00,  1.45it/s]\n",
          "output_type": "stream"
        },
        {
          "name": "stdout",
          "text": "Epoch 4/20, Train Loss: 1.9047, Train Acc: 0.3135, Val Loss: 2.0410, Val Acc: 0.2866\n",
          "output_type": "stream"
        },
        {
          "name": "stderr",
          "text": "Epoch 5/20 [Train]: 100%|██████████| 63/63 [00:41<00:00,  1.51it/s]\nEpoch 5/20 [Val]: 100%|██████████| 16/16 [00:10<00:00,  1.58it/s]\n",
          "output_type": "stream"
        },
        {
          "name": "stdout",
          "text": "Epoch 5/20, Train Loss: 1.8747, Train Acc: 0.3245, Val Loss: 1.8804, Val Acc: 0.3292\n",
          "output_type": "stream"
        },
        {
          "name": "stderr",
          "text": "Epoch 6/20 [Train]: 100%|██████████| 63/63 [00:42<00:00,  1.48it/s]\nEpoch 6/20 [Val]: 100%|██████████| 16/16 [00:10<00:00,  1.58it/s]\n",
          "output_type": "stream"
        },
        {
          "name": "stdout",
          "text": "Epoch 6/20, Train Loss: 1.8400, Train Acc: 0.3365, Val Loss: 1.8137, Val Acc: 0.3602\n",
          "output_type": "stream"
        },
        {
          "name": "stderr",
          "text": "Epoch 7/20 [Train]: 100%|██████████| 63/63 [00:41<00:00,  1.51it/s]\nEpoch 7/20 [Val]: 100%|██████████| 16/16 [00:11<00:00,  1.43it/s]\n",
          "output_type": "stream"
        },
        {
          "name": "stdout",
          "text": "Epoch 7/20, Train Loss: 1.7928, Train Acc: 0.3644, Val Loss: 1.8321, Val Acc: 0.3607\n",
          "output_type": "stream"
        },
        {
          "name": "stderr",
          "text": "Epoch 8/20 [Train]: 100%|██████████| 63/63 [00:43<00:00,  1.45it/s]\nEpoch 8/20 [Val]: 100%|██████████| 16/16 [00:10<00:00,  1.47it/s]\n",
          "output_type": "stream"
        },
        {
          "name": "stdout",
          "text": "Epoch 8/20, Train Loss: 1.7577, Train Acc: 0.3776, Val Loss: 1.8886, Val Acc: 0.3272\n",
          "output_type": "stream"
        },
        {
          "name": "stderr",
          "text": "Epoch 9/20 [Train]: 100%|██████████| 63/63 [00:44<00:00,  1.42it/s]\nEpoch 9/20 [Val]: 100%|██████████| 16/16 [00:11<00:00,  1.40it/s]\n",
          "output_type": "stream"
        },
        {
          "name": "stdout",
          "text": "Epoch 9/20, Train Loss: 1.7052, Train Acc: 0.4009, Val Loss: 1.8210, Val Acc: 0.3662\n",
          "output_type": "stream"
        },
        {
          "name": "stderr",
          "text": "Epoch 10/20 [Train]: 100%|██████████| 63/63 [00:46<00:00,  1.34it/s]\nEpoch 10/20 [Val]: 100%|██████████| 16/16 [00:14<00:00,  1.11it/s]\n",
          "output_type": "stream"
        },
        {
          "name": "stdout",
          "text": "Epoch 10/20, Train Loss: 1.6705, Train Acc: 0.4181, Val Loss: 1.7601, Val Acc: 0.3822\n",
          "output_type": "stream"
        },
        {
          "name": "stderr",
          "text": "Epoch 11/20 [Train]: 100%|██████████| 63/63 [00:49<00:00,  1.28it/s]\nEpoch 11/20 [Val]: 100%|██████████| 16/16 [00:12<00:00,  1.28it/s]\n",
          "output_type": "stream"
        },
        {
          "name": "stdout",
          "text": "Epoch 11/20, Train Loss: 1.6332, Train Acc: 0.4226, Val Loss: 1.8264, Val Acc: 0.3607\n",
          "output_type": "stream"
        },
        {
          "name": "stderr",
          "text": "Epoch 12/20 [Train]: 100%|██████████| 63/63 [00:47<00:00,  1.33it/s]\nEpoch 12/20 [Val]: 100%|██████████| 16/16 [00:11<00:00,  1.34it/s]\n",
          "output_type": "stream"
        },
        {
          "name": "stdout",
          "text": "Epoch 12/20, Train Loss: 1.6014, Train Acc: 0.4406, Val Loss: 1.8213, Val Acc: 0.3782\n",
          "output_type": "stream"
        },
        {
          "name": "stderr",
          "text": "Epoch 13/20 [Train]: 100%|██████████| 63/63 [00:47<00:00,  1.32it/s]\nEpoch 13/20 [Val]: 100%|██████████| 16/16 [00:12<00:00,  1.33it/s]\n",
          "output_type": "stream"
        },
        {
          "name": "stdout",
          "text": "Epoch 13/20, Train Loss: 1.5588, Train Acc: 0.4535, Val Loss: 1.8511, Val Acc: 0.3802\n",
          "output_type": "stream"
        },
        {
          "name": "stderr",
          "text": "Epoch 14/20 [Train]: 100%|██████████| 63/63 [00:47<00:00,  1.34it/s]\nEpoch 14/20 [Val]: 100%|██████████| 16/16 [00:12<00:00,  1.32it/s]\n",
          "output_type": "stream"
        },
        {
          "name": "stdout",
          "text": "Epoch 14/20, Train Loss: 1.5055, Train Acc: 0.4714, Val Loss: 1.8296, Val Acc: 0.3892\n",
          "output_type": "stream"
        },
        {
          "name": "stderr",
          "text": "Epoch 15/20 [Train]: 100%|██████████| 63/63 [00:48<00:00,  1.30it/s]\nEpoch 15/20 [Val]: 100%|██████████| 16/16 [00:11<00:00,  1.41it/s]\n",
          "output_type": "stream"
        },
        {
          "name": "stdout",
          "text": "Epoch 15/20, Train Loss: 1.4754, Train Acc: 0.4783, Val Loss: 1.7375, Val Acc: 0.3992\n",
          "output_type": "stream"
        },
        {
          "name": "stderr",
          "text": "Epoch 16/20 [Train]: 100%|██████████| 63/63 [00:46<00:00,  1.36it/s]\nEpoch 16/20 [Val]: 100%|██████████| 16/16 [00:10<00:00,  1.50it/s]\n",
          "output_type": "stream"
        },
        {
          "name": "stdout",
          "text": "Epoch 16/20, Train Loss: 1.4304, Train Acc: 0.4989, Val Loss: 1.8113, Val Acc: 0.3712\n",
          "output_type": "stream"
        },
        {
          "name": "stderr",
          "text": "Epoch 17/20 [Train]: 100%|██████████| 63/63 [00:52<00:00,  1.19it/s]\nEpoch 17/20 [Val]: 100%|██████████| 16/16 [00:15<00:00,  1.06it/s]\n",
          "output_type": "stream"
        },
        {
          "name": "stdout",
          "text": "Epoch 17/20, Train Loss: 1.4069, Train Acc: 0.5108, Val Loss: 1.7037, Val Acc: 0.4362\n",
          "output_type": "stream"
        },
        {
          "name": "stderr",
          "text": "Epoch 18/20 [Train]: 100%|██████████| 63/63 [00:42<00:00,  1.49it/s]\nEpoch 18/20 [Val]: 100%|██████████| 16/16 [00:10<00:00,  1.55it/s]\n",
          "output_type": "stream"
        },
        {
          "name": "stdout",
          "text": "Epoch 18/20, Train Loss: 1.3366, Train Acc: 0.5321, Val Loss: 1.8241, Val Acc: 0.3932\n",
          "output_type": "stream"
        },
        {
          "name": "stderr",
          "text": "Epoch 19/20 [Train]: 100%|██████████| 63/63 [00:41<00:00,  1.51it/s]\nEpoch 19/20 [Val]: 100%|██████████| 16/16 [00:10<00:00,  1.50it/s]\n",
          "output_type": "stream"
        },
        {
          "name": "stdout",
          "text": "Epoch 19/20, Train Loss: 1.2806, Train Acc: 0.5549, Val Loss: 1.8558, Val Acc: 0.3972\n",
          "output_type": "stream"
        },
        {
          "name": "stderr",
          "text": "Epoch 20/20 [Train]: 100%|██████████| 63/63 [00:43<00:00,  1.44it/s]\nEpoch 20/20 [Val]: 100%|██████████| 16/16 [00:11<00:00,  1.44it/s]",
          "output_type": "stream"
        },
        {
          "name": "stdout",
          "text": "Epoch 20/20, Train Loss: 1.2322, Train Acc: 0.5676, Val Loss: 2.2171, Val Acc: 0.3427\n",
          "output_type": "stream"
        },
        {
          "name": "stderr",
          "text": "\n",
          "output_type": "stream"
        },
        {
          "output_type": "display_data",
          "data": {
            "text/plain": "<IPython.core.display.HTML object>",
            "text/html": ""
          },
          "metadata": {}
        },
        {
          "output_type": "display_data",
          "data": {
            "text/plain": "<IPython.core.display.HTML object>",
            "text/html": "<br>    <style><br>        .wandb-row {<br>            display: flex;<br>            flex-direction: row;<br>            flex-wrap: wrap;<br>            justify-content: flex-start;<br>            width: 100%;<br>        }<br>        .wandb-col {<br>            display: flex;<br>            flex-direction: column;<br>            flex-basis: 100%;<br>            flex: 1;<br>            padding: 10px;<br>        }<br>    </style><br><div class=\"wandb-row\"><div class=\"wandb-col\"><h3>Run history:</h3><br/><table class=\"wandb\"><tr><td>epoch</td><td>▁▁▂▂▂▃▃▄▄▄▅▅▅▆▆▇▇▇██</td></tr><tr><td>train_accuracy</td><td>▁▂▂▃▃▃▄▄▅▅▅▅▆▆▆▇▇▇██</td></tr><tr><td>train_loss</td><td>█▇▇▆▆▆▅▅▅▄▄▄▄▃▃▃▂▂▁▁</td></tr><tr><td>val_accuracy</td><td>▂▁▃▂▄▅▅▃▅▆▅▆▆▆▆▅█▆▆▄</td></tr><tr><td>val_loss</td><td>▆▆▄▆▃▂▃▄▃▂▃▃▃▃▁▂▁▃▃█</td></tr></table><br/></div><div class=\"wandb-col\"><h3>Run summary:</h3><br/><table class=\"wandb\"><tr><td>epoch</td><td>20</td></tr><tr><td>train_accuracy</td><td>0.56763</td></tr><tr><td>train_loss</td><td>1.23219</td></tr><tr><td>val_accuracy</td><td>0.34267</td></tr><tr><td>val_loss</td><td>2.21705</td></tr></table><br/></div></div>"
          },
          "metadata": {}
        },
        {
          "output_type": "display_data",
          "data": {
            "text/plain": "<IPython.core.display.HTML object>",
            "text/html": " View run <strong style=\"color:#cdcd00\">lunar-sweep-8</strong> at: <a href='https://wandb.ai/manglesh-patidar-cs24m025/inaturalist-cnn/runs/dp46mckc' target=\"_blank\">https://wandb.ai/manglesh-patidar-cs24m025/inaturalist-cnn/runs/dp46mckc</a><br> View project at: <a href='https://wandb.ai/manglesh-patidar-cs24m025/inaturalist-cnn' target=\"_blank\">https://wandb.ai/manglesh-patidar-cs24m025/inaturalist-cnn</a><br>Synced 5 W&B file(s), 0 media file(s), 0 artifact file(s) and 0 other file(s)"
          },
          "metadata": {}
        },
        {
          "output_type": "display_data",
          "data": {
            "text/plain": "<IPython.core.display.HTML object>",
            "text/html": "Find logs at: <code>./wandb/run-20250415_112439-dp46mckc/logs</code>"
          },
          "metadata": {}
        },
        {
          "name": "stderr",
          "text": "\u001b[34m\u001b[1mwandb\u001b[0m: Agent Starting Run: wffjsci7 with config:\n\u001b[34m\u001b[1mwandb\u001b[0m: \tactivation: silu\n\u001b[34m\u001b[1mwandb\u001b[0m: \tbatch_norm_use: True\n\u001b[34m\u001b[1mwandb\u001b[0m: \tdata_aug: False\n\u001b[34m\u001b[1mwandb\u001b[0m: \tdropout: 0.5\n\u001b[34m\u001b[1mwandb\u001b[0m: \tepochs: 20\n\u001b[34m\u001b[1mwandb\u001b[0m: \tfc_layer: 256\n\u001b[34m\u001b[1mwandb\u001b[0m: \tfilter_counts: [32, 32, 32, 32, 32]\n\u001b[34m\u001b[1mwandb\u001b[0m: \tlearning_rate: 0.0005\n\u001b[34m\u001b[1mwandb\u001b[0m: \tshape_of_filters_conv: [[7, 7], [5, 5], [3, 3], [3, 3], [3, 3]]\n\u001b[34m\u001b[1mwandb\u001b[0m: \ttrain_batch_size: 128\n",
          "output_type": "stream"
        },
        {
          "output_type": "display_data",
          "data": {
            "text/plain": "<IPython.core.display.HTML object>",
            "text/html": "Tracking run with wandb version 0.19.6"
          },
          "metadata": {}
        },
        {
          "output_type": "display_data",
          "data": {
            "text/plain": "<IPython.core.display.HTML object>",
            "text/html": "Run data is saved locally in <code>/kaggle/working/wandb/run-20250415_114341-wffjsci7</code>"
          },
          "metadata": {}
        },
        {
          "output_type": "display_data",
          "data": {
            "text/plain": "<IPython.core.display.HTML object>",
            "text/html": "Syncing run <strong><a href='https://wandb.ai/manglesh-patidar-cs24m025/inaturalist-cnn/runs/wffjsci7' target=\"_blank\">stellar-sweep-9</a></strong> to <a href='https://wandb.ai/manglesh-patidar-cs24m025/inaturalist-cnn' target=\"_blank\">Weights & Biases</a> (<a href='https://wandb.me/developer-guide' target=\"_blank\">docs</a>)<br>Sweep page: <a href='https://wandb.ai/manglesh-patidar-cs24m025/inaturalist-cnn/sweeps/vad5l02n' target=\"_blank\">https://wandb.ai/manglesh-patidar-cs24m025/inaturalist-cnn/sweeps/vad5l02n</a>"
          },
          "metadata": {}
        },
        {
          "output_type": "display_data",
          "data": {
            "text/plain": "<IPython.core.display.HTML object>",
            "text/html": " View project at <a href='https://wandb.ai/manglesh-patidar-cs24m025/inaturalist-cnn' target=\"_blank\">https://wandb.ai/manglesh-patidar-cs24m025/inaturalist-cnn</a>"
          },
          "metadata": {}
        },
        {
          "output_type": "display_data",
          "data": {
            "text/plain": "<IPython.core.display.HTML object>",
            "text/html": " View sweep at <a href='https://wandb.ai/manglesh-patidar-cs24m025/inaturalist-cnn/sweeps/vad5l02n' target=\"_blank\">https://wandb.ai/manglesh-patidar-cs24m025/inaturalist-cnn/sweeps/vad5l02n</a>"
          },
          "metadata": {}
        },
        {
          "output_type": "display_data",
          "data": {
            "text/plain": "<IPython.core.display.HTML object>",
            "text/html": " View run at <a href='https://wandb.ai/manglesh-patidar-cs24m025/inaturalist-cnn/runs/wffjsci7' target=\"_blank\">https://wandb.ai/manglesh-patidar-cs24m025/inaturalist-cnn/runs/wffjsci7</a>"
          },
          "metadata": {}
        },
        {
          "name": "stdout",
          "text": "Using device: cuda\n",
          "output_type": "stream"
        },
        {
          "name": "stderr",
          "text": "Epoch 1/20 [Train]: 100%|██████████| 63/63 [00:43<00:00,  1.45it/s]\nEpoch 1/20 [Val]: 100%|██████████| 16/16 [00:10<00:00,  1.49it/s]\n",
          "output_type": "stream"
        },
        {
          "name": "stdout",
          "text": "Epoch 1/20, Train Loss: 2.1944, Train Acc: 0.2016, Val Loss: 2.2234, Val Acc: 0.1746\n",
          "output_type": "stream"
        },
        {
          "name": "stderr",
          "text": "Epoch 2/20 [Train]: 100%|██████████| 63/63 [00:47<00:00,  1.33it/s]\nEpoch 2/20 [Val]: 100%|██████████| 16/16 [00:10<00:00,  1.47it/s]\n",
          "output_type": "stream"
        },
        {
          "name": "stdout",
          "text": "Epoch 2/20, Train Loss: 2.0803, Train Acc: 0.2512, Val Loss: 2.0945, Val Acc: 0.2496\n",
          "output_type": "stream"
        },
        {
          "name": "stderr",
          "text": "Epoch 3/20 [Train]: 100%|██████████| 63/63 [00:42<00:00,  1.47it/s]\nEpoch 3/20 [Val]: 100%|██████████| 16/16 [00:10<00:00,  1.52it/s]\n",
          "output_type": "stream"
        },
        {
          "name": "stdout",
          "text": "Epoch 3/20, Train Loss: 2.0292, Train Acc: 0.2696, Val Loss: 2.0332, Val Acc: 0.2626\n",
          "output_type": "stream"
        },
        {
          "name": "stderr",
          "text": "Epoch 4/20 [Train]: 100%|██████████| 63/63 [00:42<00:00,  1.47it/s]\nEpoch 4/20 [Val]: 100%|██████████| 16/16 [00:10<00:00,  1.53it/s]\n",
          "output_type": "stream"
        },
        {
          "name": "stdout",
          "text": "Epoch 4/20, Train Loss: 1.9929, Train Acc: 0.2792, Val Loss: 2.0467, Val Acc: 0.2576\n",
          "output_type": "stream"
        },
        {
          "name": "stderr",
          "text": "Epoch 5/20 [Train]: 100%|██████████| 63/63 [00:43<00:00,  1.45it/s]\nEpoch 5/20 [Val]: 100%|██████████| 16/16 [00:10<00:00,  1.49it/s]\n",
          "output_type": "stream"
        },
        {
          "name": "stdout",
          "text": "Epoch 5/20, Train Loss: 1.9611, Train Acc: 0.2916, Val Loss: 2.0414, Val Acc: 0.2736\n",
          "output_type": "stream"
        },
        {
          "name": "stderr",
          "text": "Epoch 6/20 [Train]: 100%|██████████| 63/63 [00:46<00:00,  1.37it/s]\nEpoch 6/20 [Val]: 100%|██████████| 16/16 [00:11<00:00,  1.33it/s]\n",
          "output_type": "stream"
        },
        {
          "name": "stdout",
          "text": "Epoch 6/20, Train Loss: 1.9285, Train Acc: 0.3103, Val Loss: 2.0315, Val Acc: 0.2626\n",
          "output_type": "stream"
        },
        {
          "name": "stderr",
          "text": "Epoch 7/20 [Train]: 100%|██████████| 63/63 [00:50<00:00,  1.24it/s]\nEpoch 7/20 [Val]: 100%|██████████| 16/16 [00:10<00:00,  1.50it/s]\n",
          "output_type": "stream"
        },
        {
          "name": "stdout",
          "text": "Epoch 7/20, Train Loss: 1.8978, Train Acc: 0.3113, Val Loss: 2.0035, Val Acc: 0.2911\n",
          "output_type": "stream"
        },
        {
          "name": "stderr",
          "text": "Epoch 8/20 [Train]: 100%|██████████| 63/63 [00:43<00:00,  1.44it/s]\nEpoch 8/20 [Val]: 100%|██████████| 16/16 [00:13<00:00,  1.16it/s]\n",
          "output_type": "stream"
        },
        {
          "name": "stdout",
          "text": "Epoch 8/20, Train Loss: 1.8793, Train Acc: 0.3230, Val Loss: 1.9316, Val Acc: 0.3097\n",
          "output_type": "stream"
        },
        {
          "name": "stderr",
          "text": "Epoch 9/20 [Train]: 100%|██████████| 63/63 [00:43<00:00,  1.43it/s]\nEpoch 9/20 [Val]: 100%|██████████| 16/16 [00:10<00:00,  1.59it/s]\n",
          "output_type": "stream"
        },
        {
          "name": "stdout",
          "text": "Epoch 9/20, Train Loss: 1.8440, Train Acc: 0.3335, Val Loss: 1.9280, Val Acc: 0.3052\n",
          "output_type": "stream"
        },
        {
          "name": "stderr",
          "text": "Epoch 10/20 [Train]: 100%|██████████| 63/63 [00:42<00:00,  1.47it/s]\nEpoch 10/20 [Val]: 100%|██████████| 16/16 [00:10<00:00,  1.53it/s]\n",
          "output_type": "stream"
        },
        {
          "name": "stdout",
          "text": "Epoch 10/20, Train Loss: 1.8340, Train Acc: 0.3439, Val Loss: 1.9579, Val Acc: 0.3147\n",
          "output_type": "stream"
        },
        {
          "name": "stderr",
          "text": "Epoch 11/20 [Train]: 100%|██████████| 63/63 [00:46<00:00,  1.35it/s]\nEpoch 11/20 [Val]: 100%|██████████| 16/16 [00:11<00:00,  1.41it/s]\n",
          "output_type": "stream"
        },
        {
          "name": "stdout",
          "text": "Epoch 11/20, Train Loss: 1.8137, Train Acc: 0.3593, Val Loss: 1.9823, Val Acc: 0.3067\n",
          "output_type": "stream"
        },
        {
          "name": "stderr",
          "text": "Epoch 12/20 [Train]: 100%|██████████| 63/63 [00:48<00:00,  1.29it/s]\nEpoch 12/20 [Val]: 100%|██████████| 16/16 [00:10<00:00,  1.51it/s]\n",
          "output_type": "stream"
        },
        {
          "name": "stdout",
          "text": "Epoch 12/20, Train Loss: 1.8011, Train Acc: 0.3585, Val Loss: 1.9293, Val Acc: 0.3072\n",
          "output_type": "stream"
        },
        {
          "name": "stderr",
          "text": "Epoch 13/20 [Train]: 100%|██████████| 63/63 [00:43<00:00,  1.43it/s]\nEpoch 13/20 [Val]: 100%|██████████| 16/16 [00:10<00:00,  1.52it/s]\n",
          "output_type": "stream"
        },
        {
          "name": "stdout",
          "text": "Epoch 13/20, Train Loss: 1.7677, Train Acc: 0.3633, Val Loss: 1.8808, Val Acc: 0.3247\n",
          "output_type": "stream"
        },
        {
          "name": "stderr",
          "text": "Epoch 14/20 [Train]: 100%|██████████| 63/63 [00:43<00:00,  1.44it/s]\nEpoch 14/20 [Val]: 100%|██████████| 16/16 [00:10<00:00,  1.57it/s]\n",
          "output_type": "stream"
        },
        {
          "name": "stdout",
          "text": "Epoch 14/20, Train Loss: 1.7617, Train Acc: 0.3724, Val Loss: 1.9497, Val Acc: 0.3122\n",
          "output_type": "stream"
        },
        {
          "name": "stderr",
          "text": "Epoch 15/20 [Train]: 100%|██████████| 63/63 [00:41<00:00,  1.52it/s]\nEpoch 15/20 [Val]: 100%|██████████| 16/16 [00:10<00:00,  1.51it/s]\n",
          "output_type": "stream"
        },
        {
          "name": "stdout",
          "text": "Epoch 15/20, Train Loss: 1.7399, Train Acc: 0.3800, Val Loss: 1.9398, Val Acc: 0.3237\n",
          "output_type": "stream"
        },
        {
          "name": "stderr",
          "text": "Epoch 16/20 [Train]: 100%|██████████| 63/63 [00:41<00:00,  1.52it/s]\nEpoch 16/20 [Val]: 100%|██████████| 16/16 [00:10<00:00,  1.52it/s]\n",
          "output_type": "stream"
        },
        {
          "name": "stdout",
          "text": "Epoch 16/20, Train Loss: 1.7145, Train Acc: 0.3872, Val Loss: 1.9234, Val Acc: 0.3187\n",
          "output_type": "stream"
        },
        {
          "name": "stderr",
          "text": "Epoch 17/20 [Train]: 100%|██████████| 63/63 [01:04<00:00,  1.02s/it]\nEpoch 17/20 [Val]: 100%|██████████| 16/16 [00:10<00:00,  1.52it/s]\n",
          "output_type": "stream"
        },
        {
          "name": "stdout",
          "text": "Epoch 17/20, Train Loss: 1.6982, Train Acc: 0.3959, Val Loss: 1.9298, Val Acc: 0.3257\n",
          "output_type": "stream"
        },
        {
          "name": "stderr",
          "text": "Epoch 18/20 [Train]: 100%|██████████| 63/63 [00:42<00:00,  1.49it/s]\nEpoch 18/20 [Val]: 100%|██████████| 16/16 [00:10<00:00,  1.53it/s]\n",
          "output_type": "stream"
        },
        {
          "name": "stdout",
          "text": "Epoch 18/20, Train Loss: 1.6768, Train Acc: 0.4057, Val Loss: 1.8412, Val Acc: 0.3757\n",
          "output_type": "stream"
        },
        {
          "name": "stderr",
          "text": "Epoch 19/20 [Train]: 100%|██████████| 63/63 [00:43<00:00,  1.45it/s]\nEpoch 19/20 [Val]: 100%|██████████| 16/16 [00:10<00:00,  1.50it/s]\n",
          "output_type": "stream"
        },
        {
          "name": "stdout",
          "text": "Epoch 19/20, Train Loss: 1.6573, Train Acc: 0.4120, Val Loss: 1.8569, Val Acc: 0.3452\n",
          "output_type": "stream"
        },
        {
          "name": "stderr",
          "text": "Epoch 20/20 [Train]: 100%|██████████| 63/63 [00:42<00:00,  1.49it/s]\nEpoch 20/20 [Val]: 100%|██████████| 16/16 [00:11<00:00,  1.43it/s]",
          "output_type": "stream"
        },
        {
          "name": "stdout",
          "text": "Epoch 20/20, Train Loss: 1.6332, Train Acc: 0.4183, Val Loss: 1.8217, Val Acc: 0.3587\n",
          "output_type": "stream"
        },
        {
          "name": "stderr",
          "text": "\n",
          "output_type": "stream"
        },
        {
          "output_type": "display_data",
          "data": {
            "text/plain": "<IPython.core.display.HTML object>",
            "text/html": ""
          },
          "metadata": {}
        },
        {
          "output_type": "display_data",
          "data": {
            "text/plain": "<IPython.core.display.HTML object>",
            "text/html": "<br>    <style><br>        .wandb-row {<br>            display: flex;<br>            flex-direction: row;<br>            flex-wrap: wrap;<br>            justify-content: flex-start;<br>            width: 100%;<br>        }<br>        .wandb-col {<br>            display: flex;<br>            flex-direction: column;<br>            flex-basis: 100%;<br>            flex: 1;<br>            padding: 10px;<br>        }<br>    </style><br><div class=\"wandb-row\"><div class=\"wandb-col\"><h3>Run history:</h3><br/><table class=\"wandb\"><tr><td>epoch</td><td>▁▁▂▂▂▃▃▄▄▄▅▅▅▆▆▇▇▇██</td></tr><tr><td>train_accuracy</td><td>▁▃▃▄▄▅▅▅▅▆▆▆▆▇▇▇▇███</td></tr><tr><td>train_loss</td><td>█▇▆▅▅▅▄▄▄▄▃▃▃▃▂▂▂▂▁▁</td></tr><tr><td>val_accuracy</td><td>▁▄▄▄▄▄▅▆▆▆▆▆▆▆▆▆▆█▇▇</td></tr><tr><td>val_loss</td><td>█▆▅▅▅▅▄▃▃▃▄▃▂▃▃▃▃▁▂▁</td></tr></table><br/></div><div class=\"wandb-col\"><h3>Run summary:</h3><br/><table class=\"wandb\"><tr><td>epoch</td><td>20</td></tr><tr><td>train_accuracy</td><td>0.41825</td></tr><tr><td>train_loss</td><td>1.63322</td></tr><tr><td>val_accuracy</td><td>0.35868</td></tr><tr><td>val_loss</td><td>1.82167</td></tr></table><br/></div></div>"
          },
          "metadata": {}
        },
        {
          "output_type": "display_data",
          "data": {
            "text/plain": "<IPython.core.display.HTML object>",
            "text/html": " View run <strong style=\"color:#cdcd00\">stellar-sweep-9</strong> at: <a href='https://wandb.ai/manglesh-patidar-cs24m025/inaturalist-cnn/runs/wffjsci7' target=\"_blank\">https://wandb.ai/manglesh-patidar-cs24m025/inaturalist-cnn/runs/wffjsci7</a><br> View project at: <a href='https://wandb.ai/manglesh-patidar-cs24m025/inaturalist-cnn' target=\"_blank\">https://wandb.ai/manglesh-patidar-cs24m025/inaturalist-cnn</a><br>Synced 5 W&B file(s), 0 media file(s), 0 artifact file(s) and 0 other file(s)"
          },
          "metadata": {}
        },
        {
          "output_type": "display_data",
          "data": {
            "text/plain": "<IPython.core.display.HTML object>",
            "text/html": "Find logs at: <code>./wandb/run-20250415_114341-wffjsci7/logs</code>"
          },
          "metadata": {}
        },
        {
          "name": "stderr",
          "text": "\u001b[34m\u001b[1mwandb\u001b[0m: Agent Starting Run: 6y13pjv2 with config:\n\u001b[34m\u001b[1mwandb\u001b[0m: \tactivation: mish\n\u001b[34m\u001b[1mwandb\u001b[0m: \tbatch_norm_use: False\n\u001b[34m\u001b[1mwandb\u001b[0m: \tdata_aug: True\n\u001b[34m\u001b[1mwandb\u001b[0m: \tdropout: 0.8\n\u001b[34m\u001b[1mwandb\u001b[0m: \tepochs: 20\n\u001b[34m\u001b[1mwandb\u001b[0m: \tfc_layer: 512\n\u001b[34m\u001b[1mwandb\u001b[0m: \tfilter_counts: [32, 64, 128, 256, 512]\n\u001b[34m\u001b[1mwandb\u001b[0m: \tlearning_rate: 0.0001\n\u001b[34m\u001b[1mwandb\u001b[0m: \tshape_of_filters_conv: [[3, 3], [3, 3], [3, 3], [5, 5], [7, 7]]\n\u001b[34m\u001b[1mwandb\u001b[0m: \ttrain_batch_size: 128\n",
          "output_type": "stream"
        },
        {
          "output_type": "display_data",
          "data": {
            "text/plain": "<IPython.core.display.HTML object>",
            "text/html": "Tracking run with wandb version 0.19.6"
          },
          "metadata": {}
        },
        {
          "output_type": "display_data",
          "data": {
            "text/plain": "<IPython.core.display.HTML object>",
            "text/html": "Run data is saved locally in <code>/kaggle/working/wandb/run-20250415_120242-6y13pjv2</code>"
          },
          "metadata": {}
        },
        {
          "output_type": "display_data",
          "data": {
            "text/plain": "<IPython.core.display.HTML object>",
            "text/html": "Syncing run <strong><a href='https://wandb.ai/manglesh-patidar-cs24m025/inaturalist-cnn/runs/6y13pjv2' target=\"_blank\">happy-sweep-10</a></strong> to <a href='https://wandb.ai/manglesh-patidar-cs24m025/inaturalist-cnn' target=\"_blank\">Weights & Biases</a> (<a href='https://wandb.me/developer-guide' target=\"_blank\">docs</a>)<br>Sweep page: <a href='https://wandb.ai/manglesh-patidar-cs24m025/inaturalist-cnn/sweeps/vad5l02n' target=\"_blank\">https://wandb.ai/manglesh-patidar-cs24m025/inaturalist-cnn/sweeps/vad5l02n</a>"
          },
          "metadata": {}
        },
        {
          "output_type": "display_data",
          "data": {
            "text/plain": "<IPython.core.display.HTML object>",
            "text/html": " View project at <a href='https://wandb.ai/manglesh-patidar-cs24m025/inaturalist-cnn' target=\"_blank\">https://wandb.ai/manglesh-patidar-cs24m025/inaturalist-cnn</a>"
          },
          "metadata": {}
        },
        {
          "output_type": "display_data",
          "data": {
            "text/plain": "<IPython.core.display.HTML object>",
            "text/html": " View sweep at <a href='https://wandb.ai/manglesh-patidar-cs24m025/inaturalist-cnn/sweeps/vad5l02n' target=\"_blank\">https://wandb.ai/manglesh-patidar-cs24m025/inaturalist-cnn/sweeps/vad5l02n</a>"
          },
          "metadata": {}
        },
        {
          "output_type": "display_data",
          "data": {
            "text/plain": "<IPython.core.display.HTML object>",
            "text/html": " View run at <a href='https://wandb.ai/manglesh-patidar-cs24m025/inaturalist-cnn/runs/6y13pjv2' target=\"_blank\">https://wandb.ai/manglesh-patidar-cs24m025/inaturalist-cnn/runs/6y13pjv2</a>"
          },
          "metadata": {}
        },
        {
          "name": "stdout",
          "text": "Using device: cuda\n",
          "output_type": "stream"
        },
        {
          "name": "stderr",
          "text": "Epoch 1/20 [Train]: 100%|██████████| 63/63 [00:42<00:00,  1.49it/s]\nEpoch 1/20 [Val]: 100%|██████████| 16/16 [00:11<00:00,  1.44it/s]\n",
          "output_type": "stream"
        },
        {
          "name": "stdout",
          "text": "Epoch 1/20, Train Loss: 2.2634, Train Acc: 0.1440, Val Loss: 2.2289, Val Acc: 0.1966\n",
          "output_type": "stream"
        },
        {
          "name": "stderr",
          "text": "Epoch 2/20 [Train]: 100%|██████████| 63/63 [00:42<00:00,  1.47it/s]\nEpoch 2/20 [Val]: 100%|██████████| 16/16 [00:10<00:00,  1.50it/s]\n",
          "output_type": "stream"
        },
        {
          "name": "stdout",
          "text": "Epoch 2/20, Train Loss: 2.1690, Train Acc: 0.2079, Val Loss: 2.1498, Val Acc: 0.2131\n",
          "output_type": "stream"
        },
        {
          "name": "stderr",
          "text": "Epoch 3/20 [Train]: 100%|██████████| 63/63 [00:43<00:00,  1.45it/s]\nEpoch 3/20 [Val]: 100%|██████████| 16/16 [00:12<00:00,  1.31it/s]\n",
          "output_type": "stream"
        },
        {
          "name": "stdout",
          "text": "Epoch 3/20, Train Loss: 2.1257, Train Acc: 0.2301, Val Loss: 2.1208, Val Acc: 0.2281\n",
          "output_type": "stream"
        },
        {
          "name": "stderr",
          "text": "Epoch 4/20 [Train]: 100%|██████████| 63/63 [00:46<00:00,  1.36it/s]\nEpoch 4/20 [Val]: 100%|██████████| 16/16 [00:11<00:00,  1.36it/s]\n",
          "output_type": "stream"
        },
        {
          "name": "stdout",
          "text": "Epoch 4/20, Train Loss: 2.0916, Train Acc: 0.2499, Val Loss: 2.0947, Val Acc: 0.2376\n",
          "output_type": "stream"
        },
        {
          "name": "stderr",
          "text": "Epoch 5/20 [Train]: 100%|██████████| 63/63 [00:47<00:00,  1.31it/s]\nEpoch 5/20 [Val]: 100%|██████████| 16/16 [00:12<00:00,  1.32it/s]\n",
          "output_type": "stream"
        },
        {
          "name": "stdout",
          "text": "Epoch 5/20, Train Loss: 2.0675, Train Acc: 0.2675, Val Loss: 2.0881, Val Acc: 0.2456\n",
          "output_type": "stream"
        },
        {
          "name": "stderr",
          "text": "Epoch 6/20 [Train]: 100%|██████████| 63/63 [00:48<00:00,  1.31it/s]\nEpoch 6/20 [Val]: 100%|██████████| 16/16 [00:11<00:00,  1.37it/s]\n",
          "output_type": "stream"
        },
        {
          "name": "stdout",
          "text": "Epoch 6/20, Train Loss: 2.0466, Train Acc: 0.2724, Val Loss: 2.0688, Val Acc: 0.2546\n",
          "output_type": "stream"
        },
        {
          "name": "stderr",
          "text": "Epoch 7/20 [Train]: 100%|██████████| 63/63 [00:43<00:00,  1.46it/s]\nEpoch 7/20 [Val]: 100%|██████████| 16/16 [00:11<00:00,  1.43it/s]\n",
          "output_type": "stream"
        },
        {
          "name": "stdout",
          "text": "Epoch 7/20, Train Loss: 2.0343, Train Acc: 0.2769, Val Loss: 2.0709, Val Acc: 0.2571\n",
          "output_type": "stream"
        },
        {
          "name": "stderr",
          "text": "Epoch 8/20 [Train]: 100%|██████████| 63/63 [00:46<00:00,  1.36it/s]\nEpoch 8/20 [Val]: 100%|██████████| 16/16 [00:10<00:00,  1.49it/s]\n",
          "output_type": "stream"
        },
        {
          "name": "stdout",
          "text": "Epoch 8/20, Train Loss: 2.0107, Train Acc: 0.2894, Val Loss: 2.0393, Val Acc: 0.2606\n",
          "output_type": "stream"
        },
        {
          "name": "stderr",
          "text": "Epoch 9/20 [Train]: 100%|██████████| 63/63 [00:50<00:00,  1.24it/s]\nEpoch 9/20 [Val]: 100%|██████████| 16/16 [00:11<00:00,  1.38it/s]\n",
          "output_type": "stream"
        },
        {
          "name": "stdout",
          "text": "Epoch 9/20, Train Loss: 1.9968, Train Acc: 0.2891, Val Loss: 2.0350, Val Acc: 0.2681\n",
          "output_type": "stream"
        },
        {
          "name": "stderr",
          "text": "Epoch 10/20 [Train]: 100%|██████████| 63/63 [00:58<00:00,  1.08it/s]\nEpoch 10/20 [Val]: 100%|██████████| 16/16 [00:11<00:00,  1.44it/s]\n",
          "output_type": "stream"
        },
        {
          "name": "stdout",
          "text": "Epoch 10/20, Train Loss: 1.9830, Train Acc: 0.2981, Val Loss: 2.0253, Val Acc: 0.2746\n",
          "output_type": "stream"
        },
        {
          "name": "stderr",
          "text": "Epoch 11/20 [Train]: 100%|██████████| 63/63 [00:51<00:00,  1.23it/s]\nEpoch 11/20 [Val]: 100%|██████████| 16/16 [00:11<00:00,  1.36it/s]\n",
          "output_type": "stream"
        },
        {
          "name": "stdout",
          "text": "Epoch 11/20, Train Loss: 1.9719, Train Acc: 0.3029, Val Loss: 2.0199, Val Acc: 0.2726\n",
          "output_type": "stream"
        },
        {
          "name": "stderr",
          "text": "Epoch 12/20 [Train]: 100%|██████████| 63/63 [00:45<00:00,  1.37it/s]\nEpoch 12/20 [Val]: 100%|██████████| 16/16 [00:17<00:00,  1.09s/it]\n",
          "output_type": "stream"
        },
        {
          "name": "stdout",
          "text": "Epoch 12/20, Train Loss: 1.9615, Train Acc: 0.3029, Val Loss: 2.0044, Val Acc: 0.2811\n",
          "output_type": "stream"
        },
        {
          "name": "stderr",
          "text": "Epoch 13/20 [Train]: 100%|██████████| 63/63 [00:44<00:00,  1.41it/s]\nEpoch 13/20 [Val]: 100%|██████████| 16/16 [00:11<00:00,  1.45it/s]\n",
          "output_type": "stream"
        },
        {
          "name": "stdout",
          "text": "Epoch 13/20, Train Loss: 1.9507, Train Acc: 0.3118, Val Loss: 1.9830, Val Acc: 0.2836\n",
          "output_type": "stream"
        },
        {
          "name": "stderr",
          "text": "Epoch 14/20 [Train]: 100%|██████████| 63/63 [00:43<00:00,  1.46it/s]\nEpoch 14/20 [Val]: 100%|██████████| 16/16 [00:10<00:00,  1.50it/s]\n",
          "output_type": "stream"
        },
        {
          "name": "stdout",
          "text": "Epoch 14/20, Train Loss: 1.9273, Train Acc: 0.3134, Val Loss: 1.9637, Val Acc: 0.2946\n",
          "output_type": "stream"
        },
        {
          "name": "stderr",
          "text": "Epoch 15/20 [Train]: 100%|██████████| 63/63 [00:43<00:00,  1.45it/s]\nEpoch 15/20 [Val]: 100%|██████████| 16/16 [00:11<00:00,  1.42it/s]\n",
          "output_type": "stream"
        },
        {
          "name": "stdout",
          "text": "Epoch 15/20, Train Loss: 1.9212, Train Acc: 0.3237, Val Loss: 1.9636, Val Acc: 0.2921\n",
          "output_type": "stream"
        },
        {
          "name": "stderr",
          "text": "Epoch 16/20 [Train]: 100%|██████████| 63/63 [00:49<00:00,  1.28it/s]\nEpoch 16/20 [Val]: 100%|██████████| 16/16 [00:11<00:00,  1.40it/s]\n",
          "output_type": "stream"
        },
        {
          "name": "stdout",
          "text": "Epoch 16/20, Train Loss: 1.9022, Train Acc: 0.3311, Val Loss: 1.9481, Val Acc: 0.3022\n",
          "output_type": "stream"
        },
        {
          "name": "stderr",
          "text": "Epoch 17/20 [Train]: 100%|██████████| 63/63 [00:42<00:00,  1.47it/s]\nEpoch 17/20 [Val]: 100%|██████████| 16/16 [00:11<00:00,  1.41it/s]\n",
          "output_type": "stream"
        },
        {
          "name": "stdout",
          "text": "Epoch 17/20, Train Loss: 1.8893, Train Acc: 0.3325, Val Loss: 1.9472, Val Acc: 0.2951\n",
          "output_type": "stream"
        },
        {
          "name": "stderr",
          "text": "Epoch 18/20 [Train]: 100%|██████████| 63/63 [00:44<00:00,  1.41it/s]\nEpoch 18/20 [Val]: 100%|██████████| 16/16 [00:11<00:00,  1.38it/s]\n",
          "output_type": "stream"
        },
        {
          "name": "stdout",
          "text": "Epoch 18/20, Train Loss: 1.8792, Train Acc: 0.3370, Val Loss: 1.9280, Val Acc: 0.3097\n",
          "output_type": "stream"
        },
        {
          "name": "stderr",
          "text": "Epoch 19/20 [Train]: 100%|██████████| 63/63 [00:46<00:00,  1.37it/s]\nEpoch 19/20 [Val]: 100%|██████████| 16/16 [00:12<00:00,  1.26it/s]\n",
          "output_type": "stream"
        },
        {
          "name": "stdout",
          "text": "Epoch 19/20, Train Loss: 1.8565, Train Acc: 0.3475, Val Loss: 1.9256, Val Acc: 0.3167\n",
          "output_type": "stream"
        },
        {
          "name": "stderr",
          "text": "Epoch 20/20 [Train]: 100%|██████████| 63/63 [00:46<00:00,  1.35it/s]\nEpoch 20/20 [Val]: 100%|██████████| 16/16 [00:11<00:00,  1.45it/s]",
          "output_type": "stream"
        },
        {
          "name": "stdout",
          "text": "Epoch 20/20, Train Loss: 1.8522, Train Acc: 0.3468, Val Loss: 1.9067, Val Acc: 0.3202\n",
          "output_type": "stream"
        },
        {
          "name": "stderr",
          "text": "\n",
          "output_type": "stream"
        },
        {
          "output_type": "display_data",
          "data": {
            "text/plain": "<IPython.core.display.HTML object>",
            "text/html": ""
          },
          "metadata": {}
        },
        {
          "output_type": "display_data",
          "data": {
            "text/plain": "<IPython.core.display.HTML object>",
            "text/html": "<br>    <style><br>        .wandb-row {<br>            display: flex;<br>            flex-direction: row;<br>            flex-wrap: wrap;<br>            justify-content: flex-start;<br>            width: 100%;<br>        }<br>        .wandb-col {<br>            display: flex;<br>            flex-direction: column;<br>            flex-basis: 100%;<br>            flex: 1;<br>            padding: 10px;<br>        }<br>    </style><br><div class=\"wandb-row\"><div class=\"wandb-col\"><h3>Run history:</h3><br/><table class=\"wandb\"><tr><td>epoch</td><td>▁▁▂▂▂▃▃▄▄▄▅▅▅▆▆▇▇▇██</td></tr><tr><td>train_accuracy</td><td>▁▃▄▅▅▅▆▆▆▆▆▆▇▇▇▇▇███</td></tr><tr><td>train_loss</td><td>█▆▆▅▅▄▄▄▃▃▃▃▃▂▂▂▂▁▁▁</td></tr><tr><td>val_accuracy</td><td>▁▂▃▃▄▄▄▅▅▅▅▆▆▇▆▇▇▇██</td></tr><tr><td>val_loss</td><td>█▆▆▅▅▅▅▄▄▄▃▃▃▂▂▂▂▁▁▁</td></tr></table><br/></div><div class=\"wandb-col\"><h3>Run summary:</h3><br/><table class=\"wandb\"><tr><td>epoch</td><td>20</td></tr><tr><td>train_accuracy</td><td>0.34675</td></tr><tr><td>train_loss</td><td>1.85223</td></tr><tr><td>val_accuracy</td><td>0.32016</td></tr><tr><td>val_loss</td><td>1.90674</td></tr></table><br/></div></div>"
          },
          "metadata": {}
        },
        {
          "output_type": "display_data",
          "data": {
            "text/plain": "<IPython.core.display.HTML object>",
            "text/html": " View run <strong style=\"color:#cdcd00\">happy-sweep-10</strong> at: <a href='https://wandb.ai/manglesh-patidar-cs24m025/inaturalist-cnn/runs/6y13pjv2' target=\"_blank\">https://wandb.ai/manglesh-patidar-cs24m025/inaturalist-cnn/runs/6y13pjv2</a><br> View project at: <a href='https://wandb.ai/manglesh-patidar-cs24m025/inaturalist-cnn' target=\"_blank\">https://wandb.ai/manglesh-patidar-cs24m025/inaturalist-cnn</a><br>Synced 5 W&B file(s), 0 media file(s), 0 artifact file(s) and 0 other file(s)"
          },
          "metadata": {}
        },
        {
          "output_type": "display_data",
          "data": {
            "text/plain": "<IPython.core.display.HTML object>",
            "text/html": "Find logs at: <code>./wandb/run-20250415_120242-6y13pjv2/logs</code>"
          },
          "metadata": {}
        },
        {
          "name": "stderr",
          "text": "\u001b[34m\u001b[1mwandb\u001b[0m: Agent Starting Run: gtcw2uwu with config:\n\u001b[34m\u001b[1mwandb\u001b[0m: \tactivation: mish\n\u001b[34m\u001b[1mwandb\u001b[0m: \tbatch_norm_use: False\n\u001b[34m\u001b[1mwandb\u001b[0m: \tdata_aug: False\n\u001b[34m\u001b[1mwandb\u001b[0m: \tdropout: 0.5\n\u001b[34m\u001b[1mwandb\u001b[0m: \tepochs: 20\n\u001b[34m\u001b[1mwandb\u001b[0m: \tfc_layer: 256\n\u001b[34m\u001b[1mwandb\u001b[0m: \tfilter_counts: [32, 32, 32, 32, 32]\n\u001b[34m\u001b[1mwandb\u001b[0m: \tlearning_rate: 0.0001\n\u001b[34m\u001b[1mwandb\u001b[0m: \tshape_of_filters_conv: [[3, 3], [3, 3], [3, 3], [5, 5], [7, 7]]\n\u001b[34m\u001b[1mwandb\u001b[0m: \ttrain_batch_size: 128\n",
          "output_type": "stream"
        },
        {
          "output_type": "display_data",
          "data": {
            "text/plain": "<IPython.core.display.HTML object>",
            "text/html": "Tracking run with wandb version 0.19.6"
          },
          "metadata": {}
        },
        {
          "output_type": "display_data",
          "data": {
            "text/plain": "<IPython.core.display.HTML object>",
            "text/html": "Run data is saved locally in <code>/kaggle/working/wandb/run-20250415_122219-gtcw2uwu</code>"
          },
          "metadata": {}
        },
        {
          "output_type": "display_data",
          "data": {
            "text/plain": "<IPython.core.display.HTML object>",
            "text/html": "Syncing run <strong><a href='https://wandb.ai/manglesh-patidar-cs24m025/inaturalist-cnn/runs/gtcw2uwu' target=\"_blank\">lucky-sweep-11</a></strong> to <a href='https://wandb.ai/manglesh-patidar-cs24m025/inaturalist-cnn' target=\"_blank\">Weights & Biases</a> (<a href='https://wandb.me/developer-guide' target=\"_blank\">docs</a>)<br>Sweep page: <a href='https://wandb.ai/manglesh-patidar-cs24m025/inaturalist-cnn/sweeps/vad5l02n' target=\"_blank\">https://wandb.ai/manglesh-patidar-cs24m025/inaturalist-cnn/sweeps/vad5l02n</a>"
          },
          "metadata": {}
        },
        {
          "output_type": "display_data",
          "data": {
            "text/plain": "<IPython.core.display.HTML object>",
            "text/html": " View project at <a href='https://wandb.ai/manglesh-patidar-cs24m025/inaturalist-cnn' target=\"_blank\">https://wandb.ai/manglesh-patidar-cs24m025/inaturalist-cnn</a>"
          },
          "metadata": {}
        },
        {
          "output_type": "display_data",
          "data": {
            "text/plain": "<IPython.core.display.HTML object>",
            "text/html": " View sweep at <a href='https://wandb.ai/manglesh-patidar-cs24m025/inaturalist-cnn/sweeps/vad5l02n' target=\"_blank\">https://wandb.ai/manglesh-patidar-cs24m025/inaturalist-cnn/sweeps/vad5l02n</a>"
          },
          "metadata": {}
        },
        {
          "output_type": "display_data",
          "data": {
            "text/plain": "<IPython.core.display.HTML object>",
            "text/html": " View run at <a href='https://wandb.ai/manglesh-patidar-cs24m025/inaturalist-cnn/runs/gtcw2uwu' target=\"_blank\">https://wandb.ai/manglesh-patidar-cs24m025/inaturalist-cnn/runs/gtcw2uwu</a>"
          },
          "metadata": {}
        },
        {
          "name": "stdout",
          "text": "Using device: cuda\n",
          "output_type": "stream"
        },
        {
          "name": "stderr",
          "text": "Epoch 1/20 [Train]: 100%|██████████| 63/63 [00:47<00:00,  1.33it/s]\nEpoch 1/20 [Val]: 100%|██████████| 16/16 [00:10<00:00,  1.58it/s]\n",
          "output_type": "stream"
        },
        {
          "name": "stdout",
          "text": "Epoch 1/20, Train Loss: 2.2967, Train Acc: 0.1170, Val Loss: 2.2673, Val Acc: 0.1401\n",
          "output_type": "stream"
        },
        {
          "name": "stderr",
          "text": "Epoch 2/20 [Train]: 100%|██████████| 63/63 [00:41<00:00,  1.52it/s]\nEpoch 2/20 [Val]: 100%|██████████| 16/16 [00:10<00:00,  1.55it/s]\n",
          "output_type": "stream"
        },
        {
          "name": "stdout",
          "text": "Epoch 2/20, Train Loss: 2.2629, Train Acc: 0.1439, Val Loss: 2.2445, Val Acc: 0.1686\n",
          "output_type": "stream"
        },
        {
          "name": "stderr",
          "text": "Epoch 3/20 [Train]: 100%|██████████| 63/63 [00:41<00:00,  1.51it/s]\nEpoch 3/20 [Val]: 100%|██████████| 16/16 [00:10<00:00,  1.54it/s]\n",
          "output_type": "stream"
        },
        {
          "name": "stdout",
          "text": "Epoch 3/20, Train Loss: 2.2398, Train Acc: 0.1640, Val Loss: 2.2135, Val Acc: 0.1816\n",
          "output_type": "stream"
        },
        {
          "name": "stderr",
          "text": "Epoch 4/20 [Train]: 100%|██████████| 63/63 [00:42<00:00,  1.49it/s]\nEpoch 4/20 [Val]: 100%|██████████| 16/16 [00:10<00:00,  1.54it/s]\n",
          "output_type": "stream"
        },
        {
          "name": "stdout",
          "text": "Epoch 4/20, Train Loss: 2.2091, Train Acc: 0.1799, Val Loss: 2.1787, Val Acc: 0.2041\n",
          "output_type": "stream"
        },
        {
          "name": "stderr",
          "text": "Epoch 5/20 [Train]: 100%|██████████| 63/63 [00:41<00:00,  1.51it/s]\nEpoch 5/20 [Val]: 100%|██████████| 16/16 [00:10<00:00,  1.53it/s]\n",
          "output_type": "stream"
        },
        {
          "name": "stdout",
          "text": "Epoch 5/20, Train Loss: 2.1860, Train Acc: 0.1930, Val Loss: 2.1610, Val Acc: 0.2121\n",
          "output_type": "stream"
        },
        {
          "name": "stderr",
          "text": "Epoch 6/20 [Train]: 100%|██████████| 63/63 [00:41<00:00,  1.52it/s]\nEpoch 6/20 [Val]: 100%|██████████| 16/16 [00:10<00:00,  1.50it/s]\n",
          "output_type": "stream"
        },
        {
          "name": "stdout",
          "text": "Epoch 6/20, Train Loss: 2.1682, Train Acc: 0.2005, Val Loss: 2.1498, Val Acc: 0.2081\n",
          "output_type": "stream"
        },
        {
          "name": "stderr",
          "text": "Epoch 7/20 [Train]: 100%|██████████| 63/63 [00:43<00:00,  1.44it/s]\nEpoch 7/20 [Val]: 100%|██████████| 16/16 [00:10<00:00,  1.60it/s]\n",
          "output_type": "stream"
        },
        {
          "name": "stdout",
          "text": "Epoch 7/20, Train Loss: 2.1523, Train Acc: 0.2090, Val Loss: 2.1380, Val Acc: 0.2181\n",
          "output_type": "stream"
        },
        {
          "name": "stderr",
          "text": "Epoch 8/20 [Train]: 100%|██████████| 63/63 [00:40<00:00,  1.55it/s]\nEpoch 8/20 [Val]: 100%|██████████| 16/16 [00:10<00:00,  1.50it/s]\n",
          "output_type": "stream"
        },
        {
          "name": "stdout",
          "text": "Epoch 8/20, Train Loss: 2.1462, Train Acc: 0.2100, Val Loss: 2.1324, Val Acc: 0.2316\n",
          "output_type": "stream"
        },
        {
          "name": "stderr",
          "text": "Epoch 9/20 [Train]: 100%|██████████| 63/63 [00:42<00:00,  1.48it/s]\nEpoch 9/20 [Val]: 100%|██████████| 16/16 [00:09<00:00,  1.60it/s]\n",
          "output_type": "stream"
        },
        {
          "name": "stdout",
          "text": "Epoch 9/20, Train Loss: 2.1297, Train Acc: 0.2164, Val Loss: 2.1193, Val Acc: 0.2471\n",
          "output_type": "stream"
        },
        {
          "name": "stderr",
          "text": "Epoch 10/20 [Train]: 100%|██████████| 63/63 [00:41<00:00,  1.52it/s]\nEpoch 10/20 [Val]: 100%|██████████| 16/16 [00:10<00:00,  1.51it/s]\n",
          "output_type": "stream"
        },
        {
          "name": "stdout",
          "text": "Epoch 10/20, Train Loss: 2.1213, Train Acc: 0.2223, Val Loss: 2.1106, Val Acc: 0.2551\n",
          "output_type": "stream"
        },
        {
          "name": "stderr",
          "text": "Epoch 11/20 [Train]: 100%|██████████| 63/63 [00:41<00:00,  1.52it/s]\nEpoch 11/20 [Val]: 100%|██████████| 16/16 [00:10<00:00,  1.60it/s]\n",
          "output_type": "stream"
        },
        {
          "name": "stdout",
          "text": "Epoch 11/20, Train Loss: 2.1136, Train Acc: 0.2219, Val Loss: 2.1004, Val Acc: 0.2531\n",
          "output_type": "stream"
        },
        {
          "name": "stderr",
          "text": "Epoch 12/20 [Train]: 100%|██████████| 63/63 [00:44<00:00,  1.43it/s]\nEpoch 12/20 [Val]: 100%|██████████| 16/16 [00:10<00:00,  1.51it/s]\n",
          "output_type": "stream"
        },
        {
          "name": "stdout",
          "text": "Epoch 12/20, Train Loss: 2.1026, Train Acc: 0.2329, Val Loss: 2.0978, Val Acc: 0.2541\n",
          "output_type": "stream"
        },
        {
          "name": "stderr",
          "text": "Epoch 13/20 [Train]: 100%|██████████| 63/63 [00:44<00:00,  1.43it/s]\nEpoch 13/20 [Val]: 100%|██████████| 16/16 [00:10<00:00,  1.57it/s]\n",
          "output_type": "stream"
        },
        {
          "name": "stdout",
          "text": "Epoch 13/20, Train Loss: 2.0928, Train Acc: 0.2361, Val Loss: 2.0865, Val Acc: 0.2566\n",
          "output_type": "stream"
        },
        {
          "name": "stderr",
          "text": "Epoch 14/20 [Train]: 100%|██████████| 63/63 [00:41<00:00,  1.53it/s]\nEpoch 14/20 [Val]: 100%|██████████| 16/16 [00:10<00:00,  1.57it/s]\n",
          "output_type": "stream"
        },
        {
          "name": "stdout",
          "text": "Epoch 14/20, Train Loss: 2.0865, Train Acc: 0.2396, Val Loss: 2.0898, Val Acc: 0.2536\n",
          "output_type": "stream"
        },
        {
          "name": "stderr",
          "text": "Epoch 15/20 [Train]: 100%|██████████| 63/63 [00:51<00:00,  1.23it/s]\nEpoch 15/20 [Val]: 100%|██████████| 16/16 [00:15<00:00,  1.06it/s]\n",
          "output_type": "stream"
        },
        {
          "name": "stdout",
          "text": "Epoch 15/20, Train Loss: 2.0778, Train Acc: 0.2404, Val Loss: 2.0804, Val Acc: 0.2551\n",
          "output_type": "stream"
        },
        {
          "name": "stderr",
          "text": "Epoch 16/20 [Train]: 100%|██████████| 63/63 [00:58<00:00,  1.08it/s]\nEpoch 16/20 [Val]: 100%|██████████| 16/16 [00:13<00:00,  1.17it/s]\n",
          "output_type": "stream"
        },
        {
          "name": "stdout",
          "text": "Epoch 16/20, Train Loss: 2.0692, Train Acc: 0.2451, Val Loss: 2.0707, Val Acc: 0.2581\n",
          "output_type": "stream"
        },
        {
          "name": "stderr",
          "text": "Epoch 17/20 [Train]: 100%|██████████| 63/63 [00:54<00:00,  1.15it/s]\nEpoch 17/20 [Val]: 100%|██████████| 16/16 [00:13<00:00,  1.22it/s]\n",
          "output_type": "stream"
        },
        {
          "name": "stdout",
          "text": "Epoch 17/20, Train Loss: 2.0580, Train Acc: 0.2581, Val Loss: 2.0670, Val Acc: 0.2716\n",
          "output_type": "stream"
        },
        {
          "name": "stderr",
          "text": "Epoch 18/20 [Train]: 100%|██████████| 63/63 [00:54<00:00,  1.15it/s]\nEpoch 18/20 [Val]: 100%|██████████| 16/16 [00:13<00:00,  1.22it/s]\n",
          "output_type": "stream"
        },
        {
          "name": "stdout",
          "text": "Epoch 18/20, Train Loss: 2.0534, Train Acc: 0.2526, Val Loss: 2.0577, Val Acc: 0.2691\n",
          "output_type": "stream"
        },
        {
          "name": "stderr",
          "text": "Epoch 19/20 [Train]: 100%|██████████| 63/63 [00:56<00:00,  1.12it/s]\nEpoch 19/20 [Val]: 100%|██████████| 16/16 [00:12<00:00,  1.25it/s]\n",
          "output_type": "stream"
        },
        {
          "name": "stdout",
          "text": "Epoch 19/20, Train Loss: 2.0451, Train Acc: 0.2531, Val Loss: 2.0539, Val Acc: 0.2696\n",
          "output_type": "stream"
        },
        {
          "name": "stderr",
          "text": "Epoch 20/20 [Train]: 100%|██████████| 63/63 [00:55<00:00,  1.13it/s]\nEpoch 20/20 [Val]: 100%|██████████| 16/16 [00:16<00:00,  1.01s/it]",
          "output_type": "stream"
        },
        {
          "name": "stdout",
          "text": "Epoch 20/20, Train Loss: 2.0355, Train Acc: 0.2637, Val Loss: 2.0466, Val Acc: 0.2741\n",
          "output_type": "stream"
        },
        {
          "name": "stderr",
          "text": "\n",
          "output_type": "stream"
        },
        {
          "output_type": "display_data",
          "data": {
            "text/plain": "<IPython.core.display.HTML object>",
            "text/html": ""
          },
          "metadata": {}
        },
        {
          "output_type": "display_data",
          "data": {
            "text/plain": "<IPython.core.display.HTML object>",
            "text/html": "<br>    <style><br>        .wandb-row {<br>            display: flex;<br>            flex-direction: row;<br>            flex-wrap: wrap;<br>            justify-content: flex-start;<br>            width: 100%;<br>        }<br>        .wandb-col {<br>            display: flex;<br>            flex-direction: column;<br>            flex-basis: 100%;<br>            flex: 1;<br>            padding: 10px;<br>        }<br>    </style><br><div class=\"wandb-row\"><div class=\"wandb-col\"><h3>Run history:</h3><br/><table class=\"wandb\"><tr><td>epoch</td><td>▁▁▂▂▂▃▃▄▄▄▅▅▅▆▆▇▇▇██</td></tr><tr><td>train_accuracy</td><td>▁▂▃▄▅▅▅▅▆▆▆▇▇▇▇▇█▇▇█</td></tr><tr><td>train_loss</td><td>█▇▆▆▅▅▄▄▄▃▃▃▃▂▂▂▂▁▁▁</td></tr><tr><td>val_accuracy</td><td>▁▂▃▄▅▅▅▆▇▇▇▇▇▇▇▇████</td></tr><tr><td>val_loss</td><td>█▇▆▅▅▄▄▄▃▃▃▃▂▂▂▂▂▁▁▁</td></tr></table><br/></div><div class=\"wandb-col\"><h3>Run summary:</h3><br/><table class=\"wandb\"><tr><td>epoch</td><td>20</td></tr><tr><td>train_accuracy</td><td>0.26375</td></tr><tr><td>train_loss</td><td>2.03552</td></tr><tr><td>val_accuracy</td><td>0.27414</td></tr><tr><td>val_loss</td><td>2.04658</td></tr></table><br/></div></div>"
          },
          "metadata": {}
        },
        {
          "output_type": "display_data",
          "data": {
            "text/plain": "<IPython.core.display.HTML object>",
            "text/html": " View run <strong style=\"color:#cdcd00\">lucky-sweep-11</strong> at: <a href='https://wandb.ai/manglesh-patidar-cs24m025/inaturalist-cnn/runs/gtcw2uwu' target=\"_blank\">https://wandb.ai/manglesh-patidar-cs24m025/inaturalist-cnn/runs/gtcw2uwu</a><br> View project at: <a href='https://wandb.ai/manglesh-patidar-cs24m025/inaturalist-cnn' target=\"_blank\">https://wandb.ai/manglesh-patidar-cs24m025/inaturalist-cnn</a><br>Synced 5 W&B file(s), 0 media file(s), 0 artifact file(s) and 0 other file(s)"
          },
          "metadata": {}
        },
        {
          "output_type": "display_data",
          "data": {
            "text/plain": "<IPython.core.display.HTML object>",
            "text/html": "Find logs at: <code>./wandb/run-20250415_122219-gtcw2uwu/logs</code>"
          },
          "metadata": {}
        },
        {
          "name": "stderr",
          "text": "\u001b[34m\u001b[1mwandb\u001b[0m: Agent Starting Run: bpwr4x6w with config:\n\u001b[34m\u001b[1mwandb\u001b[0m: \tactivation: gelu\n\u001b[34m\u001b[1mwandb\u001b[0m: \tbatch_norm_use: True\n\u001b[34m\u001b[1mwandb\u001b[0m: \tdata_aug: False\n\u001b[34m\u001b[1mwandb\u001b[0m: \tdropout: 0.8\n\u001b[34m\u001b[1mwandb\u001b[0m: \tepochs: 20\n\u001b[34m\u001b[1mwandb\u001b[0m: \tfc_layer: 256\n\u001b[34m\u001b[1mwandb\u001b[0m: \tfilter_counts: [32, 32, 32, 32, 32]\n\u001b[34m\u001b[1mwandb\u001b[0m: \tlearning_rate: 0.0001\n\u001b[34m\u001b[1mwandb\u001b[0m: \tshape_of_filters_conv: [[3, 3], [3, 3], [3, 3], [5, 5], [7, 7]]\n\u001b[34m\u001b[1mwandb\u001b[0m: \ttrain_batch_size: 128\n",
          "output_type": "stream"
        },
        {
          "output_type": "display_data",
          "data": {
            "text/plain": "<IPython.core.display.HTML object>",
            "text/html": "Tracking run with wandb version 0.19.6"
          },
          "metadata": {}
        },
        {
          "output_type": "display_data",
          "data": {
            "text/plain": "<IPython.core.display.HTML object>",
            "text/html": "Run data is saved locally in <code>/kaggle/working/wandb/run-20250415_124152-bpwr4x6w</code>"
          },
          "metadata": {}
        },
        {
          "output_type": "display_data",
          "data": {
            "text/plain": "<IPython.core.display.HTML object>",
            "text/html": "Syncing run <strong><a href='https://wandb.ai/manglesh-patidar-cs24m025/inaturalist-cnn/runs/bpwr4x6w' target=\"_blank\">zany-sweep-12</a></strong> to <a href='https://wandb.ai/manglesh-patidar-cs24m025/inaturalist-cnn' target=\"_blank\">Weights & Biases</a> (<a href='https://wandb.me/developer-guide' target=\"_blank\">docs</a>)<br>Sweep page: <a href='https://wandb.ai/manglesh-patidar-cs24m025/inaturalist-cnn/sweeps/vad5l02n' target=\"_blank\">https://wandb.ai/manglesh-patidar-cs24m025/inaturalist-cnn/sweeps/vad5l02n</a>"
          },
          "metadata": {}
        },
        {
          "output_type": "display_data",
          "data": {
            "text/plain": "<IPython.core.display.HTML object>",
            "text/html": " View project at <a href='https://wandb.ai/manglesh-patidar-cs24m025/inaturalist-cnn' target=\"_blank\">https://wandb.ai/manglesh-patidar-cs24m025/inaturalist-cnn</a>"
          },
          "metadata": {}
        },
        {
          "output_type": "display_data",
          "data": {
            "text/plain": "<IPython.core.display.HTML object>",
            "text/html": " View sweep at <a href='https://wandb.ai/manglesh-patidar-cs24m025/inaturalist-cnn/sweeps/vad5l02n' target=\"_blank\">https://wandb.ai/manglesh-patidar-cs24m025/inaturalist-cnn/sweeps/vad5l02n</a>"
          },
          "metadata": {}
        },
        {
          "output_type": "display_data",
          "data": {
            "text/plain": "<IPython.core.display.HTML object>",
            "text/html": " View run at <a href='https://wandb.ai/manglesh-patidar-cs24m025/inaturalist-cnn/runs/bpwr4x6w' target=\"_blank\">https://wandb.ai/manglesh-patidar-cs24m025/inaturalist-cnn/runs/bpwr4x6w</a>"
          },
          "metadata": {}
        },
        {
          "name": "stdout",
          "text": "Using device: cuda\n",
          "output_type": "stream"
        },
        {
          "name": "stderr",
          "text": "Epoch 1/20 [Train]: 100%|██████████| 63/63 [00:50<00:00,  1.25it/s]\nEpoch 1/20 [Val]: 100%|██████████| 16/16 [00:13<00:00,  1.20it/s]\n",
          "output_type": "stream"
        },
        {
          "name": "stdout",
          "text": "Epoch 1/20, Train Loss: 2.2814, Train Acc: 0.1373, Val Loss: 2.2151, Val Acc: 0.2301\n",
          "output_type": "stream"
        },
        {
          "name": "stderr",
          "text": "Epoch 2/20 [Train]: 100%|██████████| 63/63 [00:48<00:00,  1.31it/s]\nEpoch 2/20 [Val]: 100%|██████████| 16/16 [00:11<00:00,  1.36it/s]\n",
          "output_type": "stream"
        },
        {
          "name": "stdout",
          "text": "Epoch 2/20, Train Loss: 2.2271, Train Acc: 0.1776, Val Loss: 2.1610, Val Acc: 0.2481\n",
          "output_type": "stream"
        },
        {
          "name": "stderr",
          "text": "Epoch 3/20 [Train]: 100%|██████████| 63/63 [00:44<00:00,  1.40it/s]\nEpoch 3/20 [Val]: 100%|██████████| 16/16 [00:12<00:00,  1.33it/s]\n",
          "output_type": "stream"
        },
        {
          "name": "stdout",
          "text": "Epoch 3/20, Train Loss: 2.1853, Train Acc: 0.1959, Val Loss: 2.1283, Val Acc: 0.2531\n",
          "output_type": "stream"
        },
        {
          "name": "stderr",
          "text": "Epoch 4/20 [Train]: 100%|██████████| 63/63 [00:44<00:00,  1.42it/s]\nEpoch 4/20 [Val]: 100%|██████████| 16/16 [00:11<00:00,  1.41it/s]\n",
          "output_type": "stream"
        },
        {
          "name": "stdout",
          "text": "Epoch 4/20, Train Loss: 2.1578, Train Acc: 0.2111, Val Loss: 2.0856, Val Acc: 0.2646\n",
          "output_type": "stream"
        },
        {
          "name": "stderr",
          "text": "Epoch 5/20 [Train]: 100%|██████████| 63/63 [00:53<00:00,  1.19it/s]\nEpoch 5/20 [Val]: 100%|██████████| 16/16 [00:13<00:00,  1.22it/s]\n",
          "output_type": "stream"
        },
        {
          "name": "stdout",
          "text": "Epoch 5/20, Train Loss: 2.1166, Train Acc: 0.2364, Val Loss: 2.0651, Val Acc: 0.3032\n",
          "output_type": "stream"
        },
        {
          "name": "stderr",
          "text": "Epoch 6/20 [Train]: 100%|██████████| 63/63 [00:41<00:00,  1.53it/s]\nEpoch 6/20 [Val]: 100%|██████████| 16/16 [00:10<00:00,  1.48it/s]\n",
          "output_type": "stream"
        },
        {
          "name": "stdout",
          "text": "Epoch 6/20, Train Loss: 2.0918, Train Acc: 0.2429, Val Loss: 2.0298, Val Acc: 0.2891\n",
          "output_type": "stream"
        },
        {
          "name": "stderr",
          "text": "Epoch 7/20 [Train]: 100%|██████████| 63/63 [00:41<00:00,  1.50it/s]\nEpoch 7/20 [Val]: 100%|██████████| 16/16 [00:10<00:00,  1.49it/s]\n",
          "output_type": "stream"
        },
        {
          "name": "stdout",
          "text": "Epoch 7/20, Train Loss: 2.0673, Train Acc: 0.2559, Val Loss: 2.0744, Val Acc: 0.2461\n",
          "output_type": "stream"
        },
        {
          "name": "stderr",
          "text": "Epoch 8/20 [Train]: 100%|██████████| 63/63 [00:41<00:00,  1.52it/s]\nEpoch 8/20 [Val]: 100%|██████████| 16/16 [00:11<00:00,  1.43it/s]\n",
          "output_type": "stream"
        },
        {
          "name": "stdout",
          "text": "Epoch 8/20, Train Loss: 2.0394, Train Acc: 0.2716, Val Loss: 1.9922, Val Acc: 0.2876\n",
          "output_type": "stream"
        },
        {
          "name": "stderr",
          "text": "Epoch 9/20 [Train]: 100%|██████████| 63/63 [00:41<00:00,  1.53it/s]\nEpoch 9/20 [Val]: 100%|██████████| 16/16 [00:10<00:00,  1.53it/s]\n",
          "output_type": "stream"
        },
        {
          "name": "stdout",
          "text": "Epoch 9/20, Train Loss: 2.0188, Train Acc: 0.2752, Val Loss: 1.9577, Val Acc: 0.3197\n",
          "output_type": "stream"
        },
        {
          "name": "stderr",
          "text": "Epoch 10/20 [Train]: 100%|██████████| 63/63 [00:45<00:00,  1.40it/s]\nEpoch 10/20 [Val]: 100%|██████████| 16/16 [00:10<00:00,  1.54it/s]\n",
          "output_type": "stream"
        },
        {
          "name": "stdout",
          "text": "Epoch 10/20, Train Loss: 1.9872, Train Acc: 0.2841, Val Loss: 1.9330, Val Acc: 0.3287\n",
          "output_type": "stream"
        },
        {
          "name": "stderr",
          "text": "Epoch 11/20 [Train]: 100%|██████████| 63/63 [00:41<00:00,  1.51it/s]\nEpoch 11/20 [Val]: 100%|██████████| 16/16 [00:11<00:00,  1.44it/s]\n",
          "output_type": "stream"
        },
        {
          "name": "stdout",
          "text": "Epoch 11/20, Train Loss: 1.9636, Train Acc: 0.2994, Val Loss: 1.9039, Val Acc: 0.3172\n",
          "output_type": "stream"
        },
        {
          "name": "stderr",
          "text": "Epoch 12/20 [Train]: 100%|██████████| 63/63 [00:41<00:00,  1.52it/s]\nEpoch 12/20 [Val]: 100%|██████████| 16/16 [00:10<00:00,  1.50it/s]\n",
          "output_type": "stream"
        },
        {
          "name": "stdout",
          "text": "Epoch 12/20, Train Loss: 1.9455, Train Acc: 0.3031, Val Loss: 1.9199, Val Acc: 0.3277\n",
          "output_type": "stream"
        },
        {
          "name": "stderr",
          "text": "Epoch 13/20 [Train]: 100%|██████████| 63/63 [00:42<00:00,  1.48it/s]\nEpoch 13/20 [Val]: 100%|██████████| 16/16 [00:10<00:00,  1.56it/s]\n",
          "output_type": "stream"
        },
        {
          "name": "stdout",
          "text": "Epoch 13/20, Train Loss: 1.9149, Train Acc: 0.3170, Val Loss: 1.8867, Val Acc: 0.3467\n",
          "output_type": "stream"
        },
        {
          "name": "stderr",
          "text": "Epoch 14/20 [Train]: 100%|██████████| 63/63 [00:41<00:00,  1.50it/s]\nEpoch 14/20 [Val]: 100%|██████████| 16/16 [00:11<00:00,  1.42it/s]\n",
          "output_type": "stream"
        },
        {
          "name": "stdout",
          "text": "Epoch 14/20, Train Loss: 1.9110, Train Acc: 0.3174, Val Loss: 1.8726, Val Acc: 0.3362\n",
          "output_type": "stream"
        },
        {
          "name": "stderr",
          "text": "Epoch 15/20 [Train]: 100%|██████████| 63/63 [00:46<00:00,  1.35it/s]\nEpoch 15/20 [Val]: 100%|██████████| 16/16 [00:10<00:00,  1.52it/s]\n",
          "output_type": "stream"
        },
        {
          "name": "stdout",
          "text": "Epoch 15/20, Train Loss: 1.8897, Train Acc: 0.3262, Val Loss: 1.8616, Val Acc: 0.3422\n",
          "output_type": "stream"
        },
        {
          "name": "stderr",
          "text": "Epoch 16/20 [Train]: 100%|██████████| 63/63 [00:41<00:00,  1.52it/s]\nEpoch 16/20 [Val]: 100%|██████████| 16/16 [00:10<00:00,  1.52it/s]\n",
          "output_type": "stream"
        },
        {
          "name": "stdout",
          "text": "Epoch 16/20, Train Loss: 1.8692, Train Acc: 0.3361, Val Loss: 1.8579, Val Acc: 0.3172\n",
          "output_type": "stream"
        },
        {
          "name": "stderr",
          "text": "Epoch 17/20 [Train]: 100%|██████████| 63/63 [00:41<00:00,  1.51it/s]\nEpoch 17/20 [Val]: 100%|██████████| 16/16 [00:11<00:00,  1.45it/s]\n",
          "output_type": "stream"
        },
        {
          "name": "stdout",
          "text": "Epoch 17/20, Train Loss: 1.8566, Train Acc: 0.3394, Val Loss: 1.8891, Val Acc: 0.3257\n",
          "output_type": "stream"
        },
        {
          "name": "stderr",
          "text": "Epoch 18/20 [Train]: 100%|██████████| 63/63 [00:45<00:00,  1.39it/s]\nEpoch 18/20 [Val]: 100%|██████████| 16/16 [00:10<00:00,  1.48it/s]\n",
          "output_type": "stream"
        },
        {
          "name": "stdout",
          "text": "Epoch 18/20, Train Loss: 1.8346, Train Acc: 0.3475, Val Loss: 1.8273, Val Acc: 0.3592\n",
          "output_type": "stream"
        },
        {
          "name": "stderr",
          "text": "Epoch 19/20 [Train]: 100%|██████████| 63/63 [00:44<00:00,  1.43it/s]\nEpoch 19/20 [Val]: 100%|██████████| 16/16 [00:13<00:00,  1.23it/s]\n",
          "output_type": "stream"
        },
        {
          "name": "stdout",
          "text": "Epoch 19/20, Train Loss: 1.8231, Train Acc: 0.3551, Val Loss: 1.8213, Val Acc: 0.3562\n",
          "output_type": "stream"
        },
        {
          "name": "stderr",
          "text": "Epoch 20/20 [Train]: 100%|██████████| 63/63 [00:43<00:00,  1.44it/s]\nEpoch 20/20 [Val]: 100%|██████████| 16/16 [00:10<00:00,  1.49it/s]",
          "output_type": "stream"
        },
        {
          "name": "stdout",
          "text": "Epoch 20/20, Train Loss: 1.8143, Train Acc: 0.3553, Val Loss: 1.8634, Val Acc: 0.3412\n",
          "output_type": "stream"
        },
        {
          "name": "stderr",
          "text": "\n",
          "output_type": "stream"
        },
        {
          "output_type": "display_data",
          "data": {
            "text/plain": "<IPython.core.display.HTML object>",
            "text/html": ""
          },
          "metadata": {}
        },
        {
          "output_type": "display_data",
          "data": {
            "text/plain": "<IPython.core.display.HTML object>",
            "text/html": "<br>    <style><br>        .wandb-row {<br>            display: flex;<br>            flex-direction: row;<br>            flex-wrap: wrap;<br>            justify-content: flex-start;<br>            width: 100%;<br>        }<br>        .wandb-col {<br>            display: flex;<br>            flex-direction: column;<br>            flex-basis: 100%;<br>            flex: 1;<br>            padding: 10px;<br>        }<br>    </style><br><div class=\"wandb-row\"><div class=\"wandb-col\"><h3>Run history:</h3><br/><table class=\"wandb\"><tr><td>epoch</td><td>▁▁▂▂▂▃▃▄▄▄▅▅▅▆▆▇▇▇██</td></tr><tr><td>train_accuracy</td><td>▁▂▃▃▄▄▅▅▅▆▆▆▇▇▇▇▇███</td></tr><tr><td>train_loss</td><td>█▇▇▆▆▅▅▄▄▄▃▃▃▂▂▂▂▁▁▁</td></tr><tr><td>val_accuracy</td><td>▁▂▂▃▅▄▂▄▆▆▆▆▇▇▇▆▆██▇</td></tr><tr><td>val_loss</td><td>█▇▆▆▅▅▅▄▃▃▂▃▂▂▂▂▂▁▁▂</td></tr></table><br/></div><div class=\"wandb-col\"><h3>Run summary:</h3><br/><table class=\"wandb\"><tr><td>epoch</td><td>20</td></tr><tr><td>train_accuracy</td><td>0.35525</td></tr><tr><td>train_loss</td><td>1.8143</td></tr><tr><td>val_accuracy</td><td>0.34117</td></tr><tr><td>val_loss</td><td>1.86342</td></tr></table><br/></div></div>"
          },
          "metadata": {}
        },
        {
          "output_type": "display_data",
          "data": {
            "text/plain": "<IPython.core.display.HTML object>",
            "text/html": " View run <strong style=\"color:#cdcd00\">zany-sweep-12</strong> at: <a href='https://wandb.ai/manglesh-patidar-cs24m025/inaturalist-cnn/runs/bpwr4x6w' target=\"_blank\">https://wandb.ai/manglesh-patidar-cs24m025/inaturalist-cnn/runs/bpwr4x6w</a><br> View project at: <a href='https://wandb.ai/manglesh-patidar-cs24m025/inaturalist-cnn' target=\"_blank\">https://wandb.ai/manglesh-patidar-cs24m025/inaturalist-cnn</a><br>Synced 5 W&B file(s), 0 media file(s), 0 artifact file(s) and 0 other file(s)"
          },
          "metadata": {}
        },
        {
          "output_type": "display_data",
          "data": {
            "text/plain": "<IPython.core.display.HTML object>",
            "text/html": "Find logs at: <code>./wandb/run-20250415_124152-bpwr4x6w/logs</code>"
          },
          "metadata": {}
        },
        {
          "name": "stderr",
          "text": "\u001b[34m\u001b[1mwandb\u001b[0m: Agent Starting Run: htfdfmsy with config:\n\u001b[34m\u001b[1mwandb\u001b[0m: \tactivation: relu\n\u001b[34m\u001b[1mwandb\u001b[0m: \tbatch_norm_use: False\n\u001b[34m\u001b[1mwandb\u001b[0m: \tdata_aug: False\n\u001b[34m\u001b[1mwandb\u001b[0m: \tdropout: 0.8\n\u001b[34m\u001b[1mwandb\u001b[0m: \tepochs: 20\n\u001b[34m\u001b[1mwandb\u001b[0m: \tfc_layer: 256\n\u001b[34m\u001b[1mwandb\u001b[0m: \tfilter_counts: [32, 32, 32, 32, 32]\n\u001b[34m\u001b[1mwandb\u001b[0m: \tlearning_rate: 0.0001\n\u001b[34m\u001b[1mwandb\u001b[0m: \tshape_of_filters_conv: [[3, 3], [3, 3], [3, 3], [5, 5], [7, 7]]\n\u001b[34m\u001b[1mwandb\u001b[0m: \ttrain_batch_size: 128\n",
          "output_type": "stream"
        },
        {
          "output_type": "display_data",
          "data": {
            "text/plain": "<IPython.core.display.HTML object>",
            "text/html": "Tracking run with wandb version 0.19.6"
          },
          "metadata": {}
        },
        {
          "output_type": "display_data",
          "data": {
            "text/plain": "<IPython.core.display.HTML object>",
            "text/html": "Run data is saved locally in <code>/kaggle/working/wandb/run-20250415_130039-htfdfmsy</code>"
          },
          "metadata": {}
        },
        {
          "output_type": "display_data",
          "data": {
            "text/plain": "<IPython.core.display.HTML object>",
            "text/html": "Syncing run <strong><a href='https://wandb.ai/manglesh-patidar-cs24m025/inaturalist-cnn/runs/htfdfmsy' target=\"_blank\">fresh-sweep-13</a></strong> to <a href='https://wandb.ai/manglesh-patidar-cs24m025/inaturalist-cnn' target=\"_blank\">Weights & Biases</a> (<a href='https://wandb.me/developer-guide' target=\"_blank\">docs</a>)<br>Sweep page: <a href='https://wandb.ai/manglesh-patidar-cs24m025/inaturalist-cnn/sweeps/vad5l02n' target=\"_blank\">https://wandb.ai/manglesh-patidar-cs24m025/inaturalist-cnn/sweeps/vad5l02n</a>"
          },
          "metadata": {}
        },
        {
          "output_type": "display_data",
          "data": {
            "text/plain": "<IPython.core.display.HTML object>",
            "text/html": " View project at <a href='https://wandb.ai/manglesh-patidar-cs24m025/inaturalist-cnn' target=\"_blank\">https://wandb.ai/manglesh-patidar-cs24m025/inaturalist-cnn</a>"
          },
          "metadata": {}
        },
        {
          "output_type": "display_data",
          "data": {
            "text/plain": "<IPython.core.display.HTML object>",
            "text/html": " View sweep at <a href='https://wandb.ai/manglesh-patidar-cs24m025/inaturalist-cnn/sweeps/vad5l02n' target=\"_blank\">https://wandb.ai/manglesh-patidar-cs24m025/inaturalist-cnn/sweeps/vad5l02n</a>"
          },
          "metadata": {}
        },
        {
          "output_type": "display_data",
          "data": {
            "text/plain": "<IPython.core.display.HTML object>",
            "text/html": " View run at <a href='https://wandb.ai/manglesh-patidar-cs24m025/inaturalist-cnn/runs/htfdfmsy' target=\"_blank\">https://wandb.ai/manglesh-patidar-cs24m025/inaturalist-cnn/runs/htfdfmsy</a>"
          },
          "metadata": {}
        },
        {
          "name": "stdout",
          "text": "Using device: cuda\n",
          "output_type": "stream"
        },
        {
          "name": "stderr",
          "text": "Epoch 1/20 [Train]: 100%|██████████| 63/63 [00:41<00:00,  1.52it/s]\nEpoch 1/20 [Val]: 100%|██████████| 16/16 [00:10<00:00,  1.51it/s]\n",
          "output_type": "stream"
        },
        {
          "name": "stdout",
          "text": "Epoch 1/20, Train Loss: 2.3039, Train Acc: 0.1051, Val Loss: 2.2972, Val Acc: 0.1361\n",
          "output_type": "stream"
        },
        {
          "name": "stderr",
          "text": "Epoch 2/20 [Train]: 100%|██████████| 63/63 [00:42<00:00,  1.49it/s]\nEpoch 2/20 [Val]: 100%|██████████| 16/16 [00:10<00:00,  1.49it/s]\n",
          "output_type": "stream"
        },
        {
          "name": "stdout",
          "text": "Epoch 2/20, Train Loss: 2.2962, Train Acc: 0.1214, Val Loss: 2.2828, Val Acc: 0.1451\n",
          "output_type": "stream"
        },
        {
          "name": "stderr",
          "text": "Epoch 3/20 [Train]: 100%|██████████| 63/63 [00:42<00:00,  1.50it/s]\nEpoch 3/20 [Val]: 100%|██████████| 16/16 [00:10<00:00,  1.51it/s]\n",
          "output_type": "stream"
        },
        {
          "name": "stdout",
          "text": "Epoch 3/20, Train Loss: 2.2816, Train Acc: 0.1334, Val Loss: 2.2411, Val Acc: 0.1876\n",
          "output_type": "stream"
        },
        {
          "name": "stderr",
          "text": "Epoch 4/20 [Train]: 100%|██████████| 63/63 [00:42<00:00,  1.48it/s]\nEpoch 4/20 [Val]: 100%|██████████| 16/16 [00:10<00:00,  1.57it/s]\n",
          "output_type": "stream"
        },
        {
          "name": "stdout",
          "text": "Epoch 4/20, Train Loss: 2.2413, Train Acc: 0.1686, Val Loss: 2.1943, Val Acc: 0.2061\n",
          "output_type": "stream"
        },
        {
          "name": "stderr",
          "text": "Epoch 5/20 [Train]: 100%|██████████| 63/63 [00:44<00:00,  1.42it/s]\nEpoch 5/20 [Val]: 100%|██████████| 16/16 [00:10<00:00,  1.58it/s]\n",
          "output_type": "stream"
        },
        {
          "name": "stdout",
          "text": "Epoch 5/20, Train Loss: 2.2186, Train Acc: 0.1816, Val Loss: 2.1786, Val Acc: 0.1986\n",
          "output_type": "stream"
        },
        {
          "name": "stderr",
          "text": "Epoch 6/20 [Train]: 100%|██████████| 63/63 [00:41<00:00,  1.52it/s]\nEpoch 6/20 [Val]: 100%|██████████| 16/16 [00:10<00:00,  1.52it/s]\n",
          "output_type": "stream"
        },
        {
          "name": "stdout",
          "text": "Epoch 6/20, Train Loss: 2.2036, Train Acc: 0.1875, Val Loss: 2.1678, Val Acc: 0.2001\n",
          "output_type": "stream"
        },
        {
          "name": "stderr",
          "text": "Epoch 7/20 [Train]: 100%|██████████| 63/63 [00:43<00:00,  1.46it/s]\nEpoch 7/20 [Val]: 100%|██████████| 16/16 [00:15<00:00,  1.06it/s]\n",
          "output_type": "stream"
        },
        {
          "name": "stdout",
          "text": "Epoch 7/20, Train Loss: 2.1814, Train Acc: 0.1965, Val Loss: 2.1492, Val Acc: 0.2066\n",
          "output_type": "stream"
        },
        {
          "name": "stderr",
          "text": "Epoch 8/20 [Train]: 100%|██████████| 63/63 [00:46<00:00,  1.35it/s]\nEpoch 8/20 [Val]: 100%|██████████| 16/16 [00:10<00:00,  1.53it/s]\n",
          "output_type": "stream"
        },
        {
          "name": "stdout",
          "text": "Epoch 8/20, Train Loss: 2.1707, Train Acc: 0.1979, Val Loss: 2.1477, Val Acc: 0.2101\n",
          "output_type": "stream"
        },
        {
          "name": "stderr",
          "text": "Epoch 9/20 [Train]: 100%|██████████| 63/63 [00:41<00:00,  1.50it/s]\nEpoch 9/20 [Val]: 100%|██████████| 16/16 [00:10<00:00,  1.55it/s]\n",
          "output_type": "stream"
        },
        {
          "name": "stdout",
          "text": "Epoch 9/20, Train Loss: 2.1682, Train Acc: 0.2004, Val Loss: 2.1386, Val Acc: 0.2211\n",
          "output_type": "stream"
        },
        {
          "name": "stderr",
          "text": "Epoch 10/20 [Train]: 100%|██████████| 63/63 [00:41<00:00,  1.52it/s]\nEpoch 10/20 [Val]: 100%|██████████| 16/16 [00:10<00:00,  1.46it/s]\n",
          "output_type": "stream"
        },
        {
          "name": "stdout",
          "text": "Epoch 10/20, Train Loss: 2.1602, Train Acc: 0.2092, Val Loss: 2.1320, Val Acc: 0.2191\n",
          "output_type": "stream"
        },
        {
          "name": "stderr",
          "text": "Epoch 11/20 [Train]: 100%|██████████| 63/63 [00:40<00:00,  1.54it/s]\nEpoch 11/20 [Val]: 100%|██████████| 16/16 [00:10<00:00,  1.55it/s]\n",
          "output_type": "stream"
        },
        {
          "name": "stdout",
          "text": "Epoch 11/20, Train Loss: 2.1498, Train Acc: 0.2131, Val Loss: 2.1267, Val Acc: 0.2176\n",
          "output_type": "stream"
        },
        {
          "name": "stderr",
          "text": "Epoch 12/20 [Train]: 100%|██████████| 63/63 [00:41<00:00,  1.52it/s]\nEpoch 12/20 [Val]: 100%|██████████| 16/16 [00:11<00:00,  1.36it/s]\n",
          "output_type": "stream"
        },
        {
          "name": "stdout",
          "text": "Epoch 12/20, Train Loss: 2.1436, Train Acc: 0.2125, Val Loss: 2.1222, Val Acc: 0.2261\n",
          "output_type": "stream"
        },
        {
          "name": "stderr",
          "text": "Epoch 13/20 [Train]: 100%|██████████| 63/63 [00:40<00:00,  1.54it/s]\nEpoch 13/20 [Val]: 100%|██████████| 16/16 [00:10<00:00,  1.55it/s]\n",
          "output_type": "stream"
        },
        {
          "name": "stdout",
          "text": "Epoch 13/20, Train Loss: 2.1356, Train Acc: 0.2171, Val Loss: 2.1147, Val Acc: 0.2216\n",
          "output_type": "stream"
        },
        {
          "name": "stderr",
          "text": "Epoch 14/20 [Train]: 100%|██████████| 63/63 [00:43<00:00,  1.45it/s]\nEpoch 14/20 [Val]: 100%|██████████| 16/16 [00:13<00:00,  1.22it/s]\n",
          "output_type": "stream"
        },
        {
          "name": "stdout",
          "text": "Epoch 14/20, Train Loss: 2.1333, Train Acc: 0.2196, Val Loss: 2.1148, Val Acc: 0.2261\n",
          "output_type": "stream"
        },
        {
          "name": "stderr",
          "text": "Epoch 15/20 [Train]: 100%|██████████| 63/63 [00:41<00:00,  1.50it/s]\nEpoch 15/20 [Val]: 100%|██████████| 16/16 [00:10<00:00,  1.55it/s]\n",
          "output_type": "stream"
        },
        {
          "name": "stdout",
          "text": "Epoch 15/20, Train Loss: 2.1253, Train Acc: 0.2209, Val Loss: 2.1066, Val Acc: 0.2271\n",
          "output_type": "stream"
        },
        {
          "name": "stderr",
          "text": "Epoch 16/20 [Train]: 100%|██████████| 63/63 [00:57<00:00,  1.09it/s]\nEpoch 16/20 [Val]: 100%|██████████| 16/16 [00:10<00:00,  1.55it/s]\n",
          "output_type": "stream"
        },
        {
          "name": "stdout",
          "text": "Epoch 16/20, Train Loss: 2.1166, Train Acc: 0.2303, Val Loss: 2.1024, Val Acc: 0.2336\n",
          "output_type": "stream"
        },
        {
          "name": "stderr",
          "text": "Epoch 17/20 [Train]: 100%|██████████| 63/63 [00:46<00:00,  1.36it/s]\nEpoch 17/20 [Val]: 100%|██████████| 16/16 [00:10<00:00,  1.52it/s]\n",
          "output_type": "stream"
        },
        {
          "name": "stdout",
          "text": "Epoch 17/20, Train Loss: 2.1150, Train Acc: 0.2259, Val Loss: 2.0882, Val Acc: 0.2366\n",
          "output_type": "stream"
        },
        {
          "name": "stderr",
          "text": "Epoch 18/20 [Train]: 100%|██████████| 63/63 [00:44<00:00,  1.40it/s]\nEpoch 18/20 [Val]: 100%|██████████| 16/16 [00:10<00:00,  1.47it/s]\n",
          "output_type": "stream"
        },
        {
          "name": "stdout",
          "text": "Epoch 18/20, Train Loss: 2.1112, Train Acc: 0.2361, Val Loss: 2.0913, Val Acc: 0.2311\n",
          "output_type": "stream"
        },
        {
          "name": "stderr",
          "text": "Epoch 19/20 [Train]: 100%|██████████| 63/63 [00:41<00:00,  1.51it/s]\nEpoch 19/20 [Val]: 100%|██████████| 16/16 [00:10<00:00,  1.54it/s]\n",
          "output_type": "stream"
        },
        {
          "name": "stdout",
          "text": "Epoch 19/20, Train Loss: 2.1163, Train Acc: 0.2275, Val Loss: 2.0945, Val Acc: 0.2421\n",
          "output_type": "stream"
        },
        {
          "name": "stderr",
          "text": "Epoch 20/20 [Train]: 100%|██████████| 63/63 [00:43<00:00,  1.46it/s]\nEpoch 20/20 [Val]: 100%|██████████| 16/16 [00:10<00:00,  1.51it/s]",
          "output_type": "stream"
        },
        {
          "name": "stdout",
          "text": "Epoch 20/20, Train Loss: 2.0992, Train Acc: 0.2370, Val Loss: 2.0817, Val Acc: 0.2361\n",
          "output_type": "stream"
        },
        {
          "name": "stderr",
          "text": "\n",
          "output_type": "stream"
        },
        {
          "output_type": "display_data",
          "data": {
            "text/plain": "<IPython.core.display.HTML object>",
            "text/html": ""
          },
          "metadata": {}
        },
        {
          "output_type": "display_data",
          "data": {
            "text/plain": "<IPython.core.display.HTML object>",
            "text/html": "<br>    <style><br>        .wandb-row {<br>            display: flex;<br>            flex-direction: row;<br>            flex-wrap: wrap;<br>            justify-content: flex-start;<br>            width: 100%;<br>        }<br>        .wandb-col {<br>            display: flex;<br>            flex-direction: column;<br>            flex-basis: 100%;<br>            flex: 1;<br>            padding: 10px;<br>        }<br>    </style><br><div class=\"wandb-row\"><div class=\"wandb-col\"><h3>Run history:</h3><br/><table class=\"wandb\"><tr><td>epoch</td><td>▁▁▂▂▂▃▃▄▄▄▅▅▅▆▆▇▇▇██</td></tr><tr><td>train_accuracy</td><td>▁▂▂▄▅▅▆▆▆▇▇▇▇▇▇█▇█▇█</td></tr><tr><td>train_loss</td><td>██▇▆▅▅▄▃▃▃▃▃▂▂▂▂▂▁▂▁</td></tr><tr><td>val_accuracy</td><td>▁▂▄▆▅▅▆▆▇▆▆▇▇▇▇▇█▇██</td></tr><tr><td>val_loss</td><td>██▆▅▄▄▃▃▃▃▂▂▂▂▂▂▁▁▁▁</td></tr></table><br/></div><div class=\"wandb-col\"><h3>Run summary:</h3><br/><table class=\"wandb\"><tr><td>epoch</td><td>20</td></tr><tr><td>train_accuracy</td><td>0.237</td></tr><tr><td>train_loss</td><td>2.09924</td></tr><tr><td>val_accuracy</td><td>0.23612</td></tr><tr><td>val_loss</td><td>2.08168</td></tr></table><br/></div></div>"
          },
          "metadata": {}
        },
        {
          "output_type": "display_data",
          "data": {
            "text/plain": "<IPython.core.display.HTML object>",
            "text/html": " View run <strong style=\"color:#cdcd00\">fresh-sweep-13</strong> at: <a href='https://wandb.ai/manglesh-patidar-cs24m025/inaturalist-cnn/runs/htfdfmsy' target=\"_blank\">https://wandb.ai/manglesh-patidar-cs24m025/inaturalist-cnn/runs/htfdfmsy</a><br> View project at: <a href='https://wandb.ai/manglesh-patidar-cs24m025/inaturalist-cnn' target=\"_blank\">https://wandb.ai/manglesh-patidar-cs24m025/inaturalist-cnn</a><br>Synced 5 W&B file(s), 0 media file(s), 0 artifact file(s) and 0 other file(s)"
          },
          "metadata": {}
        },
        {
          "output_type": "display_data",
          "data": {
            "text/plain": "<IPython.core.display.HTML object>",
            "text/html": "Find logs at: <code>./wandb/run-20250415_130039-htfdfmsy/logs</code>"
          },
          "metadata": {}
        },
        {
          "name": "stderr",
          "text": "\u001b[34m\u001b[1mwandb\u001b[0m: Agent Starting Run: rpsog1nl with config:\n\u001b[34m\u001b[1mwandb\u001b[0m: \tactivation: relu\n\u001b[34m\u001b[1mwandb\u001b[0m: \tbatch_norm_use: False\n\u001b[34m\u001b[1mwandb\u001b[0m: \tdata_aug: False\n\u001b[34m\u001b[1mwandb\u001b[0m: \tdropout: 0.3\n\u001b[34m\u001b[1mwandb\u001b[0m: \tepochs: 20\n\u001b[34m\u001b[1mwandb\u001b[0m: \tfc_layer: 256\n\u001b[34m\u001b[1mwandb\u001b[0m: \tfilter_counts: [16, 32, 64, 128, 256]\n\u001b[34m\u001b[1mwandb\u001b[0m: \tlearning_rate: 0.0001\n\u001b[34m\u001b[1mwandb\u001b[0m: \tshape_of_filters_conv: [[3, 3], [3, 3], [3, 3], [3, 3], [3, 3]]\n\u001b[34m\u001b[1mwandb\u001b[0m: \ttrain_batch_size: 128\n",
          "output_type": "stream"
        },
        {
          "output_type": "display_data",
          "data": {
            "text/plain": "<IPython.core.display.HTML object>",
            "text/html": "Tracking run with wandb version 0.19.6"
          },
          "metadata": {}
        },
        {
          "output_type": "display_data",
          "data": {
            "text/plain": "<IPython.core.display.HTML object>",
            "text/html": "Run data is saved locally in <code>/kaggle/working/wandb/run-20250415_131906-rpsog1nl</code>"
          },
          "metadata": {}
        },
        {
          "output_type": "display_data",
          "data": {
            "text/plain": "<IPython.core.display.HTML object>",
            "text/html": "Syncing run <strong><a href='https://wandb.ai/manglesh-patidar-cs24m025/inaturalist-cnn/runs/rpsog1nl' target=\"_blank\">vital-sweep-14</a></strong> to <a href='https://wandb.ai/manglesh-patidar-cs24m025/inaturalist-cnn' target=\"_blank\">Weights & Biases</a> (<a href='https://wandb.me/developer-guide' target=\"_blank\">docs</a>)<br>Sweep page: <a href='https://wandb.ai/manglesh-patidar-cs24m025/inaturalist-cnn/sweeps/vad5l02n' target=\"_blank\">https://wandb.ai/manglesh-patidar-cs24m025/inaturalist-cnn/sweeps/vad5l02n</a>"
          },
          "metadata": {}
        },
        {
          "output_type": "display_data",
          "data": {
            "text/plain": "<IPython.core.display.HTML object>",
            "text/html": " View project at <a href='https://wandb.ai/manglesh-patidar-cs24m025/inaturalist-cnn' target=\"_blank\">https://wandb.ai/manglesh-patidar-cs24m025/inaturalist-cnn</a>"
          },
          "metadata": {}
        },
        {
          "output_type": "display_data",
          "data": {
            "text/plain": "<IPython.core.display.HTML object>",
            "text/html": " View sweep at <a href='https://wandb.ai/manglesh-patidar-cs24m025/inaturalist-cnn/sweeps/vad5l02n' target=\"_blank\">https://wandb.ai/manglesh-patidar-cs24m025/inaturalist-cnn/sweeps/vad5l02n</a>"
          },
          "metadata": {}
        },
        {
          "output_type": "display_data",
          "data": {
            "text/plain": "<IPython.core.display.HTML object>",
            "text/html": " View run at <a href='https://wandb.ai/manglesh-patidar-cs24m025/inaturalist-cnn/runs/rpsog1nl' target=\"_blank\">https://wandb.ai/manglesh-patidar-cs24m025/inaturalist-cnn/runs/rpsog1nl</a>"
          },
          "metadata": {}
        },
        {
          "name": "stdout",
          "text": "Using device: cuda\n",
          "output_type": "stream"
        },
        {
          "name": "stderr",
          "text": "Epoch 1/20 [Train]: 100%|██████████| 63/63 [00:41<00:00,  1.51it/s]\nEpoch 1/20 [Val]: 100%|██████████| 16/16 [00:10<00:00,  1.58it/s]\n",
          "output_type": "stream"
        },
        {
          "name": "stdout",
          "text": "Epoch 1/20, Train Loss: 2.2959, Train Acc: 0.1340, Val Loss: 2.2678, Val Acc: 0.1806\n",
          "output_type": "stream"
        },
        {
          "name": "stderr",
          "text": "Epoch 2/20 [Train]: 100%|██████████| 63/63 [00:47<00:00,  1.32it/s]\nEpoch 2/20 [Val]: 100%|██████████| 16/16 [00:10<00:00,  1.55it/s]\n",
          "output_type": "stream"
        },
        {
          "name": "stdout",
          "text": "Epoch 2/20, Train Loss: 2.2092, Train Acc: 0.1944, Val Loss: 2.1634, Val Acc: 0.1991\n",
          "output_type": "stream"
        },
        {
          "name": "stderr",
          "text": "Epoch 3/20 [Train]: 100%|██████████| 63/63 [00:42<00:00,  1.47it/s]\nEpoch 3/20 [Val]: 100%|██████████| 16/16 [00:10<00:00,  1.52it/s]\n",
          "output_type": "stream"
        },
        {
          "name": "stdout",
          "text": "Epoch 3/20, Train Loss: 2.1558, Train Acc: 0.2067, Val Loss: 2.1453, Val Acc: 0.2056\n",
          "output_type": "stream"
        },
        {
          "name": "stderr",
          "text": "Epoch 4/20 [Train]: 100%|██████████| 63/63 [00:40<00:00,  1.55it/s]\nEpoch 4/20 [Val]: 100%|██████████| 16/16 [00:10<00:00,  1.58it/s]\n",
          "output_type": "stream"
        },
        {
          "name": "stdout",
          "text": "Epoch 4/20, Train Loss: 2.1365, Train Acc: 0.2152, Val Loss: 2.1442, Val Acc: 0.2146\n",
          "output_type": "stream"
        },
        {
          "name": "stderr",
          "text": "Epoch 5/20 [Train]: 100%|██████████| 63/63 [00:41<00:00,  1.52it/s]\nEpoch 5/20 [Val]: 100%|██████████| 16/16 [00:10<00:00,  1.56it/s]\n",
          "output_type": "stream"
        },
        {
          "name": "stdout",
          "text": "Epoch 5/20, Train Loss: 2.1257, Train Acc: 0.2198, Val Loss: 2.1320, Val Acc: 0.2231\n",
          "output_type": "stream"
        },
        {
          "name": "stderr",
          "text": "Epoch 6/20 [Train]: 100%|██████████| 63/63 [00:44<00:00,  1.42it/s]\nEpoch 6/20 [Val]: 100%|██████████| 16/16 [00:11<00:00,  1.44it/s]\n",
          "output_type": "stream"
        },
        {
          "name": "stdout",
          "text": "Epoch 6/20, Train Loss: 2.1186, Train Acc: 0.2300, Val Loss: 2.1184, Val Acc: 0.2266\n",
          "output_type": "stream"
        },
        {
          "name": "stderr",
          "text": "Epoch 7/20 [Train]: 100%|██████████| 63/63 [00:45<00:00,  1.40it/s]\nEpoch 7/20 [Val]: 100%|██████████| 16/16 [00:10<00:00,  1.49it/s]\n",
          "output_type": "stream"
        },
        {
          "name": "stdout",
          "text": "Epoch 7/20, Train Loss: 2.1121, Train Acc: 0.2298, Val Loss: 2.1154, Val Acc: 0.2186\n",
          "output_type": "stream"
        },
        {
          "name": "stderr",
          "text": "Epoch 8/20 [Train]: 100%|██████████| 63/63 [00:50<00:00,  1.25it/s]\nEpoch 8/20 [Val]: 100%|██████████| 16/16 [00:11<00:00,  1.39it/s]\n",
          "output_type": "stream"
        },
        {
          "name": "stdout",
          "text": "Epoch 8/20, Train Loss: 2.1042, Train Acc: 0.2354, Val Loss: 2.1137, Val Acc: 0.2386\n",
          "output_type": "stream"
        },
        {
          "name": "stderr",
          "text": "Epoch 9/20 [Train]: 100%|██████████| 63/63 [00:42<00:00,  1.50it/s]\nEpoch 9/20 [Val]: 100%|██████████| 16/16 [00:10<00:00,  1.56it/s]\n",
          "output_type": "stream"
        },
        {
          "name": "stdout",
          "text": "Epoch 9/20, Train Loss: 2.0961, Train Acc: 0.2376, Val Loss: 2.0988, Val Acc: 0.2326\n",
          "output_type": "stream"
        },
        {
          "name": "stderr",
          "text": "Epoch 10/20 [Train]: 100%|██████████| 63/63 [00:41<00:00,  1.53it/s]\nEpoch 10/20 [Val]: 100%|██████████| 16/16 [00:10<00:00,  1.51it/s]\n",
          "output_type": "stream"
        },
        {
          "name": "stdout",
          "text": "Epoch 10/20, Train Loss: 2.0869, Train Acc: 0.2420, Val Loss: 2.0964, Val Acc: 0.2521\n",
          "output_type": "stream"
        },
        {
          "name": "stderr",
          "text": "Epoch 11/20 [Train]: 100%|██████████| 63/63 [00:41<00:00,  1.54it/s]\nEpoch 11/20 [Val]: 100%|██████████| 16/16 [00:11<00:00,  1.39it/s]\n",
          "output_type": "stream"
        },
        {
          "name": "stdout",
          "text": "Epoch 11/20, Train Loss: 2.0792, Train Acc: 0.2452, Val Loss: 2.0791, Val Acc: 0.2651\n",
          "output_type": "stream"
        },
        {
          "name": "stderr",
          "text": "Epoch 12/20 [Train]: 100%|██████████| 63/63 [00:44<00:00,  1.41it/s]\nEpoch 12/20 [Val]: 100%|██████████| 16/16 [00:10<00:00,  1.57it/s]\n",
          "output_type": "stream"
        },
        {
          "name": "stdout",
          "text": "Epoch 12/20, Train Loss: 2.0761, Train Acc: 0.2455, Val Loss: 2.0783, Val Acc: 0.2486\n",
          "output_type": "stream"
        },
        {
          "name": "stderr",
          "text": "Epoch 13/20 [Train]: 100%|██████████| 63/63 [00:41<00:00,  1.54it/s]\nEpoch 13/20 [Val]: 100%|██████████| 16/16 [00:10<00:00,  1.48it/s]\n",
          "output_type": "stream"
        },
        {
          "name": "stdout",
          "text": "Epoch 13/20, Train Loss: 2.0665, Train Acc: 0.2555, Val Loss: 2.0686, Val Acc: 0.2556\n",
          "output_type": "stream"
        },
        {
          "name": "stderr",
          "text": "Epoch 14/20 [Train]: 100%|██████████| 63/63 [00:46<00:00,  1.36it/s]\nEpoch 14/20 [Val]: 100%|██████████| 16/16 [00:10<00:00,  1.55it/s]\n",
          "output_type": "stream"
        },
        {
          "name": "stdout",
          "text": "Epoch 14/20, Train Loss: 2.0535, Train Acc: 0.2606, Val Loss: 2.0620, Val Acc: 0.2716\n",
          "output_type": "stream"
        },
        {
          "name": "stderr",
          "text": "Epoch 15/20 [Train]: 100%|██████████| 63/63 [00:41<00:00,  1.51it/s]\nEpoch 15/20 [Val]: 100%|██████████| 16/16 [00:10<00:00,  1.56it/s]\n",
          "output_type": "stream"
        },
        {
          "name": "stdout",
          "text": "Epoch 15/20, Train Loss: 2.0571, Train Acc: 0.2616, Val Loss: 2.0515, Val Acc: 0.2761\n",
          "output_type": "stream"
        },
        {
          "name": "stderr",
          "text": "Epoch 16/20 [Train]: 100%|██████████| 63/63 [00:43<00:00,  1.45it/s]\nEpoch 16/20 [Val]: 100%|██████████| 16/16 [00:14<00:00,  1.12it/s]\n",
          "output_type": "stream"
        },
        {
          "name": "stdout",
          "text": "Epoch 16/20, Train Loss: 2.0426, Train Acc: 0.2610, Val Loss: 2.0475, Val Acc: 0.2721\n",
          "output_type": "stream"
        },
        {
          "name": "stderr",
          "text": "Epoch 17/20 [Train]: 100%|██████████| 63/63 [00:41<00:00,  1.51it/s]\nEpoch 17/20 [Val]: 100%|██████████| 16/16 [00:10<00:00,  1.46it/s]\n",
          "output_type": "stream"
        },
        {
          "name": "stdout",
          "text": "Epoch 17/20, Train Loss: 2.0361, Train Acc: 0.2719, Val Loss: 2.0428, Val Acc: 0.2671\n",
          "output_type": "stream"
        },
        {
          "name": "stderr",
          "text": "Epoch 18/20 [Train]: 100%|██████████| 63/63 [00:42<00:00,  1.47it/s]\nEpoch 18/20 [Val]: 100%|██████████| 16/16 [00:10<00:00,  1.54it/s]\n",
          "output_type": "stream"
        },
        {
          "name": "stdout",
          "text": "Epoch 18/20, Train Loss: 2.0274, Train Acc: 0.2772, Val Loss: 2.0267, Val Acc: 0.2876\n",
          "output_type": "stream"
        },
        {
          "name": "stderr",
          "text": "Epoch 19/20 [Train]: 100%|██████████| 63/63 [00:41<00:00,  1.53it/s]\nEpoch 19/20 [Val]: 100%|██████████| 16/16 [00:10<00:00,  1.54it/s]\n",
          "output_type": "stream"
        },
        {
          "name": "stdout",
          "text": "Epoch 19/20, Train Loss: 2.0235, Train Acc: 0.2717, Val Loss: 2.0173, Val Acc: 0.2906\n",
          "output_type": "stream"
        },
        {
          "name": "stderr",
          "text": "Epoch 20/20 [Train]: 100%|██████████| 63/63 [00:41<00:00,  1.53it/s]\nEpoch 20/20 [Val]: 100%|██████████| 16/16 [00:10<00:00,  1.57it/s]",
          "output_type": "stream"
        },
        {
          "name": "stdout",
          "text": "Epoch 20/20, Train Loss: 2.0119, Train Acc: 0.2790, Val Loss: 2.0178, Val Acc: 0.2786\n",
          "output_type": "stream"
        },
        {
          "name": "stderr",
          "text": "\n",
          "output_type": "stream"
        },
        {
          "output_type": "display_data",
          "data": {
            "text/plain": "<IPython.core.display.HTML object>",
            "text/html": ""
          },
          "metadata": {}
        },
        {
          "output_type": "display_data",
          "data": {
            "text/plain": "<IPython.core.display.HTML object>",
            "text/html": "<br>    <style><br>        .wandb-row {<br>            display: flex;<br>            flex-direction: row;<br>            flex-wrap: wrap;<br>            justify-content: flex-start;<br>            width: 100%;<br>        }<br>        .wandb-col {<br>            display: flex;<br>            flex-direction: column;<br>            flex-basis: 100%;<br>            flex: 1;<br>            padding: 10px;<br>        }<br>    </style><br><div class=\"wandb-row\"><div class=\"wandb-col\"><h3>Run history:</h3><br/><table class=\"wandb\"><tr><td>epoch</td><td>▁▁▂▂▂▃▃▄▄▄▅▅▅▆▆▇▇▇██</td></tr><tr><td>train_accuracy</td><td>▁▄▅▅▅▆▆▆▆▆▆▆▇▇▇▇████</td></tr><tr><td>train_loss</td><td>█▆▅▄▄▄▃▃▃▃▃▃▂▂▂▂▂▁▁▁</td></tr><tr><td>val_accuracy</td><td>▁▂▃▃▄▄▃▅▄▆▆▅▆▇▇▇▇██▇</td></tr><tr><td>val_loss</td><td>█▅▅▅▄▄▄▄▃▃▃▃▂▂▂▂▂▁▁▁</td></tr></table><br/></div><div class=\"wandb-col\"><h3>Run summary:</h3><br/><table class=\"wandb\"><tr><td>epoch</td><td>20</td></tr><tr><td>train_accuracy</td><td>0.279</td></tr><tr><td>train_loss</td><td>2.01191</td></tr><tr><td>val_accuracy</td><td>0.27864</td></tr><tr><td>val_loss</td><td>2.01779</td></tr></table><br/></div></div>"
          },
          "metadata": {}
        },
        {
          "output_type": "display_data",
          "data": {
            "text/plain": "<IPython.core.display.HTML object>",
            "text/html": " View run <strong style=\"color:#cdcd00\">vital-sweep-14</strong> at: <a href='https://wandb.ai/manglesh-patidar-cs24m025/inaturalist-cnn/runs/rpsog1nl' target=\"_blank\">https://wandb.ai/manglesh-patidar-cs24m025/inaturalist-cnn/runs/rpsog1nl</a><br> View project at: <a href='https://wandb.ai/manglesh-patidar-cs24m025/inaturalist-cnn' target=\"_blank\">https://wandb.ai/manglesh-patidar-cs24m025/inaturalist-cnn</a><br>Synced 5 W&B file(s), 0 media file(s), 0 artifact file(s) and 0 other file(s)"
          },
          "metadata": {}
        },
        {
          "output_type": "display_data",
          "data": {
            "text/plain": "<IPython.core.display.HTML object>",
            "text/html": "Find logs at: <code>./wandb/run-20250415_131906-rpsog1nl/logs</code>"
          },
          "metadata": {}
        },
        {
          "name": "stderr",
          "text": "\u001b[34m\u001b[1mwandb\u001b[0m: Sweep Agent: Waiting for job.\n\u001b[34m\u001b[1mwandb\u001b[0m: Job received.\n\u001b[34m\u001b[1mwandb\u001b[0m: Agent Starting Run: 7cn7ge1c with config:\n\u001b[34m\u001b[1mwandb\u001b[0m: \tactivation: mish\n\u001b[34m\u001b[1mwandb\u001b[0m: \tbatch_norm_use: True\n\u001b[34m\u001b[1mwandb\u001b[0m: \tdata_aug: False\n\u001b[34m\u001b[1mwandb\u001b[0m: \tdropout: 0.3\n\u001b[34m\u001b[1mwandb\u001b[0m: \tepochs: 20\n\u001b[34m\u001b[1mwandb\u001b[0m: \tfc_layer: 256\n\u001b[34m\u001b[1mwandb\u001b[0m: \tfilter_counts: [32, 64, 128, 256, 512]\n\u001b[34m\u001b[1mwandb\u001b[0m: \tlearning_rate: 0.001\n\u001b[34m\u001b[1mwandb\u001b[0m: \tshape_of_filters_conv: [[3, 3], [3, 3], [3, 3], [5, 5], [7, 7]]\n\u001b[34m\u001b[1mwandb\u001b[0m: \ttrain_batch_size: 128\n",
          "output_type": "stream"
        },
        {
          "output_type": "display_data",
          "data": {
            "text/plain": "<IPython.core.display.HTML object>",
            "text/html": "Tracking run with wandb version 0.19.6"
          },
          "metadata": {}
        },
        {
          "output_type": "display_data",
          "data": {
            "text/plain": "<IPython.core.display.HTML object>",
            "text/html": "Run data is saved locally in <code>/kaggle/working/wandb/run-20250415_133727-7cn7ge1c</code>"
          },
          "metadata": {}
        },
        {
          "output_type": "display_data",
          "data": {
            "text/plain": "<IPython.core.display.HTML object>",
            "text/html": "Syncing run <strong><a href='https://wandb.ai/manglesh-patidar-cs24m025/inaturalist-cnn/runs/7cn7ge1c' target=\"_blank\">soft-sweep-15</a></strong> to <a href='https://wandb.ai/manglesh-patidar-cs24m025/inaturalist-cnn' target=\"_blank\">Weights & Biases</a> (<a href='https://wandb.me/developer-guide' target=\"_blank\">docs</a>)<br>Sweep page: <a href='https://wandb.ai/manglesh-patidar-cs24m025/inaturalist-cnn/sweeps/vad5l02n' target=\"_blank\">https://wandb.ai/manglesh-patidar-cs24m025/inaturalist-cnn/sweeps/vad5l02n</a>"
          },
          "metadata": {}
        },
        {
          "output_type": "display_data",
          "data": {
            "text/plain": "<IPython.core.display.HTML object>",
            "text/html": " View project at <a href='https://wandb.ai/manglesh-patidar-cs24m025/inaturalist-cnn' target=\"_blank\">https://wandb.ai/manglesh-patidar-cs24m025/inaturalist-cnn</a>"
          },
          "metadata": {}
        },
        {
          "output_type": "display_data",
          "data": {
            "text/plain": "<IPython.core.display.HTML object>",
            "text/html": " View sweep at <a href='https://wandb.ai/manglesh-patidar-cs24m025/inaturalist-cnn/sweeps/vad5l02n' target=\"_blank\">https://wandb.ai/manglesh-patidar-cs24m025/inaturalist-cnn/sweeps/vad5l02n</a>"
          },
          "metadata": {}
        },
        {
          "output_type": "display_data",
          "data": {
            "text/plain": "<IPython.core.display.HTML object>",
            "text/html": " View run at <a href='https://wandb.ai/manglesh-patidar-cs24m025/inaturalist-cnn/runs/7cn7ge1c' target=\"_blank\">https://wandb.ai/manglesh-patidar-cs24m025/inaturalist-cnn/runs/7cn7ge1c</a>"
          },
          "metadata": {}
        },
        {
          "name": "stdout",
          "text": "Using device: cuda\n",
          "output_type": "stream"
        },
        {
          "name": "stderr",
          "text": "Epoch 1/20 [Train]: 100%|██████████| 63/63 [00:44<00:00,  1.42it/s]\nEpoch 1/20 [Val]: 100%|██████████| 16/16 [00:10<00:00,  1.50it/s]\n",
          "output_type": "stream"
        },
        {
          "name": "stdout",
          "text": "Epoch 1/20, Train Loss: 2.1319, Train Acc: 0.2293, Val Loss: 2.1247, Val Acc: 0.2496\n",
          "output_type": "stream"
        },
        {
          "name": "stderr",
          "text": "Epoch 2/20 [Train]: 100%|██████████| 63/63 [00:43<00:00,  1.44it/s]\nEpoch 2/20 [Val]: 100%|██████████| 16/16 [00:10<00:00,  1.47it/s]\n",
          "output_type": "stream"
        },
        {
          "name": "stdout",
          "text": "Epoch 2/20, Train Loss: 2.0387, Train Acc: 0.2731, Val Loss: 2.0181, Val Acc: 0.2891\n",
          "output_type": "stream"
        },
        {
          "name": "stderr",
          "text": "Epoch 3/20 [Train]: 100%|██████████| 63/63 [00:45<00:00,  1.38it/s]\nEpoch 3/20 [Val]: 100%|██████████| 16/16 [00:12<00:00,  1.26it/s]\n",
          "output_type": "stream"
        },
        {
          "name": "stdout",
          "text": "Epoch 3/20, Train Loss: 1.9852, Train Acc: 0.2933, Val Loss: 1.9624, Val Acc: 0.3077\n",
          "output_type": "stream"
        },
        {
          "name": "stderr",
          "text": "Epoch 4/20 [Train]: 100%|██████████| 63/63 [00:48<00:00,  1.29it/s]\nEpoch 4/20 [Val]: 100%|██████████| 16/16 [00:12<00:00,  1.30it/s]\n",
          "output_type": "stream"
        },
        {
          "name": "stdout",
          "text": "Epoch 4/20, Train Loss: 1.9384, Train Acc: 0.3085, Val Loss: 1.8841, Val Acc: 0.3322\n",
          "output_type": "stream"
        },
        {
          "name": "stderr",
          "text": "Epoch 5/20 [Train]: 100%|██████████| 63/63 [00:50<00:00,  1.26it/s]\nEpoch 5/20 [Val]: 100%|██████████| 16/16 [00:11<00:00,  1.38it/s]\n",
          "output_type": "stream"
        },
        {
          "name": "stdout",
          "text": "Epoch 5/20, Train Loss: 1.8778, Train Acc: 0.3380, Val Loss: 1.9087, Val Acc: 0.3292\n",
          "output_type": "stream"
        },
        {
          "name": "stderr",
          "text": "Epoch 6/20 [Train]: 100%|██████████| 63/63 [00:46<00:00,  1.34it/s]\nEpoch 6/20 [Val]: 100%|██████████| 16/16 [00:14<00:00,  1.11it/s]\n",
          "output_type": "stream"
        },
        {
          "name": "stdout",
          "text": "Epoch 6/20, Train Loss: 1.8314, Train Acc: 0.3518, Val Loss: 1.9568, Val Acc: 0.3277\n",
          "output_type": "stream"
        },
        {
          "name": "stderr",
          "text": "Epoch 7/20 [Train]: 100%|██████████| 63/63 [00:47<00:00,  1.31it/s]\nEpoch 7/20 [Val]: 100%|██████████| 16/16 [00:11<00:00,  1.34it/s]\n",
          "output_type": "stream"
        },
        {
          "name": "stdout",
          "text": "Epoch 7/20, Train Loss: 1.7779, Train Acc: 0.3691, Val Loss: 1.8244, Val Acc: 0.3627\n",
          "output_type": "stream"
        },
        {
          "name": "stderr",
          "text": "Epoch 8/20 [Train]: 100%|██████████| 63/63 [00:48<00:00,  1.29it/s]\nEpoch 8/20 [Val]: 100%|██████████| 16/16 [00:10<00:00,  1.55it/s]\n",
          "output_type": "stream"
        },
        {
          "name": "stdout",
          "text": "Epoch 8/20, Train Loss: 1.7452, Train Acc: 0.3822, Val Loss: 1.8786, Val Acc: 0.3607\n",
          "output_type": "stream"
        },
        {
          "name": "stderr",
          "text": "Epoch 9/20 [Train]: 100%|██████████| 63/63 [00:45<00:00,  1.37it/s]\nEpoch 9/20 [Val]: 100%|██████████| 16/16 [00:15<00:00,  1.04it/s]\n",
          "output_type": "stream"
        },
        {
          "name": "stdout",
          "text": "Epoch 9/20, Train Loss: 1.7034, Train Acc: 0.3987, Val Loss: 1.8560, Val Acc: 0.3462\n",
          "output_type": "stream"
        },
        {
          "name": "stderr",
          "text": "Epoch 10/20 [Train]: 100%|██████████| 63/63 [00:58<00:00,  1.07it/s]\nEpoch 10/20 [Val]: 100%|██████████| 16/16 [00:12<00:00,  1.28it/s]\n",
          "output_type": "stream"
        },
        {
          "name": "stdout",
          "text": "Epoch 10/20, Train Loss: 1.6749, Train Acc: 0.4125, Val Loss: 1.8331, Val Acc: 0.3647\n",
          "output_type": "stream"
        },
        {
          "name": "stderr",
          "text": "Epoch 11/20 [Train]: 100%|██████████| 63/63 [00:55<00:00,  1.13it/s]\nEpoch 11/20 [Val]: 100%|██████████| 16/16 [00:10<00:00,  1.51it/s]\n",
          "output_type": "stream"
        },
        {
          "name": "stdout",
          "text": "Epoch 11/20, Train Loss: 1.6345, Train Acc: 0.4220, Val Loss: 1.7789, Val Acc: 0.3897\n",
          "output_type": "stream"
        },
        {
          "name": "stderr",
          "text": "Epoch 12/20 [Train]: 100%|██████████| 63/63 [00:43<00:00,  1.44it/s]\nEpoch 12/20 [Val]: 100%|██████████| 16/16 [00:10<00:00,  1.47it/s]\n",
          "output_type": "stream"
        },
        {
          "name": "stdout",
          "text": "Epoch 12/20, Train Loss: 1.6012, Train Acc: 0.4396, Val Loss: 1.9248, Val Acc: 0.3627\n",
          "output_type": "stream"
        },
        {
          "name": "stderr",
          "text": "Epoch 13/20 [Train]: 100%|██████████| 63/63 [00:46<00:00,  1.36it/s]\nEpoch 13/20 [Val]: 100%|██████████| 16/16 [00:10<00:00,  1.49it/s]\n",
          "output_type": "stream"
        },
        {
          "name": "stdout",
          "text": "Epoch 13/20, Train Loss: 1.5687, Train Acc: 0.4461, Val Loss: 1.7265, Val Acc: 0.4002\n",
          "output_type": "stream"
        },
        {
          "name": "stderr",
          "text": "Epoch 14/20 [Train]: 100%|██████████| 63/63 [00:42<00:00,  1.47it/s]\nEpoch 14/20 [Val]: 100%|██████████| 16/16 [00:11<00:00,  1.45it/s]\n",
          "output_type": "stream"
        },
        {
          "name": "stdout",
          "text": "Epoch 14/20, Train Loss: 1.5131, Train Acc: 0.4662, Val Loss: 1.7917, Val Acc: 0.3857\n",
          "output_type": "stream"
        },
        {
          "name": "stderr",
          "text": "Epoch 15/20 [Train]: 100%|██████████| 63/63 [00:43<00:00,  1.46it/s]\nEpoch 15/20 [Val]: 100%|██████████| 16/16 [00:12<00:00,  1.24it/s]\n",
          "output_type": "stream"
        },
        {
          "name": "stdout",
          "text": "Epoch 15/20, Train Loss: 1.4920, Train Acc: 0.4770, Val Loss: 1.7290, Val Acc: 0.3832\n",
          "output_type": "stream"
        },
        {
          "name": "stderr",
          "text": "Epoch 16/20 [Train]: 100%|██████████| 63/63 [00:43<00:00,  1.46it/s]\nEpoch 16/20 [Val]: 100%|██████████| 16/16 [00:10<00:00,  1.50it/s]\n",
          "output_type": "stream"
        },
        {
          "name": "stdout",
          "text": "Epoch 16/20, Train Loss: 1.4585, Train Acc: 0.4850, Val Loss: 1.7410, Val Acc: 0.4012\n",
          "output_type": "stream"
        },
        {
          "name": "stderr",
          "text": "Epoch 17/20 [Train]: 100%|██████████| 63/63 [00:46<00:00,  1.35it/s]\nEpoch 17/20 [Val]: 100%|██████████| 16/16 [00:11<00:00,  1.45it/s]\n",
          "output_type": "stream"
        },
        {
          "name": "stdout",
          "text": "Epoch 17/20, Train Loss: 1.3979, Train Acc: 0.5059, Val Loss: 1.7104, Val Acc: 0.4142\n",
          "output_type": "stream"
        },
        {
          "name": "stderr",
          "text": "Epoch 18/20 [Train]: 100%|██████████| 63/63 [00:48<00:00,  1.29it/s]\nEpoch 18/20 [Val]: 100%|██████████| 16/16 [00:10<00:00,  1.46it/s]\n",
          "output_type": "stream"
        },
        {
          "name": "stdout",
          "text": "Epoch 18/20, Train Loss: 1.3816, Train Acc: 0.5109, Val Loss: 1.7100, Val Acc: 0.4137\n",
          "output_type": "stream"
        },
        {
          "name": "stderr",
          "text": "Epoch 19/20 [Train]: 100%|██████████| 63/63 [00:43<00:00,  1.46it/s]\nEpoch 19/20 [Val]: 100%|██████████| 16/16 [00:10<00:00,  1.54it/s]\n",
          "output_type": "stream"
        },
        {
          "name": "stdout",
          "text": "Epoch 19/20, Train Loss: 1.3294, Train Acc: 0.5355, Val Loss: 1.7582, Val Acc: 0.4067\n",
          "output_type": "stream"
        },
        {
          "name": "stderr",
          "text": "Epoch 20/20 [Train]: 100%|██████████| 63/63 [00:44<00:00,  1.43it/s]\nEpoch 20/20 [Val]: 100%|██████████| 16/16 [00:10<00:00,  1.56it/s]",
          "output_type": "stream"
        },
        {
          "name": "stdout",
          "text": "Epoch 20/20, Train Loss: 1.2947, Train Acc: 0.5447, Val Loss: 1.6564, Val Acc: 0.4352\n",
          "output_type": "stream"
        },
        {
          "name": "stderr",
          "text": "\n",
          "output_type": "stream"
        },
        {
          "output_type": "display_data",
          "data": {
            "text/plain": "<IPython.core.display.HTML object>",
            "text/html": ""
          },
          "metadata": {}
        },
        {
          "output_type": "display_data",
          "data": {
            "text/plain": "<IPython.core.display.HTML object>",
            "text/html": "<br>    <style><br>        .wandb-row {<br>            display: flex;<br>            flex-direction: row;<br>            flex-wrap: wrap;<br>            justify-content: flex-start;<br>            width: 100%;<br>        }<br>        .wandb-col {<br>            display: flex;<br>            flex-direction: column;<br>            flex-basis: 100%;<br>            flex: 1;<br>            padding: 10px;<br>        }<br>    </style><br><div class=\"wandb-row\"><div class=\"wandb-col\"><h3>Run history:</h3><br/><table class=\"wandb\"><tr><td>epoch</td><td>▁▁▂▂▂▃▃▄▄▄▅▅▅▆▆▇▇▇██</td></tr><tr><td>train_accuracy</td><td>▁▂▂▃▃▄▄▄▅▅▅▆▆▆▆▇▇▇██</td></tr><tr><td>train_loss</td><td>█▇▇▆▆▅▅▅▄▄▄▄▃▃▃▂▂▂▁▁</td></tr><tr><td>val_accuracy</td><td>▁▂▃▄▄▄▅▅▅▅▆▅▇▆▆▇▇▇▇█</td></tr><tr><td>val_loss</td><td>█▆▆▄▅▅▄▄▄▄▃▅▂▃▂▂▂▂▃▁</td></tr></table><br/></div><div class=\"wandb-col\"><h3>Run summary:</h3><br/><table class=\"wandb\"><tr><td>epoch</td><td>20</td></tr><tr><td>train_accuracy</td><td>0.54475</td></tr><tr><td>train_loss</td><td>1.29465</td></tr><tr><td>val_accuracy</td><td>0.43522</td></tr><tr><td>val_loss</td><td>1.65643</td></tr></table><br/></div></div>"
          },
          "metadata": {}
        },
        {
          "output_type": "display_data",
          "data": {
            "text/plain": "<IPython.core.display.HTML object>",
            "text/html": " View run <strong style=\"color:#cdcd00\">soft-sweep-15</strong> at: <a href='https://wandb.ai/manglesh-patidar-cs24m025/inaturalist-cnn/runs/7cn7ge1c' target=\"_blank\">https://wandb.ai/manglesh-patidar-cs24m025/inaturalist-cnn/runs/7cn7ge1c</a><br> View project at: <a href='https://wandb.ai/manglesh-patidar-cs24m025/inaturalist-cnn' target=\"_blank\">https://wandb.ai/manglesh-patidar-cs24m025/inaturalist-cnn</a><br>Synced 5 W&B file(s), 0 media file(s), 0 artifact file(s) and 0 other file(s)"
          },
          "metadata": {}
        },
        {
          "output_type": "display_data",
          "data": {
            "text/plain": "<IPython.core.display.HTML object>",
            "text/html": "Find logs at: <code>./wandb/run-20250415_133727-7cn7ge1c/logs</code>"
          },
          "metadata": {}
        }
      ],
      "execution_count": null
    }
  ]
}